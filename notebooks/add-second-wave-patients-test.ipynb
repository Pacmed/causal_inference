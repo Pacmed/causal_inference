{
 "cells": [
  {
   "cell_type": "code",
   "execution_count": null,
   "metadata": {
    "pycharm": {
     "name": "#%%\n"
    }
   },
   "outputs": [],
   "source": [
    "import pandas as pd\n",
    "import numpy as np\n",
    "\n",
    "from typing import Optional\n",
    "\n",
    "from data_warehouse_utils.dataloader import DataLoader\n",
    "\n",
    "import math\n",
    "\n",
    "import pandas as pd\n",
    "import numpy as np\n",
    "\n",
    "import sys, os\n",
    "from datetime import timedelta\n",
    "\n",
    "import seaborn as sns\n",
    "import matplotlib.pyplot as plt\n",
    "\n",
    "from data_warehouse_utils.dataloader import DataLoader\n",
    "\n",
    "from sklearn.impute import SimpleImputer\n",
    "from sklearn.preprocessing import StandardScaler\n",
    "\n",
    "from scipy.stats import wasserstein_distance\n",
    "from scipy import stats"
   ]
  },
  {
   "cell_type": "code",
   "execution_count": null,
   "metadata": {
    "pycharm": {
     "name": "#%%\n"
    }
   },
   "outputs": [],
   "source": [
    "from causal_inference.make_data.make_raw_data import COLUMNS_POSITION"
   ]
  },
  {
   "cell_type": "code",
   "execution_count": null,
   "metadata": {
    "pycharm": {
     "name": "#%%\n"
    }
   },
   "outputs": [],
   "source": [
    "os.chdir('/home/adam/adam/causal_inference')"
   ]
  },
  {
   "cell_type": "code",
   "execution_count": null,
   "metadata": {
    "pycharm": {
     "name": "#%%\n"
    }
   },
   "outputs": [],
   "source": [
    "PATH = '/home/adam/adam/data/causal_inference/data'"
   ]
  },
  {
   "cell_type": "code",
   "execution_count": null,
   "metadata": {
    "pycharm": {
     "name": "#%%\n"
    }
   },
   "outputs": [],
   "source": [
    "dl = DataLoader()\n"
   ]
  },
  {
   "cell_type": "code",
   "execution_count": null,
   "metadata": {
    "pycharm": {
     "name": "#%%\n"
    }
   },
   "outputs": [],
   "source": [
    "df_rotation = dl.get_range_measurements(parameters=['position'],\n",
    "                                        columns=['hash_patient_id',\n",
    "                                                 'end_timestamp',\n",
    "                                                 'start_timestamp',\n",
    "                                                 'unit_name',\n",
    "                                                 'effective_value',\n",
    "                                                 'numerical_value',\n",
    "                                                 'is_correct_unit_yn',\n",
    "                                                 'hospital',\n",
    "                                                 'ehr',\n",
    "                                                 'episode_id',\n",
    "                                                 'pacmed_subname'])\n"
   ]
  },
  {
   "cell_type": "code",
   "execution_count": null,
   "metadata": {
    "pycharm": {
     "name": "#%%\n"
    }
   },
   "outputs": [],
   "source": [
    "df_rotation.head()"
   ]
  },
  {
   "cell_type": "code",
   "execution_count": null,
   "metadata": {
    "pycharm": {
     "name": "#%%\n"
    }
   },
   "outputs": [],
   "source": [
    "df_rotation.loc[df_rotation['pacmed_subname'] == 'position_body', ]"
   ]
  },
  {
   "cell_type": "code",
   "execution_count": null,
   "metadata": {
    "pycharm": {
     "name": "#%%\n"
    }
   },
   "outputs": [],
   "source": [
    "def remove_bed_rotation(df):\n",
    "\n",
    "    dl = DataLoader()\n",
    "    patients = df['hash_patient_id'].unique().tolist()\n",
    "    df_rotation = dl.get_range_measurements(patients=patients,\n",
    "                                            parameters=['position'],\n",
    "                                            sub_parameters=['position_bed'])\n",
    "    df_rotation = df_rotation.loc[(df_rotation.effective_value == '30_degrees') |\n",
    "                                  (df_rotation.effective_value == '45_degrees') |\n",
    "                                  (df_rotation.effective_value == 'bed_chair'),\n",
    "                                  ['start_timestamp', 'hash_patient_id']]\n",
    "    hours_to_rotation = [bed_rotated(x, y, z, df_rotation) for x, y, z in zip(df.loc[:, 'hash_patient_id'],\n",
    "                                                                              df.loc[:, 'start_timestamp'],\n",
    "                                                                              df.loc[:, 'end_timestamp'])]\n",
    "\n",
    "    df['hours_to_rotation'] = hours_to_rotation\n",
    "\n",
    "    mask = (df.hours_to_rotation > 0) & (df.hours_to_rotation < 24) & (df.treated)\n",
    "    df.loc[mask, 'duration_hours'] = df.loc[mask, 'hours_to_rotation']\n",
    "    df.loc[mask, 'hours_to_rotation'] = df.loc[mask, 'hours_to_rotation'].map(lambda x: timedelta(hours=x))\n",
    "    df.loc[mask, 'end_timestamp'] = df.loc[mask, 'start_timestamp'] + df.loc[mask, 'hours_to_rotation']\n",
    "    df_new = df[mask]\n",
    "    df_new = add_outcomes(dl=DataLoader(), df=df_new, df_measurements=None)\n",
    "    print(len(df_new), \"outcomes corrected.\")\n",
    "    df.loc[mask, 'pf_ratio_2h_8h_outcome'] = df_new.loc[:, 'pf_ratio_2h_8h_outcome']\n",
    "    df.loc[mask, 'pf_ratio_2h_8h_manual_outcome'] = df_new.loc[:, 'pf_ratio_2h_8h_manual_outcome']\n",
    "    df.loc[mask, 'pf_ratio_12h_24h_outcome'] = df_new.loc[:, 'pf_ratio_12h_24h_outcome']\n",
    "    df.loc[mask, 'pf_ratio_12h_24h_manual_outcome'] = df_new.loc[:, 'pf_ratio_12h_24h_manual_outcome']\n",
    "    return df\n",
    "\n",
    "def bed_rotated(hash_id, start, end, df):\n",
    "    mask = (start <= df.start_timestamp) & (df.start_timestamp < end) & (df.hash_patient_id == hash_id)\n",
    "    df = df[mask].sort_values(by=['start_timestamp'], ascending=True)\n",
    "    return 0 if len(df.index) == 0 else int(math.floor(((df.start_timestamp.iloc[0] - start).total_seconds()/(60*60))))"
   ]
  },
  {
   "cell_type": "code",
   "execution_count": null,
   "metadata": {
    "pycharm": {
     "name": "#%%\n"
    }
   },
   "outputs": [],
   "source": [
    "df = remove_observations_corrupted(df)"
   ]
  },
  {
   "cell_type": "code",
   "execution_count": null,
   "metadata": {
    "pycharm": {
     "name": "#%%\n"
    }
   },
   "outputs": [],
   "source": [
    "os.chdir('/home/adam/adam/data/19012021/')\n",
    "df.to_csv('data_raw_fixed_prone.csv', index=False)\n"
   ]
  },
  {
   "cell_type": "code",
   "execution_count": null,
   "metadata": {
    "pycharm": {
     "name": "#%% Select variables\n"
    }
   },
   "outputs": [],
   "source": [
    "VARIABLES_RCT = ['treated',\n",
    "                 'age',\n",
    "                 'gender',\n",
    "                 'bmi',\n",
    "                 'nice_diabetes',\n",
    "                 'nice_aki',\n",
    "                 'nice_cirrhosis',\n",
    "                 'nice_hem_malign',\n",
    "                 'nice_copd',\n",
    "                 'nice_imm_insuf',\n",
    "                 'nice_cardio_vasc_insuf',\n",
    "                 'nice_morbid_obesity',\n",
    "                 'renal_replacement_therapy',\n",
    "                 'sofa_score',\n",
    "                 'lactate',\n",
    "                 'tidal_volume',\n",
    "                 'tidal_volume_per_kg',\n",
    "                 'respiratory_rate_measured',\n",
    "                 'peep',\n",
    "                 'fio2',\n",
    "                 'po2',\n",
    "                 'pco2',\n",
    "                 'ph',\n",
    "                 'plateau_pressure',\n",
    "                 'driving_pressure',\n",
    "                 'lung_compliance_static',\n",
    "                 'med_muscle_relaxants',\n",
    "                 'med_vasopressors',\n",
    "                 'med_glucocorticoids',\n",
    "                 'pf_ratio',\n",
    "                 'pf_ratio_2h_8h_outcome',\n",
    "                 'pf_ratio_2h_8h_manual_outcome',\n",
    "                 'pf_ratio_12h_24h_outcome',\n",
    "                 'pf_ratio_12h_24h_manual_outcome']\n",
    "\n",
    "df_rct = df[VARIABLES_RCT]\n",
    "df_rct.info(max_cols=200)"
   ]
  },
  {
   "cell_type": "code",
   "execution_count": null,
   "metadata": {
    "pycharm": {
     "name": "#%%\n"
    }
   },
   "outputs": [],
   "source": [
    "os.chdir('/home/adam/adam/data/19012021/')\n",
    "df_rct.to_csv('data_guerin_rct_fixed_prone.csv', index=False)"
   ]
  },
  {
   "cell_type": "code",
   "execution_count": null,
   "metadata": {
    "pycharm": {
     "name": "#%%\n"
    }
   },
   "outputs": [],
   "source": [
    "df_rct.info()"
   ]
  },
  {
   "cell_type": "code",
   "execution_count": null,
   "metadata": {
    "pycharm": {
     "name": "#%%\n"
    }
   },
   "outputs": [],
   "source": [
    "df_new.info()"
   ]
  },
  {
   "cell_type": "code",
   "execution_count": null,
   "metadata": {
    "pycharm": {
     "name": "#%%\n"
    }
   },
   "outputs": [],
   "source": [
    "df.loc[df['pf_ratio_12h_24h_manual_outcome'].isna(), 'pf_ratio_12h_24h_manual_outcome']"
   ]
  },
  {
   "cell_type": "code",
   "execution_count": null,
   "metadata": {
    "pycharm": {
     "name": "#%%\n"
    }
   },
   "outputs": [],
   "source": [
    "df_new.loc[df['pf_ratio_12h_24h_manual_outcome'].isna(), 'pf_ratio_12h_24h_manual_outcome']"
   ]
  },
  {
   "cell_type": "code",
   "execution_count": null,
   "metadata": {
    "pycharm": {
     "name": "#%%\n"
    }
   },
   "outputs": [],
   "source": [
    "(df.loc[~df['pf_ratio_2h_8h_manual_outcome'].isna(), 'pf_ratio_2h_8h_manual_outcome'] == df_new.loc[~df['pf_ratio_2h_8h_manual_outcome'].isna(), 'pf_ratio_2h_8h_manual_outcome']).describe()"
   ]
  },
  {
   "cell_type": "code",
   "execution_count": null,
   "metadata": {
    "pycharm": {
     "name": "#%%\n"
    }
   },
   "outputs": [],
   "source": [
    "patients = df.hash_patient_id.value_counts()[df.hash_patient_id.value_counts() > 50].index.unique().tolist()\n",
    "patients"
   ]
  },
  {
   "cell_type": "code",
   "execution_count": null,
   "metadata": {
    "pycharm": {
     "name": "#%%\n"
    }
   },
   "outputs": [],
   "source": [
    "df_new = df[df.hash_patient_id.isin(patients)]"
   ]
  },
  {
   "cell_type": "code",
   "execution_count": null,
   "metadata": {
    "pycharm": {
     "name": "#%%\n"
    }
   },
   "outputs": [],
   "source": [
    "print(len(df_new[df_new.treated]))\n",
    "print(len(df_new[~df_new.treated]))"
   ]
  },
  {
   "cell_type": "code",
   "execution_count": null,
   "metadata": {
    "pycharm": {
     "name": "#%%\n"
    }
   },
   "outputs": [],
   "source": [
    "df_new[['nice_aki',\n",
    "       'renal_replacement_therapy',\n",
    "       'pf_ratio_inclusion_8h',\n",
    "       'pf_ratio_12h_24h_manual_outcome']].describe()"
   ]
  },
  {
   "cell_type": "code",
   "execution_count": null,
   "metadata": {
    "pycharm": {
     "name": "#%%\n"
    }
   },
   "outputs": [],
   "source": [
    "df[~df.hash_patient_id.isin(patients)][['nice_aki',\n",
    "       'renal_replacement_therapy',\n",
    "       'pf_ratio_inclusion_8h',\n",
    "       'pf_ratio_12h_24h_manual_outcome']].describe()"
   ]
  },
  {
   "cell_type": "code",
   "execution_count": null,
   "metadata": {
    "pycharm": {
     "name": "#%%\n"
    }
   },
   "outputs": [],
   "source": [
    "df[df.treated & ~df.hash_patient_id.isin(patients)][['nice_aki',\n",
    "       'renal_replacement_therapy',\n",
    "       'pf_ratio_inclusion_8h',\n",
    "       'pf_ratio_12h_24h_manual_outcome']].describe()"
   ]
  },
  {
   "cell_type": "code",
   "execution_count": null,
   "metadata": {
    "pycharm": {
     "name": "#%%\n"
    }
   },
   "outputs": [],
   "source": [
    "df[df.treated & df.hash_patient_id.isin(patients)][['nice_aki',\n",
    "       'renal_replacement_therapy',\n",
    "       'pf_ratio_inclusion_8h',\n",
    "       'pf_ratio_12h_24h_manual_outcome']].describe()"
   ]
  },
  {
   "cell_type": "code",
   "execution_count": null,
   "metadata": {
    "pycharm": {
     "name": "#%%\n"
    }
   },
   "outputs": [],
   "source": [
    "df[~df.treated & ~df.hash_patient_id.isin(patients)][['nice_aki',\n",
    "       'renal_replacement_therapy',\n",
    "       'pf_ratio_inclusion_8h',\n",
    "       'pf_ratio_12h_24h_manual_outcome']].describe()"
   ]
  },
  {
   "cell_type": "code",
   "execution_count": null,
   "metadata": {
    "pycharm": {
     "name": "#%%\n"
    }
   },
   "outputs": [],
   "source": [
    "df[~df.treated & df.hash_patient_id.isin(patients)][['nice_aki',\n",
    "       'renal_replacement_therapy',\n",
    "       'pf_ratio_inclusion_8h',\n",
    "       'pf_ratio_12h_24h_manual_outcome']].describe()\n"
   ]
  },
  {
   "cell_type": "code",
   "execution_count": null,
   "metadata": {
    "pycharm": {
     "name": "#%%\n"
    }
   },
   "outputs": [],
   "source": [
    "df_new['nice_aki'].value_counts()"
   ]
  },
  {
   "cell_type": "code",
   "execution_count": null,
   "metadata": {
    "pycharm": {
     "name": "#%%\n"
    }
   },
   "outputs": [],
   "source": [
    "df_new['renal_replacement_therapy'].value_counts()"
   ]
  },
  {
   "cell_type": "code",
   "execution_count": null,
   "metadata": {
    "pycharm": {
     "name": "#%%\n"
    }
   },
   "outputs": [],
   "source": [
    "np.mean(df.loc[df.treated & df.hash_patient_id.isin(patients), 'pf_ratio_12h_24h_manual_outcome']) - np.mean(df.loc[~df.treated & df.hash_patient_id.isin(patients), 'pf_ratio_12h_24h_manual_outcome'])"
   ]
  },
  {
   "cell_type": "code",
   "execution_count": null,
   "metadata": {
    "pycharm": {
     "name": "#%%\n"
    }
   },
   "outputs": [],
   "source": [
    "np.mean(df.loc[df.treated & ~df.hash_patient_id.isin(patients), 'pf_ratio_12h_24h_manual_outcome']) - np.mean(df.loc[~df.treated & ~df.hash_patient_id.isin(patients), 'pf_ratio_12h_24h_manual_outcome'])"
   ]
  },
  {
   "cell_type": "code",
   "execution_count": null,
   "metadata": {
    "pycharm": {
     "name": "#%%\n"
    }
   },
   "outputs": [],
   "source": [
    "df_new[['nice_aki',\n",
    "       'renal_replacement_therapy',\n",
    "       'pf_ratio_inclusion_8h',\n",
    "       'pf_ratio_12h_24h_manual_outcome']].describe()"
   ]
  },
  {
   "cell_type": "code",
   "execution_count": null,
   "metadata": {
    "pycharm": {
     "name": "#%%\n"
    }
   },
   "outputs": [],
   "source": [
    "len(df[df.treated])"
   ]
  },
  {
   "cell_type": "code",
   "execution_count": null,
   "metadata": {
    "pycharm": {
     "name": "#%%\n"
    }
   },
   "outputs": [],
   "source": [
    "mask = (df.treated == False) & (df.duration_hours >= 1460)\n",
    "df_long = df[mask]"
   ]
  },
  {
   "cell_type": "code",
   "execution_count": null,
   "metadata": {
    "pycharm": {
     "name": "#%%\n"
    }
   },
   "outputs": [],
   "source": [
    "df_long.info(max_cols=200)"
   ]
  },
  {
   "cell_type": "code",
   "execution_count": null,
   "metadata": {
    "pycharm": {
     "name": "#%%\n"
    }
   },
   "outputs": [],
   "source": [
    "df.loc[~df.treated, ['pf_ratio_inclusion_8h',\n",
    "                    'pf_ratio_2h_8h_manual_outcome',\n",
    "                    'pf_ratio_12h_24h_manual_outcome']].describe()"
   ]
  },
  {
   "cell_type": "code",
   "execution_count": null,
   "metadata": {
    "pycharm": {
     "name": "#%%\n"
    }
   },
   "outputs": [],
   "source": [
    "df_long[['pf_ratio_inclusion_8h',\n",
    "         'pf_ratio_2h_8h_manual_outcome',\n",
    "         'pf_ratio_12h_24h_manual_outcome']].describe()"
   ]
  },
  {
   "cell_type": "code",
   "execution_count": null,
   "metadata": {
    "pycharm": {
     "name": "#%%\n"
    }
   },
   "outputs": [],
   "source": [
    "df_long.hash_session_id.unique().tolist()"
   ]
  },
  {
   "cell_type": "code",
   "execution_count": null,
   "metadata": {
    "pycharm": {
     "name": "#%%\n"
    }
   },
   "outputs": [],
   "source": [
    "df_long.hash_session_id.str.contains('\\_\\d+\\_\\d+$', regex=True).value_counts()"
   ]
  },
  {
   "cell_type": "code",
   "execution_count": null,
   "metadata": {
    "pycharm": {
     "name": "#%%\n"
    }
   },
   "outputs": [],
   "source": [
    "df_long[df_long.hash_session_id.str.contains('\\d+_\\d+$', regex=True)].hash_session_id.unique()"
   ]
  },
  {
   "cell_type": "code",
   "execution_count": null,
   "metadata": {
    "pycharm": {
     "name": "#%%\n"
    }
   },
   "outputs": [],
   "source": [
    "df.hash_session_id.str.contains('_\\d+\\_\\d+$', regex=True).value_counts()\n",
    "str.replace(/\\/$/, \"\")"
   ]
  },
  {
   "cell_type": "code",
   "execution_count": null,
   "metadata": {
    "pycharm": {
     "name": "#%%\n"
    }
   },
   "outputs": [],
   "source": [
    "df['filename'] = df['filename'].map(lambda x: str(x)[:-4])"
   ]
  },
  {
   "cell_type": "markdown",
   "metadata": {},
   "source": [
    "#### Extract all the session id's that is long"
   ]
  },
  {
   "cell_type": "code",
   "execution_count": null,
   "metadata": {
    "pycharm": {
     "name": "#%%\n"
    }
   },
   "outputs": [],
   "source": [
    "mask = (df.artificial_session == False) & (df.treated == False) & (df.duration_hours >= 1460)\n",
    "df_long = df[mask]\n",
    "print(len(df_long))\n",
    "patients = df_long.hash_session_id.unique().tolist()\n",
    "patients"
   ]
  },
  {
   "cell_type": "code",
   "execution_count": null,
   "metadata": {
    "pycharm": {
     "name": "#%%\n"
    }
   },
   "outputs": [],
   "source": [
    "mask = (df.artificial_session == True) & (df.treated == False) & (df.duration_hours >= 1460)\n",
    "df_long = df[mask]\n",
    "print(len(df_long))"
   ]
  },
  {
   "cell_type": "code",
   "execution_count": null,
   "metadata": {
    "pycharm": {
     "name": "#%%\n"
    }
   },
   "outputs": [],
   "source": [
    "mask = df_long.hash_session_id.str.contains('\\_\\d+_\\d$', regex=True)\n",
    "print(len(df_long.loc[mask, 'hash_session_id'].unique().tolist()))\n",
    "print(df_long.loc[mask, 'hash_session_id'].unique().tolist())\n",
    "df_long.loc[mask, 'hash_session_id'] = df_long.loc[mask, 'hash_session_id'].map(lambda x: str(x)[:-2])"
   ]
  },
  {
   "cell_type": "code",
   "execution_count": null,
   "metadata": {
    "pycharm": {
     "name": "#%%\n"
    }
   },
   "outputs": [],
   "source": [
    "mask = df_long.hash_session_id.str.contains('\\_\\d+_\\d+$', regex=True)\n",
    "print(len(df_long.loc[mask, 'hash_session_id'].unique().tolist()))\n",
    "print(df_long.loc[mask, 'hash_session_id'].unique().tolist())\n",
    "df_long.loc[mask, 'hash_session_id'] = df_long.loc[mask, 'hash_session_id'].map(lambda x: str(x)[:-3])"
   ]
  },
  {
   "cell_type": "code",
   "execution_count": null,
   "metadata": {
    "pycharm": {
     "name": "#%%\n"
    }
   },
   "outputs": [],
   "source": [
    "df_long['hash_session_id'].unique().tolist()\n",
    "print(len(df_long['hash_session_id'].unique().tolist()))"
   ]
  },
  {
   "cell_type": "code",
   "execution_count": null,
   "metadata": {
    "pycharm": {
     "name": "#%%\n"
    }
   },
   "outputs": [],
   "source": [
    "patients = patients + df_long['hash_session_id'].unique().tolist()"
   ]
  },
  {
   "cell_type": "code",
   "execution_count": null,
   "metadata": {
    "pycharm": {
     "name": "#%%\n"
    }
   },
   "outputs": [],
   "source": [
    "patients = list(set(patients))"
   ]
  },
  {
   "cell_type": "code",
   "execution_count": null,
   "metadata": {
    "pycharm": {
     "name": "#%%\n"
    }
   },
   "outputs": [],
   "source": [
    "patients"
   ]
  },
  {
   "cell_type": "code",
   "execution_count": null,
   "metadata": {
    "pycharm": {
     "name": "#%%\n"
    }
   },
   "outputs": [],
   "source": [
    "#### Select only sessions that are not generated by this"
   ]
  },
  {
   "cell_type": "code",
   "execution_count": null,
   "metadata": {
    "pycharm": {
     "name": "#%% Initialize\n"
    }
   },
   "outputs": [],
   "source": [
    "df.loc[:, 'session_origin'] = 0"
   ]
  },
  {
   "cell_type": "code",
   "execution_count": null,
   "metadata": {
    "pycharm": {
     "name": "#%% Add not artificial sessions\n"
    }
   },
   "outputs": [],
   "source": [
    "df.loc[df.artificial_session == False, 'session_origin'] = df.loc[df.artificial_session == False, 'hash_session_id']"
   ]
  },
  {
   "cell_type": "code",
   "execution_count": null,
   "metadata": {
    "pycharm": {
     "name": "#%% Add artificial ones\n"
    }
   },
   "outputs": [],
   "source": [
    "mask = df.hash_session_id.str.contains('\\_\\d+_\\d$', regex=True)\n",
    "print(mask)\n",
    "df.loc[mask, 'session_origin'] = df.loc[mask, 'hash_session_id'].map(lambda x: str(x)[:-2])\n",
    "mask = df.hash_session_id.str.contains('\\_\\d+_\\d\\d$', regex=True)\n",
    "print(df.loc[mask, 'hash_session_id'].unique().tolist())\n",
    "df.loc[mask, 'session_origin'] = df.loc[mask, 'hash_session_id'].map(lambda x: str(x)[:-3])"
   ]
  },
  {
   "cell_type": "code",
   "execution_count": null,
   "metadata": {
    "pycharm": {
     "name": "#%%\n"
    }
   },
   "outputs": [],
   "source": [
    "df[df.session_origin.isin(patients)].index"
   ]
  },
  {
   "cell_type": "code",
   "execution_count": null,
   "metadata": {
    "pycharm": {
     "name": "#%%\n"
    }
   },
   "outputs": [],
   "source": [
    "df.session_origin.unique().tolist()"
   ]
  },
  {
   "cell_type": "markdown",
   "metadata": {},
   "source": [
    "#### Second method"
   ]
  },
  {
   "cell_type": "code",
   "execution_count": null,
   "metadata": {
    "pycharm": {
     "name": "#%% Select long observations\n"
    }
   },
   "outputs": [],
   "source": [
    "mask = (df.treated == False) & (df.duration_hours >= 1460)\n",
    "df_long = df[mask]"
   ]
  },
  {
   "cell_type": "code",
   "execution_count": null,
   "metadata": {
    "pycharm": {
     "name": "#%% Write all the combinations of patients, start, end\n"
    }
   },
   "outputs": [],
   "source": [
    "long = []\n",
    "for _, row in df_long.iterrows():\n",
    "    long.append([row.hash_patient_id, row.start_timestamp, row.end_timestamp])\n",
    "\n",
    "long"
   ]
  },
  {
   "cell_type": "code",
   "execution_count": null,
   "metadata": {
    "pycharm": {
     "name": "#%% Check for rach row if it is in\n"
    }
   },
   "outputs": [],
   "source": [
    "df['origin_long'] = False\n",
    "origin_long = df.origin_long"
   ]
  },
  {
   "cell_type": "code",
   "execution_count": null,
   "metadata": {
    "pycharm": {
     "name": "#%%\n"
    }
   },
   "outputs": [],
   "source": [
    "for idx, row in df.iterrows():\n",
    "    for i in range(len(long)):\n",
    "        condition = (row.hash_patient_id == long[i][0]) & \\\n",
    "                    (row.start_timestamp >= long[i][1]) & \\\n",
    "                    (row.end_timestamp <= long[i][2])\n",
    "        if condition:\n",
    "            origin_long[idx] = True"
   ]
  },
  {
   "cell_type": "code",
   "execution_count": null,
   "metadata": {
    "pycharm": {
     "name": "#%%\n"
    }
   },
   "outputs": [],
   "source": [
    "df['origin_long'] = origin_long"
   ]
  },
  {
   "cell_type": "code",
   "execution_count": null,
   "metadata": {
    "pycharm": {
     "name": "#%%\n"
    }
   },
   "outputs": [],
   "source": [
    "df[df['origin_long'] == True].index"
   ]
  },
  {
   "cell_type": "code",
   "execution_count": null,
   "metadata": {
    "pycharm": {
     "name": "#%%\n"
    }
   },
   "outputs": [],
   "source": [
    "\n",
    "\n"
   ]
  }
 ],
 "metadata": {
  "kernelspec": {
   "display_name": "Python 3",
   "language": "python",
   "name": "python3"
  },
  "language_info": {
   "codemirror_mode": {
    "name": "ipython",
    "version": 2
   },
   "file_extension": ".py",
   "mimetype": "text/x-python",
   "name": "python",
   "nbconvert_exporter": "python",
   "pygments_lexer": "ipython2"
  }
 },
 "nbformat": 4,
 "nbformat_minor": 0
}
