{
 "cells": [
  {
   "cell_type": "code",
   "execution_count": null,
   "metadata": {},
   "outputs": [],
   "source": [
    "import os\n",
    "import pandas as pd\n",
    "\n",
    "import seaborn as sns\n",
    "import matplotlib.pyplot as plt"
   ]
  },
  {
   "cell_type": "code",
   "execution_count": null,
   "metadata": {
    "pycharm": {
     "name": "#%%\n"
    }
   },
   "outputs": [],
   "source": [
    "%load_ext autoreload\n",
    "%autoreload 2"
   ]
  },
  {
   "cell_type": "code",
   "execution_count": null,
   "metadata": {
    "pycharm": {
     "name": "#%%\n"
    }
   },
   "outputs": [],
   "source": [
    "os.chdir('/home/adam/adam/data/results_fix/')\n",
    "os.getcwd()"
   ]
  },
  {
   "cell_type": "code",
   "execution_count": null,
   "metadata": {
    "pycharm": {
     "name": "#%% 2/8\n"
    }
   },
   "outputs": [],
   "source": [
    "ate_ols = pd.read_csv('results_ols_pf_ratio_2h_8h_manual_outcome.csv', header=None)\n",
    "ate_ipw = pd.read_csv('results_ipw_pf_ratio_2h_8h_manual_outcome.csv', header=None)\n",
    "ate_blocking = pd.read_csv('results_stratify_pf_ratio_2h_8h_manual_outcome.csv', header=None)\n",
    "ate_bart = pd.read_csv('results_BART_pf_ratio_2h_8h_manual_outcome.csv', index_col=0)\n",
    "ate_tarnet = pd.read_csv('results_tarnet_pf_ratio_2h_8h_manual_outcome.csv', header=None)\n",
    "ate_cfr = pd.read_csv('results_cfr_pf_ratio_2h_8h_manual_outcome.csv', header=None)\n",
    "\n",
    "#ate_m = pd.read_csv('results_matching_pf_ratio_2h_8h_manual_outcome.csv', header=None)"
   ]
  },
  {
   "cell_type": "code",
   "execution_count": null,
   "metadata": {
    "pycharm": {
     "name": "#%% Recalculate IPW\n"
    }
   },
   "outputs": [],
   "source": [
    "df = pd.DataFrame([])\n",
    "df['1-OLS'] = ate_ols.iloc[:, 0]\n",
    "df['IPW'] = ate_ipw.iloc[:, 0]\n",
    "df['Blocking'] = ate_blocking.iloc[:, 0]\n",
    "#df['Matching'] = ate_m.iloc[:, 0]\n",
    "df['BART'] = ate_bart.reset_index().iloc[:, 1].round(2)\n",
    "df['TARNet'] = ate_tarnet.iloc[:, 0]\n",
    "df['CfR'] = ate_cfr.iloc[:, 0]\n"
   ]
  },
  {
   "cell_type": "code",
   "execution_count": null,
   "metadata": {
    "pycharm": {
     "name": "#%%\n"
    }
   },
   "outputs": [],
   "source": [
    "#sns.set_theme(style=\"ticks\")\n",
    "\n",
    "# Initialize the figure with a logarithmic x axis\n",
    "f, ax = plt.subplots(figsize=(7, 6))\n",
    "#ax.set_xscale(\"log\")\n",
    "\n",
    "# Load the example planets dataset\n",
    "df_plot = df.melt()\n",
    "df_plot.columns = ['Method', 'ATE']\n",
    "\n",
    "# Plot the orbital period with horizontal boxes\n",
    "sns.boxplot(x=\"ATE\", y=\"Method\", data=df_plot, orient='h',\n",
    "            whis=[2, 97.5], width=.6, palette=\"vlag\",\n",
    "            color=\".2\", showmeans=True,\n",
    "            meanprops={\"marker\":\"s\",\n",
    "                       \"markerfacecolor\":\"dimgrey\",\n",
    "                       \"markeredgecolor\":\"dimgrey\",\n",
    "                       \"markersize\":\"5\"})\n",
    "\n",
    "# Add in points to show each observation\n",
    "#sns.stripplot(x=\"ATE\", y=\"Method\", data=df_plot, size=3, color=\".35\", linewidth=0)\n",
    "\n",
    "# Tweak the visual presentation\n",
    "ax.xaxis.grid(True)\n",
    "ax.set(ylabel=\"\")\n",
    "ax.set(xlabel=\"Estimated Average Treatment Effect for the Early Proning Effect\")\n",
    "ax.axvline(x=15, ymin=0.02, ymax=0.98, color='dimgrey', linestyle='--')\n",
    "sns.despine(trim=True, left=True)\n",
    "plt.savefig(\"2_8_outcome.png\")"
   ]
  },
  {
   "cell_type": "code",
   "execution_count": null,
   "metadata": {
    "pycharm": {
     "name": "#%% 12/24\n"
    }
   },
   "outputs": [],
   "source": [
    "ate_ols = pd.read_csv('results_ols_pf_ratio_12h_24h_manual_outcome.csv', header=None)\n",
    "ate_ipw = pd.read_csv('results_ipw_pf_ratio_12h_24h_manual_outcome.csv', header=None)\n",
    "ate_blocking = pd.read_csv('results_stratify_pf_ratio_12h_24h_manual_outcome.csv', header=None)\n",
    "ate_bart = pd.read_csv('results_BART_pf_ratio_12h_24h_manual_outcome.csv', index_col=0)\n",
    "ate_tarnet = pd.read_csv('results_tarnet_pf_ratio_12h_24h_manual_outcome.csv', header=None)\n",
    "ate_cfr = pd.read_csv('results_cfr_pf_ratio_12h_24h_manual_outcome.csv', header=None)\n",
    "\n",
    "#ate_m = pd.read_csv('results_matching_pf_ratio_2h_8h_manual_outcome.csv', header=None)"
   ]
  },
  {
   "cell_type": "code",
   "execution_count": null,
   "metadata": {
    "pycharm": {
     "name": "#%% Recalculate IPW\n"
    }
   },
   "outputs": [],
   "source": [
    "df = pd.DataFrame([])\n",
    "df['1-OLS'] = ate_ols.iloc[:, 0]\n",
    "df['IPW'] = ate_ipw.iloc[:, 0]\n",
    "df['Blocking'] = ate_blocking.iloc[:, 0]\n",
    "#df['Matching'] = ate_m.iloc[:, 0]\n",
    "df['BART'] = ate_bart.reset_index().iloc[:, 1].round(2)\n",
    "df['TARNet'] = ate_tarnet.iloc[:, 0]\n",
    "df['CfR'] = ate_cfr.iloc[:, 0]\n"
   ]
  },
  {
   "cell_type": "code",
   "execution_count": null,
   "metadata": {
    "pycharm": {
     "name": "#%%\n"
    }
   },
   "outputs": [],
   "source": []
  },
  {
   "cell_type": "code",
   "execution_count": null,
   "metadata": {
    "pycharm": {
     "name": "#%%\n"
    }
   },
   "outputs": [],
   "source": [
    "#sns.set_theme(style=\"ticks\")\n",
    "\n",
    "# Initialize the figure with a logarithmic x axis\n",
    "f, ax = plt.subplots(figsize=(7, 6))\n",
    "#ax.set_xscale(\"log\")\n",
    "\n",
    "# Load the example planets dataset\n",
    "df_plot = df.melt()\n",
    "df_plot.columns = ['Method', 'ATE']\n",
    "\n",
    "# Plot the orbital period with horizontal boxes\n",
    "sns.boxplot(x=\"ATE\", y=\"Method\", data=df_plot, orient='h',\n",
    "            whis=[2.5, 97.5], width=.6, palette=\"vlag\",\n",
    "            color=\".2\", showmeans=True,\n",
    "            meanprops={\"marker\":\"s\",\n",
    "                       \"markerfacecolor\":\"dimgrey\",\n",
    "                       \"markeredgecolor\":\"dimgrey\",\n",
    "                       \"markersize\":\"5\"})\n",
    "\n",
    "# Add in points to show each observation\n",
    "#sns.stripplot(x=\"ATE\", y=\"Method\", data=df_plot, size=3, color=\".35\", linewidth=0)\n",
    "\n",
    "# Tweak the visual presentation\n",
    "ax.xaxis.grid(True)\n",
    "ax.set(ylabel=\"\")\n",
    "ax.set(xlabel=\"Estimated Average Treatment Effect for the Late Proning Effect\")\n",
    "ax.axvline(x=15, ymin=0.02, ymax=0.98, color='dimgrey', linestyle='--')\n",
    "sns.despine(trim=True, left=True)\n",
    "plt.savefig(\"12_24_outcome.png\")\n"
   ]
  },
  {
   "cell_type": "code",
   "execution_count": null,
   "metadata": {
    "pycharm": {
     "name": "#%%\n"
    }
   },
   "outputs": [],
   "source": [
    "\n",
    "import os\n",
    "\n",
    "for file in os.listdir('/home/adam/adam/data/results_fix/'):\n",
    "    if file.endswith(\".csv\"):\n",
    "        print(os.path.join(\"/mydir\", file))"
   ]
  },
  {
   "cell_type": "code",
   "execution_count": null,
   "metadata": {
    "pycharm": {
     "name": "#%%\n"
    }
   },
   "outputs": [],
   "source": [
    "import fnmatch\n",
    "import os\n",
    "import re\n",
    "\n",
    "for file in os.listdir('.'):\n",
    "    if fnmatch.fnmatch(file, 'results_*12h*.csv'):\n",
    "        print(file)\n",
    "        print(re.search('_(.+?)_', file).group(1))\n"
   ]
  }
 ],
 "metadata": {
  "kernelspec": {
   "display_name": "Python 3",
   "language": "python",
   "name": "python3"
  },
  "language_info": {
   "codemirror_mode": {
    "name": "ipython",
    "version": 2
   },
   "file_extension": ".py",
   "mimetype": "text/x-python",
   "name": "python",
   "nbconvert_exporter": "python",
   "pygments_lexer": "ipython2"
  }
 },
 "nbformat": 4,
 "nbformat_minor": 0
}
