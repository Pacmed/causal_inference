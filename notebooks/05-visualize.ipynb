{
 "cells": [
  {
   "cell_type": "code",
   "execution_count": null,
   "metadata": {},
   "outputs": [],
   "source": [
    "import os\n",
    "\n",
    "OUTCOME = 'pf_ratio_2h_8h_manual_outcome'\n",
    "\n",
    "PATH = '/home/adam/adam/data/causal_inference/'\n",
    "\n",
    "TRAIN_DATA_PATH = '/home/adam/adam/data/causal_inference/data/processed/guerin_2_8_train.npz'\n",
    "TEST_DATA_PATH = '/home/adam/adam/data/causal_inference/data/processed/guerin_2_8_test.npz'\n",
    "\n",
    "RESULTS_PATH = f'/home/adam/adam/data/causal_inference/results/{OUTCOME}/'\n",
    "\n",
    "\n",
    "os.chdir('/home/adam/adam/causal_inference')\n",
    "from causal_inference.visualization.save_boxplot import save_boxplot"
   ]
  },
  {
   "cell_type": "code",
   "execution_count": null,
   "metadata": {
    "pycharm": {
     "name": "#%%\n"
    }
   },
   "outputs": [],
   "source": [
    "save_boxplot('Boxplot', RESULTS_PATH, RESULTS_PATH)"
   ]
  },
  {
   "cell_type": "code",
   "execution_count": null,
   "metadata": {
    "pycharm": {
     "name": "#%%\n"
    }
   },
   "outputs": [],
   "source": []
  }
 ],
 "metadata": {
  "kernelspec": {
   "display_name": "Python 3",
   "language": "python",
   "name": "python3"
  },
  "language_info": {
   "codemirror_mode": {
    "name": "ipython",
    "version": 2
   },
   "file_extension": ".py",
   "mimetype": "text/x-python",
   "name": "python",
   "nbconvert_exporter": "python",
   "pygments_lexer": "ipython2"
  }
 },
 "nbformat": 4,
 "nbformat_minor": 0
}
