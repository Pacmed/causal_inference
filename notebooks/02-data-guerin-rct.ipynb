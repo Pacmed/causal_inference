{
 "cells": [
  {
   "cell_type": "code",
   "execution_count": null,
   "metadata": {},
   "outputs": [],
   "source": [
    "import pandas as pd\n",
    "import numpy as np\n",
    "\n",
    "import sys, os\n",
    "\n",
    "import seaborn as sns\n",
    "import matplotlib.pyplot as plt\n",
    "\n",
    "from causalinference import CausalModel\n",
    "\n",
    "from sklearn.impute import SimpleImputer\n",
    "from sklearn.preprocessing import StandardScaler\n",
    "\n",
    "from scipy.stats import wasserstein_distance\n",
    "from scipy import stats"
   ]
  },
  {
   "cell_type": "code",
   "execution_count": null,
   "metadata": {
    "pycharm": {
     "name": "#%% Load the data\n"
    }
   },
   "outputs": [],
   "source": [
    "os.chdir('/home/adam/files/data/13012020/')\n",
    "df = pd.read_csv('use_case_inclusion_8h_all_outputs_cvvh.csv')\n",
    "df.start_timestamp = df.start_timestamp.astype('datetime64[ns]')\n",
    "df.end_timestamp = df.end_timestamp.astype('datetime64[ns]')\n",
    "df.info(max_cols=200)"
   ]
  },
  {
   "cell_type": "code",
   "execution_count": null,
   "metadata": {
    "pycharm": {
     "name": "#%% Construct P/F ratio\n"
    }
   },
   "outputs": [],
   "source": [
    "df['pf_ratio'] = 0\n",
    "pf_ratio_is_na = df.po2.isna() | df.fio2.isna()\n",
    "df.loc[~pf_ratio_is_na, 'pf_ratio'] = df.loc[~pf_ratio_is_na, 'po2'] / df.loc[~pf_ratio_is_na, 'fio2']\n",
    "df.loc[~pf_ratio_is_na, 'pf_ratio'] = df.loc[~pf_ratio_is_na, 'pf_ratio'].map(lambda x: int(round(x * 100)))"
   ]
  },
  {
   "cell_type": "code",
   "execution_count": null,
   "metadata": {
    "pycharm": {
     "name": "#%% Extract pco2\n"
    }
   },
   "outputs": [],
   "source": [
    "df.loc[df.pco2_arterial.isna(), 'pco2_arterial'] = df.loc[df.pco2_arterial.isna(), 'pco2_unspecified']\n",
    "df = df.rename(columns={'pco2_arterial':'pco2'})"
   ]
  },
  {
   "cell_type": "code",
   "execution_count": null,
   "metadata": {
    "pycharm": {
     "name": "#%% Extract lactate\n"
    }
   },
   "outputs": [],
   "source": [
    "df.loc[df.lactate_arterial.isna(), 'lactate_arterial'] = df.loc[df.lactate_arterial.isna(), 'lactate_blood']\n",
    "df.loc[df.lactate_arterial.isna(), 'lactate_arterial'] = df.loc[df.lactate_arterial.isna(), 'lactate_unspecified']\n",
    "df = df.rename(columns={'lactate_arterial':'lactate'})\n"
   ]
  },
  {
   "cell_type": "code",
   "execution_count": null,
   "metadata": {
    "pycharm": {
     "name": "#%% Extract ph\n"
    }
   },
   "outputs": [],
   "source": [
    "df.loc[df.ph_arterial.isna(), 'ph_arterial'] = df.loc[df.ph_arterial.isna(), 'ph_unspecified']\n",
    "df = df.rename(columns={'ph_arterial':'ph'})"
   ]
  },
  {
   "cell_type": "code",
   "execution_count": null,
   "metadata": {
    "pycharm": {
     "name": "#%% Extract obesity\n"
    }
   },
   "outputs": [],
   "source": [
    "df['nice_morbid_obesity'] = df['bmi'].map(lambda x: x > 35)\n",
    "df.nice_morbid_obesity.value_counts()"
   ]
  },
  {
   "cell_type": "code",
   "execution_count": null,
   "metadata": {
    "pycharm": {
     "name": "#%% Extract vasopressors\n"
    }
   },
   "outputs": [],
   "source": [
    "df['med_vasopressors'] = df['atc_C01CA03'] |\\\n",
    "                         df['atc_C01CA04'] |\\\n",
    "                         df['atc_C01CA24'] |\\\n",
    "                         df['atc_H01BA01'] |\\\n",
    "                         df['atc_H01BA04']"
   ]
  },
  {
   "cell_type": "code",
   "execution_count": null,
   "metadata": {
    "pycharm": {
     "name": "#%% Extract Glucocorticoids\n"
    }
   },
   "outputs": [],
   "source": [
    "df['med_glucocorticoids'] = df['atc_H02A']"
   ]
  },
  {
   "cell_type": "code",
   "execution_count": null,
   "metadata": {
    "pycharm": {
     "name": "#%% Extract Muscle relaxants\n"
    }
   },
   "outputs": [],
   "source": [
    "df['med_muscle_relaxants'] = df['atc_M03']"
   ]
  },
  {
   "cell_type": "code",
   "execution_count": null,
   "metadata": {
    "pycharm": {
     "name": "#%% Extract_nice_aki\n"
    }
   },
   "outputs": [],
   "source": [
    "from data_warehouse_utils.dataloader import DataLoader\n",
    "\n",
    "dl = DataLoader()\n",
    "df_aki = dl.get_patients()\n",
    "df_aki = df_aki[['hash_patient_id', 'nice_aki']]\n",
    "df = pd.merge(df, df_aki, how='left', on='hash_patient_id')"
   ]
  },
  {
   "cell_type": "code",
   "execution_count": null,
   "metadata": {
    "pycharm": {
     "name": "#%% RRT extraction\n"
    }
   },
   "outputs": [],
   "source": [
    "df['renal_replacement_therapy'] = ~df['cvvh_blood_flow'].isna() | ~df['cvvhd_blood_flow'].isna()\n",
    "df['renal_replacement_therapy'].value_counts()"
   ]
  },
  {
   "cell_type": "code",
   "execution_count": null,
   "metadata": {
    "pycharm": {
     "name": "#%% Extract low-tidal-volume ventilation strategy\n"
    }
   },
   "outputs": [],
   "source": [
    "#df['low_tidal_volume_rs'] = ?"
   ]
  },
  {
   "cell_type": "code",
   "execution_count": null,
   "metadata": {
    "pycharm": {
     "name": "#%% Select variables\n"
    }
   },
   "outputs": [],
   "source": [
    "VARIABLES_RCT = ['treated',\n",
    "                 'age',\n",
    "                 'gender',\n",
    "                 'bmi',\n",
    "                 'nice_diabetes',\n",
    "                 'nice_aki',\n",
    "                 'nice_cirrhosis',\n",
    "                 'nice_hem_malign',\n",
    "                 'nice_copd',\n",
    "                 'nice_imm_insuf',\n",
    "                 'nice_cardio_vasc_insuf',\n",
    "                 'nice_morbid_obesity',\n",
    "                 'sofa_score',\n",
    "                 'lactate',\n",
    "                 'tidal_volume',\n",
    "                 'respiratory_rate_measured',\n",
    "                 'peep',\n",
    "                 'fio2',\n",
    "                 'po2',\n",
    "                 'pco2',\n",
    "                 'ph',\n",
    "                 'plateau_pressure',\n",
    "                 'driving_pressure',\n",
    "                 'lung_compliance_static',\n",
    "                 'med_muscle_relaxants',\n",
    "                 'med_vasopressors',\n",
    "                 'med_glucocorticoids',\n",
    "                 'pf_ratio',\n",
    "                 'pf_ratio_2h_outcome',\n",
    "                 'pf_ratio_12h_outcome',\n",
    "                 'pf_ratio_16h_outcome']\n",
    "\n",
    "df_rct = df[VARIABLES_RCT]\n",
    "df_rct.info(max_cols=200)\n",
    "\n",
    "#Should add a late outcome 18h-22h"
   ]
  },
  {
   "cell_type": "code",
   "execution_count": null,
   "metadata": {
    "pycharm": {
     "name": "#%%\n"
    }
   },
   "outputs": [],
   "source": [
    "df_rct.head()"
   ]
  },
  {
   "cell_type": "code",
   "execution_count": null,
   "metadata": {
    "pycharm": {
     "name": "#%%\n"
    }
   },
   "outputs": [],
   "source": [
    "df_rct.rename(columns={'pf_ratio_2h_outcome':'pf_ratio_8h_outcome',\n",
    "                       'pf_ratio_16h_outcome':'pf_ratio_24h_outcome'},\n",
    "              inplace=True)"
   ]
  },
  {
   "cell_type": "code",
   "execution_count": null,
   "metadata": {
    "pycharm": {
     "name": "#%%\n"
    }
   },
   "outputs": [],
   "source": [
    "os.chdir('/home/adam/files/data/13012020/')\n",
    "df_rct.to_csv('data_guerin_rct.csv', index=False)\n"
   ]
  },
  {
   "cell_type": "markdown",
   "metadata": {
    "pycharm": {
     "name": "#%% md\n"
    }
   },
   "source": [
    "#### Not ready:"
   ]
  },
  {
   "cell_type": "code",
   "execution_count": null,
   "metadata": {
    "pycharm": {
     "name": "#%%\n"
    }
   },
   "outputs": [],
   "source": [
    "df_fluid = dl.get_range_measurements(columns=['hash_patient_id',\n",
    "                                              'start_timestamp',\n",
    "                                              'end_timestamp',\n",
    "                                              'unit_name',\n",
    "                                              'effective_value',\n",
    "                                              'pacmed_name'],\n",
    "                                     parameters=['fluid_in',\n",
    "                                                 'fluid_out']\n",
    "                                     )"
   ]
  },
  {
   "cell_type": "code",
   "execution_count": null,
   "metadata": {
    "pycharm": {
     "name": "#%%\n"
    }
   },
   "outputs": [],
   "source": [
    "df_fluid[df_fluid.unit_name == 'ml/h']"
   ]
  },
  {
   "cell_type": "code",
   "execution_count": null,
   "metadata": {
    "pycharm": {
     "name": "#%% fluid balance\n"
    }
   },
   "outputs": [],
   "source": [
    "for row, column in df_fluid.iterrows():\n",
    "    fluid_balance = df_fluid[df_fluid.hash_patient_id == column.hash_patient_id]\n",
    "    fluid_balance = df_fluid[df_fluid.start_timestamp == column.hash_patient_id]\n",
    "\n",
    "    column.\n",
    "patient_id = row.hash_patient_id\n",
    "\n",
    "    start_outcome = row.start_timestamp + timedelta(hours=first_outcome_hours)\n",
    "    end_outcome = start_outcome + timedelta(hours=last_outcome_hours)\n",
    "    end_session = row.end_timestamp\n",
    "\n",
    "    df = df[df.hash_patient_id == patient_id]\n",
    "    df = df[df.effective_timestamp >= start_outcome]\n",
    "    df = df[df.effective_timestamp <= end_outcome]\n",
    "    df = df[df.effective_timestamp <= end_session]"
   ]
  },
  {
   "cell_type": "code",
   "execution_count": null,
   "metadata": {
    "pycharm": {
     "name": "#%%\n"
    }
   },
   "outputs": [],
   "source": [
    "df[['fio2_inclusion_8h',\n",
    "    'po2_inclusion_8h',\n",
    "    'peep_inclusion_8h',\n",
    "    'fio2',\n",
    "    'po2',\n",
    "    'peep']].describe()"
   ]
  },
  {
   "cell_type": "code",
   "execution_count": null,
   "metadata": {
    "pycharm": {
     "name": "#%%\n"
    }
   },
   "outputs": [],
   "source": [
    "df[df.treated].info()"
   ]
  },
  {
   "cell_type": "code",
   "execution_count": null,
   "metadata": {
    "pycharm": {
     "name": "#%%\n"
    }
   },
   "outputs": [],
   "source": [
    "df[(df.treated) & (df['fio2_inclusion_8h'] > 50)].info()"
   ]
  },
  {
   "cell_type": "code",
   "execution_count": null,
   "metadata": {
    "pycharm": {
     "name": "#%%\n"
    }
   },
   "outputs": [],
   "source": [
    "sns.distplot(df['pf_ratio_inclusion_8h'],\n",
    "                     hist=True,\n",
    "                     bins=10,\n",
    "                     kde=True,\n",
    "                     label='Prone',\n",
    "                     norm_hist=True)\n",
    "\n",
    "sns.distplot(df.loc[df.pf_ratio < 500, 'pf_ratio'],\n",
    "                     hist=True,\n",
    "                     bins=10,\n",
    "                     kde=True,\n",
    "                     label='Supine',\n",
    "                     norm_hist=True)\n",
    "\n",
    "        # Plot formatting\n",
    "plt.legend(prop={'size': 12})\n",
    "plt.title('Estimated propensity score of being turned to prone position.')\n",
    "plt.xlabel('Propensity score')\n",
    "plt.ylabel('Density')\n",
    "plt.show()"
   ]
  },
  {
   "cell_type": "code",
   "execution_count": null,
   "metadata": {
    "pycharm": {
     "name": "#%%\n"
    }
   },
   "outputs": [],
   "source": [
    "sns.distplot(df['fio2_inclusion_8h'],\n",
    "                     hist=True,\n",
    "                     bins=10,\n",
    "                     kde=True,\n",
    "                     label='Prone',\n",
    "                     norm_hist=True)\n",
    "\n",
    "sns.distplot(df['fio2'],\n",
    "                     hist=True,\n",
    "                     bins=10,\n",
    "                     kde=True,\n",
    "                     label='Supine',\n",
    "                     norm_hist=True)\n",
    "\n",
    "        # Plot formatting\n",
    "plt.legend(prop={'size': 12})\n",
    "plt.title('Estimated propensity score of being turned to prone position.')\n",
    "plt.xlabel('Propensity score')\n",
    "plt.ylabel('Density')\n",
    "plt.show()"
   ]
  },
  {
   "cell_type": "code",
   "execution_count": null,
   "metadata": {
    "pycharm": {
     "name": "#%%\n"
    }
   },
   "outputs": [],
   "source": [
    "sns.distplot(df.loc[df.po2_inclusion_8h < 200,'po2_inclusion_8h'],\n",
    "                     hist=True,\n",
    "                     bins=10,\n",
    "                     kde=True,\n",
    "                     label='Prone',\n",
    "                     norm_hist=True)\n",
    "\n",
    "sns.distplot(df.loc[df.po2 < 200, 'po2'],\n",
    "                     hist=True,\n",
    "                     bins=10,\n",
    "                     kde=True,\n",
    "                     label='Supine',\n",
    "                     norm_hist=True)\n",
    "\n",
    "        # Plot formatting\n",
    "plt.legend(prop={'size': 12})\n",
    "plt.title('Estimated propensity score of being turned to prone position.')\n",
    "plt.xlabel('Propensity score')\n",
    "plt.ylabel('Density')\n",
    "plt.show()\n"
   ]
  },
  {
   "cell_type": "code",
   "execution_count": null,
   "metadata": {
    "pycharm": {
     "name": "#%%\n"
    }
   },
   "outputs": [],
   "source": []
  },
  {
   "cell_type": "code",
   "execution_count": null,
   "metadata": {
    "pycharm": {
     "name": "#%%\n"
    }
   },
   "outputs": [],
   "source": [
    "sns.distplot(df['peep_inclusion_8h'],\n",
    "                     hist=True,\n",
    "                     bins=10,\n",
    "                     kde=True,\n",
    "                     label='Prone',\n",
    "                     norm_hist=True)\n",
    "\n",
    "sns.distplot(df['peep'],\n",
    "                     hist=True,\n",
    "                     bins=10,\n",
    "                     kde=True,\n",
    "                     label='Supine',\n",
    "                     norm_hist=True)\n",
    "\n",
    "        # Plot formatting\n",
    "plt.legend(prop={'size': 12})\n",
    "plt.title('Estimated propensity score of being turned to prone position.')\n",
    "plt.xlabel('Propensity score')\n",
    "plt.ylabel('Density')\n",
    "plt.show()"
   ]
  },
  {
   "cell_type": "code",
   "execution_count": null,
   "metadata": {
    "pycharm": {
     "name": "#%%\n"
    }
   },
   "outputs": [],
   "source": [
    "df[['po2_inclusion_8h', 'po2']].describe()"
   ]
  },
  {
   "cell_type": "code",
   "execution_count": null,
   "metadata": {
    "pycharm": {
     "name": "#%%\n"
    }
   },
   "outputs": [],
   "source": []
  }
 ],
 "metadata": {
  "kernelspec": {
   "display_name": "Python 3",
   "language": "python",
   "name": "python3"
  },
  "language_info": {
   "codemirror_mode": {
    "name": "ipython",
    "version": 2
   },
   "file_extension": ".py",
   "mimetype": "text/x-python",
   "name": "python",
   "nbconvert_exporter": "python",
   "pygments_lexer": "ipython2"
  }
 },
 "nbformat": 4,
 "nbformat_minor": 0
}
