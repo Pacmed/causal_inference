{
 "cells": [
  {
   "cell_type": "code",
   "execution_count": null,
   "metadata": {
    "pycharm": {
     "name": "#%% Construct P/F ratio\n"
    }
   },
   "outputs": [],
   "source": [
    "df['pf_ratio'] = 0\n",
    "pf_ratio_is_na = df.po2.isna() | df.fio2.isna()\n",
    "df.loc[~pf_ratio_is_na, 'pf_ratio'] = df.loc[~pf_ratio_is_na, 'po2'] / df.loc[~pf_ratio_is_na, 'fio2']\n",
    "df.loc[~pf_ratio_is_na, 'pf_ratio'] = df.loc[~pf_ratio_is_na, 'pf_ratio'].map(lambda x: int(round(x * 100)))"
   ]
  },
  {
   "cell_type": "code",
   "execution_count": null,
   "metadata": {
    "pycharm": {
     "name": "#%% Extract obesity\n"
    }
   },
   "outputs": [],
   "source": [
    "df['nice_morbid_obesity'] = df['bmi'].map(lambda x: x > 35)\n",
    "df.nice_morbid_obesity.value_counts()"
   ]
  },
  {
   "cell_type": "code",
   "execution_count": null,
   "metadata": {
    "pycharm": {
     "name": "#%% Extract vasopressors\n"
    }
   },
   "outputs": [],
   "source": []
  },
  {
   "cell_type": "code",
   "execution_count": null,
   "metadata": {
    "pycharm": {
     "name": "#%% Extract_nice_aki\n"
    }
   },
   "outputs": [],
   "source": [
    "from data_warehouse_utils.dataloader import DataLoader\n",
    "\n",
    "dl = DataLoader()\n",
    "df_aki = dl.get_patients()\n",
    "df_aki = df_aki[['hash_patient_id', 'nice_aki']]\n",
    "df = pd.merge(df, df_aki, how='left', on='hash_patient_id')\n"
   ]
  },
  {
   "cell_type": "code",
   "execution_count": null,
   "metadata": {
    "pycharm": {
     "name": "#%%\n"
    }
   },
   "outputs": [],
   "source": [
    "print(len(df.index))\n",
    "df[['fio2', 'peep', 'po2', 'pf_ratio']].describe()\n"
   ]
  },
  {
   "cell_type": "code",
   "execution_count": null,
   "metadata": {
    "pycharm": {
     "name": "#%% add column: duration_hours_corrected\n"
    }
   },
   "outputs": [],
   "source": [
    "from data_warehouse_utils.dataloader import DataLoader\n",
    "\n",
    "dl = DataLoader()\n",
    "patients = df['hash_patient_id'].unique().tolist()\n",
    "df_rotation = dl.get_range_measurements(patients=patients,\n",
    "                                        parameters=['position'])"
   ]
  },
  {
   "cell_type": "code",
   "execution_count": null,
   "metadata": {
    "pycharm": {
     "name": "#%%\n"
    }
   },
   "outputs": [],
   "source": [
    "os.chdir('/home/adam/adam/data/19012021/')\n",
    "df_rotation.to_csv('rotation_data.csv', index=False)"
   ]
  },
  {
   "cell_type": "code",
   "execution_count": null,
   "metadata": {
    "pycharm": {
     "name": "#%%\n"
    }
   },
   "outputs": [],
   "source": [
    "df_rotation = df_rotation.loc[(df_rotation.effective_value == '30_degrees') |\n",
    "                              (df_rotation.effective_value == '45_degrees') |\n",
    "                              (df_rotation.effective_value == 'bed_chair'),\n",
    "                              ['start_timestamp', 'hash_patient_id']]"
   ]
  },
  {
   "cell_type": "code",
   "execution_count": null,
   "metadata": {
    "pycharm": {
     "name": "#%%\n"
    }
   },
   "outputs": [],
   "source": [
    "df_rotation = df_rotation.loc[(df_rotation.effective_value == '30_degrees'), ['start_timestamp', 'hash_patient_id']]"
   ]
  },
  {
   "cell_type": "code",
   "execution_count": null,
   "metadata": {
    "pycharm": {
     "name": "#%%\n"
    }
   },
   "outputs": [],
   "source": [
    "df_rotation.head()"
   ]
  },
  {
   "cell_type": "code",
   "execution_count": null,
   "metadata": {
    "pycharm": {
     "name": "#%%\n"
    }
   },
   "outputs": [],
   "source": [
    "df_rotation.info()"
   ]
  },
  {
   "cell_type": "code",
   "execution_count": null,
   "metadata": {
    "pycharm": {
     "name": "#%%\n"
    }
   },
   "outputs": [],
   "source": [
    "def was_rotated(x, y, z, df):\n",
    "    mask = (y < df.start_timestamp) & (df.start_timestamp < z) & (df.hash_patient_id == x)\n",
    "    df = df[mask].sort_values(by=['start_timestamp'])\n",
    "    # return True if len(df.index) == 0 else False\n",
    "    # return len(df.index)\n",
    "    return 0 if len(df.index) == 0 else df.start_timestamp.iloc[0] - y"
   ]
  },
  {
   "cell_type": "code",
   "execution_count": null,
   "metadata": {
    "pycharm": {
     "name": "#%%\n"
    }
   },
   "outputs": [],
   "source": [
    "rotation_list = [was_rotated(x, y, z, df_rotation) for x, y, z in\n",
    "            zip(df.loc[:, 'hash_patient_id'],\n",
    "                df.loc[:, 'start_timestamp'],\n",
    "                df.loc[:, 'end_timestamp'])]"
   ]
  },
  {
   "cell_type": "code",
   "execution_count": null,
   "metadata": {
    "pycharm": {
     "name": "#%%\n"
    }
   },
   "outputs": [],
   "source": [
    "error = []\n",
    "\n",
    "for i in range(len(rotation_list)):\n",
    "    if rotation_list[i] == 0:\n",
    "        error.append(0)\n",
    "    else:\n",
    "        error.append(int(round(rotation_list[i].total_seconds()/(60*60))))"
   ]
  },
  {
   "cell_type": "code",
   "execution_count": null,
   "metadata": {
    "pycharm": {
     "name": "#%%\n"
    }
   },
   "outputs": [],
   "source": [
    "df['error'] = error"
   ]
  },
  {
   "cell_type": "code",
   "execution_count": null,
   "metadata": {
    "pycharm": {
     "name": "#%%\n"
    }
   },
   "outputs": [],
   "source": [
    "df['error'].describe()"
   ]
  },
  {
   "cell_type": "code",
   "execution_count": null,
   "metadata": {
    "pycharm": {
     "name": "#%%\n"
    }
   },
   "outputs": [],
   "source": [
    "df.info(max_cols=200)"
   ]
  },
  {
   "cell_type": "code",
   "execution_count": null,
   "metadata": {
    "pycharm": {
     "name": "#%%\n"
    }
   },
   "outputs": [],
   "source": [
    "df.head()"
   ]
  },
  {
   "cell_type": "code",
   "execution_count": null,
   "metadata": {
    "pycharm": {
     "name": "#%% save before dropping anything\n"
    }
   },
   "outputs": [],
   "source": [
    "os.chdir('/home/adam/adam/data/19012021/')\n",
    "df.to_csv('data_raw.csv', index=False)"
   ]
  },
  {
   "cell_type": "code",
   "execution_count": null,
   "metadata": {
    "pycharm": {
     "name": "#%% Short overestimation analysis\n"
    }
   },
   "outputs": [],
   "source": [
    "df.loc[df.treated & (df.error > 0) & (df.error < df.duration_hours), 'error'].describe()"
   ]
  },
  {
   "cell_type": "code",
   "execution_count": null,
   "metadata": {
    "pycharm": {
     "is_executing": true,
     "name": "#%% n of patients\n"
    }
   },
   "outputs": [],
   "source": [
    "df.hash_patient_id.nunique()"
   ]
  },
  {
   "cell_type": "code",
   "execution_count": null,
   "metadata": {
    "pycharm": {
     "name": "#%%\n"
    }
   },
   "outputs": [],
   "source": [
    "COLUMNS_TO_DROP = ['hash_session_id',\n",
    "                   'hash_patient_id',\n",
    "                   'start_timestamp',\n",
    "                   'end_timestamp',\n",
    "                   'duration_hours',\n",
    "                   'pacmed_origin_hospital',\n",
    "                   'fio2_inclusion_8h',\n",
    "                   'peep_inclusion_8h',\n",
    "                   'po2_inclusion_8h',\n",
    "                   'artificial_session',\n",
    "                   'death_timestamp',\n",
    "                   'outcome',\n",
    "                   'mortality',\n",
    "                   'icu_mortality']\n",
    "df.drop(columns=COLUMNS_TO_DROP, inplace=True)\n",
    "df.info(max_cols=200)"
   ]
  },
  {
   "cell_type": "code",
   "execution_count": null,
   "metadata": {
    "pycharm": {
     "name": "#%% Save all the variables\n"
    }
   },
   "outputs": [],
   "source": [
    "os.chdir('/home/adam/adam/data/19012021/')\n",
    "df.to_csv('data_all_variables.csv', index=False)"
   ]
  },
  {
   "cell_type": "code",
   "execution_count": null,
   "metadata": {
    "pycharm": {
     "name": "#%% Select variables\n"
    }
   },
   "outputs": [],
   "source": [
    "VARIABLES_RCT = ['treated',\n",
    "                 'age',\n",
    "                 'gender',\n",
    "                 'bmi',\n",
    "                 'nice_diabetes',\n",
    "                 'nice_aki',\n",
    "                 'nice_cirrhosis',\n",
    "                 'nice_hem_malign',\n",
    "                 'nice_copd',\n",
    "                 'nice_imm_insuf',\n",
    "                 'nice_cardio_vasc_insuf',\n",
    "                 'nice_morbid_obesity',\n",
    "                 'renal_replacement_therapy',\n",
    "                 'sofa_score',\n",
    "                 'lactate',\n",
    "                 'tidal_volume',\n",
    "                 'tidal_volume_per_kg',\n",
    "                 'respiratory_rate_measured',\n",
    "                 'peep',\n",
    "                 'fio2',\n",
    "                 'po2',\n",
    "                 'pco2',\n",
    "                 'ph',\n",
    "                 'plateau_pressure',\n",
    "                 'driving_pressure',\n",
    "                 'lung_compliance_static',\n",
    "                 'med_muscle_relaxants',\n",
    "                 'med_vasopressors',\n",
    "                 'med_glucocorticoids',\n",
    "                 'pf_ratio',\n",
    "                 'pf_ratio_2h_8h_outcome',\n",
    "                 'pf_ratio_2h_8h_manual_outcome',\n",
    "                 'pf_ratio_12h_24h_outcome',\n",
    "                 'pf_ratio_12h_24h_manual_outcome']\n",
    "\n",
    "df_rct = df[VARIABLES_RCT]\n",
    "df_rct.info(max_cols=200)\n",
    "\n",
    "#Should add a late outcome 18h-22h"
   ]
  },
  {
   "cell_type": "code",
   "execution_count": null,
   "metadata": {
    "pycharm": {
     "name": "#%%\n"
    }
   },
   "outputs": [],
   "source": [
    "df_rct.head()\n"
   ]
  },
  {
   "cell_type": "code",
   "execution_count": null,
   "metadata": {
    "pycharm": {
     "name": "#%%\n"
    }
   },
   "outputs": [],
   "source": [
    "df_rct.info()"
   ]
  },
  {
   "cell_type": "code",
   "execution_count": null,
   "metadata": {
    "pycharm": {
     "name": "#%% not enough observations\n"
    }
   },
   "outputs": [],
   "source": [
    "df_rct = df_rct.drop(columns=['plateau_pressure'])"
   ]
  },
  {
   "cell_type": "code",
   "execution_count": null,
   "metadata": {
    "pycharm": {
     "name": "#%%\n"
    }
   },
   "outputs": [],
   "source": [
    "os.chdir('/home/adam/adam/data/19012021/')\n",
    "df_rct.to_csv('data_guerin_rct.csv', index=False)"
   ]
  },
  {
   "cell_type": "code",
   "execution_count": null,
   "metadata": {
    "pycharm": {
     "name": "#%%\n"
    }
   },
   "outputs": [],
   "source": [
    "df_rct.describe()"
   ]
  },
  {
   "cell_type": "code",
   "execution_count": null,
   "metadata": {
    "pycharm": {
     "name": "#%%\n"
    }
   },
   "outputs": [],
   "source": [
    "\n",
    "df_rct.info()"
   ]
  },
  {
   "cell_type": "code",
   "execution_count": null,
   "metadata": {
    "pycharm": {
     "name": "#%%\n"
    }
   },
   "outputs": [],
   "source": []
  }
 ],
 "metadata": {
  "kernelspec": {
   "display_name": "Python 3",
   "language": "python",
   "name": "python3"
  },
  "language_info": {
   "codemirror_mode": {
    "name": "ipython",
    "version": 2
   },
   "file_extension": ".py",
   "mimetype": "text/x-python",
   "name": "python",
   "nbconvert_exporter": "python",
   "pygments_lexer": "ipython2"
  },
  "pycharm": {
   "stem_cell": {
    "cell_type": "raw",
    "metadata": {
     "collapsed": false
    },
    "source": [
     "\n",
     "INCLUDED = (df.pf_ratio_inclusion_8h > 0) & \\\n",
     "           (df.pf_ratio_inclusion_8h < 150) & \\\n",
     "           (df.peep_inclusion_8h >= 5) & \\\n",
     "           (df.fio2_inclusion_8h >= 60)\n",
     "print(len(df.index))\n",
     "df = df[INCLUDED]\n",
     "print(len(df.index))\n"
    ]
   }
  }
 },
 "nbformat": 4,
 "nbformat_minor": 0
}
