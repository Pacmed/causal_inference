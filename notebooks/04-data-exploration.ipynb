{
 "cells": [
  {
   "cell_type": "code",
   "execution_count": null,
   "metadata": {},
   "outputs": [],
   "source": [
    "import pandas as pd\n",
    "import numpy as np\n",
    "\n",
    "import sys, os\n",
    "\n",
    "import seaborn as sns\n",
    "import matplotlib.pyplot as plt\n",
    "\n",
    "from causalinference import CausalModel\n",
    "\n",
    "from sklearn.impute import SimpleImputer\n",
    "from sklearn.preprocessing import StandardScaler\n",
    "\n",
    "from scipy.stats import wasserstein_distance\n",
    "from scipy import stats"
   ]
  },
  {
   "cell_type": "code",
   "execution_count": null,
   "metadata": {
    "pycharm": {
     "name": "#%% Functions\n"
    }
   },
   "outputs": [],
   "source": [
    "def visualize_balance(df,\n",
    "                      treated_column_name='treated',\n",
    "                      covariate_column_name=None):\n",
    "\n",
    "    df_plot = df[df[treated_column_name]]\n",
    "    sns.distplot(df_plot[covariate_column_name],\n",
    "                 hist = True,\n",
    "                 kde = True,\n",
    "                 label='Prone')\n",
    "    xlim_diff = df_plot[covariate_column_name].quantile(q=0.98) - df_plot[covariate_column_name].quantile(q=0.96)\n",
    "    xlim = df_plot[covariate_column_name].quantile(q=0.98) + 2*xlim_diff\n",
    "\n",
    "    df_plot = df[~df[treated_column_name]]\n",
    "    sns.distplot(df_plot[covariate_column_name],\n",
    "                 hist = True,\n",
    "                 kde = True,\n",
    "                 label='Supine')\n",
    "    xlim_diff = df_plot[covariate_column_name].quantile(q=0.98) - df_plot[covariate_column_name].quantile(q=0.96)\n",
    "    xlim = max(df_plot[covariate_column_name].quantile(q=0.98) + 2*xlim_diff, xlim)\n",
    "    # Plot formatting\n",
    "    plt.legend(prop={'size': 12})\n",
    "    plt.title('Distribution of {} in treated and control subpopulations.'.format(covariate_column_name))\n",
    "    plt.xlabel(str(covariate_column_name))\n",
    "    plt.ylabel('Density')\n",
    "    plt.xlim(left=0, right=xlim)\n",
    "\n",
    "    print(\"Mean value of {} in the treated subpopulation: {}.\".format(\n",
    "          covariate_column_name, round(df.loc[df[treated_column_name], covariate_column_name].mean(), 2)))\n",
    "    print(\"Mean value of {} in the supine subpopulation: {}.\".format(\n",
    "          covariate_column_name, round(df.loc[~df[treated_column_name], covariate_column_name].mean()), 2))\n",
    "    plt.show()\n",
    "\n"
   ]
  },
  {
   "cell_type": "code",
   "execution_count": null,
   "metadata": {
    "pycharm": {
     "name": "#%% Load the data\n"
    }
   },
   "outputs": [],
   "source": [
    "os.chdir('/home/adam/files/data/13012020/')\n",
    "df = pd.read_csv('data_guerin_rct.csv')\n",
    "\n",
    "df.info(max_cols=200)"
   ]
  },
  {
   "cell_type": "code",
   "execution_count": null,
   "metadata": {
    "pycharm": {
     "name": "#%%\n"
    }
   },
   "outputs": [],
   "source": [
    "visualize_balance(df,\n",
    "                  covariate_column_name='pf_ratio')"
   ]
  },
  {
   "cell_type": "code",
   "execution_count": null,
   "metadata": {
    "pycharm": {
     "name": "#%%\n"
    }
   },
   "outputs": [],
   "source": [
    "visualize_balance(df,\n",
    "                  covariate_column_name='pf_ratio_4h_outcome')"
   ]
  },
  {
   "cell_type": "code",
   "execution_count": null,
   "metadata": {
    "pycharm": {
     "name": "#%%\n"
    }
   },
   "outputs": [],
   "source": [
    "visualize_balance(df,\n",
    "                  covariate_column_name='pf_ratio_12h_outcome')\n"
   ]
  },
  {
   "cell_type": "code",
   "execution_count": null,
   "metadata": {
    "pycharm": {
     "name": "#%%\n"
    }
   },
   "outputs": [],
   "source": [
    "visualize_balance(df,\n",
    "                  covariate_column_name='pco2')"
   ]
  },
  {
   "cell_type": "code",
   "execution_count": null,
   "metadata": {
    "pycharm": {
     "name": "#%%\n"
    }
   },
   "outputs": [],
   "source": [
    "visualize_balance(df,\n",
    "                  covariate_column_name='fio2')"
   ]
  },
  {
   "cell_type": "code",
   "execution_count": null,
   "metadata": {
    "pycharm": {
     "name": "#%%\n"
    }
   },
   "outputs": [],
   "source": [
    "visualize_balance(df,\n",
    "                  covariate_column_name='driving_pressure')"
   ]
  },
  {
   "cell_type": "code",
   "execution_count": null,
   "metadata": {
    "pycharm": {
     "name": "#%%\n"
    }
   },
   "outputs": [],
   "source": [
    "df.corr().iloc[:,-1].round(2)"
   ]
  },
  {
   "cell_type": "code",
   "execution_count": null,
   "metadata": {
    "pycharm": {
     "name": "#%%\n"
    }
   },
   "outputs": [],
   "source": [
    "df[(df.pf_ratio < 400) & (df.pf_ratio_12h_outcome < 400)].plot.scatter(x='pf_ratio', y='pf_ratio_12h_outcome')"
   ]
  },
  {
   "cell_type": "code",
   "execution_count": null,
   "metadata": {
    "pycharm": {
     "name": "#%%\n"
    }
   },
   "outputs": [],
   "source": [
    "df[(df.pf_ratio_4h_outcome < 500) & (df.pf_ratio_12h_outcome < 500)].plot.scatter(x='pf_ratio_12h_outcome', y='pf_ratio_4h_outcome')"
   ]
  },
  {
   "cell_type": "code",
   "execution_count": null,
   "metadata": {
    "pycharm": {
     "name": "#%%\n"
    }
   },
   "outputs": [],
   "source": [
    "df[df.pf_ratio_4h_outcome < 500].plot.scatter(x='fio2', y='pf_ratio_4h_outcome')"
   ]
  },
  {
   "cell_type": "code",
   "execution_count": null,
   "metadata": {
    "pycharm": {
     "name": "#%%\n"
    }
   },
   "outputs": [],
   "source": [
    "corrmat = df.corr()\n",
    "f, ax = plt.subplots(figsize=(12, 9))\n",
    "sns.heatmap(corrmat, vmax=.8, square=True)\n"
   ]
  },
  {
   "cell_type": "code",
   "execution_count": null,
   "metadata": {
    "pycharm": {
     "name": "#%%\n"
    }
   },
   "outputs": [],
   "source": [
    "df_plot = df[['lactate',\n",
    "              'tidal_volume',\n",
    "              'respiratory_rate_measured',\n",
    "              'peep',\n",
    "              'fio2']]\n",
    "sns.set()\n",
    "sns.pairplot(df_plot, size = 2.5)\n",
    "plt.show()"
   ]
  },
  {
   "cell_type": "code",
   "execution_count": null,
   "metadata": {
    "pycharm": {
     "name": "#%%\n"
    }
   },
   "outputs": [],
   "source": [
    "df_plot = df[['ph',\n",
    "              'pco2',\n",
    "              'po2',\n",
    "              'driving_pressure',\n",
    "              'fio2']]\n",
    "sns.set()\n",
    "sns.pairplot(df_plot, size = 2.5)\n",
    "plt.show()\n"
   ]
  },
  {
   "cell_type": "code",
   "execution_count": null,
   "metadata": {
    "pycharm": {
     "name": "#%%\n"
    }
   },
   "outputs": [],
   "source": [
    "# https://stats.stackexchange.com/questions/404775/calculate-earth-movers-distance-for-two-grayscale-images\n",
    "\n",
    "# https://stats.stackexchange.com/questions/276497/maximum-mean-discrepancy-distance-distribution/276618\n",
    "\n",
    "# https://scikit-learn.org/stable/modules/feature_selection.html\n",
    "\n",
    "# Read the book on how to access covariate strata"
   ]
  },
  {
   "cell_type": "code",
   "execution_count": null,
   "metadata": {
    "pycharm": {
     "name": "#%%\n"
    }
   },
   "outputs": [],
   "source": [
    "df.describe()"
   ]
  },
  {
   "cell_type": "code",
   "execution_count": null,
   "metadata": {
    "pycharm": {
     "name": "#%%\n"
    }
   },
   "outputs": [],
   "source": []
  }
 ],
 "metadata": {
  "kernelspec": {
   "display_name": "Python 3",
   "language": "python",
   "name": "python3"
  },
  "language_info": {
   "codemirror_mode": {
    "name": "ipython",
    "version": 2
   },
   "file_extension": ".py",
   "mimetype": "text/x-python",
   "name": "python",
   "nbconvert_exporter": "python",
   "pygments_lexer": "ipython2"
  }
 },
 "nbformat": 4,
 "nbformat_minor": 0
}
