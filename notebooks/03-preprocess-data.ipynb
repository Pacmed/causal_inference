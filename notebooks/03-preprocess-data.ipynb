{
 "cells": [
  {
   "cell_type": "markdown",
   "metadata": {},
   "source": [
    "This notebook preprocesses the data."
   ]
  },
  {
   "cell_type": "code",
   "execution_count": 2,
   "metadata": {
    "pycharm": {
     "name": "#%% Import libraries\n"
    }
   },
   "outputs": [],
   "source": [
    "import sys, os\n",
    "import numpy as np\n",
    "import pandas as pd\n",
    "import seaborn as sns\n",
    "import matplotlib.pyplot as plt\n",
    "\n",
    "import os\n",
    "\n",
    "import pandas as pd\n",
    "import numpy as np\n"
   ]
  },
  {
   "cell_type": "code",
   "execution_count": 3,
   "metadata": {
    "pycharm": {
     "name": "#%% Import package modules\n"
    }
   },
   "outputs": [],
   "source": [
    "%load_ext autoreload\n",
    "%autoreload 2\n",
    "\n",
    "os.chdir('/home/adam/adam/causal_inference')\n",
    "\n",
    "from causal_inference.data.load import *\n",
    "from causal_inference.data.split import *\n",
    "from causal_inference.data.impute import *\n",
    "from causal_inference.data.bootstrap import *"
   ]
  },
  {
   "cell_type": "code",
   "execution_count": 4,
   "metadata": {
    "pycharm": {
     "name": "#%% Import constants\n"
    }
   },
   "outputs": [],
   "source": [
    "SEED_VALUE = 1234\n",
    "OUTCOME = 'pf_ratio_12h_24h_manual_outcome'\n",
    "TRAIN_SIZE = 0.8\n",
    "BOOTSTRAP_SIZE = 0.95\n",
    "RAW_DATA_PATH = '/home/adam/adam/data/causal_inference/data/processed/data_guerin_rct.csv'\n",
    "TRAIN_DATA_PATH = '/home/adam/adam/data/causal_inference/data/processed/guerin_12_24_train.npz'\n",
    "TEST_DATA_PATH = '/home/adam/adam/data/causal_inference/data/processed/guerin_12_24_test.npz'"
   ]
  },
  {
   "cell_type": "code",
   "execution_count": 5,
   "metadata": {
    "pycharm": {
     "name": "#%% Set seed\n"
    }
   },
   "outputs": [],
   "source": [
    "np.random.seed(SEED_VALUE)"
   ]
  },
  {
   "cell_type": "code",
   "execution_count": 6,
   "metadata": {
    "pycharm": {
     "name": "#%% Load raw data\n"
    }
   },
   "outputs": [
    {
     "name": "stdout",
     "output_type": "stream",
     "text": [
      "<class 'pandas.core.frame.DataFrame'>\n",
      "RangeIndex: 12105 entries, 0 to 12104\n",
      "Data columns (total 34 columns):\n",
      " #   Column                           Non-Null Count  Dtype  \n",
      "---  ------                           --------------  -----  \n",
      " 0   treated                          12105 non-null  bool   \n",
      " 1   po2                              12105 non-null  float64\n",
      " 2   fio2                             12105 non-null  float64\n",
      " 3   peep                             12105 non-null  float64\n",
      " 4   pf_ratio                         12105 non-null  float64\n",
      " 5   age                              12105 non-null  float64\n",
      " 6   gender                           12105 non-null  object \n",
      " 7   body_mass_index                  11156 non-null  float64\n",
      " 8   diabetes                         12105 non-null  bool   \n",
      " 9   acute_kidney_injury              12105 non-null  bool   \n",
      " 10  cirrhosis                        12105 non-null  bool   \n",
      " 11  hematologic_malignancy           12105 non-null  bool   \n",
      " 12  copd                             12105 non-null  bool   \n",
      " 13  immunodeficiency                 12105 non-null  bool   \n",
      " 14  cardiovascular_insufficiency     12105 non-null  bool   \n",
      " 15  renal_replacement_therapy        12105 non-null  bool   \n",
      " 16  sofa_score                       7513 non-null   float64\n",
      " 17  lactate                          11697 non-null  float64\n",
      " 18  lactate.1                        9778 non-null   float64\n",
      " 19  tidal_volume                     11950 non-null  float64\n",
      " 20  tidal_volume_per_kg              11721 non-null  float64\n",
      " 21  respiratory_rate_measured        8944 non-null   float64\n",
      " 22  pco2                             11929 non-null  float64\n",
      " 23  ph                               11688 non-null  float64\n",
      " 24  plateau_pressure                 5458 non-null   float64\n",
      " 25  driving_pressure                 10918 non-null  float64\n",
      " 26  lung_compliance_static           10840 non-null  float64\n",
      " 27  med_neuromuscular_blockers       12105 non-null  bool   \n",
      " 28  med_vasopressors                 12105 non-null  bool   \n",
      " 29  med_glucocorticoids              12105 non-null  bool   \n",
      " 30  pf_ratio_2h_8h_outcome           9178 non-null   float64\n",
      " 31  pf_ratio_2h_8h_manual_outcome    9631 non-null   float64\n",
      " 32  pf_ratio_12h_24h_outcome         8397 non-null   float64\n",
      " 33  pf_ratio_12h_24h_manual_outcome  8908 non-null   float64\n",
      "dtypes: bool(12), float64(21), object(1)\n",
      "memory usage: 2.2+ MB\n"
     ]
    }
   ],
   "source": [
    "df = pd.read_csv(RAW_DATA_PATH)\n",
    "df.info(max_cols=200)"
   ]
  },
  {
   "cell_type": "code",
   "execution_count": null,
   "metadata": {
    "pycharm": {
     "name": "#%% Process raw data\n"
    }
   },
   "outputs": [],
   "source": [
    "df = prepare_csv_data(df=df, outcome_name=OUTCOME, threshold=0.7)\n",
    "df.info()"
   ]
  },
  {
   "cell_type": "code",
   "execution_count": null,
   "metadata": {
    "pycharm": {
     "name": "#%% Convert into arrays\n"
    }
   },
   "outputs": [],
   "source": [
    "y, t, X = csv_data_to_np(df=df, outcome_name=OUTCOME, treatment_name='treated')"
   ]
  },
  {
   "cell_type": "code",
   "execution_count": null,
   "metadata": {
    "pycharm": {
     "name": "#%% Check shapes\n"
    }
   },
   "outputs": [],
   "source": [
    "print(y.shape)\n",
    "print(t.shape)\n",
    "print(X.shape)"
   ]
  },
  {
   "cell_type": "code",
   "execution_count": null,
   "metadata": {
    "pycharm": {
     "name": "#%% Splits the data\n"
    }
   },
   "outputs": [],
   "source": [
    "from causal_inference.data.split import train_test_split\n",
    "\n",
    "y_train, t_train, X_train,\\\n",
    "    y_test, t_test, X_test = train_test_split(y, t, X, train_size=TRAIN_SIZE)"
   ]
  },
  {
   "cell_type": "code",
   "execution_count": null,
   "metadata": {
    "pycharm": {
     "name": "#%% Splits the data using scikit\n"
    }
   },
   "outputs": [],
   "source": [
    "from sklearn.model_selection import train_test_split\n",
    "\n",
    "y_train, y_test, t_train, t_test,\\\n",
    "    X_train, X_test = train_test_split(y, t, X, train_size=TRAIN_SIZE, random_state=SEED_VALUE)"
   ]
  },
  {
   "cell_type": "code",
   "execution_count": null,
   "metadata": {
    "pycharm": {
     "name": "#%% Check shapes\n"
    }
   },
   "outputs": [],
   "source": [
    "print(y_train.shape)\n",
    "print(t_train.shape)\n",
    "print(X_train.shape)\n",
    "\n",
    "print(y_test.shape)\n",
    "print(t_test.shape)\n",
    "print(X_test.shape)"
   ]
  },
  {
   "cell_type": "code",
   "execution_count": null,
   "metadata": {
    "pycharm": {
     "name": "#%% Impute missing values\n"
    }
   },
   "outputs": [],
   "source": [
    "X_train, X_test = impute(X_train), impute(X_test)"
   ]
  },
  {
   "cell_type": "code",
   "execution_count": null,
   "metadata": {
    "pycharm": {
     "name": "#%% Check for missing values\n"
    }
   },
   "outputs": [],
   "source": [
    "print(np.isnan(X_train).any())\n",
    "print(np.isnan(X_test).any())"
   ]
  },
  {
   "cell_type": "code",
   "execution_count": null,
   "metadata": {
    "pycharm": {
     "name": "#%% Bootstrap\n"
    }
   },
   "outputs": [],
   "source": [
    "train = bootstrap(y_train, t_train, X_train, bootstrap_size=BOOTSTRAP_SIZE, method='train')\n",
    "test = bootstrap(y_test, t_test, X_test, bootstrap_size=BOOTSTRAP_SIZE, method='test')"
   ]
  },
  {
   "cell_type": "code",
   "execution_count": null,
   "metadata": {
    "pycharm": {
     "name": "#%% save to .npz\n"
    }
   },
   "outputs": [],
   "source": [
    "np.savez(TRAIN_DATA_PATH, yf=train[0], t=train[1], x=train[2])\n",
    "np.savez(TEST_DATA_PATH, yf=test[0], t=test[1], x=test[2])"
   ]
  },
  {
   "cell_type": "code",
   "execution_count": null,
   "metadata": {
    "pycharm": {
     "name": "#%%\n"
    }
   },
   "outputs": [],
   "source": [
    "\n"
   ]
  }
 ],
 "metadata": {
  "kernelspec": {
   "display_name": "Python 3",
   "language": "python",
   "name": "python3"
  },
  "language_info": {
   "codemirror_mode": {
    "name": "ipython",
    "version": 2
   },
   "file_extension": ".py",
   "mimetype": "text/x-python",
   "name": "python",
   "nbconvert_exporter": "python",
   "pygments_lexer": "ipython2"
  }
 },
 "nbformat": 4,
 "nbformat_minor": 0
}