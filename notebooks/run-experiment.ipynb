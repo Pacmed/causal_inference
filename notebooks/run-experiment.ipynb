{
 "cells": [
  {
   "cell_type": "code",
   "execution_count": null,
   "metadata": {
    "pycharm": {
     "name": "#%%\n"
    }
   },
   "outputs": [],
   "source": [
    "import sys, os\n",
    "import numpy as np\n",
    "import pandas as pd\n",
    "import seaborn as sns\n",
    "import matplotlib.pyplot as plt\n",
    "\n",
    "import statsmodels.api as sm\n",
    "\n",
    "from sklearn.linear_model import LogisticRegression\n",
    "\n",
    "from sklearn.ensemble import RandomForestRegressor"
   ]
  },
  {
   "cell_type": "code",
   "execution_count": null,
   "metadata": {
    "pycharm": {
     "name": "#%%\n"
    }
   },
   "outputs": [],
   "source": [
    "seed_value = 1\n",
    "np.random.seed(seed_value)"
   ]
  },
  {
   "cell_type": "code",
   "execution_count": null,
   "metadata": {
    "pycharm": {
     "name": "#%%\n"
    }
   },
   "outputs": [],
   "source": [
    "%load_ext autoreload\n",
    "%autoreload 2"
   ]
  },
  {
   "cell_type": "code",
   "execution_count": null,
   "metadata": {
    "pycharm": {
     "name": "#%%\n"
    }
   },
   "outputs": [],
   "source": [
    "os.chdir('/home/adam/adam/causal_inference')\n",
    "from causal_inference.model.ols import OLS\n",
    "from causal_inference.model.propensity import PropensityScore\n",
    "from causal_inference.model.blocking import Blocking\n",
    "from causal_inference.experiments.run import Experiment"
   ]
  },
  {
   "cell_type": "code",
   "execution_count": null,
   "metadata": {
    "pycharm": {
     "name": "#%%\n"
    }
   },
   "outputs": [],
   "source": [
    "os.chdir('/home/adam/adam/cfrnet/data/')\n",
    "\n",
    "train_data = np.load('bfpguerin_2_8.train.npz')\n",
    "y_train, t_train, X_train = train_data['yf'], train_data['t'], train_data['x']\n",
    "\n",
    "test_data = np.load('bfpguerin_2_8.test.npz')\n",
    "y_test, t_test, X_test = test_data['yf'], test_data['t'], test_data['x']"
   ]
  },
  {
   "cell_type": "code",
   "execution_count": null,
   "metadata": {
    "pycharm": {
     "name": "#%%\n"
    }
   },
   "outputs": [],
   "source": [
    "N_OF_EXPERIMENTS = 5"
   ]
  },
  {
   "cell_type": "code",
   "execution_count": null,
   "metadata": {
    "pycharm": {
     "name": "#%%\n"
    }
   },
   "outputs": [],
   "source": [
    "model = OLS()\n",
    "ols = Experiment(model=OLS(), n_of_experiments=N_OF_EXPERIMENTS).run(y_train=y_train,\n",
    "                                                                   t_train=t_train,\n",
    "                                                                   X_train=X_train,\n",
    "                                                                   y_test=y_test,\n",
    "                                                                   t_test=t_test,\n",
    "                                                                   X_test=X_test)"
   ]
  },
  {
   "cell_type": "code",
   "execution_count": null,
   "metadata": {
    "pycharm": {
     "name": "#%%\n"
    }
   },
   "outputs": [],
   "source": [
    "ols.results"
   ]
  },
  {
   "cell_type": "code",
   "execution_count": null,
   "metadata": {
    "pycharm": {
     "name": "#%%\n"
    }
   },
   "outputs": [],
   "source": [
    "ols"
   ]
  },
  {
   "cell_type": "code",
   "execution_count": null,
   "metadata": {
    "pycharm": {
     "name": "#%%\n"
    }
   },
   "outputs": [],
   "source": [
    "os.chdir('/home/adam/adam/data/results_fix/')\n",
    "os.getcwd()\n"
   ]
  },
  {
   "cell_type": "markdown",
   "metadata": {},
   "source": [
    "#### RAW\n",
    "\n",
    "check the raw diff on train"
   ]
  },
  {
   "cell_type": "code",
   "execution_count": null,
   "metadata": {
    "pycharm": {
     "name": "#%%\n"
    }
   },
   "outputs": [],
   "source": [
    "results_ols = run_experiment_ols(y_train=train_data['yf'], y_test=test_data['yf'],\n",
    "                             t_train=train_data['t'], t_test=test_data['t'],\n",
    "                             X_train=train_data['x'], X_test=test_data['x'],\n",
    "                             n_of_experiments=n_of_experiments,\n",
    "                             method='raw')"
   ]
  },
  {
   "cell_type": "code",
   "execution_count": null,
   "metadata": {
    "pycharm": {
     "name": "#%%\n"
    }
   },
   "outputs": [],
   "source": [
    "results_ols"
   ]
  },
  {
   "cell_type": "code",
   "execution_count": null,
   "metadata": {
    "pycharm": {
     "name": "#%%\n"
    }
   },
   "outputs": [],
   "source": [
    "results_summary(results_ols)"
   ]
  },
  {
   "cell_type": "markdown",
   "metadata": {},
   "source": [
    "#### OLS"
   ]
  },
  {
   "cell_type": "code",
   "execution_count": null,
   "metadata": {
    "pycharm": {
     "name": "#%%\n"
    }
   },
   "outputs": [],
   "source": [
    "results_ols = run_experiment_ols(y_train=train_data['yf'], y_test=test_data['yf'],\n",
    "                             t_train=train_data['t'], t_test=test_data['t'],\n",
    "                             X_train=train_data['x'], X_test=test_data['x'],\n",
    "                             n_of_experiments=n_of_experiments,\n",
    "                             method='ols')\n"
   ]
  },
  {
   "cell_type": "code",
   "execution_count": null,
   "metadata": {
    "pycharm": {
     "name": "#%%\n"
    }
   },
   "outputs": [],
   "source": [
    "np.savetxt(\"results_ols_pf_ratio_2h_8h_manual_outcome.csv\", results_ols, delimiter=\",\", fmt='%1.2f')"
   ]
  },
  {
   "cell_type": "code",
   "execution_count": null,
   "metadata": {
    "pycharm": {
     "name": "#%%\n"
    }
   },
   "outputs": [],
   "source": [
    "results_ols = pd.read_csv('results_ols_pf_ratio_2h_8h_manual_outcome.csv', header=None)\n",
    "results_ols.columns = ['ate', 'rmse', 'r2']"
   ]
  },
  {
   "cell_type": "code",
   "execution_count": null,
   "metadata": {
    "pycharm": {
     "name": "#%%\n"
    }
   },
   "outputs": [],
   "source": [
    "summary_ols = results_summary(results_ols)\n",
    "print(summary_ols)\n",
    "#np.savetxt(\"summary_ols_pf_ratio_2h_8h_manual_outcome.csv\", summary_ols, delimiter=\",\", fmt='%1.2f')\n"
   ]
  },
  {
   "cell_type": "markdown",
   "metadata": {},
   "source": [
    "#### IPW\n"
   ]
  },
  {
   "cell_type": "code",
   "execution_count": null,
   "metadata": {
    "pycharm": {
     "name": "#%%\n"
    }
   },
   "outputs": [],
   "source": [
    "results_ipw = run_experiment_ols(y_train=train_data['yf'], y_test=test_data['yf'],\n",
    "                             t_train=train_data['t'], t_test=test_data['t'],\n",
    "                             X_train=train_data['x'], X_test=test_data['x'],\n",
    "                             n_of_experiments=n_of_experiments,\n",
    "                             method='ipw')\n",
    "\n",
    "#np.savetxt(\"results_ipw_pf_ratio_2h_8h_manual_outcome.csv\", results_ipw, delimiter=\",\", fmt='%1.2f')"
   ]
  },
  {
   "cell_type": "code",
   "execution_count": null,
   "metadata": {
    "pycharm": {
     "name": "#%%\n"
    }
   },
   "outputs": [],
   "source": [
    "results_ipw = pd.read_csv('results_ipw_pf_ratio_2h_8h_manual_outcome.csv', header=None)\n",
    "results_ipw.columns = ['ate', 'rmse', 'r2']"
   ]
  },
  {
   "cell_type": "code",
   "execution_count": null,
   "metadata": {
    "pycharm": {
     "name": "#%%\n"
    }
   },
   "outputs": [],
   "source": [
    "summary_ipw = results_summary(results_ipw)\n",
    "print(summary_ipw)\n",
    "#np.savetxt(\"summary_ipw_pf_ratio_2h_8h_manual_outcome.csv\", summary_ipw, delimiter=\",\", fmt='%1.2f')"
   ]
  },
  {
   "cell_type": "markdown",
   "metadata": {},
   "source": [
    "#### Stratification"
   ]
  },
  {
   "cell_type": "code",
   "execution_count": null,
   "metadata": {
    "pycharm": {
     "name": "#%%\n"
    }
   },
   "outputs": [],
   "source": [
    "results_stratify = run_experiment_ols(y_train=train_data['yf'], y_test=test_data['yf'],\n",
    "                             t_train=train_data['t'], t_test=test_data['t'],\n",
    "                             X_train=train_data['x'], X_test=test_data['x'],\n",
    "                             n_of_experiments=n_of_experiments,\n",
    "                             method='stratify')\n",
    "\n",
    "#np.savetxt(\"results_stratify_pf_ratio_2h_8h_manual_outcome.csv\", results_stratify, delimiter=\",\", fmt='%1.2f')"
   ]
  },
  {
   "cell_type": "code",
   "execution_count": null,
   "metadata": {
    "pycharm": {
     "name": "#%%\n"
    }
   },
   "outputs": [],
   "source": [
    "results_stratify = pd.read_csv('results_stratify_pf_ratio_2h_8h_manual_outcome.csv', header=None)\n",
    "results_stratify.columns = ['ate', 'rmse', 'r2']"
   ]
  },
  {
   "cell_type": "code",
   "execution_count": null,
   "metadata": {
    "pycharm": {
     "name": "#%%\n"
    }
   },
   "outputs": [],
   "source": [
    "summary_stratify = results_summary(results_stratify)\n",
    "print(summary_stratify)\n",
    "#np.savetxt(\"summary_stratify_pf_ratio_2h_8h_manual_outcome.csv\", summary_stratify, delimiter=\",\", fmt='%1.2f')\n"
   ]
  },
  {
   "cell_type": "markdown",
   "metadata": {},
   "source": [
    "#### 2-OLS"
   ]
  },
  {
   "cell_type": "code",
   "execution_count": null,
   "metadata": {
    "pycharm": {
     "name": "#%%\n"
    }
   },
   "outputs": [],
   "source": [
    "results_2ols = run_experiment_ols(y_train=train_data['yf'], y_test=test_data['yf'],\n",
    "                             t_train=train_data['t'], t_test=test_data['t'],\n",
    "                             X_train=train_data['x'], X_test=test_data['x'],\n",
    "                             n_of_experiments=n_of_experiments,\n",
    "                             method='2-ols')\n",
    "\n",
    "np.savetxt(\"results_2ols_pf_ratio_2h_8h_manual_outcome.csv\", results_2ols, delimiter=\",\", fmt='%1.2f')"
   ]
  },
  {
   "cell_type": "code",
   "execution_count": null,
   "metadata": {
    "pycharm": {
     "name": "#%%\n"
    }
   },
   "outputs": [],
   "source": [
    "summary_2ols = results_summary(results_2ols)\n",
    "print(summary_2ols)\n",
    "np.savetxt(\"summary_2ols_pf_ratio_2h_8h_manual_outcome.csv\", summary_2ols, delimiter=\",\", fmt='%1.2f')"
   ]
  },
  {
   "cell_type": "markdown",
   "metadata": {},
   "source": [
    "#### RF"
   ]
  },
  {
   "cell_type": "code",
   "execution_count": null,
   "metadata": {
    "pycharm": {
     "name": "#%%\n"
    }
   },
   "outputs": [],
   "source": [
    "results_rf = run_experiment_ols(y_train=train_data['yf'], y_test=test_data['yf'],\n",
    "                             t_train=train_data['t'], t_test=test_data['t'],\n",
    "                             X_train=train_data['x'], X_test=test_data['x'],\n",
    "                             n_of_experiments=n_of_experiments,\n",
    "                             method='rf')\n",
    "\n",
    "np.savetxt(\"results_rf_pf_ratio_2h_8h_manual_outcome.csv\", results_rf, delimiter=\",\", fmt='%1.2f')"
   ]
  },
  {
   "cell_type": "code",
   "execution_count": null,
   "metadata": {
    "pycharm": {
     "name": "#%%\n"
    }
   },
   "outputs": [],
   "source": [
    "summary_rf = results_summary(results_rf)\n",
    "print(summary_rf)\n",
    "np.savetxt(\"summary_rf_pf_ratio_2h_8h_manual_outcome.csv\", summary_rf, delimiter=\",\", fmt='%1.2f')"
   ]
  },
  {
   "cell_type": "markdown",
   "metadata": {},
   "source": [
    "## Pscore saving"
   ]
  },
  {
   "cell_type": "code",
   "execution_count": null,
   "metadata": {
    "pycharm": {
     "name": "#%%\n"
    }
   },
   "outputs": [],
   "source": [
    "path = 'pscore_2_8_outcome.png'\n",
    "save_propensity_plot(t=train_data['t'], X=train_data['x'], path=path)"
   ]
  },
  {
   "cell_type": "markdown",
   "metadata": {},
   "source": [
    "## Additioanl"
   ]
  },
  {
   "cell_type": "code",
   "execution_count": null,
   "metadata": {
    "pycharm": {
     "name": "#%%\n"
    }
   },
   "outputs": [],
   "source": [
    "import numpy as np\n",
    "\n",
    "from scipy.stats import uniform, randint\n",
    "\n",
    "from sklearn.datasets import load_breast_cancer, load_diabetes, load_wine\n",
    "from sklearn.metrics import auc, accuracy_score, confusion_matrix, mean_squared_error\n",
    "from sklearn.model_selection import cross_val_score, GridSearchCV, KFold, RandomizedSearchCV, train_test_split\n",
    "\n",
    "import xgboost as xgb\n",
    "\n",
    "import numpy as np\n",
    "from sklearn.model_selection import train_test_split"
   ]
  },
  {
   "cell_type": "code",
   "execution_count": null,
   "metadata": {
    "pycharm": {
     "name": "#%%\n"
    }
   },
   "outputs": [],
   "source": [
    "xgb_model = xgb.XGBRegressor(objective=\"reg:squarederror\", random_state=42)\n",
    "\n",
    "xgb_model.fit(X_train, y_train)\n",
    "\n",
    "y_pred = xgb_model.predict(X_test)\n",
    "\n",
    "rmse=mean_squared_error(y_test, y_pred, squared=False)\n",
    "\n",
    "print(rmse)"
   ]
  },
  {
   "cell_type": "code",
   "execution_count": null,
   "metadata": {
    "pycharm": {
     "name": "#%%\n"
    }
   },
   "outputs": [],
   "source": [
    "from sklearn.metrics import r2_score\n",
    "\n",
    "coefficient_of_dermination = r2_score(y_test, y_pred)\n",
    "print(coefficient_of_dermination)\n"
   ]
  },
  {
   "cell_type": "markdown",
   "metadata": {},
   "source": [
    "### Saving results for CfR"
   ]
  },
  {
   "cell_type": "code",
   "execution_count": null,
   "metadata": {
    "pycharm": {
     "name": "#%%\n"
    }
   },
   "outputs": [],
   "source": [
    "os.chdir('/home/adam/adam/data/results/')\n",
    "os.getcwd()"
   ]
  },
  {
   "cell_type": "code",
   "execution_count": null,
   "metadata": {
    "pycharm": {
     "name": "#%%\n"
    }
   },
   "outputs": [],
   "source": [
    "ate_tarnet = pd.read_csv('results_tarnet_pf_ratio_2h_8h_manual_outcome.csv', header=None)\n",
    "ate_cfr = pd.read_csv('results_cfr_pf_ratio_2h_8h_manual_outcome.csv', header=None)"
   ]
  },
  {
   "cell_type": "code",
   "execution_count": null,
   "metadata": {
    "pycharm": {
     "name": "#%%\n"
    }
   },
   "outputs": [],
   "source": [
    "ate_cfr.columns = ['ate', 'rmse', 'r2']\n",
    "ate_tarnet.columns = ['ate', 'rmse', 'r2']"
   ]
  },
  {
   "cell_type": "code",
   "execution_count": null,
   "metadata": {
    "pycharm": {
     "name": "#%%\n"
    }
   },
   "outputs": [],
   "source": [
    "results_summary(ate_cfr)"
   ]
  },
  {
   "cell_type": "code",
   "execution_count": null,
   "metadata": {
    "pycharm": {
     "name": "#%%\n"
    }
   },
   "outputs": [],
   "source": [
    "results_summary(ate_tarnet)"
   ]
  },
  {
   "cell_type": "code",
   "execution_count": null,
   "metadata": {
    "pycharm": {
     "name": "#%%\n"
    }
   },
   "outputs": [],
   "source": [
    "\n"
   ]
  }
 ],
 "metadata": {
  "kernelspec": {
   "display_name": "Python 3",
   "language": "python",
   "name": "python3"
  },
  "language_info": {
   "codemirror_mode": {
    "name": "ipython",
    "version": 2
   },
   "file_extension": ".py",
   "mimetype": "text/x-python",
   "name": "python",
   "nbconvert_exporter": "python",
   "pygments_lexer": "ipython2"
  }
 },
 "nbformat": 4,
 "nbformat_minor": 0
}
