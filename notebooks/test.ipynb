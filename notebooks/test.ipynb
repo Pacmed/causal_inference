{
 "cells": [
  {
   "cell_type": "code",
   "execution_count": null,
   "metadata": {
    "pycharm": {
     "name": "#%%\n"
    }
   },
   "outputs": [],
   "source": [
    "import os\n",
    "\n",
    "import numpy as np\n",
    "import pandas as pd"
   ]
  },
  {
   "cell_type": "code",
   "execution_count": null,
   "metadata": {
    "pycharm": {
     "name": "#%%\n"
    }
   },
   "outputs": [],
   "source": [
    "%load_ext autoreload\n",
    "%autoreload 2"
   ]
  },
  {
   "cell_type": "code",
   "execution_count": null,
   "metadata": {
    "pycharm": {
     "name": "#%%\n"
    }
   },
   "outputs": [],
   "source": [
    "os.chdir('/home/adam/adam/causal_inference')\n",
    "\n",
    "from causal_inference.make_data.make_data import UseCaseLoader\n",
    "\n",
    "from causal_inference.make_data.make_artificial_sessions import *\n",
    "from causal_inference.make_data.make_proning_sessions import *\n",
    "from causal_inference.make_data.make_covariates import *"
   ]
  },
  {
   "cell_type": "code",
   "execution_count": null,
   "metadata": {
    "pycharm": {
     "name": "#%%\n"
    }
   },
   "outputs": [],
   "source": [
    "dl = UseCaseLoader()"
   ]
  },
  {
   "cell_type": "code",
   "execution_count": null,
   "metadata": {
    "pycharm": {
     "name": "#%%\n"
    }
   },
   "outputs": [],
   "source": [
    "raw_data_path = '/home/adam/adam/data/causal_inference/data/raw/position_measurements.csv'\n",
    "data_sessions_path = '/home/adam/adam/data/causal_inference/data/interim/unique_sessions_test.csv'\n",
    "data_artificial_sessions = '/home/adam/adam/data/causal_inference/data/interim/artificial_sessions_test.csv'\n",
    "data_inclusion_path = '/home/adam/adam/data/causal_inference/data/interim/incusion_sessions_test.csv'\n",
    "data_covariates_path = '/home/adam/adam/data/causal_inference/data/interim/covariates.csv'\n",
    "data_outcome_path = '/home/adam/adam/data/causal_inference/data/interim/outcomes.csv'\n",
    "data_patients_path = '/home/adam/adam/data/causal_inference/data/interim/patients.csv'\n",
    "data_medications_path = '/home/adam/adam/data/causal_inference/data/interim/medications.csv'\n",
    "data_included_path = '/home/adam/adam/data/causal_inference/data/interim/included.csv'\n",
    "\n",
    "data_extracted_path = '/home/adam/adam/data/causal_inference/data/processed/second_wave_data_included.csv'\n",
    "\n",
    "RCT_PATH = '/home/adam/adam/data/causal_inference/data/processed/data_guerin_rct.csv'"
   ]
  },
  {
   "cell_type": "code",
   "execution_count": null,
   "metadata": {
    "pycharm": {
     "name": "#%%\n"
    }
   },
   "outputs": [],
   "source": [
    "dl.get_position_measurements(save_path=raw_data_path)"
   ]
  },
  {
   "cell_type": "code",
   "execution_count": null,
   "metadata": {
    "pycharm": {
     "name": "#%%\n"
    }
   },
   "outputs": [],
   "source": [
    "dl.make_unique_sessions(load_path=raw_data_path,\n",
    "                        save_path=data_sessions_path)"
   ]
  },
  {
   "cell_type": "code",
   "execution_count": null,
   "metadata": {
    "pycharm": {
     "name": "#%%\n"
    }
   },
   "outputs": [],
   "source": [
    "dl.add_artificial_sessions(load_path=data_sessions_path,\n",
    "                           save_path=data_artificial_sessions)"
   ]
  },
  {
   "cell_type": "code",
   "execution_count": null,
   "metadata": {
    "pycharm": {
     "name": "#%%\n"
    }
   },
   "outputs": [],
   "source": [
    "dl.add_inclusion_criteria(load_path=data_artificial_sessions,\n",
    "                          save_path=data_inclusion_path)"
   ]
  },
  {
   "cell_type": "code",
   "execution_count": null,
   "metadata": {
    "pycharm": {
     "name": "#%%\n"
    }
   },
   "outputs": [],
   "source": [
    "dl.apply_inclusion_criteria(load_path=data_inclusion_path,\n",
    "                            save_path=data_included_path)"
   ]
  },
  {
   "cell_type": "code",
   "execution_count": null,
   "metadata": {
    "pycharm": {
     "name": "#%%\n"
    }
   },
   "outputs": [],
   "source": [
    "dl.add_outcomes(load_path=data_included_path, save_path=data_outcome_path)"
   ]
  },
  {
   "cell_type": "code",
   "execution_count": null,
   "metadata": {
    "pycharm": {
     "name": "#%%\n"
    }
   },
   "outputs": [],
   "source": [
    "dl.add_covariates(load_path=data_medications_path, save_path=data_covariates_path)"
   ]
  },
  {
   "cell_type": "code",
   "execution_count": null,
   "metadata": {
    "pycharm": {
     "name": "#%%\n"
    }
   },
   "outputs": [],
   "source": [
    "dl.add_medications(load_path=data_outcome_path, save_path=data_medications_path)"
   ]
  },
  {
   "cell_type": "code",
   "execution_count": null,
   "metadata": {
    "pycharm": {
     "name": "#%%\n"
    }
   },
   "outputs": [],
   "source": [
    "dl.add_patient_data(load_path=data_covariates_path, save_path=data_extracted_path)"
   ]
  },
  {
   "cell_type": "code",
   "execution_count": null,
   "metadata": {
    "pycharm": {
     "name": "#%%\n"
    }
   },
   "outputs": [],
   "source": [
    "df = load_position_data(data_extracted_path)"
   ]
  },
  {
   "cell_type": "code",
   "execution_count": null,
   "metadata": {
    "pycharm": {
     "name": "#%%\n"
    }
   },
   "outputs": [],
   "source": [
    "df.info(max_cols=200)\n"
   ]
  },
  {
   "cell_type": "code",
   "execution_count": null,
   "metadata": {
    "pycharm": {
     "name": "#%%\n"
    }
   },
   "outputs": [],
   "source": [
    "df[['pf_ratio_2h_8h_manual_outcome', 'pf_ratio_12h_24h_manual_outcome']].describe(percentiles=[0.25, 0.95, 0.99])"
   ]
  },
  {
   "cell_type": "code",
   "execution_count": null,
   "metadata": {
    "pycharm": {
     "name": "#%%\n"
    }
   },
   "outputs": [],
   "source": [
    "print(df.effective_value.unique())\n",
    "df['treated'] = False\n",
    "df.loc[df.effective_value == 'prone', 'treated'] = True"
   ]
  },
  {
   "cell_type": "code",
   "execution_count": null,
   "metadata": {
    "pycharm": {
     "name": "#%%\n"
    }
   },
   "outputs": [],
   "source": [
    "VARIABLES_RCT = ['treated',\n",
    "                 'age',\n",
    "                 'gender',\n",
    "                 'body_mass_index',\n",
    "                 'diabetes',\n",
    "                 'acute_kidney_injury',\n",
    "                 'cirrhosis',\n",
    "                 'hematologic_malignancy',\n",
    "                 'copd',\n",
    "                 'immunodeficiency',\n",
    "                 'cardiovascular_insufficiency',\n",
    "                 'renal_replacement_therapy',\n",
    "                 'sofa_score',\n",
    "                 'lactate',\n",
    "                 'tidal_volume',\n",
    "                 'tidal_volume_per_kg',\n",
    "                 'respiratory_rate_measured',\n",
    "                 'peep',\n",
    "                 'fio2',\n",
    "                 'po2',\n",
    "                 'pco2',\n",
    "                 'ph',\n",
    "                 'plateau_pressure',\n",
    "                 'driving_pressure',\n",
    "                 'lung_compliance_static',\n",
    "                 'med_neuromuscular_blockers',\n",
    "                 'med_vasopressors',\n",
    "                 'med_glucocorticoids',\n",
    "                 'pf_ratio',\n",
    "                 'pf_ratio_2h_8h_outcome',\n",
    "                 'pf_ratio_2h_8h_manual_outcome',\n",
    "                 'pf_ratio_12h_24h_outcome',\n",
    "                 'pf_ratio_12h_24h_manual_outcome']\n",
    "\n",
    "df_rct = df[VARIABLES_RCT]\n",
    "df_rct.info(max_cols=200)"
   ]
  },
  {
   "cell_type": "code",
   "execution_count": null,
   "metadata": {
    "pycharm": {
     "name": "#%%\n"
    }
   },
   "outputs": [],
   "source": [
    "df_rct.to_csv(path_or_buf=RCT_PATH, index=False)"
   ]
  },
  {
   "cell_type": "code",
   "execution_count": null,
   "metadata": {
    "pycharm": {
     "name": "#%%\n"
    }
   },
   "outputs": [],
   "source": []
  }
 ],
 "metadata": {
  "kernelspec": {
   "display_name": "Python 3",
   "language": "python",
   "name": "python3"
  },
  "language_info": {
   "codemirror_mode": {
    "name": "ipython",
    "version": 2
   },
   "file_extension": ".py",
   "mimetype": "text/x-python",
   "name": "python",
   "nbconvert_exporter": "python",
   "pygments_lexer": "ipython2"
  }
 },
 "nbformat": 4,
 "nbformat_minor": 0
}
