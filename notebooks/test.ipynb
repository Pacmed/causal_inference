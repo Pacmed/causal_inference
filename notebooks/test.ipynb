{
 "cells": [
  {
   "cell_type": "code",
   "execution_count": null,
   "metadata": {},
   "outputs": [],
   "source": [
    "import os\n",
    "\n",
    "import numpy as np\n",
    "import pandas as pd"
   ]
  },
  {
   "cell_type": "code",
   "execution_count": null,
   "metadata": {
    "pycharm": {
     "name": "#%%\n"
    }
   },
   "outputs": [],
   "source": [
    "%load_ext autoreload\n",
    "%autoreload 2"
   ]
  },
  {
   "cell_type": "code",
   "execution_count": null,
   "metadata": {
    "pycharm": {
     "name": "#%%\n"
    }
   },
   "outputs": [],
   "source": [
    "os.chdir('/home/adam/adam/causal_inference')\n",
    "\n",
    "from causal_inference.make_data.make_raw_data import UseCaseLoader\n",
    "from causal_inference.make_data.make_raw_data import COLUMNS_POSITION\n",
    "\n",
    "from causal_inference.make_data.make_proning_sessions import *"
   ]
  },
  {
   "cell_type": "code",
   "execution_count": null,
   "metadata": {
    "pycharm": {
     "name": "#%%\n"
    }
   },
   "outputs": [],
   "source": [
    "dl = UseCaseLoader()"
   ]
  },
  {
   "cell_type": "code",
   "execution_count": null,
   "metadata": {
    "pycharm": {
     "name": "#%%\n"
    }
   },
   "outputs": [],
   "source": [
    "path = '/home/adam/adam/data/causal_inference/data/raw/'\n",
    "buf = 'position_measurements.csv'"
   ]
  },
  {
   "cell_type": "code",
   "execution_count": null,
   "metadata": {
    "pycharm": {
     "name": "#%%\n"
    }
   },
   "outputs": [],
   "source": [
    "dl.get_position_measurements(path=path, path_or_buf=buf)"
   ]
  },
  {
   "cell_type": "code",
   "execution_count": null,
   "metadata": {
    "pycharm": {
     "name": "#%%\n"
    }
   },
   "outputs": [],
   "source": [
    "dtype = {'hash_patient_id': object, 'episode_id': object, 'pacmed_subname': object, 'effective_value': object,\n",
    "             'numerical_value': np.float64, 'is_correct_unit_yn': bool, 'unit_name': object, 'hospital': object,\n",
    "             'ehr':object}"
   ]
  },
  {
   "cell_type": "code",
   "execution_count": null,
   "metadata": {
    "pycharm": {
     "name": "#%%\n"
    }
   },
   "outputs": [],
   "source": [
    "df = pd.read_csv(path+buf, index_col=False, dtype=dtype, parse_dates=['start_timestamp', 'end_timestamp'])\n"
   ]
  },
  {
   "cell_type": "code",
   "execution_count": null,
   "metadata": {
    "pycharm": {
     "name": "#%%\n"
    }
   },
   "outputs": [],
   "source": [
    "df_batch = df.loc[(df['episode_id'] == df.episode_id.sample(1).iloc[0]) &\n",
    "                  (df['pacmed_subname'] == 'position_body')]\n",
    "df_batch = df_batch.sort_values(by=['start_timestamp'], ascending=True).reset_index(drop=True)\n",
    "df_batch['new_session'] = False\n",
    "df_batch['effective_value_previous'] = False\n",
    "df_batch.loc[:, 'effective_value_previous'] = df_batch.loc[:, 'effective_value'].shift(1)\n",
    "df_batch.loc[1:, 'new_session'] = df_batch.loc[1:, 'effective_value'] != df_batch.loc[1:, 'effective_value_previous']\n",
    "df_batch['new_session'] = df_batch['new_session'].astype(int).cumsum()\n",
    "df_batch['hash_session_id'] = df_batch['hash_patient_id'] + df_batch['new_session'].astype(str)\n",
    "df_batch[['effective_value', 'new_session', 'start_timestamp']].head(60)"
   ]
  },
  {
   "cell_type": "code",
   "execution_count": null,
   "metadata": {
    "pycharm": {
     "name": "#%%\n"
    }
   },
   "outputs": [],
   "source": [
    "df_batch.head()"
   ]
  },
  {
   "cell_type": "code",
   "execution_count": null,
   "metadata": {
    "pycharm": {
     "name": "#%%\n"
    }
   },
   "outputs": [],
   "source": [
    "df_batch.groupby('hash_session_id').agg(start_timestamp=pd.NamedAgg(column=\"start_timestamp\", aggfunc=\"min\"),\n",
    "                                        end_timestamp=pd.NamedAgg(column=\"start_timestamp\", aggfunc=\"max\")).reset_index()\n"
   ]
  },
  {
   "cell_type": "code",
   "execution_count": null,
   "metadata": {
    "pycharm": {
     "name": "#%%\n"
    }
   },
   "outputs": [],
   "source": [
    "df_batch['end_timestamp_extracted'] = df_batch['start_timestamp'].shift(-1)\n",
    "df_batch.loc[df_batch.index[-1], 'end_timestamp_extracted'] = df_batch.loc[df_batch.index[-1], 'start_timestamp']\n",
    "df_batch.loc[df_batch.end_timestamp.isnull(), 'end_timestamp'] = df_batch.loc[df_batch.end_timestamp.isna(), 'end_timestamp_extracted']"
   ]
  },
  {
   "cell_type": "code",
   "execution_count": null,
   "metadata": {
    "pycharm": {
     "name": "#%%\n"
    }
   },
   "outputs": [],
   "source": [
    "df_batch.tail(5)"
   ]
  },
  {
   "cell_type": "code",
   "execution_count": null,
   "metadata": {
    "pycharm": {
     "name": "#%%\n"
    }
   },
   "outputs": [],
   "source": [
    "df_batch.info()\n"
   ]
  },
  {
   "cell_type": "code",
   "execution_count": null,
   "metadata": {
    "pycharm": {
     "name": "#%%\n"
    }
   },
   "outputs": [],
   "source": []
  }
 ],
 "metadata": {
  "kernelspec": {
   "display_name": "Python 3",
   "language": "python",
   "name": "python3"
  },
  "language_info": {
   "codemirror_mode": {
    "name": "ipython",
    "version": 2
   },
   "file_extension": ".py",
   "mimetype": "text/x-python",
   "name": "python",
   "nbconvert_exporter": "python",
   "pygments_lexer": "ipython2"
  }
 },
 "nbformat": 4,
 "nbformat_minor": 0
}
