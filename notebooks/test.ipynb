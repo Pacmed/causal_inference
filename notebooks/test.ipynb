{
 "cells": [
  {
   "cell_type": "code",
   "execution_count": null,
   "metadata": {},
   "outputs": [],
   "source": [
    "%reset"
   ]
  },
  {
   "cell_type": "code",
   "execution_count": null,
   "metadata": {
    "pycharm": {
     "name": "#%%\n"
    }
   },
   "outputs": [],
   "source": [
    "import os\n",
    "\n",
    "import numpy as np\n",
    "import pandas as pd"
   ]
  },
  {
   "cell_type": "code",
   "execution_count": null,
   "metadata": {
    "pycharm": {
     "name": "#%%\n"
    }
   },
   "outputs": [],
   "source": [
    "%load_ext autoreload\n",
    "%autoreload 2"
   ]
  },
  {
   "cell_type": "code",
   "execution_count": null,
   "metadata": {
    "pycharm": {
     "name": "#%%\n"
    }
   },
   "outputs": [],
   "source": [
    "os.chdir('/home/adam/adam/causal_inference')\n",
    "\n",
    "from causal_inference.make_data.make_data import UseCaseLoader\n",
    "\n",
    "from causal_inference.make_data.make_proning_sessions import *"
   ]
  },
  {
   "cell_type": "code",
   "execution_count": null,
   "metadata": {
    "pycharm": {
     "name": "#%%\n"
    }
   },
   "outputs": [],
   "source": [
    "dl = UseCaseLoader()"
   ]
  },
  {
   "cell_type": "code",
   "execution_count": null,
   "metadata": {
    "pycharm": {
     "name": "#%%\n"
    }
   },
   "outputs": [],
   "source": [
    "raw_data_path = '/home/adam/adam/data/causal_inference/data/raw/position_measurements.csv'\n",
    "data_sessions_path = '/home/adam/adam/data/causal_inference/data/interim/unique_sessions_test.csv'"
   ]
  },
  {
   "cell_type": "code",
   "execution_count": null,
   "metadata": {
    "pycharm": {
     "name": "#%%\n"
    }
   },
   "outputs": [],
   "source": [
    "dl.get_position_measurements(path=raw_data_path)"
   ]
  },
  {
   "cell_type": "code",
   "execution_count": null,
   "metadata": {
    "pycharm": {
     "name": "#%%\n"
    }
   },
   "outputs": [],
   "source": [
    "dl.make_unique_sessions(load_path=raw_data_path,\n",
    "                        save_path=data_sessions_path,\n",
    "                        n_of_batches=10)"
   ]
  },
  {
   "cell_type": "code",
   "execution_count": null,
   "metadata": {
    "pycharm": {
     "name": "#%%\n"
    }
   },
   "outputs": [],
   "source": [
    "df = pd.read_csv(data_sessions_path)"
   ]
  },
  {
   "cell_type": "code",
   "execution_count": null,
   "metadata": {
    "pycharm": {
     "name": "#%%\n"
    }
   },
   "outputs": [],
   "source": [
    "row = df.iloc[1]"
   ]
  },
  {
   "cell_type": "code",
   "execution_count": null,
   "metadata": {
    "pycharm": {
     "name": "#%%\n"
    }
   },
   "outputs": [],
   "source": [
    "df.columns.to_list()"
   ]
  },
  {
   "cell_type": "code",
   "execution_count": null,
   "metadata": {
    "pycharm": {
     "name": "#%%\n"
    }
   },
   "outputs": [],
   "source": [
    "    ############\n",
    "    ### LOAD ###\n",
    "    ############\n",
    "\n",
    "    # Load inclusion criteria measurements from the warehouse // don't load measurements close to the session end\n",
    "df_measurements = load_measurements_to_split_supine_sessions(dl,\n",
    "                                                                 hash_patient_id=row.hash_patient_id,\n",
    "                                                                 parameters=['fio2', 'peep', 'po2', 'po2_arterial', 'po2_unspecified'],\n",
    "                                                                 start_timestamp=row.start_timestamp,\n",
    "                                                                 end_timestamp=row.end_timestamp)"
   ]
  },
  {
   "cell_type": "code",
   "execution_count": null,
   "metadata": {
    "pycharm": {
     "name": "#%%\n"
    }
   },
   "outputs": [],
   "source": [
    "df_measurements"
   ]
  },
  {
   "cell_type": "code",
   "execution_count": null,
   "metadata": {
    "pycharm": {
     "name": "#%%\n"
    }
   },
   "outputs": [],
   "source": [
    "\n",
    "df_measurements['timestamp_to_split'] = pd.to_datetime(df_measurements['effective_timestamp']).dt.floor('60min')"
   ]
  },
  {
   "cell_type": "code",
   "execution_count": null,
   "metadata": {
    "pycharm": {
     "name": "#%%\n"
    }
   },
   "outputs": [],
   "source": [
    "df_effective_timestamp = pd.pivot_table(df_measurements,\n",
    "                                            values='effective_timestamp',\n",
    "                                            index=['timestamp_to_split'], # timestamp to group measurements on\n",
    "                                            columns='pacmed_name',\n",
    "                                            aggfunc=aggfunc_last # take the last measurement (why not the first?)\n",
    "                                            ).reset_index()"
   ]
  },
  {
   "cell_type": "code",
   "execution_count": null,
   "metadata": {
    "pycharm": {
     "name": "#%%\n"
    }
   },
   "outputs": [],
   "source": [
    "df_effective_timestamp"
   ]
  },
  {
   "cell_type": "code",
   "execution_count": null,
   "metadata": {
    "pycharm": {
     "name": "#%%\n"
    }
   },
   "outputs": [],
   "source": [
    "df_effective_timestamp['start_timestamp'] = df_effective_timestamp.max(axis=1)"
   ]
  },
  {
   "cell_type": "code",
   "execution_count": null,
   "metadata": {
    "pycharm": {
     "name": "#%%\n"
    }
   },
   "outputs": [],
   "source": [
    "    # Group measurements on 'timestamp_to_split\n",
    "df_measurements = pd.pivot_table(df_measurements,\n",
    "                                     values='numerical_value', # stores the value of each measurement\n",
    "                                     index=['timestamp_to_split'],\n",
    "                                     columns='pacmed_name',\n",
    "                                     aggfunc=aggfunc_last # takes the last value\n",
    "                                     ).reset_index()"
   ]
  },
  {
   "cell_type": "code",
   "execution_count": null,
   "metadata": {
    "pycharm": {
     "name": "#%%\n"
    }
   },
   "outputs": [],
   "source": [
    "df_measurements"
   ]
  },
  {
   "cell_type": "code",
   "execution_count": null,
   "metadata": {
    "pycharm": {
     "name": "#%%\n"
    }
   },
   "outputs": [],
   "source": [
    "df_measurements['start_timestamp'] = df_effective_timestamp['start_timestamp']"
   ]
  },
  {
   "cell_type": "code",
   "execution_count": null,
   "metadata": {
    "pycharm": {
     "name": "#%%\n"
    }
   },
   "outputs": [],
   "source": [
    "df_measurements = df_measurements.dropna(axis=0, how=\"any\").reset_index(drop=False)"
   ]
  },
  {
   "cell_type": "code",
   "execution_count": null,
   "metadata": {
    "pycharm": {
     "name": "#%%\n"
    }
   },
   "outputs": [],
   "source": [
    "df_measurements"
   ]
  },
  {
   "cell_type": "code",
   "execution_count": null,
   "metadata": {
    "pycharm": {
     "name": "#%%\n"
    }
   },
   "outputs": [],
   "source": [
    "type(row.hash_session_id)"
   ]
  },
  {
   "cell_type": "code",
   "execution_count": null,
   "metadata": {
    "pycharm": {
     "name": "#%%\n"
    }
   },
   "outputs": [],
   "source": [
    "['index'] + list(set(df_measurements.columns.to_list()) & set(['fio2', 'peep', 'po2', 'po2_arterial', 'po2_unspecified']))"
   ]
  },
  {
   "cell_type": "code",
   "execution_count": null,
   "metadata": {
    "pycharm": {
     "name": "#%%\n"
    }
   },
   "outputs": [],
   "source": [
    "    ### CONVERT ###\n",
    "    # Populate artificial supine session with values from the original supine session. (automate, loop through additional columns)\n",
    "    if len(df_measurements.index) == 0:\n",
    "        df_measurements = pd.DataFrame([])\n",
    "    else:\n",
    "        df_measurements.loc[:, 'hash_patient_id'] = patient_id\n",
    "        df_measurements.loc[:, 'treated'] = False\n",
    "        df_measurements.loc[:, 'pacmed_origin_hospital'] = pacmed_origin_hospital\n",
    "        df_measurements.loc[:, 'end_timestamp'] = end_timestamp\n",
    "\n",
    "        df_measurements.loc[:, 'duration_hours'] = df_measurements['end_timestamp'] - df_measurements['start_timestamp']\n",
    "        df_measurements.loc[:, 'duration_hours'] = df_measurements['duration_hours'].astype('timedelta64[h]')\n",
    "        df_measurements.loc[:, 'duration_hours'] = df_measurements['duration_hours'].astype('int')\n",
    "        df_measurements.loc[:, 'hash_session_id'] = session_id\n",
    "        df_measurements.loc[:, 'index'] = df_measurements.index\n",
    "        df_measurements.loc[:, 'hash_session_id'] = df_measurements.loc[:, 'hash_session_id'].astype('str') + \\\n",
    "                                                    str('_') + \\\n",
    "                                                    df_measurements.loc[:, 'index'].astype('str')\n",
    "\n",
    "    return df_measurements"
   ]
  },
  {
   "cell_type": "code",
   "execution_count": null,
   "metadata": {
    "pycharm": {
     "name": "#%%\n"
    }
   },
   "outputs": [],
   "source": [
    "def aggfunc_last(x):\n",
    "    if len(x) > 1:\n",
    "        x = x.iloc[-1]\n",
    "\n",
    "    return x"
   ]
  },
  {
   "cell_type": "code",
   "execution_count": null,
   "metadata": {
    "pycharm": {
     "name": "#%%\n"
    }
   },
   "outputs": [],
   "source": [
    "def load_measurements_to_split_supine_sessions(dl,\n",
    "                                               hash_patient_id:object,\n",
    "                                               parameters,\n",
    "                                               start_timestamp,\n",
    "                                               end_timestamp):\n",
    "        \"\"\"Loads parameters.\n",
    "        \"\"\"\n",
    "        # get measurements to split the sessions on - move timedelta here // don't load measurements close to the session end\n",
    "\n",
    "        df = dl.get_single_timestamp(patients=[hash_patient_id],\n",
    "                                     parameters=parameters,\n",
    "                                     columns=['pacmed_name',\n",
    "                                              'pacmed_subname',\n",
    "                                              'numerical_value',\n",
    "                                              'effective_timestamp'],\n",
    "                                     from_timestamp=start_timestamp,\n",
    "                                     to_timestamp=end_timestamp)\n",
    "\n",
    "        # Group 'po2_arterial' and 'po2_unspecified' together\n",
    "        if {'po2_arterial'}.issubset(set(parameters)):\n",
    "            if len(df[df.pacmed_name == 'po2_arterial'].index) > 0:\n",
    "                df.loc[df.pacmed_name == 'po2_arterial', 'pacmed_name'] = 'po2'\n",
    "        if {'po2_unspecified'}.issubset(set(parameters)):\n",
    "            if len(df[df.pacmed_name == 'po2_unspecified'].index) > 0:\n",
    "                df.loc[df.pacmed_name == 'po2_unspecified', 'pacmed_name'] = 'po2'\n",
    "\n",
    "        return df\n",
    "\n"
   ]
  },
  {
   "cell_type": "code",
   "execution_count": null,
   "metadata": {
    "pycharm": {
     "name": "#%%\n"
    }
   },
   "outputs": [],
   "source": []
  }
 ],
 "metadata": {
  "kernelspec": {
   "display_name": "Python 3",
   "language": "python",
   "name": "python3"
  },
  "language_info": {
   "codemirror_mode": {
    "name": "ipython",
    "version": 2
   },
   "file_extension": ".py",
   "mimetype": "text/x-python",
   "name": "python",
   "nbconvert_exporter": "python",
   "pygments_lexer": "ipython2"
  }
 },
 "nbformat": 4,
 "nbformat_minor": 0
}
