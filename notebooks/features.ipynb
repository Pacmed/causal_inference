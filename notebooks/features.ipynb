{
 "cells": [
  {
   "cell_type": "markdown",
   "metadata": {},
   "source": [
    "This notebook turns raw data extracted from the data warehouse into bootstrapped data\n",
    "ready for modeling purposes."
   ]
  },
  {
   "cell_type": "code",
   "execution_count": null,
   "metadata": {
    "pycharm": {
     "name": "#%% Import libraries\n"
    }
   },
   "outputs": [],
   "source": [
    "import sys, os\n",
    "import numpy as np\n",
    "import pandas as pd\n",
    "import seaborn as sns\n",
    "import matplotlib.pyplot as plt\n",
    "\n",
    "import os\n",
    "\n",
    "import pandas as pd\n",
    "import numpy as np\n"
   ]
  },
  {
   "cell_type": "code",
   "execution_count": null,
   "metadata": {
    "pycharm": {
     "name": "#%% Import package modules\n"
    }
   },
   "outputs": [],
   "source": [
    "%load_ext autoreload\n",
    "%autoreload 2\n",
    "\n",
    "os.chdir('/home/adam/adam/causal_inference')\n",
    "\n",
    "from causal_inference.data.load import *\n",
    "from causal_inference.data.split import *\n",
    "from causal_inference.data.impute import *\n",
    "from causal_inference.data.bootstrap import *"
   ]
  },
  {
   "cell_type": "code",
   "execution_count": null,
   "metadata": {
    "pycharm": {
     "name": "#%% Import constants\n"
    }
   },
   "outputs": [],
   "source": [
    "SEED_VALUE = 1234\n",
    "OUTCOME = 'pf_ratio_12h_24h_manual_outcome'\n",
    "TRAIN_SIZE = 0.8\n",
    "BOOTSTRAP_SIZE = 0.95\n",
    "RAW_DATA_PATH = ''\n",
    "PROCESSED_DATA_PATH = ''"
   ]
  },
  {
   "cell_type": "code",
   "execution_count": null,
   "metadata": {
    "pycharm": {
     "name": "#%% Set seed\n"
    }
   },
   "outputs": [],
   "source": [
    "np.random.seed(SEED_VALUE)"
   ]
  },
  {
   "cell_type": "code",
   "execution_count": null,
   "metadata": {
    "pycharm": {
     "name": "#%% Load raw data\n"
    }
   },
   "outputs": [],
   "source": [
    "os.chdir('/home/adam/adam/data/19012021/')\n",
    "df = pd.read_csv('data_guerin_rct_fixed_prone.csv')\n",
    "df.info(max_cols=200)"
   ]
  },
  {
   "cell_type": "code",
   "execution_count": null,
   "metadata": {
    "pycharm": {
     "name": "#%% Process raw data\n"
    }
   },
   "outputs": [],
   "source": [
    "df = prepare_csv_data(df=df, outcome_name=OUTCOME, threshold=0.7)\n",
    "df.info()"
   ]
  },
  {
   "cell_type": "code",
   "execution_count": null,
   "metadata": {
    "pycharm": {
     "name": "#%% Convert into arrays\n"
    }
   },
   "outputs": [],
   "source": [
    "y, t, X = csv_data_to_np(df=df, outcome_name=OUTCOME, treatment_name='treated')"
   ]
  },
  {
   "cell_type": "code",
   "execution_count": null,
   "metadata": {
    "pycharm": {
     "name": "#%% Check shapes\n"
    }
   },
   "outputs": [],
   "source": [
    "print(y.shape)\n",
    "print(t.shape)\n",
    "print(X.shape)"
   ]
  },
  {
   "cell_type": "code",
   "execution_count": null,
   "metadata": {
    "pycharm": {
     "name": "#%% Splits the data\n"
    }
   },
   "outputs": [],
   "source": [
    "from causal_inference.data.split import train_test_split\n",
    "\n",
    "y_train, t_train, X_train,\\\n",
    "    y_test, t_test, X_test = train_test_split(y, t, X, train_size=TRAIN_SIZE)"
   ]
  },
  {
   "cell_type": "code",
   "execution_count": null,
   "metadata": {
    "pycharm": {
     "name": "#%% Splits the data using scikit\n"
    }
   },
   "outputs": [],
   "source": [
    "from sklearn.model_selection import train_test_split\n",
    "\n",
    "y_train, y_test, t_train, t_test,\\\n",
    "    X_train, X_test = train_test_split(y, t, X, train_size=TRAIN_SIZE, random_state=SEED_VALUE)"
   ]
  },
  {
   "cell_type": "code",
   "execution_count": null,
   "metadata": {
    "pycharm": {
     "name": "#%% Check shapes\n"
    }
   },
   "outputs": [],
   "source": [
    "print(y_train.shape)\n",
    "print(t_train.shape)\n",
    "print(X_train.shape)\n",
    "\n",
    "print(y_test.shape)\n",
    "print(t_test.shape)\n",
    "print(X_test.shape)"
   ]
  },
  {
   "cell_type": "code",
   "execution_count": null,
   "metadata": {
    "pycharm": {
     "name": "#%% Impute missing values\n"
    }
   },
   "outputs": [],
   "source": [
    "X_train, X_test = impute(X_train), impute(X_test)"
   ]
  },
  {
   "cell_type": "code",
   "execution_count": null,
   "metadata": {
    "pycharm": {
     "name": "#%% Check for missing values\n"
    }
   },
   "outputs": [],
   "source": [
    "print(np.isnan(X_train).any())\n",
    "print(np.isnan(X_test).any())"
   ]
  },
  {
   "cell_type": "code",
   "execution_count": null,
   "metadata": {
    "pycharm": {
     "name": "#%% Bootstrap\n"
    }
   },
   "outputs": [],
   "source": [
    "train = bootstrap(y_train, t_train, X_train, bootstrap_size=BOOTSTRAP_SIZE, method='train')\n",
    "test = bootstrap(y_test, t_test, X_test, bootstrap_size=BOOTSTRAP_SIZE, method='test')"
   ]
  },
  {
   "cell_type": "code",
   "execution_count": null,
   "metadata": {
    "pycharm": {
     "name": "#%% save to .npz\n"
    }
   },
   "outputs": [],
   "source": [
    "os.chdir('/home/adam/adam/cfrnet/data')\n",
    "\n",
    "np.savez('bfpguerin_12_24.train.npz', yf=train[0], t=train[1], x=train[2])\n",
    "np.savez('bfpguerin_12_24.test.npz', yf=test[0], t=test[1], x=test[2])"
   ]
  },
  {
   "cell_type": "code",
   "execution_count": null,
   "metadata": {
    "pycharm": {
     "name": "#%%\n"
    }
   },
   "outputs": [],
   "source": [
    "\n"
   ]
  }
 ],
 "metadata": {
  "kernelspec": {
   "display_name": "Python 3",
   "language": "python",
   "name": "python3"
  },
  "language_info": {
   "codemirror_mode": {
    "name": "ipython",
    "version": 2
   },
   "file_extension": ".py",
   "mimetype": "text/x-python",
   "name": "python",
   "nbconvert_exporter": "python",
   "pygments_lexer": "ipython2"
  }
 },
 "nbformat": 4,
 "nbformat_minor": 0
}
