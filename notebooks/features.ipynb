{
 "cells": [
  {
   "cell_type": "markdown",
   "metadata": {},
   "source": [
    "This notebook turns raw data extracted from the data warehouse into bootstrapped data\n",
    "ready for modeling purposes."
   ]
  },
  {
   "cell_type": "code",
   "execution_count": null,
   "metadata": {
    "pycharm": {
     "name": "#%% Import libraries\n"
    }
   },
   "outputs": [],
   "source": [
    "import sys, os\n",
    "import numpy as np\n",
    "import pandas as pd\n",
    "import seaborn as sns\n",
    "import matplotlib.pyplot as plt\n",
    "\n",
    "import os\n",
    "\n",
    "import pandas as pd\n",
    "import numpy as np\n"
   ]
  },
  {
   "cell_type": "code",
   "execution_count": null,
   "metadata": {
    "pycharm": {
     "name": "#%% Import package modules\n"
    }
   },
   "outputs": [],
   "source": [
    "%load_ext autoreload\n",
    "%autoreload 2\n",
    "\n",
    "os.chdir('/home/adam/adam/causal_inference')\n",
    "\n",
    "from causal_inference.data.load import *\n",
    "from causal_inference.causal_data_handler.get_data import get_training_indices\n",
    "from causal_inference.causal_data_handler.get_data import get_data\n",
    "from causal_inference.causal_data_handler.get_data import get_covariate_names\n",
    "from causal_inference.causal_data_handler.get_data import get_bootstrapped_experiments"
   ]
  },
  {
   "cell_type": "code",
   "execution_count": null,
   "metadata": {
    "pycharm": {
     "name": "#%% Import constants\n"
    }
   },
   "outputs": [],
   "source": [
    "SEED_VALUE = 1234\n",
    "OUTCOME = 'pf_ratio_12h_24h_manual_outcome'"
   ]
  },
  {
   "cell_type": "code",
   "execution_count": null,
   "metadata": {
    "pycharm": {
     "name": "#%% Set seed\n"
    }
   },
   "outputs": [],
   "source": [
    "np.random.seed(SEED_VALUE)"
   ]
  },
  {
   "cell_type": "code",
   "execution_count": null,
   "metadata": {
    "pycharm": {
     "name": "#%% Load raw data\n"
    }
   },
   "outputs": [],
   "source": [
    "os.chdir('/home/adam/adam/data/19012021/')\n",
    "df = pd.read_csv('data_guerin_rct_fixed_prone.csv')\n",
    "df.info(max_cols=200)"
   ]
  },
  {
   "cell_type": "code",
   "execution_count": null,
   "metadata": {
    "pycharm": {
     "name": "#%% Process raw data\n"
    }
   },
   "outputs": [],
   "source": [
    "df = prepare_csv_data(df=df, outcome_name=OUTCOME, threshold=0.7)\n",
    "df.info()"
   ]
  },
  {
   "cell_type": "code",
   "execution_count": null,
   "metadata": {
    "pycharm": {
     "name": "#%% Convert into arrays\n"
    }
   },
   "outputs": [],
   "source": [
    "y, t, X = csv_data_to_np(df=df, outcome_name=OUTCOME, treatment_name='treated')"
   ]
  },
  {
   "cell_type": "code",
   "execution_count": null,
   "metadata": {
    "pycharm": {
     "name": "#%% Check shapes\n"
    }
   },
   "outputs": [],
   "source": [
    "print(y.shape)\n",
    "print(t.shape)\n",
    "print(X.shape)"
   ]
  },
  {
   "cell_type": "code",
   "execution_count": null,
   "metadata": {
    "pycharm": {
     "name": "#%%\n"
    }
   },
   "outputs": [],
   "source": [
    "\n",
    "\n",
    "\n",
    "train = get_bootstrapped_experiments(y_train, t_train, X_train, n_of_experiments=1000, method='train')\n",
    "test = get_bootstrapped_experiments(y_test, t_test, X_test, n_of_experiments=1000, method='test')"
   ]
  },
  {
   "cell_type": "code",
   "execution_count": null,
   "metadata": {
    "pycharm": {
     "name": "#%% save to .npz\n"
    }
   },
   "outputs": [],
   "source": [
    "os.chdir('/home/adam/adam/cfrnet/data')\n",
    "\n",
    "np.savez('bfpguerin_12_24.train.npz', yf=train[0], t=train[1], x=train[2])\n",
    "np.savez('bfpguerin_12_24.test.npz', yf=test[0], t=test[1], x=test[2])\n",
    "\n",
    "#bootstrap\n",
    "#fixed"
   ]
  },
  {
   "cell_type": "code",
   "execution_count": null,
   "metadata": {
    "pycharm": {
     "name": "#%%\n"
    }
   },
   "outputs": [],
   "source": [
    "train[0].shape\n",
    "\n",
    "\n"
   ]
  }
 ],
 "metadata": {
  "kernelspec": {
   "display_name": "Python 3",
   "language": "python",
   "name": "python3"
  },
  "language_info": {
   "codemirror_mode": {
    "name": "ipython",
    "version": 2
   },
   "file_extension": ".py",
   "mimetype": "text/x-python",
   "name": "python",
   "nbconvert_exporter": "python",
   "pygments_lexer": "ipython2"
  }
 },
 "nbformat": 4,
 "nbformat_minor": 0
}
