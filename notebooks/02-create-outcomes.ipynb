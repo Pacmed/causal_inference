{
 "cells": [
  {
   "cell_type": "code",
   "execution_count": null,
   "metadata": {},
   "outputs": [],
   "source": [
    "import os, sys\n",
    "\n",
    "import pandas as pd\n",
    "import numpy as np\n",
    "\n",
    "from importlib import reload\n",
    "\n",
    "from data_warehouse_utils.dataloader import DataLoader"
   ]
  },
  {
   "cell_type": "code",
   "execution_count": null,
   "metadata": {
    "pycharm": {
     "name": "#%%\n"
    }
   },
   "outputs": [],
   "source": [
    "os.chdir('/home/adam/adam/causal_inference')\n",
    "\n",
    "from causal_inference.create_experiment.get_proning_sessions import UseCaseLoader\n",
    "\n",
    "reload(sys.modules['causal_inference.create_experiment.get_proning_sessions'])\n",
    "reload(sys.modules['causal_inference.create_experiment.create_observations'])\n",
    "reload(sys.modules['causal_inference.create_experiment.create_covariates'])\n",
    "reload(sys.modules['causal_inference.create_experiment.create_outcome'])\n",
    "\n",
    "from causal_inference.create_experiment.get_proning_sessions import UseCaseLoader"
   ]
  },
  {
   "cell_type": "code",
   "execution_count": null,
   "metadata": {
    "pycharm": {
     "name": "#%%\n"
    }
   },
   "outputs": [],
   "source": [
    "os.chdir('/home/adam/adam/data/13012020/')\n",
    "df = pd.read_csv('use_case_inclusion_8h_all_outputs_cvvh.csv')\n",
    "df.start_timestamp = df.start_timestamp.astype('datetime64[ns]')\n",
    "df.end_timestamp = df.end_timestamp.astype('datetime64[ns]')\n",
    "df.info(max_cols = 200)\n"
   ]
  },
  {
   "cell_type": "code",
   "execution_count": null,
   "metadata": {
    "pycharm": {
     "name": "#%%\n"
    }
   },
   "outputs": [],
   "source": [
    "os.chdir('/home/adam/adam/data/19012021/')\n",
    "df_measurements = pd.read_csv('pf_measurements_all.csv')\n",
    "df_measurements.effective_timestamp = df_measurements.effective_timestamp.astype('datetime64[ns]')\n",
    "df_measurements.info(max_cols = 200)\n",
    "df_measurements = df_measurements.sort_values(by='effective_timestamp', ascending=True)"
   ]
  },
  {
   "cell_type": "code",
   "execution_count": null,
   "metadata": {
    "pycharm": {
     "name": "#%%\n"
    }
   },
   "outputs": [],
   "source": [
    "df_measurements.head()"
   ]
  },
  {
   "cell_type": "code",
   "execution_count": null,
   "metadata": {
    "pycharm": {
     "name": "#%%\n"
    }
   },
   "outputs": [],
   "source": [
    "dl = UseCaseLoader()"
   ]
  },
  {
   "cell_type": "code",
   "execution_count": null,
   "metadata": {
    "pycharm": {
     "name": "#%%\n"
    }
   },
   "outputs": [],
   "source": [
    "df = dl.add_outcomes(df=df, df_measurements=df_measurements)"
   ]
  },
  {
   "cell_type": "code",
   "execution_count": null,
   "metadata": {
    "pycharm": {
     "name": "#%%\n"
    }
   },
   "outputs": [],
   "source": [
    "df.info(max_cols=200)"
   ]
  },
  {
   "cell_type": "code",
   "execution_count": null,
   "metadata": {
    "pycharm": {
     "name": "#%%\n"
    }
   },
   "outputs": [],
   "source": [
    "df.iloc[:, -4:]"
   ]
  },
  {
   "cell_type": "code",
   "execution_count": null,
   "metadata": {
    "pycharm": {
     "name": "#%%\n"
    }
   },
   "outputs": [],
   "source": [
    "os.chdir('/home/adam/adam/data/19012021/')\n",
    "df.to_csv('observational_data_8h_inclusion_all_outputs_1.csv', index=False)"
   ]
  },
  {
   "cell_type": "code",
   "execution_count": null,
   "metadata": {
    "pycharm": {
     "name": "#%%\n"
    }
   },
   "outputs": [],
   "source": [
    "os.chdir('/home/adam/adam/data/19012021/')\n",
    "df = pd.read_csv('observational_data_8h_inclusion_all_outputs_1.csv')\n",
    "df.start_timestamp = df.start_timestamp.astype('datetime64[ns]')\n",
    "df.end_timestamp = df.end_timestamp.astype('datetime64[ns]')\n",
    "df.info(max_cols = 200)"
   ]
  },
  {
   "cell_type": "code",
   "execution_count": null,
   "metadata": {
    "pycharm": {
     "name": "#%%\n"
    }
   },
   "outputs": [],
   "source": [
    "df = df[df['fio2'] > 60]\n",
    "df['diff'] = (df.loc[:, \"pf_ratio_2h_8h_outcome\"] - df.loc[:, \"pf_ratio_2h_8h_manual_outcome\"]).round(2)"
   ]
  },
  {
   "cell_type": "code",
   "execution_count": null,
   "metadata": {
    "pycharm": {
     "name": "#%%\n"
    }
   },
   "outputs": [],
   "source": [
    "df['diff'].describe().round()"
   ]
  },
  {
   "cell_type": "code",
   "execution_count": null,
   "metadata": {
    "pycharm": {
     "name": "#%%\n"
    }
   },
   "outputs": [],
   "source": [
    "df_outlier = df[df['diff'] < -100]\n",
    "df_outlier.info()\n",
    "df_outlier['pf_ratio'] = df_outlier['po2'] / df_outlier['fio2']\n",
    "df_outlier['pf_ratio'] = df_outlier['pf_ratio'] * 100\n",
    "df_outlier['pf_ratio'] = df_outlier['pf_ratio'].round(2)"
   ]
  },
  {
   "cell_type": "code",
   "execution_count": null,
   "metadata": {
    "pycharm": {
     "name": "#%%\n"
    }
   },
   "outputs": [],
   "source": [
    "df_outlier = df_outlier[df_outlier['pf_ratio'] < 150]\n",
    "\n",
    "df_outlier.loc[:, ['hash_session_id',\n",
    "                   'start_timestamp',\n",
    "                   'end_timestamp',\n",
    "                   'duration_hours',\n",
    "                   'po2',\n",
    "                   'fio2',\n",
    "                   \"pf_ratio_2h_8h_outcome\",\n",
    "                   \"pf_ratio_2h_8h_manual_outcome\"]]"
   ]
  },
  {
   "cell_type": "code",
   "execution_count": null,
   "metadata": {
    "pycharm": {
     "name": "#%%\n"
    }
   },
   "outputs": [],
   "source": [
    "from datetime import timedelta\n",
    "\n",
    "dl = DataLoader()\n",
    "\n",
    "parameters = ['pao2_over_fio2',\n",
    "              'po2_arterial',\n",
    "              'po2_unspecified',\n",
    "              'fio2',\n",
    "              'po2_arterial',\n",
    "              'po2_unspecified_over_fio2']"
   ]
  },
  {
   "cell_type": "code",
   "execution_count": null,
   "metadata": {
    "pycharm": {
     "name": "#%%\n"
    }
   },
   "outputs": [],
   "source": [
    "patient = df_outlier.hash_patient_id.iloc[0]\n",
    "start = df_outlier.start_timestamp.iloc[0] + timedelta(hours=2)\n",
    "end = df_outlier.start_timestamp.iloc[0] + timedelta(hours=8)\n",
    "\n",
    "signal = dl.get_single_timestamp(parameters=parameters,\n",
    "                                 patients=[patient],\n",
    "                                 columns=['hash_patient_id',\n",
    "                                          'effective_timestamp',\n",
    "                                          'effective_value',\n",
    "                                          'pacmed_name'])\n",
    "\n",
    "signal = signal[(signal.effective_timestamp >= start) & (signal.effective_timestamp <= end)]\n",
    "signal\n"
   ]
  },
  {
   "cell_type": "code",
   "execution_count": null,
   "metadata": {
    "pycharm": {
     "name": "#%%\n"
    }
   },
   "outputs": [],
   "source": [
    "patient = df_outlier.hash_patient_id.iloc[1]\n",
    "start = df_outlier.start_timestamp.iloc[1] + timedelta(hours=2)\n",
    "end = df_outlier.start_timestamp.iloc[1] + timedelta(hours=8)\n",
    "\n",
    "signal = dl.get_single_timestamp(parameters=parameters,\n",
    "                                 patients=[patient],\n",
    "                                 columns=['hash_patient_id',\n",
    "                                          'effective_timestamp',\n",
    "                                          'effective_value',\n",
    "                                          'pacmed_name', 'pacmed_subname'])\n",
    "\n",
    "signal = signal[(signal.effective_timestamp >= start) & (signal.effective_timestamp <= end)]\n",
    "signal"
   ]
  },
  {
   "cell_type": "code",
   "execution_count": null,
   "metadata": {
    "pycharm": {
     "name": "#%%\n"
    }
   },
   "outputs": [],
   "source": [
    "patient = df_outlier.hash_patient_id.iloc[2]\n",
    "start = df_outlier.start_timestamp.iloc[2] + timedelta(hours=2)\n",
    "end = df_outlier.start_timestamp.iloc[2] + timedelta(hours=8)\n",
    "\n",
    "signal = dl.get_single_timestamp(parameters=parameters,\n",
    "                                 patients=[patient],\n",
    "                                 columns=['hash_patient_id',\n",
    "                                          'effective_timestamp',\n",
    "                                          'effective_value',\n",
    "                                          'pacmed_name'])\n",
    "\n",
    "signal = signal[(signal.effective_timestamp >= start) & (signal.effective_timestamp <= end)]\n",
    "signal"
   ]
  },
  {
   "cell_type": "code",
   "execution_count": null,
   "metadata": {
    "pycharm": {
     "name": "#%%\n"
    }
   },
   "outputs": [],
   "source": [
    "patient = df_outlier.hash_patient_id.iloc[3]\n",
    "start = df_outlier.start_timestamp.iloc[3] + timedelta(hours=2)\n",
    "end = df_outlier.start_timestamp.iloc[3] + timedelta(hours=16)\n",
    "\n",
    "signal = dl.get_single_timestamp(parameters=parameters,\n",
    "                                 patients=[patient],\n",
    "                                 columns=['hash_patient_id',\n",
    "                                          'effective_timestamp',\n",
    "                                          'effective_value',\n",
    "                                          'numerical_value',\n",
    "                                          'pacmed_name',\n",
    "                                          'pacmed_subname'])\n",
    "\n",
    "signal = signal[(signal.effective_timestamp >= start) & (signal.effective_timestamp <= end)]\n",
    "signal"
   ]
  },
  {
   "cell_type": "code",
   "execution_count": null,
   "metadata": {
    "pycharm": {
     "name": "#%%\n"
    }
   },
   "outputs": [],
   "source": [
    "df_measurements = signal\n",
    "\n",
    "df_measurements.loc[df_measurements.pacmed_name == 'po2_unspecified', 'pacmed_name'] = 'po2_arterial' #change\n",
    "\n",
    "po2 = df_measurements[df_measurements.pacmed_name == 'po2_arterial']\n",
    "po2 = po2['numerical_value']\n",
    "fio2 = df_measurements[df_measurements.pacmed_name == 'fio2']\n",
    "fio2 = fio2['numerical_value']\n",
    "\n",
    "if (len(po2) > 0) & (len(fio2) > 0):\n",
    "        # this is a bug as we take the last value of po2 and fio2 as the pf ratio. Should do the same with po2_over_fio2\n",
    "    po2 = po2.iloc[-1]\n",
    "    fio2 = fio2.iloc[-1]\n",
    "    pf_ratio = round((po2 / fio2) * 100)\n",
    "else:\n",
    "    pf_ratio = np.NaN"
   ]
  },
  {
   "cell_type": "code",
   "execution_count": null,
   "metadata": {
    "pycharm": {
     "name": "#%%\n"
    }
   },
   "outputs": [],
   "source": [
    "pf_ratio"
   ]
  },
  {
   "cell_type": "code",
   "execution_count": null,
   "metadata": {
    "pycharm": {
     "name": "#%%\n"
    }
   },
   "outputs": [],
   "source": [
    "patient = df_outlier.hash_patient_id.iloc[4]\n",
    "start = df_outlier.start_timestamp.iloc[4] + timedelta(hours=2)\n",
    "end = df_outlier.start_timestamp.iloc[4] + timedelta(hours=8)\n",
    "\n",
    "signal = dl.get_single_timestamp(parameters=parameters,\n",
    "                                 patients=[patient],\n",
    "                                 columns=['hash_patient_id',\n",
    "                                          'effective_timestamp',\n",
    "                                          'effective_value',\n",
    "                                          'pacmed_name'])\n",
    "\n",
    "signal = signal[(signal.effective_timestamp >= start) & (signal.effective_timestamp <= end)]\n",
    "signal"
   ]
  },
  {
   "cell_type": "code",
   "execution_count": null,
   "metadata": {
    "pycharm": {
     "name": "#%%\n"
    }
   },
   "outputs": [],
   "source": [
    "dl = UseCaseLoader()"
   ]
  },
  {
   "cell_type": "code",
   "execution_count": null,
   "metadata": {
    "pycharm": {
     "name": "#%%\n"
    }
   },
   "outputs": [],
   "source": []
  },
  {
   "cell_type": "code",
   "execution_count": null,
   "metadata": {
    "pycharm": {
     "name": "#%%\n"
    }
   },
   "outputs": [],
   "source": [
    "import seaborn as sns\n",
    "import matplotlib.pyplot as plt"
   ]
  },
  {
   "cell_type": "code",
   "execution_count": null,
   "metadata": {
    "pycharm": {
     "name": "#%%\n"
    }
   },
   "outputs": [],
   "source": [
    "sns.distplot(df_outlier['po2'],\n",
    "              hist = True,\n",
    "             kde = True,\n",
    "             label='pao2_over_fio2',\n",
    "             bins=50)"
   ]
  },
  {
   "cell_type": "code",
   "execution_count": null,
   "metadata": {
    "pycharm": {
     "name": "#%%\n"
    }
   },
   "outputs": [],
   "source": [
    "sns.distplot(df_outlier['fio2'],\n",
    "            hist = True,\n",
    "            kde = True,\n",
    "            label='manual pf_ratio',\n",
    "            bins=50)"
   ]
  },
  {
   "cell_type": "code",
   "execution_count": null,
   "metadata": {
    "pycharm": {
     "name": "#%%\n"
    }
   },
   "outputs": [],
   "source": [
    "sns.distplot(df_outlier['pf_ratio'],\n",
    "            hist = True,\n",
    "            kde = True,\n",
    "            label='manual pf_ratio',\n",
    "            bins=50)\n"
   ]
  },
  {
   "cell_type": "code",
   "execution_count": null,
   "metadata": {
    "pycharm": {
     "name": "#%%\n"
    }
   },
   "outputs": [],
   "source": [
    "plt.legend(prop={'size': 12})\n",
    "plt.xlabel('pf')\n",
    "plt.ylabel('Density')\n",
    "plt.xlim(left=0, right=500)"
   ]
  },
  {
   "cell_type": "code",
   "execution_count": null,
   "metadata": {
    "pycharm": {
     "name": "#%%\n"
    }
   },
   "outputs": [],
   "source": [
    "sns.distplot(df_outlier['pf_ratio'],\n",
    "            hist = True,\n",
    "            kde = True,\n",
    "            label='pf_ratio_covariate',\n",
    "            bins=50)\n",
    "\n",
    "sns.distplot(df['pf_ratio_2h_8h_outcome'],\n",
    "              hist = True,\n",
    "             kde = True,\n",
    "             label='pao2_over_fio2',\n",
    "             bins=50)\n",
    "\n",
    "sns.distplot(df['pf_ratio_2h_8h_manual_outcome'],\n",
    "            hist = True,\n",
    "            kde = True,\n",
    "            label='manual pf_ratio',\n",
    "            bins=50)\n",
    "\n",
    "plt.legend(prop={'size': 12})\n",
    "plt.xlabel('pf')\n",
    "plt.ylabel('Density')\n",
    "plt.xlim(left=0, right=500)"
   ]
  },
  {
   "cell_type": "code",
   "execution_count": null,
   "metadata": {
    "pycharm": {
     "name": "#%%\n"
    }
   },
   "outputs": [],
   "source": [
    "sns.distplot(df['pf_ratio_12h_24h_outcome'],\n",
    "              hist = True,\n",
    "             kde = True,\n",
    "             label='pao2_over_fio2',\n",
    "             bins=50)\n",
    "\n",
    "sns.distplot(df['pf_ratio_12h_24h_manual_outcome'],\n",
    "            hist = True,\n",
    "            kde = True,\n",
    "            label='manual pf_ratio',\n",
    "            bins=50)\n",
    "\n",
    "plt.legend(prop={'size': 12})\n",
    "plt.xlabel('pf')\n",
    "plt.ylabel('Density')\n",
    "plt.xlim(left=0, right=500)\n"
   ]
  },
  {
   "cell_type": "code",
   "execution_count": null,
   "metadata": {
    "pycharm": {
     "name": "#%%\n"
    }
   },
   "outputs": [],
   "source": []
  },
  {
   "cell_type": "code",
   "execution_count": null,
   "metadata": {
    "pycharm": {
     "name": "#%%\n"
    }
   },
   "outputs": [],
   "source": [
    "df_plot = df.loc[df['pf_ratio_12h_24h_outcome'].isna(),'pf_ratio_12h_24h_manual_outcome']\n",
    "print(df_plot.mean())\n",
    "sns.distplot(df_plot,\n",
    "              hist = True,\n",
    "             kde = True,\n",
    "             label='pao2_over_fio2',\n",
    "             bins=50)\n",
    "\n",
    "df_plot = df.loc[~df['pf_ratio_12h_24h_outcome'].isna(),'pf_ratio_12h_24h_manual_outcome']\n",
    "print(df_plot.mean())\n",
    "sns.distplot(df_plot,\n",
    "            hist = True,\n",
    "            kde = True,\n",
    "            label='manual pf_ratio',\n",
    "            bins=50)\n",
    "\n",
    "plt.legend(prop={'size': 12})\n",
    "plt.xlabel('pf')\n",
    "plt.ylabel('Density')\n",
    "plt.xlim(left=0, right=500)"
   ]
  },
  {
   "cell_type": "code",
   "execution_count": null,
   "metadata": {
    "pycharm": {
     "name": "#%%\n"
    }
   },
   "outputs": [],
   "source": [
    "df['diff'] = (df.iloc[:, 0] - df.iloc[:, 1]).abs().round(2)"
   ]
  },
  {
   "cell_type": "code",
   "execution_count": null,
   "metadata": {
    "pycharm": {
     "name": "#%%\n"
    }
   },
   "outputs": [],
   "source": [
    "diff['diff'].describe(percentiles=[.5, .6, .7, .8, .9])"
   ]
  },
  {
   "cell_type": "code",
   "execution_count": null,
   "metadata": {
    "pycharm": {
     "name": "#%%\n"
    }
   },
   "outputs": [],
   "source": [
    "\n",
    "df_diff = df[['artificial_session',\n",
    "              'fio2_inclusion_8h',\n",
    "              'fio2',\n",
    "              'peep_inclusion_8h',\n",
    "              'peep',\n",
    "              'po2_inclusion_8h',\n",
    "              'po2']]"
   ]
  },
  {
   "cell_type": "code",
   "execution_count": null,
   "metadata": {
    "pycharm": {
     "name": "#%%\n"
    }
   },
   "outputs": [],
   "source": [
    "\n",
    "df_diff['fio2_diff'] = df_diff['fio2_inclusion_8h'] - df_diff['fio2']\n",
    "df_diff['peep_diff'] = df_diff['peep_inclusion_8h'] - df_diff['peep']\n",
    "df_diff['po2_diff'] = df_diff['po2_inclusion_8h'] - df_diff['po2']"
   ]
  },
  {
   "cell_type": "code",
   "execution_count": null,
   "metadata": {
    "pycharm": {
     "name": "#%%\n"
    }
   },
   "outputs": [],
   "source": [
    "df_diff[df_diff.artificial_session == False].describe()"
   ]
  },
  {
   "cell_type": "code",
   "execution_count": null,
   "metadata": {
    "pycharm": {
     "name": "#%%\n"
    }
   },
   "outputs": [],
   "source": []
  }
 ],
 "metadata": {
  "kernelspec": {
   "display_name": "Python 3",
   "language": "python",
   "name": "python3"
  },
  "language_info": {
   "codemirror_mode": {
    "name": "ipython",
    "version": 2
   },
   "file_extension": ".py",
   "mimetype": "text/x-python",
   "name": "python",
   "nbconvert_exporter": "python",
   "pygments_lexer": "ipython2"
  }
 },
 "nbformat": 4,
 "nbformat_minor": 0
}
