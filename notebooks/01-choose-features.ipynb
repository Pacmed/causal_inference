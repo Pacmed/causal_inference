{
 "cells": [
  {
   "cell_type": "markdown",
   "metadata": {},
   "source": [
    "This notebook selects the relevant features for the purpose of the causal experiment."
   ]
  },
  {
   "cell_type": "code",
   "execution_count": null,
   "metadata": {
    "pycharm": {
     "name": "#%% Import Libraries\n"
    }
   },
   "outputs": [],
   "source": [
    "import os\n",
    "\n",
    "import pandas as pd"
   ]
  },
  {
   "cell_type": "code",
   "execution_count": null,
   "metadata": {
    "pycharm": {
     "name": "#%% Import Constants\n"
    }
   },
   "outputs": [],
   "source": [
    "LOAD_PATH = '../data/causal_inference/data/processed/second_wave_data_included.csv'\n",
    "RCT_PATH = '../data/causal_inference/data/processed/data_guerin_rct.csv'\n",
    "\n",
    "DATE_COLUMNS = ['start_timestamp', 'end_timestamp', 'death_timestamp']\n",
    "\n",
    "VARIABLES_RCT = ['treated',\n",
    "                 'po2',\n",
    "                 'fio2',\n",
    "                 'peep',\n",
    "                 'pf_ratio',\n",
    "                 'age',\n",
    "                 'gender',\n",
    "                 'body_mass_index',\n",
    "                 'diabetes',\n",
    "                 'acute_kidney_injury',\n",
    "                 'cirrhosis',\n",
    "                 'hematologic_malignancy',\n",
    "                 'copd',\n",
    "                 'immunodeficiency',\n",
    "                 'cardiovascular_insufficiency',\n",
    "                 'renal_replacement_therapy',\n",
    "                 'sofa_score',\n",
    "                 'lactate',\n",
    "                 'tidal_volume',\n",
    "                 'tidal_volume_per_kg',\n",
    "                 'respiratory_rate_measured',\n",
    "                 'pco2',\n",
    "                 'ph',\n",
    "                 'plateau_pressure',\n",
    "                 'driving_pressure',\n",
    "                 'lung_compliance_static',\n",
    "                 'med_neuromuscular_blockers',\n",
    "                 'med_vasopressors',\n",
    "                 'med_glucocorticoids',\n",
    "                 'pf_ratio_2h_8h_outcome',\n",
    "                 'pf_ratio_2h_8h_manual_outcome',\n",
    "                 'pf_ratio_12h_24h_outcome',\n",
    "                 'pf_ratio_12h_24h_manual_outcome']"
   ]
  },
  {
   "cell_type": "code",
   "execution_count": null,
   "metadata": {
    "pycharm": {
     "name": "#%% Change directory\n"
    }
   },
   "outputs": [],
   "source": [
    "print(os.getcwd())\n",
    "os.chdir('../adam/adam/causal_inference')"
   ]
  },
  {
   "cell_type": "code",
   "execution_count": null,
   "metadata": {
    "pycharm": {
     "name": "#%% Load the data\n"
    }
   },
   "outputs": [],
   "source": [
    "df = pd.read_csv(LOAD_PATH, date_parser=DATE_COLUMNS)\n",
    "df.info(max_cols=200)"
   ]
  },
  {
   "cell_type": "code",
   "execution_count": null,
   "metadata": {
    "pycharm": {
     "name": "#%% Check inclusion criteria\n"
    }
   },
   "outputs": [],
   "source": [
    "df[['fio2', 'pf_ratio', 'peep']].describe().round()"
   ]
  },
  {
   "cell_type": "code",
   "execution_count": null,
   "metadata": {
    "pycharm": {
     "name": "#%% Add the Boolean treatment indicator\n"
    }
   },
   "outputs": [],
   "source": [
    "if not ('treated' in df.columns):\n",
    "    if df.effective_value.unique().tolist() == ['prone', 'supine']:\n",
    "        df['treated'] = False\n",
    "        df.loc[df.effective_value == 'prone', 'treated'] = True\n",
    "        print(\"Treatment indicator created!\")"
   ]
  },
  {
   "cell_type": "code",
   "execution_count": null,
   "metadata": {
    "pycharm": {
     "name": "#%% Select variables\n"
    }
   },
   "outputs": [],
   "source": [
    "df_rct = df[VARIABLES_RCT]\n",
    "df_rct.info(max_cols=200)"
   ]
  },
  {
   "cell_type": "code",
   "execution_count": null,
   "metadata": {
    "pycharm": {
     "name": "#%% Save variables\n"
    }
   },
   "outputs": [],
   "source": [
    "df_rct.to_csv(RCT_PATH, index=False)"
   ]
  }
 ],
 "metadata": {
  "kernelspec": {
   "display_name": "Python 3",
   "language": "python",
   "name": "python3"
  },
  "language_info": {
   "codemirror_mode": {
    "name": "ipython",
    "version": 2
   },
   "file_extension": ".py",
   "mimetype": "text/x-python",
   "name": "python",
   "nbconvert_exporter": "python",
   "pygments_lexer": "ipython2"
  }
 },
 "nbformat": 4,
 "nbformat_minor": 0
}
