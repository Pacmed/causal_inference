{
 "cells": [
  {
   "cell_type": "markdown",
   "metadata": {
    "pycharm": {
     "name": "#%% md\n"
    }
   },
   "source": [
    "This notebook generates summaries for BART and CfR results."
   ]
  },
  {
   "cell_type": "code",
   "execution_count": 3,
   "metadata": {
    "pycharm": {
     "name": "#%%\n"
    }
   },
   "outputs": [],
   "source": [
    "import os\n",
    "\n",
    "os.chdir('/home/adam/adam/causal_inference')\n",
    "\n",
    "from causal_inference.experiments.summary import generate_summary, convert_results_cfr\n",
    "\n",
    "%load_ext autoreload\n",
    "%autoreload 2"
   ]
  },
  {
   "cell_type": "code",
   "execution_count": 4,
   "metadata": {
    "pycharm": {
     "name": "#%%\n"
    }
   },
   "outputs": [],
   "source": [
    "load_path = '/home/adam/adam/data/causal_inference/results/old/12h_24h/results_BART.csv'\n",
    "save_path = '/home/adam/adam/data/causal_inference/results/old/12h_24h/summary_BART.csv'"
   ]
  },
  {
   "cell_type": "code",
   "execution_count": null,
   "metadata": {
    "pycharm": {
     "name": "#%%\n"
    }
   },
   "outputs": [],
   "source": [
    "generate_summary(load_path, save_path)"
   ]
  },
  {
   "cell_type": "code",
   "execution_count": 7,
   "outputs": [],
   "source": [
    "path_evaluation_cfrnet = ['/home/adam/adam/cfrnet/results_second_wave/guerin_tarnet_2_8/evaluation.npz',\n",
    "                          '/home/adam/adam/cfrnet/results_second_wave/guerin_cfr_2_8/evaluation.npz',\n",
    "                          '/home/adam/adam/cfrnet/results_second_wave/guerin_tarnet_12_24/evaluation.npz',\n",
    "                          '/home/adam/adam/cfrnet/results_second_wave/guerin_cfr_12_24/evaluation.npz']\n",
    "\n",
    "path_results_cfrnet = ['/home/adam/adam/data/causal_inference/results/pf_ratio_2h_8h_manual_outcome/results_TARNET.csv',\n",
    "                       '/home/adam/adam/data/causal_inference/results/pf_ratio_2h_8h_manual_outcome/results_CFR.csv',\n",
    "                       '/home/adam/adam/data/causal_inference/results/pf_ratio_12h_24h_manual_outcome/results_TARNET.csv',\n",
    "                       '/home/adam/adam/data/causal_inference/results/pf_ratio_12h_24h_manual_outcome/results_CFR.csv']\n",
    "\n",
    "path_summary_cfrnet = ['/home/adam/adam/data/causal_inference/results/pf_ratio_2h_8h_manual_outcome/summary_TARNET.csv',\n",
    "                       '/home/adam/adam/data/causal_inference/results/pf_ratio_2h_8h_manual_outcome/summary_CFR.csv',\n",
    "                       '/home/adam/adam/data/causal_inference/results/pf_ratio_12h_24h_manual_outcome/summary_TARNET.csv',\n",
    "                       '/home/adam/adam/data/causal_inference/results/pf_ratio_12h_24h_manual_outcome/summary_CFR.csv']\n"
   ],
   "metadata": {
    "collapsed": false,
    "pycharm": {
     "name": "#%%\n"
    }
   }
  },
  {
   "cell_type": "code",
   "execution_count": 8,
   "outputs": [],
   "source": [
    "\n",
    "for idx in range(len(path_results_cfrnet)):\n",
    "    convert_results_cfr(path_evaluation_cfrnet[idx], path_results_cfrnet[idx])\n",
    "    generate_summary(path_results_cfrnet[idx], path_summary_cfrnet[idx])"
   ],
   "metadata": {
    "collapsed": false,
    "pycharm": {
     "name": "#%%\n"
    }
   }
  },
  {
   "cell_type": "code",
   "execution_count": null,
   "outputs": [],
   "source": [],
   "metadata": {
    "collapsed": false,
    "pycharm": {
     "name": "#%%\n"
    }
   }
  }
 ],
 "metadata": {
  "kernelspec": {
   "display_name": "Python 3",
   "language": "python",
   "name": "python3"
  },
  "language_info": {
   "codemirror_mode": {
    "name": "ipython",
    "version": 2
   },
   "file_extension": ".py",
   "mimetype": "text/x-python",
   "name": "python",
   "nbconvert_exporter": "python",
   "pygments_lexer": "ipython2"
  }
 },
 "nbformat": 4,
 "nbformat_minor": 0
}