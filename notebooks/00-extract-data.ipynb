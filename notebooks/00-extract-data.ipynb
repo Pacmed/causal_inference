{
 "cells": [
  {
   "cell_type": "markdown",
   "metadata": {
    "pycharm": {
     "name": "#%% md\n"
    }
   },
   "source": [
    "This notebook extracts data from the data warehouse."
   ]
  },
  {
   "cell_type": "code",
   "execution_count": null,
   "metadata": {
    "pycharm": {
     "name": "#%% Import libraries\n"
    }
   },
   "outputs": [],
   "source": [
    "import os\n",
    "\n",
    "import numpy as np\n",
    "import pandas as pd"
   ]
  },
  {
   "cell_type": "code",
   "execution_count": null,
   "metadata": {
    "pycharm": {
     "name": "#%% Import causal_inference package\n"
    }
   },
   "outputs": [],
   "source": [
    "os.chdir('../adam/adam/causal_inference')\n",
    "\n",
    "from causal_inference.make_data.make_data import UseCaseLoader\n",
    "from causal_inference.make_data.make_description import generate_extraction_description\n",
    "\n",
    "%load_ext autoreload\n",
    "%autoreload 2"
   ]
  },
  {
   "cell_type": "code",
   "execution_count": null,
   "metadata": {
    "pycharm": {
     "name": "#%% Initialize the Data Loader\n"
    }
   },
   "outputs": [],
   "source": [
    "dl = UseCaseLoader()"
   ]
  },
  {
   "cell_type": "code",
   "execution_count": null,
   "metadata": {
    "pycharm": {
     "name": "#%% Import tha path to the extracted data\n"
    }
   },
   "outputs": [],
   "source": [
    "PATH = '../data/causal_inference/data/processed/second_wave_data_included_V2.csv'"
   ]
  },
  {
   "cell_type": "code",
   "execution_count": null,
   "metadata": {
    "pycharm": {
     "name": "#%% Load observations with inclusion criteria measurements\n"
    }
   },
   "outputs": [],
   "source": [
    "path_measurements = '../data/causal_inference/data/raw/position_measurements.csv'\n",
    "path_sessions = '../data/causal_inference/data/interim/unique_sessions_test.csv'\n",
    "path_artificial_sessions = '../data/causal_inference/data/interim/artificial_sessions_test.csv'\n",
    "path_observations = '../data/causal_inference/data/interim/incusion_sessions_test.csv'\n",
    "\n",
    "\n",
    "dl.get_position_measurements(save_path=path_measurements)\n",
    "dl.make_unique_sessions(load_path=path_measurements, save_path=path_sessions)\n",
    "dl.add_artificial_sessions(load_path=path_sessions, save_path=path_artificial_sessions)\n",
    "dl.add_inclusion_criteria(load_path=path_artificial_sessions, save_path=path_observations)"
   ]
  },
  {
   "cell_type": "code",
   "execution_count": null,
   "metadata": {
    "pycharm": {
     "name": "#%% Get a summary of the extracted data\n"
    }
   },
   "outputs": [],
   "source": [
    "generate_extraction_description(path_observations)"
   ]
  },
  {
   "cell_type": "code",
   "execution_count": null,
   "metadata": {
    "pycharm": {
     "name": "#%% Apply inclusion criteria to data\n"
    }
   },
   "outputs": [],
   "source": [
    "path_included = '../data/causal_inference/data/interim/included.csv'\n",
    "dl.apply_inclusion_criteria(path_observations, path_included)"
   ]
  },
  {
   "cell_type": "code",
   "execution_count": null,
   "metadata": {
    "pycharm": {
     "name": "#%% Load outcomes\n"
    }
   },
   "outputs": [],
   "source": [
    "path_outcomes = '../data/causal_inference/data/interim/outcomes.csv'\n",
    "dl.add_outcomes(load_path=path_included, save_path=path_outcomes)\n"
   ]
  },
  {
   "cell_type": "code",
   "execution_count": null,
   "metadata": {
    "pycharm": {
     "name": "#%% Load covariates\n"
    }
   },
   "outputs": [],
   "source": [
    "path_covariates = '../data/causal_inference/data/interim/covariates.csv'\n",
    "path_patient_data = '../data/causal_inference/data/interim/patients.csv'\n",
    "path_medications = '../data/causal_inference/data/interim/medications.csv'\n",
    "\n",
    "dl.add_covariates(load_path=path_outcomes, save_path=path_covariates)\n",
    "dl.add_medications(load_path=path_covariates, save_path=path_medications)\n",
    "dl.add_patient_data(load_path=path_medications, save_path=PATH)"
   ]
  }
 ],
 "metadata": {
  "kernelspec": {
   "display_name": "Python 3",
   "language": "python",
   "name": "python3"
  },
  "language_info": {
   "codemirror_mode": {
    "name": "ipython",
    "version": 2
   },
   "file_extension": ".py",
   "mimetype": "text/x-python",
   "name": "python",
   "nbconvert_exporter": "python",
   "pygments_lexer": "ipython2"
  }
 },
 "nbformat": 4,
 "nbformat_minor": 0
}
