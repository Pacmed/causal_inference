{
 "cells": [
  {
   "cell_type": "code",
   "execution_count": null,
   "metadata": {
    "pycharm": {
     "name": "#%%\n"
    }
   },
   "outputs": [],
   "source": [
    "%reset"
   ]
  },
  {
   "cell_type": "code",
   "execution_count": null,
   "metadata": {
    "pycharm": {
     "name": "#%%\n"
    }
   },
   "outputs": [],
   "source": [
    "import os\n",
    "\n",
    "import pandas as pd\n",
    "import numpy as np"
   ]
  },
  {
   "cell_type": "code",
   "execution_count": null,
   "metadata": {
    "pycharm": {
     "name": "#%%\n"
    }
   },
   "outputs": [],
   "source": [
    "%load_ext autoreload\n",
    "%autoreload 2"
   ]
  },
  {
   "cell_type": "code",
   "execution_count": null,
   "metadata": {
    "pycharm": {
     "name": "#%%\n"
    }
   },
   "outputs": [],
   "source": [
    "os.chdir('/home/adam/adam/causal_inference')\n",
    "\n",
    "from causal_inference.causal_data_handler.get_data import process_data\n",
    "from causal_inference.causal_data_handler.get_data import get_training_indices\n",
    "from causal_inference.causal_data_handler.get_data import get_data\n",
    "from causal_inference.causal_data_handler.get_data import get_covariate_names\n",
    "from causal_inference.causal_data_handler.get_data import get_bootstrapped_experiments"
   ]
  },
  {
   "cell_type": "code",
   "execution_count": null,
   "metadata": {
    "pycharm": {
     "name": "#%%\n"
    }
   },
   "outputs": [],
   "source": [
    "os.chdir('/home/adam/adam/data/19012021/')\n",
    "df = pd.read_csv('data_guerin_rct_fixed_prone.csv')\n",
    "df.info(max_cols=200)"
   ]
  },
  {
   "cell_type": "code",
   "execution_count": null,
   "metadata": {
    "pycharm": {
     "name": "#%%\n"
    }
   },
   "outputs": [],
   "source": [
    "len(df[~df.treated])"
   ]
  },
  {
   "cell_type": "code",
   "execution_count": null,
   "metadata": {
    "pycharm": {
     "name": "#%%\n"
    }
   },
   "outputs": [],
   "source": [
    "OUTCOME = 'pf_ratio_12h_24h_manual_outcome'\n",
    "df = process_data(df=df, outcome=OUTCOME)\n",
    "df.info()"
   ]
  },
  {
   "cell_type": "code",
   "execution_count": null,
   "metadata": {
    "pycharm": {
     "name": "#%%\n"
    }
   },
   "outputs": [],
   "source": [
    "idx = get_training_indices(df)\n",
    "\n",
    "y_train, t_train, X_train = get_data(df=df.loc[idx, :],\n",
    "                                     treatment_col='treated',\n",
    "                                     outcome_col=OUTCOME)\n",
    "\n",
    "y_test, t_test, X_test = get_data(df=df.loc[(~idx), :],\n",
    "                                     treatment_col='treated',\n",
    "                                     outcome_col=OUTCOME)\n",
    "\n",
    "covariates = get_covariate_names(df=df,\n",
    "                                 treatment_col='treated',\n",
    "                                 outcome_col=OUTCOME)\n"
   ]
  },
  {
   "cell_type": "code",
   "execution_count": null,
   "metadata": {
    "pycharm": {
     "name": "#%%\n"
    }
   },
   "outputs": [],
   "source": [
    "train = get_bootstrapped_experiments(y_train, t_train, X_train, n_of_experiments=1000, method='train')\n",
    "test = get_bootstrapped_experiments(y_test, t_test, X_test, n_of_experiments=1000, method='test')"
   ]
  },
  {
   "cell_type": "code",
   "execution_count": null,
   "metadata": {
    "pycharm": {
     "name": "#%% save to .npz\n"
    }
   },
   "outputs": [],
   "source": [
    "os.chdir('/home/adam/adam/cfrnet/data')\n",
    "\n",
    "np.savez('bfpguerin_12_24.train.npz', yf=train[0], t=train[1], x=train[2])\n",
    "np.savez('bfpguerin_12_24.test.npz', yf=test[0], t=test[1], x=test[2])\n",
    "\n",
    "#bootstrap\n",
    "#fixed"
   ]
  },
  {
   "cell_type": "code",
   "execution_count": null,
   "metadata": {
    "pycharm": {
     "name": "#%%\n"
    }
   },
   "outputs": [],
   "source": [
    "train[0].shape"
   ]
  },
  {
   "cell_type": "code",
   "execution_count": null,
   "metadata": {
    "pycharm": {
     "name": "#%%\n"
    }
   },
   "outputs": [],
   "source": []
  }
 ],
 "metadata": {
  "kernelspec": {
   "display_name": "Python 3",
   "language": "python",
   "name": "python3"
  },
  "language_info": {
   "codemirror_mode": {
    "name": "ipython",
    "version": 2
   },
   "file_extension": ".py",
   "mimetype": "text/x-python",
   "name": "python",
   "nbconvert_exporter": "python",
   "pygments_lexer": "ipython2"
  }
 },
 "nbformat": 4,
 "nbformat_minor": 0
}
