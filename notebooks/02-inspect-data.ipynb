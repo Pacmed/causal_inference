{
 "cells": [
  {
   "cell_type": "markdown",
   "metadata": {},
   "source": [
    "This notebook inspects the data."
   ]
  },
  {
   "cell_type": "code",
   "execution_count": null,
   "metadata": {
    "pycharm": {
     "name": "#%% Import libraries\n"
    }
   },
   "outputs": [],
   "source": [
    "import sys, os\n",
    "import numpy as np\n",
    "import pandas as pd\n",
    "import seaborn as sns\n",
    "import matplotlib.pyplot as plt\n",
    "\n",
    "import os\n",
    "\n",
    "import pandas as pd\n",
    "import numpy as np"
   ]
  },
  {
   "cell_type": "code",
   "execution_count": null,
   "metadata": {
    "pycharm": {
     "name": "#%% Import package modules\n"
    }
   },
   "outputs": [],
   "source": [
    "%load_ext autoreload\n",
    "%autoreload 2\n",
    "\n",
    "os.chdir('/home/adam/adam/causal_inference')\n",
    "\n",
    "from causal_inference.visualization.create_table_one import create_table_one, create_table_one_bool"
   ]
  },
  {
   "cell_type": "code",
   "execution_count": null,
   "metadata": {
    "pycharm": {
     "name": "#%% Import constants\n"
    }
   },
   "outputs": [],
   "source": [
    "PATH_DATA = '/home/adam/adam/data/causal_inference/data/processed/data_guerin_rct.csv'"
   ]
  },
  {
   "cell_type": "code",
   "execution_count": null,
   "metadata": {
    "pycharm": {
     "name": "#%% Load raw data\n"
    }
   },
   "outputs": [],
   "source": [
    "df = pd.read_csv(PATH_DATA)\n",
    "df.info(max_cols=200)"
   ]
  },
  {
   "cell_type": "code",
   "execution_count": null,
   "metadata": {
    "pycharm": {
     "name": "#%%\n"
    }
   },
   "outputs": [],
   "source": [
    "create_table_one(df)"
   ]
  },
  {
   "cell_type": "code",
   "execution_count": null,
   "metadata": {
    "pycharm": {
     "name": "#%%\n"
    }
   },
   "outputs": [],
   "source": [
    "create_table_one_bool(df)"
   ]
  },
  {
   "cell_type": "code",
   "execution_count": null,
   "metadata": {
    "pycharm": {
     "name": "#%% Inspect the outcome\n"
    }
   },
   "outputs": [],
   "source": [
    "df[['pf_ratio_2h_8h_manual_outcome', 'pf_ratio_12h_24h_manual_outcome']].\\\n",
    "    describe(percentiles=[0.25, 0.75, 0.95, 0.99]).round(1)"
   ]
  },
  {
   "cell_type": "code",
   "execution_count": null,
   "metadata": {
    "pycharm": {
     "name": "#%%\n"
    }
   },
   "outputs": [],
   "source": [
    "df_plot = df[['treated', 'pf_ratio_2h_8h_manual_outcome']]\n",
    "df_plot = df_plot[df_plot.pf_ratio_2h_8h_manual_outcome < 333]\n",
    "sns.kdeplot(data=df_plot, x=\"pf_ratio_2h_8h_manual_outcome\", hue=\"treated\", common_norm=False)"
   ]
  },
  {
   "cell_type": "code",
   "execution_count": null,
   "metadata": {
    "pycharm": {
     "name": "#%%\n"
    }
   },
   "outputs": [],
   "source": [
    "df_plot = df[['treated', 'pf_ratio_12h_24h_manual_outcome']]\n",
    "df_plot = df_plot[df_plot.pf_ratio_12h_24h_manual_outcome < 333]\n",
    "sns.kdeplot(data=df_plot, x=\"pf_ratio_12h_24h_manual_outcome\", hue=\"treated\", common_norm=False)"
   ]
  },
  {
   "cell_type": "code",
   "execution_count": null,
   "metadata": {
    "pycharm": {
     "name": "#%% Outcomes always change\n"
    }
   },
   "outputs": [],
   "source": [
    "df_plot = df[['pf_ratio', 'pf_ratio_2h_8h_manual_outcome', 'pf_ratio_12h_24h_manual_outcome']]\n",
    "df_plot = df_plot[df_plot.pf_ratio_12h_24h_manual_outcome < 333]\n",
    "df_plot = df_plot[df_plot.pf_ratio_2h_8h_manual_outcome < 333]\n",
    "\n",
    "df_plot['pf_ratio_diff_12_24'] = df_plot['pf_ratio_12h_24h_manual_outcome'] - df_plot['pf_ratio']\n",
    "df_plot['pf_ratio_diff_2_8'] = df_plot['pf_ratio_2h_8h_manual_outcome'] - df_plot['pf_ratio']\n",
    "\n",
    "df_plot[['pf_ratio_diff_2_8', 'pf_ratio_diff_12_24']].describe().round(1)"
   ]
  },
  {
   "cell_type": "code",
   "execution_count": null,
   "metadata": {
    "pycharm": {
     "name": "#%%\n"
    }
   },
   "outputs": [],
   "source": [
    "sns.kdeplot(data=df_plot, x='pf_ratio_diff_2_8', label='2h_8h')\n",
    "sns.kdeplot(data=df_plot, x='pf_ratio_diff_12_24', label='12h_24h')\n",
    "plt.axvline(0, 0, 100)\n",
    "plt.legend()\n",
    "plt.show()"
   ]
  },
  {
   "cell_type": "code",
   "execution_count": null,
   "metadata": {
    "pycharm": {
     "name": "#%%\n"
    }
   },
   "outputs": [],
   "source": [
    "df.cirrhosis.value_counts()"
   ]
  },
  {
   "cell_type": "code",
   "execution_count": null,
   "metadata": {
    "pycharm": {
     "name": "#%%\n"
    }
   },
   "outputs": [],
   "source": []
  }
 ],
 "metadata": {
  "kernelspec": {
   "display_name": "Python 3",
   "language": "python",
   "name": "python3"
  },
  "language_info": {
   "codemirror_mode": {
    "name": "ipython",
    "version": 2
   },
   "file_extension": ".py",
   "mimetype": "text/x-python",
   "name": "python",
   "nbconvert_exporter": "python",
   "pygments_lexer": "ipython2"
  }
 },
 "nbformat": 4,
 "nbformat_minor": 0
}
