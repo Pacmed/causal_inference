{
 "cells": [
  {
   "cell_type": "code",
   "execution_count": null,
   "metadata": {
    "pycharm": {
     "name": "#%%\n"
    }
   },
   "outputs": [],
   "source": [
    "%reset"
   ]
  },
  {
   "cell_type": "code",
   "execution_count": null,
   "metadata": {
    "pycharm": {
     "name": "#%% Import all libraries\n"
    }
   },
   "outputs": [],
   "source": [
    "import pandas as pd\n",
    "import numpy as np\n",
    "\n",
    "import sys, os\n",
    "\n",
    "import seaborn as sns\n",
    "import matplotlib.pyplot as plt\n",
    "\n",
    "from causalinference import CausalModel\n",
    "\n",
    "from sklearn.impute import SimpleImputer\n",
    "from sklearn.preprocessing import StandardScaler\n",
    "from sklearn.metrics import roc_auc_score\n",
    "from importlib import reload\n",
    "\n",
    "from scipy.stats import wasserstein_distance\n",
    "from scipy import stats"
   ]
  },
  {
   "cell_type": "code",
   "execution_count": null,
   "metadata": {
    "pycharm": {
     "name": "#%%\n"
    }
   },
   "outputs": [],
   "source": [
    "def process_data(df, outcome, thresh=0.6):\n",
    "\n",
    "    # prepare outcomes\n",
    "    outcomes_to_delete = df.filter(regex='outcome').\\\n",
    "                            columns.\\\n",
    "                            to_list()\n",
    "    outcomes_to_delete.remove(outcome)\n",
    "    df.drop(columns=outcomes_to_delete,\n",
    "            inplace=True)\n",
    "    df.dropna(subset=[outcome], inplace=True)\n",
    "\n",
    "    # drop columns with missing values exceeding the thresh\n",
    "    thresh = round(thresh * len(df.index))\n",
    "    df = df.dropna(thresh=thresh, axis=1)\n",
    "\n",
    "    # get dummies\n",
    "    df = pd.get_dummies(df)\n",
    "    columns_to_drop = ['gender_M'] + df.filter(regex='False').columns.to_list()\n",
    "    df.drop(columns=columns_to_drop, inplace=True)\n",
    "\n",
    "    # convert to bool\n",
    "    for column in df.select_dtypes(include=['uint8']).columns.to_list():\n",
    "        df[column] = df[column] == 1\n",
    "\n",
    "    return df\n",
    "\n",
    "def get_training_data(df, treatment_col, outcome_col):\n",
    "\n",
    "    cols_num = df.select_dtypes(include=['float64']).columns.to_list()\n",
    "    if outcome_col in cols_num:\n",
    "        cols_num.remove(outcome_col)\n",
    "    cols_bool = df.select_dtypes(include=['uint8', 'bool']).columns.to_list()\n",
    "    if treatment_col in cols_bool:\n",
    "        cols_bool.remove(treatment_col)\n",
    "\n",
    "    t = df_encoded.loc[:, treatment_col].values\n",
    "    X_bool = df_encoded[cols_bool].values\n",
    "    X_num = df_encoded[cols_num].values\n",
    "    y = df_encoded.loc[:, outcome_col].values\n",
    "\n",
    "\n",
    "    imp = SimpleImputer(missing_values=np.nan, strategy='mean')\n",
    "    imp.fit(X_num)\n",
    "    X_num = imp.transform(X_num)\n",
    "    scaler = StandardScaler().fit(X_num)\n",
    "    X_num = scaler.transform(X_num)\n",
    "    X = np.hstack((X_num, X_bool))\n",
    "\n",
    "    return y, t, X\n",
    "\n",
    "def get_covariate_names(df, treatment_col, outcome_col):\n",
    "\n",
    "    cols_num = df.select_dtypes(include=['float64']).columns.to_list()\n",
    "    if outcome_col in cols_num:\n",
    "        cols_num.remove(outcome_col)\n",
    "    cols_bool = df.select_dtypes(include=['uint8', 'bool']).columns.to_list()\n",
    "    if treatment_col in cols_bool:\n",
    "        cols_bool.remove(treatment_col)\n",
    "\n",
    "    return cols_num + cols_bool"
   ]
  },
  {
   "cell_type": "code",
   "execution_count": null,
   "metadata": {
    "pycharm": {
     "name": "#%%\n"
    }
   },
   "outputs": [],
   "source": [
    "os.chdir('/home/adam/adam/causal_inference')\n",
    "from causal_inference.model.propensity_model import PropensityModel\n",
    "reload(sys.modules['causal_inference.model.propensity_model'])\n",
    "from causal_inference.model.propensity_model import PropensityModel"
   ]
  },
  {
   "cell_type": "code",
   "execution_count": null,
   "metadata": {
    "pycharm": {
     "name": "#%% Load the data\n"
    }
   },
   "outputs": [],
   "source": [
    "os.chdir('/home/adam/adam/data/19012021/')\n",
    "df = pd.read_csv('data_guerin_rct.csv')\n",
    "df.info(max_cols=200)"
   ]
  },
  {
   "cell_type": "code",
   "execution_count": null,
   "metadata": {
    "pycharm": {
     "name": "#%%\n"
    }
   },
   "outputs": [],
   "source": [
    "df.loc[df.treated, ['fio2', 'peep', 'po2', 'pf_ratio']].describe()"
   ]
  },
  {
   "cell_type": "code",
   "execution_count": null,
   "metadata": {
    "pycharm": {
     "name": "#%%\n"
    }
   },
   "outputs": [],
   "source": [
    "df.loc[~df.treated, ['fio2', 'peep', 'po2', 'pf_ratio']].describe()"
   ]
  },
  {
   "cell_type": "code",
   "execution_count": null,
   "metadata": {
    "pycharm": {
     "name": "#%%\n"
    }
   },
   "outputs": [],
   "source": [
    "OUTCOME = 'pf_ratio_2h_8h_manual_outcome'"
   ]
  },
  {
   "cell_type": "code",
   "execution_count": null,
   "metadata": {
    "pycharm": {
     "name": "#%%\n"
    }
   },
   "outputs": [],
   "source": [
    "df.loc[df.treated, OUTCOME].describe()"
   ]
  },
  {
   "cell_type": "code",
   "execution_count": null,
   "metadata": {
    "pycharm": {
     "name": "#%%\n"
    }
   },
   "outputs": [],
   "source": [
    "df.loc[~df.treated, OUTCOME].describe()\n"
   ]
  },
  {
   "cell_type": "code",
   "execution_count": null,
   "metadata": {
    "pycharm": {
     "name": "#%%\n"
    }
   },
   "outputs": [],
   "source": [
    "df_encoded = process_data(df=df, outcome=OUTCOME)\n",
    "df_encoded.info()\n",
    "\n",
    "y, t, X = get_training_data(df=df_encoded,\n",
    "                            treatment_col='treated',\n",
    "                            outcome_col=OUTCOME)\n",
    "\n",
    "covariates = get_covariate_names(df=df_encoded,\n",
    "                                 treatment_col='treated',\n",
    "                                 outcome_col=OUTCOME)"
   ]
  },
  {
   "cell_type": "markdown",
   "metadata": {},
   "source": [
    "## 3. Causal modelling"
   ]
  },
  {
   "cell_type": "markdown",
   "metadata": {
    "pycharm": {
     "name": "#%% md\n"
    }
   },
   "source": [
    "#### V1: All variables"
   ]
  },
  {
   "cell_type": "code",
   "execution_count": null,
   "metadata": {
    "pycharm": {
     "name": "#%%\n"
    }
   },
   "outputs": [],
   "source": [
    "propensity_model_all = PropensityModel(outcome=y,\n",
    "                                   treatment=t,\n",
    "                                   covariates=X,\n",
    "                                   outcome_name=OUTCOME,\n",
    "                                   treatment_name='proned',\n",
    "                                   covariates_name=covariates)\n",
    "propensity_model_all.summary_stats()\n"
   ]
  },
  {
   "cell_type": "code",
   "execution_count": null,
   "metadata": {
    "pycharm": {
     "name": "#%%\n"
    }
   },
   "outputs": [],
   "source": [
    "propensity_model_all.est_propensity(X=X, t=t, method='balanced')\n",
    "propensity_model_all.show_propensity()"
   ]
  },
  {
   "cell_type": "code",
   "execution_count": null,
   "metadata": {
    "pycharm": {
     "name": "#%%\n"
    }
   },
   "outputs": [],
   "source": [
    "np.mean(abs(propensity_model_all.causal_model.summary_stats['ndiff']))"
   ]
  },
  {
   "cell_type": "code",
   "execution_count": null,
   "metadata": {
    "pycharm": {
     "name": "#%%\n"
    }
   },
   "outputs": [],
   "source": [
    "propensity_model_all.trim()"
   ]
  },
  {
   "cell_type": "code",
   "execution_count": null,
   "metadata": {
    "pycharm": {
     "name": "#%%\n"
    }
   },
   "outputs": [],
   "source": [
    "np.mean(abs(propensity_model_all.causal_model.summary_stats['ndiff']))"
   ]
  },
  {
   "cell_type": "code",
   "execution_count": null,
   "metadata": {
    "pycharm": {
     "name": "#%%\n"
    }
   },
   "outputs": [],
   "source": [
    "propensity_model_all.causal_model.blocks = [0, 0.4, 0.6, 0.75, 1]\n",
    "propensity_model_all.access_balance(method='default')\n"
   ]
  },
  {
   "cell_type": "code",
   "execution_count": null,
   "metadata": {
    "pycharm": {
     "name": "#%%\n"
    }
   },
   "outputs": [],
   "source": [
    "propensity_model_all.est_treatment_effect()"
   ]
  },
  {
   "cell_type": "code",
   "execution_count": null,
   "metadata": {
    "pycharm": {
     "name": "#%%\n"
    }
   },
   "outputs": [],
   "source": [
    "propensity_model_all.print_models(raw_effect=14.4, true_effect=15)"
   ]
  },
  {
   "cell_type": "markdown",
   "metadata": {
    "pycharm": {
     "name": "#%% md\n"
    }
   },
   "source": [
    "#### With medically relevant features"
   ]
  },
  {
   "cell_type": "markdown",
   "metadata": {
    "pycharm": {
     "name": "#%% md\n"
    }
   },
   "source": [
    "V2. Balance only potential confounders"
   ]
  },
  {
   "cell_type": "code",
   "execution_count": null,
   "metadata": {
    "pycharm": {
     "name": "#%%\n"
    }
   },
   "outputs": [],
   "source": [
    "propensity_model_subset = PropensityModel(outcome=y,\n",
    "                                          treatment=t,\n",
    "                                          covariates=X,\n",
    "                                          outcome_name=OUTCOME,\n",
    "                                          treatment_name='proned',\n",
    "                                          covariates_name=covariates)\n",
    "propensity_model_subset.summary_stats()\n"
   ]
  },
  {
   "cell_type": "code",
   "execution_count": null,
   "metadata": {
    "pycharm": {
     "name": "#%% Select good columns\n"
    }
   },
   "outputs": [],
   "source": [
    "propensity_cols = ['pf_ratio',\n",
    "                   'peep',\n",
    "                   'fio2',\n",
    "                   'tidal_volume_per_kg',\n",
    "                   'nice_copd_True',\n",
    "                   'nice_hem_malign_True']"
   ]
  },
  {
   "cell_type": "code",
   "execution_count": null,
   "metadata": {
    "pycharm": {
     "name": "#%%\n"
    }
   },
   "outputs": [],
   "source": [
    "y_subset, t_subset, X_subset = get_training_data(df=df_encoded[propensity_cols],\n",
    "                                                 treatment_col='treated',\n",
    "                                                 outcome_col=OUTCOME)\n",
    "\n",
    "covariates = get_covariate_names(df=df_encoded[propensity_cols],\n",
    "                                 treatment_col='treated',\n",
    "                                 outcome_col=OUTCOME)\n",
    "\n",
    "\n",
    "print(covariates)"
   ]
  },
  {
   "cell_type": "code",
   "execution_count": null,
   "metadata": {
    "pycharm": {
     "name": "#%%\n"
    }
   },
   "outputs": [],
   "source": [
    "propensity_model_subset.est_propensity(X=X_subset, t=t, method='balanced')\n",
    "#propensity_model.est_propensity(X=X_subset, t=t_subset, method='balanced')\n",
    "propensity_model_subset.show_propensity()"
   ]
  },
  {
   "cell_type": "code",
   "execution_count": null,
   "metadata": {
    "pycharm": {
     "name": "#%%\n"
    }
   },
   "outputs": [],
   "source": [
    "np.mean(abs(propensity_model_subset.causal_model.summary_stats['ndiff']))"
   ]
  },
  {
   "cell_type": "code",
   "execution_count": null,
   "metadata": {
    "pycharm": {
     "name": "#%%\n"
    }
   },
   "outputs": [],
   "source": [
    "propensity_model_subset.trim()"
   ]
  },
  {
   "cell_type": "code",
   "execution_count": null,
   "metadata": {
    "pycharm": {
     "name": "#%%\n"
    }
   },
   "outputs": [],
   "source": [
    "np.mean(abs(propensity_model_subset.causal_model.summary_stats['ndiff']))"
   ]
  },
  {
   "cell_type": "code",
   "execution_count": null,
   "metadata": {
    "pycharm": {
     "name": "#%%\n"
    }
   },
   "outputs": [],
   "source": [
    "propensity_model_subset.causal_model.blocks = [0, 0.4, 0.5, 0.6, 0.7, 1]\n",
    "propensity_model_subset.access_balance(method='default')"
   ]
  },
  {
   "cell_type": "code",
   "execution_count": null,
   "metadata": {
    "pycharm": {
     "name": "#%%\n"
    }
   },
   "outputs": [],
   "source": [
    "propensity_model_subset.est_treatment_effect()"
   ]
  },
  {
   "cell_type": "code",
   "execution_count": null,
   "metadata": {
    "pycharm": {
     "name": "#%%\n"
    }
   },
   "outputs": [],
   "source": [
    "propensity_model_subset.print_models(raw_effect=14.3, true_effect=15)"
   ]
  },
  {
   "cell_type": "markdown",
   "metadata": {
    "pycharm": {
     "name": "#%% md\n"
    }
   },
   "source": [
    "V3. All + interactions + poly"
   ]
  },
  {
   "cell_type": "code",
   "execution_count": null,
   "metadata": {
    "pycharm": {
     "name": "#%%\n"
    }
   },
   "outputs": [],
   "source": [
    "propensity_model_poly = PropensityModel(outcome=y,\n",
    "                                          treatment=t,\n",
    "                                          covariates=X,\n",
    "                                          outcome_name=OUTCOME,\n",
    "                                          treatment_name='proned',\n",
    "                                          covariates_name=covariates)\n",
    "propensity_model_poly.summary_stats()\n"
   ]
  },
  {
   "cell_type": "code",
   "execution_count": null,
   "metadata": {
    "pycharm": {
     "name": "#%%\n"
    }
   },
   "outputs": [],
   "source": [
    "y, t, X = get_training_data(df=df_encoded,\n",
    "                            treatment_col='treated',\n",
    "                            outcome_col=OUTCOME)\n",
    "\n",
    "covariates = get_covariate_names(df=df_encoded,\n",
    "                                 treatment_col='treated',\n",
    "                                 outcome_col=OUTCOME)\n",
    "\n",
    "\n",
    "print(covariates)"
   ]
  },
  {
   "cell_type": "code",
   "execution_count": null,
   "metadata": {
    "pycharm": {
     "name": "#%%\n"
    }
   },
   "outputs": [],
   "source": [
    "from sklearn.preprocessing import PolynomialFeatures\n",
    "\n",
    "poly = PolynomialFeatures(2)\n",
    "poly.fit_transform(X)\n",
    "poly = PolynomialFeatures(include_bias=False, interaction_only=True)\n",
    "X_poly = poly.fit_transform(X)"
   ]
  },
  {
   "cell_type": "code",
   "execution_count": null,
   "metadata": {
    "pycharm": {
     "name": "#%%\n"
    }
   },
   "outputs": [],
   "source": [
    "propensity_model_poly.est_propensity(X=X_poly, t=t, method='balanced')\n",
    "#propensity_model.est_propensity(X=X_subset, t=t_subset, method='balanced')\n",
    "propensity_model_poly.show_propensity()"
   ]
  },
  {
   "cell_type": "code",
   "execution_count": null,
   "metadata": {
    "pycharm": {
     "name": "#%%\n"
    }
   },
   "outputs": [],
   "source": [
    "np.mean(abs(propensity_model_poly.causal_model.summary_stats['ndiff']))"
   ]
  },
  {
   "cell_type": "code",
   "execution_count": null,
   "metadata": {
    "pycharm": {
     "name": "#%%\n"
    }
   },
   "outputs": [],
   "source": [
    "propensity_model_poly.trim()"
   ]
  },
  {
   "cell_type": "code",
   "execution_count": null,
   "metadata": {
    "pycharm": {
     "name": "#%%\n"
    }
   },
   "outputs": [],
   "source": [
    "np.mean(abs(propensity_model_poly.causal_model.summary_stats['ndiff']))"
   ]
  },
  {
   "cell_type": "code",
   "execution_count": null,
   "metadata": {
    "pycharm": {
     "name": "#%%\n"
    }
   },
   "outputs": [],
   "source": [
    "propensity_model_poly.causal_model.blocks = [0, 0.4, 0.6, 0.7, 0.8, 1]\n",
    "propensity_model_poly.access_balance(method='default')"
   ]
  },
  {
   "cell_type": "code",
   "execution_count": null,
   "metadata": {
    "pycharm": {
     "name": "#%%\n"
    }
   },
   "outputs": [],
   "source": [
    "propensity_model_poly.est_treatment_effect()"
   ]
  },
  {
   "cell_type": "code",
   "execution_count": null,
   "metadata": {
    "pycharm": {
     "name": "#%%\n"
    }
   },
   "outputs": [],
   "source": [
    "propensity_model_poly.print_models(raw_effect=14.3, true_effect=15)\n",
    "\n",
    "\n"
   ]
  },
  {
   "cell_type": "markdown",
   "metadata": {
    "pycharm": {
     "is_executing": true,
     "name": "#%% md\n"
    }
   },
   "source": [
    "## Other computations"
   ]
  },
  {
   "cell_type": "code",
   "execution_count": null,
   "metadata": {
    "pycharm": {
     "name": "#%%\n"
    }
   },
   "outputs": [],
   "source": [
    "n_of_control = []\n",
    "n_of_treated = []\n",
    "p_bin = []\n",
    "effect = []\n",
    "\n",
    "for stratum in propensity_model_all.causal_model.strata:\n",
    "    p_min = stratum.summary_stats['p_min'].round(2)\n",
    "    p_max = stratum.summary_stats['p_max'].round(2)\n",
    "    index = '[{},{}]'.format(p_min, p_max)\n",
    "    p_bin.append(index)\n",
    "\n",
    "    stratum.est_via_matching(bias_adj=True)\n",
    "    ate = stratum.estimates['matching']['ate']\n",
    "    effect.append(ate)\n",
    "\n",
    "    n_of_control.append(stratum.summary_stats['N_c'])\n",
    "    n_of_treated.append(stratum.summary_stats['N_t'])\n",
    "\n",
    "df = pd.DataFrame({'n_of_treated': n_of_treated,\n",
    "                   'n_of_control': n_of_control,\n",
    "                   'ate': effect}, index=p_bin)"
   ]
  },
  {
   "cell_type": "code",
   "execution_count": null,
   "metadata": {
    "pycharm": {
     "name": "#%%\n"
    }
   },
   "outputs": [],
   "source": [
    "ax =  df.plot.bar(y=['n_of_control', 'n_of_treated'], ylabel='Frequency', figsize=(10, 5))\n",
    "df.plot(y='ate', c='k', ax=ax, use_index=False, secondary_y=True, mark_right=False)\n",
    "ax.right_ax.set_ylabel('ATE')"
   ]
  },
  {
   "cell_type": "code",
   "execution_count": null,
   "metadata": {
    "pycharm": {
     "name": "#%% Initialize df_balance\n"
    }
   },
   "outputs": [],
   "source": [
    "# https://seaborn.pydata.org/examples/pairgrid_dotplot.html\n"
   ]
  },
  {
   "cell_type": "code",
   "execution_count": null,
   "metadata": {
    "pycharm": {
     "name": "#%% Initialize\n"
    }
   },
   "outputs": [],
   "source": [
    "df_balance = pd.DataFrame([], columns=['raw_diff', 'all', 'all_poly', 'subset', 'subset_poly'])\n",
    "df_balance.loc[:,'raw_diff'] = propensity_model_all.causal_model.summary_stats['ndiff']\n",
    "df_balance = df_balance.abs().round(2)"
   ]
  },
  {
   "cell_type": "code",
   "execution_count": null,
   "metadata": {
    "pycharm": {
     "name": "#%% Add column\n"
    }
   },
   "outputs": [],
   "source": [
    "COLUMN_NAME = 'all'\n",
    "df_balance[COLUMN_NAME] = 0"
   ]
  },
  {
   "cell_type": "code",
   "execution_count": null,
   "metadata": {
    "pycharm": {
     "name": "#%%\n"
    }
   },
   "outputs": [],
   "source": [
    "df_strat_balance = pd.DataFrame([])\n",
    "weights = []\n",
    "n_of_strata = 0\n",
    "\n",
    "for stratum in propensity_model_all.causal_model.strata:\n",
    "    n_of_strata += 1\n",
    "    column = 'strata_{}'.format(n_of_strata)\n",
    "    df_strat_balance[column] = stratum.summary_stats['ndiff']\n",
    "    weights.append(stratum.summary_stats['N'])\n",
    "df_strat_balance = df_strat_balance.abs()\n",
    "\n",
    "\n",
    "for row, column in df.iterrows():\n",
    "    print(row)\n",
    "    df_balance.loc[row, COLUMN_NAME] = np.average(column, weights=np.asarray(weights)).round(2)"
   ]
  },
  {
   "cell_type": "code",
   "execution_count": null,
   "metadata": {
    "pycharm": {
     "name": "#%%\n"
    }
   },
   "outputs": [],
   "source": [
    "df_balance.loc['mean'] = df.mean()\n",
    "df_balance.index = propensity_model.covariates_name"
   ]
  },
  {
   "cell_type": "code",
   "execution_count": null,
   "metadata": {
    "pycharm": {
     "name": "#%%\n"
    }
   },
   "outputs": [],
   "source": [
    "df_balance\n"
   ]
  },
  {
   "cell_type": "code",
   "execution_count": null,
   "metadata": {
    "pycharm": {
     "name": "#%%\n"
    }
   },
   "outputs": [],
   "source": [
    "# What if I train using an XGBoost?\n",
    "\n",
    "\n",
    "def compare_balance()"
   ]
  },
  {
   "cell_type": "markdown",
   "metadata": {
    "pycharm": {
     "name": "#%% md\n"
    }
   },
   "source": [
    "#### OLS estimation"
   ]
  },
  {
   "cell_type": "code",
   "execution_count": null,
   "metadata": {
    "pycharm": {
     "name": "#%%\n"
    }
   },
   "outputs": [],
   "source": [
    "import statsmodels.api as sm\n",
    "import numpy as np"
   ]
  },
  {
   "cell_type": "code",
   "execution_count": null,
   "metadata": {
    "pycharm": {
     "name": "#%%\n"
    }
   },
   "outputs": [],
   "source": [
    "X.shape"
   ]
  },
  {
   "cell_type": "code",
   "execution_count": null,
   "metadata": {
    "pycharm": {
     "name": "#%%\n"
    }
   },
   "outputs": [],
   "source": [
    "t.reshape((len(t), 1)).shape"
   ]
  },
  {
   "cell_type": "code",
   "execution_count": null,
   "metadata": {
    "pycharm": {
     "name": "#%%\n"
    }
   },
   "outputs": [],
   "source": [
    "y.shape"
   ]
  },
  {
   "cell_type": "code",
   "execution_count": null,
   "metadata": {
    "pycharm": {
     "name": "#%%\n"
    }
   },
   "outputs": [],
   "source": [
    "X_morbid = np.multiply(t, X[:, 14])"
   ]
  },
  {
   "cell_type": "code",
   "execution_count": null,
   "metadata": {
    "pycharm": {
     "name": "#%%\n"
    }
   },
   "outputs": [],
   "source": [
    "from sklearn.preprocessing import PolynomialFeatures\n",
    "X_new = sm.add_constant(np.hstack((t.reshape((len(t), 1)),X)))\n",
    "#X_new = np.hstack((X_new, X_morbid.reshape((len(t), 1))))"
   ]
  },
  {
   "cell_type": "code",
   "execution_count": null,
   "metadata": {
    "pycharm": {
     "name": "#%%\n"
    }
   },
   "outputs": [],
   "source": [
    "poly = PolynomialFeatures(2)\n",
    "poly.fit_transform(X_new)\n",
    "poly = PolynomialFeatures(include_bias=True, interaction_only=False)\n",
    "X_new = poly.fit_transform(X_new)"
   ]
  },
  {
   "cell_type": "code",
   "execution_count": null,
   "metadata": {
    "pycharm": {
     "name": "#%%\n"
    }
   },
   "outputs": [],
   "source": [
    "poly.get_feature_names()"
   ]
  },
  {
   "cell_type": "code",
   "execution_count": null,
   "metadata": {
    "pycharm": {
     "name": "#%%\n"
    }
   },
   "outputs": [],
   "source": [
    "X_morbid = X[:, 14]\n",
    "sum(X_morbid)"
   ]
  },
  {
   "cell_type": "code",
   "execution_count": null,
   "metadata": {
    "pycharm": {
     "name": "#%%\n"
    }
   },
   "outputs": [],
   "source": [
    "obese = X[:, 14] > 0"
   ]
  },
  {
   "cell_type": "code",
   "execution_count": null,
   "metadata": {
    "pycharm": {
     "name": "#%%\n"
    }
   },
   "outputs": [],
   "source": [
    "obese"
   ]
  },
  {
   "cell_type": "code",
   "execution_count": null,
   "metadata": {
    "pycharm": {
     "name": "#%%\n"
    }
   },
   "outputs": [],
   "source": [
    "X_obese = X_new[obese]\n",
    "\n",
    "X_obese.shape"
   ]
  },
  {
   "cell_type": "code",
   "execution_count": null,
   "metadata": {
    "pycharm": {
     "name": "#%%\n"
    }
   },
   "outputs": [],
   "source": [
    "sum(t[obese]) / len(t[obese])"
   ]
  },
  {
   "cell_type": "code",
   "execution_count": null,
   "metadata": {
    "pycharm": {
     "name": "#%%\n"
    }
   },
   "outputs": [],
   "source": [
    "sum(t[~obese]) / len(t[~obese])"
   ]
  },
  {
   "cell_type": "code",
   "execution_count": null,
   "metadata": {
    "pycharm": {
     "name": "#%%\n"
    }
   },
   "outputs": [],
   "source": [
    "model = sm.OLS(y, X_new)\n",
    "\n",
    "results = model.fit()\n",
    "\n",
    "print('R2: ', results.rsquared)\n",
    "print(results.summary())"
   ]
  },
  {
   "cell_type": "code",
   "execution_count": null,
   "metadata": {
    "pycharm": {
     "name": "#%%\n"
    }
   },
   "outputs": [],
   "source": [
    "df_ols_summary = pd.DataFrame({'OLS_coef_':results.params.round(2).tolist()},\n",
    "                              index=['intercept', 'treated'] + covariates)\n",
    "df_ols_summary['OLS_pvalues_'] = results.pvalues.round(2)\n",
    "df_ols_summary"
   ]
  },
  {
   "cell_type": "code",
   "execution_count": null,
   "metadata": {
    "pycharm": {
     "name": "#%%\n"
    }
   },
   "outputs": [],
   "source": [
    "from statsmodels.compat import lzip\n",
    "\n",
    "import numpy as np\n",
    "import pandas as pd\n",
    "import statsmodels.formula.api as smf\n",
    "import statsmodels.stats.api as sms\n",
    "\n",
    "name = ['Jarque-Bera', 'Chi^2 two-tail prob.', 'Skew', 'Kurtosis']\n",
    "test = sms.jarque_bera(results.resid)\n",
    "lzip(name, test)"
   ]
  },
  {
   "cell_type": "code",
   "execution_count": null,
   "metadata": {
    "pycharm": {
     "name": "#%%\n"
    }
   },
   "outputs": [],
   "source": [
    "# Add interactions\n",
    "\n",
    "log_reg = sm.Logit(t, X).fit()"
   ]
  },
  {
   "cell_type": "code",
   "execution_count": null,
   "metadata": {
    "pycharm": {
     "name": "#%%\n"
    }
   },
   "outputs": [],
   "source": [
    "print(log_reg.summary())"
   ]
  },
  {
   "cell_type": "code",
   "execution_count": null,
   "metadata": {
    "pycharm": {
     "name": "#%%\n"
    }
   },
   "outputs": [],
   "source": [
    "covariates"
   ]
  },
  {
   "cell_type": "code",
   "execution_count": null,
   "metadata": {
    "pycharm": {
     "name": "#%%\n"
    }
   },
   "outputs": [],
   "source": [
    "import statsmodels.api as sm\n",
    "\n",
    "log_reg = sm.Logit(t, sm.add_constant(X)).fit()\n",
    "\n",
    "print(log_reg.summary())"
   ]
  },
  {
   "cell_type": "code",
   "execution_count": null,
   "metadata": {
    "pycharm": {
     "name": "#%%\n"
    }
   },
   "outputs": [],
   "source": [
    "y, t, X = get_training_data(df=df_encoded[['pf_ratio',\n",
    "                                          'peep',\n",
    "                                          'fio2',\n",
    "                                          'tidal_volume',\n",
    "                                          'nice_copd_True',\n",
    "                                          'nice_hem_malign_True']],\n",
    "                            treatment_col='treated',\n",
    "                            outcome_col=OUTCOME)\n",
    "\n",
    "covariates = get_covariate_names(df=df_encoded,\n",
    "                                 treatment_col='treated',\n",
    "                                 outcome_col=OUTCOME)"
   ]
  },
  {
   "cell_type": "code",
   "execution_count": null,
   "metadata": {
    "pycharm": {
     "name": "#%%\n"
    }
   },
   "outputs": [],
   "source": [
    "new_X = np.hstack((X**(i+1) for i in range(k)))"
   ]
  },
  {
   "cell_type": "code",
   "execution_count": null,
   "metadata": {
    "pycharm": {
     "name": "#%%\n"
    }
   },
   "outputs": [],
   "source": [
    "import numpy as np\n",
    "\n",
    "from scipy.stats import uniform, randint\n",
    "\n",
    "from sklearn.datasets import load_breast_cancer, load_diabetes, load_wine\n",
    "from sklearn.metrics import auc, accuracy_score, confusion_matrix, mean_squared_error\n",
    "from sklearn.model_selection import cross_val_score, GridSearchCV, KFold, RandomizedSearchCV, train_test_split\n",
    "\n",
    "import xgboost as xgb"
   ]
  },
  {
   "cell_type": "code",
   "execution_count": null,
   "metadata": {
    "pycharm": {
     "name": "#%%\n"
    }
   },
   "outputs": [],
   "source": [
    "print(X.shape)\n",
    "\n",
    "print(t.shape)\n",
    "\n",
    "print(y.shape)"
   ]
  },
  {
   "cell_type": "code",
   "execution_count": null,
   "metadata": {
    "pycharm": {
     "name": "#%%\n"
    }
   },
   "outputs": [],
   "source": [
    "X_all = np.concatenate((X, t.reshape(len(t), 1)), axis=1)\n",
    "print(X_all.shape)"
   ]
  },
  {
   "cell_type": "code",
   "execution_count": null,
   "metadata": {
    "pycharm": {
     "name": "#%%\n"
    }
   },
   "outputs": [],
   "source": [
    "import numpy as np\n",
    "from sklearn.model_selection import train_test_split\n",
    "\n",
    "X_train, X_test, y_train, y_test = train_test_split(X_all, y)"
   ]
  },
  {
   "cell_type": "code",
   "execution_count": null,
   "metadata": {
    "pycharm": {
     "name": "#%%\n"
    }
   },
   "outputs": [],
   "source": [
    "xgb_model = xgb.XGBRegressor(objective=\"reg:squarederror\", random_state=42)\n",
    "\n",
    "xgb_model.fit(X_train, y_train)\n",
    "\n",
    "y_pred = xgb_model.predict(X_test)\n",
    "\n",
    "rmse=mean_squared_error(y_test, y_pred, squared=False)\n",
    "\n",
    "print(rmse)"
   ]
  },
  {
   "cell_type": "code",
   "execution_count": null,
   "metadata": {
    "pycharm": {
     "name": "#%%\n"
    }
   },
   "outputs": [],
   "source": [
    "from sklearn.metrics import r2_score\n",
    "\n",
    "coefficient_of_dermination = r2_score(y_test, y_pred)\n",
    "print(coefficient_of_dermination)"
   ]
  },
  {
   "cell_type": "code",
   "execution_count": null,
   "metadata": {
    "pycharm": {
     "name": "#%%\n"
    }
   },
   "outputs": [],
   "source": [
    "test_treated = X_test\n",
    "test_treated[:, -1] = 1\n",
    "m_1 = xgb_model.predict(test_treated)\n",
    "test_treated[:, -1] = 0\n",
    "m_0 = xgb_model.predict(test_treated)\n",
    "\n",
    "print(np.mean(m_1 - m_0))"
   ]
  },
  {
   "cell_type": "code",
   "execution_count": null,
   "metadata": {
    "pycharm": {
     "name": "#%%\n"
    }
   },
   "outputs": [],
   "source": [
    "def logit_ip_f(y, X):\n",
    "    \"\"\"\n",
    "    Create the f(y|X) part of IP weights\n",
    "    from logistic regression\n",
    "\n",
    "    Parameters\n",
    "    ----------\n",
    "    y : Pandas Series\n",
    "    X : Pandas DataFrame\n",
    "\n",
    "    Returns\n",
    "    -------\n",
    "    Numpy array of IP weights\n",
    "\n",
    "    \"\"\"\n",
    "    model = sm.Logit(y, X)\n",
    "    res = model.fit()\n",
    "    weights = np.zeros(X.shape[0])\n",
    "    weights[y == 1] = res.predict(X[y == 1])\n",
    "    weights[y == 0] = (1 - res.predict(X[y == 0]))\n",
    "    return weights"
   ]
  },
  {
   "cell_type": "code",
   "execution_count": null,
   "metadata": {
    "pycharm": {
     "name": "#%%\n"
    }
   },
   "outputs": [],
   "source": [
    "denoms = logit_ip_f(t, X)\n",
    "weights = 1 / denoms"
   ]
  },
  {
   "cell_type": "code",
   "execution_count": null,
   "metadata": {
    "pycharm": {
     "name": "#%%%\n"
    }
   },
   "outputs": [],
   "source": [
    "wls = sm.WLS(y, sm.add_constant(X), weights=weights)\n",
    "res = wls.fit()\n",
    "print(res.summary())"
   ]
  },
  {
   "cell_type": "code",
   "execution_count": null,
   "metadata": {
    "pycharm": {
     "name": "#%%\n"
    }
   },
   "outputs": [],
   "source": []
  }
 ],
 "metadata": {
  "kernelspec": {
   "display_name": "Python 3",
   "language": "python",
   "name": "python3"
  },
  "language_info": {
   "codemirror_mode": {
    "name": "ipython",
    "version": 2
   },
   "file_extension": ".py",
   "mimetype": "text/x-python",
   "name": "python",
   "nbconvert_exporter": "python",
   "pygments_lexer": "ipython2"
  }
 },
 "nbformat": 4,
 "nbformat_minor": 0
}
