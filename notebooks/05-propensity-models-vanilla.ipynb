{
 "cells": [
  {
   "cell_type": "code",
   "execution_count": null,
   "metadata": {
    "pycharm": {
     "name": "#%%\n"
    }
   },
   "outputs": [],
   "source": [
    "%reset"
   ]
  },
  {
   "cell_type": "code",
   "execution_count": null,
   "metadata": {
    "pycharm": {
     "name": "#%% Import all libraries\n"
    }
   },
   "outputs": [],
   "source": [
    "import pandas as pd\n",
    "import numpy as np\n",
    "\n",
    "import sys, os\n",
    "\n",
    "import seaborn as sns\n",
    "import matplotlib.pyplot as plt\n",
    "\n",
    "from causalinference import CausalModel\n",
    "\n",
    "from sklearn.impute import SimpleImputer\n",
    "from sklearn.preprocessing import StandardScaler\n",
    "from sklearn.metrics import roc_auc_score\n",
    "from importlib import reload\n",
    "\n",
    "from scipy.stats import wasserstein_distance\n",
    "from scipy import stats"
   ]
  },
  {
   "cell_type": "code",
   "execution_count": null,
   "metadata": {
    "pycharm": {
     "name": "#%%\n"
    }
   },
   "outputs": [],
   "source": [
    "def process_data(df, outcome, thresh=0.6):\n",
    "\n",
    "    # prepare outcomes\n",
    "    outcomes_to_delete = df.filter(regex='outcome').\\\n",
    "                            columns.\\\n",
    "                            to_list()\n",
    "    outcomes_to_delete.remove(outcome)\n",
    "    df.drop(columns=outcomes_to_delete,\n",
    "            inplace=True)\n",
    "    df.dropna(subset=[outcome], inplace=True)\n",
    "\n",
    "    # drop columns with missing values exceeding the thresh\n",
    "    thresh = round(thresh * len(df.index))\n",
    "    df = df.dropna(thresh=thresh, axis=1)\n",
    "\n",
    "    # get dummies\n",
    "    df = pd.get_dummies(df)\n",
    "    columns_to_drop = ['gender_M'] + df.filter(regex='False').columns.to_list()\n",
    "    df.drop(columns=columns_to_drop, inplace=True)\n",
    "\n",
    "    # convert to bool\n",
    "    for column in df.select_dtypes(include=['uint8']).columns.to_list():\n",
    "        df[column] = df[column] == 1\n",
    "\n",
    "    return df\n",
    "\n",
    "def get_training_data(df, treatment_col, outcome_col):\n",
    "\n",
    "    cols_num = df.select_dtypes(include=['float64']).columns.to_list()\n",
    "    if outcome_col in cols_num:\n",
    "        cols_num.remove(outcome_col)\n",
    "    cols_bool = df.select_dtypes(include=['uint8', 'bool']).columns.to_list()\n",
    "    if treatment_col in cols_bool:\n",
    "        cols_bool.remove(treatment_col)\n",
    "\n",
    "    t = df_encoded.loc[:, treatment_col].values\n",
    "    X_bool = df_encoded[cols_bool].values\n",
    "    X_num = df_encoded[cols_num].values\n",
    "    y = df_encoded.loc[:, outcome_col].values\n",
    "\n",
    "\n",
    "    imp = SimpleImputer(missing_values=np.nan, strategy='mean')\n",
    "    imp.fit(X_num)\n",
    "    X_num = imp.transform(X_num)\n",
    "    scaler = StandardScaler().fit(X_num)\n",
    "    X_num = scaler.transform(X_num)\n",
    "    X = np.hstack((X_num, X_bool))\n",
    "\n",
    "    return y, t, X\n",
    "\n",
    "def get_covariate_names(df, treatment_col, outcome_col):\n",
    "\n",
    "    cols_num = df.select_dtypes(include=['float64']).columns.to_list()\n",
    "    if outcome_col in cols_num:\n",
    "        cols_num.remove(outcome_col)\n",
    "    cols_bool = df.select_dtypes(include=['uint8', 'bool']).columns.to_list()\n",
    "    if treatment_col in cols_bool:\n",
    "        cols_bool.remove(treatment_col)\n",
    "\n",
    "    return cols_num + cols_bool"
   ]
  },
  {
   "cell_type": "code",
   "execution_count": null,
   "metadata": {
    "pycharm": {
     "name": "#%%\n"
    }
   },
   "outputs": [],
   "source": [
    "os.chdir('/home/adam/files/causal_inference')\n",
    "from causal_inference.model.propensity_model import PropensityModel\n",
    "reload(sys.modules['causal_inference.model.propensity_model'])\n",
    "from causal_inference.model.propensity_model import PropensityModel"
   ]
  },
  {
   "cell_type": "code",
   "execution_count": null,
   "metadata": {
    "pycharm": {
     "name": "#%% Load the data\n"
    }
   },
   "outputs": [],
   "source": [
    "os.chdir('/home/adam/files/data/13012020/')\n",
    "df = pd.read_csv('data_guerin_rct.csv')\n",
    "df.info(max_cols=200)"
   ]
  },
  {
   "cell_type": "code",
   "execution_count": null,
   "metadata": {
    "pycharm": {
     "name": "#%%\n"
    }
   },
   "outputs": [],
   "source": [
    "df = df[(df.pf_ratio > 0) & (df.fio2 > 60)]\n",
    "df.info(max_cols=200)"
   ]
  },
  {
   "cell_type": "code",
   "execution_count": null,
   "metadata": {
    "pycharm": {
     "name": "#%% Drop outliers of p/f ratio\n"
    }
   },
   "outputs": [],
   "source": [
    "\n",
    "df.loc[df.treated, 'pf_ratio'].describe()"
   ]
  },
  {
   "cell_type": "code",
   "execution_count": null,
   "metadata": {
    "pycharm": {
     "name": "#%%\n"
    }
   },
   "outputs": [],
   "source": [
    "df.loc[~df.treated, 'pf_ratio'].describe()"
   ]
  },
  {
   "cell_type": "code",
   "execution_count": null,
   "metadata": {
    "pycharm": {
     "name": "#%%\n"
    }
   },
   "outputs": [],
   "source": [
    "OUTCOME = 'pf_ratio_12h_outcome'\n",
    "df_encoded = process_data(df=df, outcome=OUTCOME)\n",
    "df_encoded.info()\n",
    "\n",
    "y, t, X = get_training_data(df=df_encoded,\n",
    "                            treatment_col='treated',\n",
    "                            outcome_col=OUTCOME)\n",
    "\n",
    "covariates = get_covariate_names(df=df_encoded,\n",
    "                                 treatment_col='treated',\n",
    "                                 outcome_col=OUTCOME)"
   ]
  },
  {
   "cell_type": "markdown",
   "metadata": {},
   "source": [
    "## 3. Causal modelling"
   ]
  },
  {
   "cell_type": "markdown",
   "metadata": {
    "pycharm": {
     "name": "#%% md\n"
    }
   },
   "source": [
    "## a. All variables"
   ]
  },
  {
   "cell_type": "code",
   "execution_count": null,
   "metadata": {
    "pycharm": {
     "name": "#%%\n"
    }
   },
   "outputs": [],
   "source": [
    "propensity_model_all = PropensityModel(outcome=y,\n",
    "                                   treatment=t,\n",
    "                                   covariates=X,\n",
    "                                   outcome_name=OUTCOME,\n",
    "                                   treatment_name='proned',\n",
    "                                   covariates_name=covariates)\n",
    "propensity_model_all.summary_stats()\n"
   ]
  },
  {
   "cell_type": "code",
   "execution_count": null,
   "metadata": {
    "pycharm": {
     "name": "#%%\n"
    }
   },
   "outputs": [],
   "source": [
    "propensity_model_all.est_propensity(X=X, t=t, method='balanced')\n",
    "propensity_model_all.show_propensity()"
   ]
  },
  {
   "cell_type": "code",
   "execution_count": null,
   "metadata": {
    "pycharm": {
     "name": "#%%\n"
    }
   },
   "outputs": [],
   "source": [
    "np.mean(abs(propensity_model_all.causal_model.summary_stats['ndiff']))"
   ]
  },
  {
   "cell_type": "code",
   "execution_count": null,
   "metadata": {
    "pycharm": {
     "name": "#%%\n"
    }
   },
   "outputs": [],
   "source": [
    "propensity_model_all.trim()"
   ]
  },
  {
   "cell_type": "code",
   "execution_count": null,
   "metadata": {
    "pycharm": {
     "name": "#%%\n"
    }
   },
   "outputs": [],
   "source": [
    "np.mean(abs(propensity_model_all.causal_model.summary_stats['ndiff']))"
   ]
  },
  {
   "cell_type": "code",
   "execution_count": null,
   "metadata": {
    "pycharm": {
     "name": "#%%\n"
    }
   },
   "outputs": [],
   "source": [
    "propensity_model_all.causal_model.blocks = [0, 0.45, 0.6, 0.74, 1]\n",
    "propensity_model_all.access_balance(method='default')"
   ]
  },
  {
   "cell_type": "code",
   "execution_count": null,
   "metadata": {
    "pycharm": {
     "name": "#%%\n"
    }
   },
   "outputs": [],
   "source": [
    "propensity_model_all.est_treatment_effect()"
   ]
  },
  {
   "cell_type": "code",
   "execution_count": null,
   "metadata": {
    "pycharm": {
     "name": "#%%\n"
    }
   },
   "outputs": [],
   "source": [
    "propensity_model_all.print_models(raw_effect=9, true_effect=15)"
   ]
  },
  {
   "cell_type": "code",
   "execution_count": null,
   "metadata": {
    "pycharm": {
     "name": "#%%\n"
    }
   },
   "outputs": [],
   "source": [
    "propensity_model_all.access_stability_via_matching()\n"
   ]
  },
  {
   "cell_type": "markdown",
   "metadata": {
    "pycharm": {
     "name": "#%% md\n"
    }
   },
   "source": [
    "## b. All with polynomial features"
   ]
  },
  {
   "cell_type": "code",
   "execution_count": null,
   "metadata": {
    "pycharm": {
     "name": "#%%\n"
    }
   },
   "outputs": [],
   "source": [
    "propensity_model_all_poly = PropensityModel(outcome=y,\n",
    "                                   treatment=t,\n",
    "                                   covariates=X,\n",
    "                                   outcome_name=OUTCOME,\n",
    "                                   treatment_name='proned',\n",
    "                                   covariates_name=covariates)\n",
    "propensity_model_all_poly.summary_stats()"
   ]
  },
  {
   "cell_type": "code",
   "execution_count": null,
   "metadata": {
    "pycharm": {
     "name": "#%% Select good columns\n"
    }
   },
   "outputs": [],
   "source": [
    "propensity_cols = propensity_model.get_imbalanced_covariates(thresh=0.14)\n",
    "\n",
    "if 'gender_V' in propensity_cols:\n",
    "    propensity_cols.remove('gender_V')\n",
    "if 'ph' in propensity_cols:\n",
    "    propensity_cols.remove('ph')\n",
    "if 'pco2' in propensity_cols:\n",
    "    propensity_cols.remove('pco2')\n",
    "if 'po2' in propensity_cols:\n",
    "    propensity_cols.remove('po2')\n",
    "\n",
    "\n",
    "y_subset, t_subset, X_subset = get_training_data(df=df_encoded[propensity_cols],\n",
    "                                                 treatment_col='treated',\n",
    "                                                 outcome_col=OUTCOME)\n",
    "\n",
    "covariates = get_covariate_names(df=df_encoded[propensity_cols],\n",
    "                                 treatment_col='treated',\n",
    "                                 outcome_col=OUTCOME)\n",
    "\n",
    "\n",
    "print(covariates)"
   ]
  },
  {
   "cell_type": "code",
   "execution_count": null,
   "metadata": {
    "pycharm": {
     "name": "#%%\n"
    }
   },
   "outputs": [],
   "source": [
    "from sklearn.preprocessing import PolynomialFeatures\n",
    "\n",
    "poly = PolynomialFeatures(2)\n",
    "poly.fit_transform(X)\n",
    "poly = PolynomialFeatures(include_bias=False, interaction_only=True)\n",
    "X_poly = poly.fit_transform(X)"
   ]
  },
  {
   "cell_type": "code",
   "execution_count": null,
   "metadata": {
    "pycharm": {
     "name": "#%%\n"
    }
   },
   "outputs": [],
   "source": [
    "propensity_model_all_poly.est_propensity(X=X_poly, t=t, method='balanced')\n",
    "#propensity_model.est_propensity(X=X_subset, t=t_subset, method='balanced')\n",
    "propensity_model_all_poly.show_propensity()"
   ]
  },
  {
   "cell_type": "code",
   "execution_count": null,
   "metadata": {
    "pycharm": {
     "name": "#%%\n"
    }
   },
   "outputs": [],
   "source": [
    "np.mean(abs(propensity_model_all_poly.causal_model.summary_stats['ndiff']))"
   ]
  },
  {
   "cell_type": "code",
   "execution_count": null,
   "metadata": {
    "pycharm": {
     "name": "#%%\n"
    }
   },
   "outputs": [],
   "source": [
    "propensity_model_all_poly.trim()"
   ]
  },
  {
   "cell_type": "code",
   "execution_count": null,
   "metadata": {
    "pycharm": {
     "name": "#%%\n"
    }
   },
   "outputs": [],
   "source": [
    "np.mean(abs(propensity_model_all_poly.causal_model.summary_stats['ndiff']))"
   ]
  },
  {
   "cell_type": "code",
   "execution_count": null,
   "metadata": {
    "pycharm": {
     "name": "#%%\n"
    }
   },
   "outputs": [],
   "source": [
    "propensity_model_all_poly.causal_model.blocks = [0, 0.5, 0.65, 0.8, 1]\n",
    "propensity_model_all_poly.access_balance(method='default')"
   ]
  },
  {
   "cell_type": "code",
   "execution_count": null,
   "metadata": {
    "pycharm": {
     "name": "#%%\n"
    }
   },
   "outputs": [],
   "source": [
    "propensity_model_all_poly.est_treatment_effect()"
   ]
  },
  {
   "cell_type": "code",
   "execution_count": null,
   "metadata": {
    "pycharm": {
     "name": "#%%\n"
    }
   },
   "outputs": [],
   "source": [
    "propensity_model_all_poly.print_models(raw_effect=9, true_effect=15)"
   ]
  },
  {
   "cell_type": "code",
   "execution_count": null,
   "metadata": {
    "pycharm": {
     "name": "#%%\n"
    }
   },
   "outputs": [],
   "source": [
    "propensity_model.access_stability_via_matching()"
   ]
  },
  {
   "cell_type": "code",
   "execution_count": null,
   "metadata": {
    "pycharm": {
     "name": "#%%\n"
    }
   },
   "outputs": [],
   "source": [
    "propensity_model.access_stability_via_ols()"
   ]
  },
  {
   "cell_type": "code",
   "execution_count": null,
   "metadata": {
    "pycharm": {
     "name": "#%%\n"
    }
   },
   "outputs": [],
   "source": [
    "n_of_control = []\n",
    "n_of_treated = []\n",
    "p_bin = []\n",
    "effect = []\n",
    "\n",
    "for stratum in propensity_model.causal_model.strata:\n",
    "    p_min = stratum.summary_stats['p_min'].round(2)\n",
    "    p_max = stratum.summary_stats['p_max'].round(2)\n",
    "    index = '[{},{}]'.format(p_min, p_max)\n",
    "    p_bin.append(index)\n",
    "\n",
    "    stratum.est_via_matching(bias_adj=True)\n",
    "    ate = stratum.estimates['matching']['ate']\n",
    "    effect.append(ate)\n",
    "\n",
    "    n_of_control.append(stratum.summary_stats['N_c'])\n",
    "    n_of_treated.append(stratum.summary_stats['N_t'])\n",
    "\n",
    "df = pd.DataFrame({'n_of_treated': n_of_treated,\n",
    "                   'n_of_control': n_of_control,\n",
    "                   'ate': effect}, index=p_bin)"
   ]
  },
  {
   "cell_type": "code",
   "execution_count": null,
   "metadata": {
    "pycharm": {
     "name": "#%%\n"
    }
   },
   "outputs": [],
   "source": [
    "ax =  df.plot.bar(y=['n_of_control', 'n_of_treated'], ylabel='Frequency', figsize=(10, 5))\n",
    "df.plot(y='ate', c='k', ax=ax, use_index=False, secondary_y=True, mark_right=False)\n",
    "ax.right_ax.set_ylabel('ATE')"
   ]
  },
  {
   "cell_type": "code",
   "execution_count": null,
   "metadata": {
    "pycharm": {
     "name": "#%% Initialize df_balance\n"
    }
   },
   "outputs": [],
   "source": [
    "# https://seaborn.pydata.org/examples/pairgrid_dotplot.html\n"
   ]
  },
  {
   "cell_type": "code",
   "execution_count": null,
   "metadata": {
    "pycharm": {
     "name": "#%% Initialize\n"
    }
   },
   "outputs": [],
   "source": [
    "df_balance = pd.DataFrame([], columns=['raw_diff', 'all', 'all_poly', 'subset', 'subset_poly'])\n",
    "df_balance.loc[:,'raw_diff'] = propensity_model.causal_model.summary_stats['ndiff']\n",
    "df_balance = df_balance.abs().round(2)"
   ]
  },
  {
   "cell_type": "code",
   "execution_count": null,
   "metadata": {
    "pycharm": {
     "name": "#%% Add column\n"
    }
   },
   "outputs": [],
   "source": [
    "COLUMN_NAME = 'all'\n",
    "df_balance[COLUMN_NAME] = 0"
   ]
  },
  {
   "cell_type": "code",
   "execution_count": null,
   "metadata": {
    "pycharm": {
     "name": "#%%\n"
    }
   },
   "outputs": [],
   "source": [
    "df_strat_balance = pd.DataFrame([])\n",
    "weights = []\n",
    "n_of_strata = 0\n",
    "\n",
    "for stratum in propensity_model.causal_model.strata:\n",
    "    n_of_strata += 1\n",
    "    column = 'strata_{}'.format(n_of_strata)\n",
    "    df_strat_balance[column] = stratum.summary_stats['ndiff']\n",
    "    weights.append(stratum.summary_stats['N'])\n",
    "df_strat_balance = df_strat_balance.abs()\n",
    "\n",
    "\n",
    "for row, column in df.iterrows():\n",
    "    print(row)\n",
    "    df_balance.loc[row, COLUMN_NAME] = np.average(column, weights=np.asarray(weights)).round(2)"
   ]
  },
  {
   "cell_type": "code",
   "execution_count": null,
   "metadata": {
    "pycharm": {
     "name": "#%%\n"
    }
   },
   "outputs": [],
   "source": [
    "df_balance.loc['mean'] = df.mean()\n",
    "df_balance.index = propensity_model.covariates_name"
   ]
  },
  {
   "cell_type": "code",
   "execution_count": null,
   "metadata": {
    "pycharm": {
     "name": "#%%\n"
    }
   },
   "outputs": [],
   "source": [
    "df_balance\n"
   ]
  },
  {
   "cell_type": "code",
   "execution_count": null,
   "metadata": {
    "pycharm": {
     "name": "#%%\n"
    }
   },
   "outputs": [],
   "source": [
    "# What if I train using an XGBoost?\n",
    "\n",
    "\n",
    "def compare_balance()"
   ]
  }
 ],
 "metadata": {
  "kernelspec": {
   "display_name": "Python 3",
   "language": "python",
   "name": "python3"
  },
  "language_info": {
   "codemirror_mode": {
    "name": "ipython",
    "version": 2
   },
   "file_extension": ".py",
   "mimetype": "text/x-python",
   "name": "python",
   "nbconvert_exporter": "python",
   "pygments_lexer": "ipython2"
  }
 },
 "nbformat": 4,
 "nbformat_minor": 0
}
