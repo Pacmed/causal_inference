{
 "cells": [
  {
   "cell_type": "code",
   "execution_count": null,
   "metadata": {},
   "outputs": [],
   "source": []
  },
  {
   "cell_type": "code",
   "execution_count": null,
   "metadata": {
    "pycharm": {
     "name": "#%%\n"
    }
   },
   "outputs": [],
   "source": [
    "import pandas as pd\n",
    "import numpy as np\n",
    "\n",
    "import sys, os\n",
    "\n",
    "import seaborn as sns\n",
    "import matplotlib.pyplot as plt\n",
    "\n",
    "from causalinference import CausalModel\n",
    "\n",
    "from sklearn.impute import SimpleImputer\n",
    "from sklearn.preprocessing import StandardScaler\n",
    "\n",
    "from scipy.stats import wasserstein_distance\n",
    "from scipy import stats"
   ]
  },
  {
   "cell_type": "code",
   "execution_count": null,
   "metadata": {
    "pycharm": {
     "name": "#%% Load the data\n"
    }
   },
   "outputs": [],
   "source": [
    "os.chdir('/home/adam/files/data/04012020/')\n",
    "df = pd.read_csv('data_guerin_rct.csv')"
   ]
  },
  {
   "cell_type": "code",
   "execution_count": null,
   "metadata": {
    "pycharm": {
     "name": "#%% drop outcome\n"
    }
   },
   "outputs": [],
   "source": [
    "df.drop(columns=['pf_ratio_4h_outcome'], inplace=True)\n",
    "df.dropna(subset=['pf_ratio_12h_outcome'], inplace=True)"
   ]
  },
  {
   "cell_type": "code",
   "execution_count": null,
   "metadata": {
    "pycharm": {
     "name": "#%%\n"
    }
   },
   "outputs": [],
   "source": [
    "df.info(max_cols=200)"
   ]
  },
  {
   "cell_type": "code",
   "execution_count": null,
   "metadata": {
    "pycharm": {
     "name": "#%%\n"
    }
   },
   "outputs": [],
   "source": [
    "COLS = ['lactate',\n",
    "        'tidal_volume',\n",
    "        'respiratory_rate_measured',\n",
    "        'peep',\n",
    "        'fio2']\n",
    "        #'lung_compliance_static'\n",
    "\n",
    "# tidal volume is highly correlated with lung_compliance\n",
    "# and tidal volume is more imbalanced and have more observations\n",
    "\n",
    "COLS_bool = df.filter(regex='med').columns.to_list()"
   ]
  },
  {
   "cell_type": "code",
   "execution_count": null,
   "metadata": {
    "pycharm": {
     "name": "#%%\n"
    }
   },
   "outputs": [],
   "source": [
    "#df_one_hot_encoded = pd.get_dummies(df[COLS_bool])\n",
    "#df_one_hot_encoded.drop(columns=df_one_hot_encoded.\n",
    "#                        filter(regex='False').\n",
    "#                        filter(regex=\"nice\").\n",
    "#                        columns.\n",
    "#                        to_list(),\n",
    "#                        inplace=True)\n",
    "#\n",
    "#df_one_hot_encoded.info()"
   ]
  },
  {
   "cell_type": "code",
   "execution_count": null,
   "metadata": {
    "pycharm": {
     "name": "#%%\n"
    }
   },
   "outputs": [],
   "source": [
    "df[COLS].corr().round(2)"
   ]
  },
  {
   "cell_type": "code",
   "execution_count": null,
   "metadata": {
    "pycharm": {
     "name": "#%%\n"
    }
   },
   "outputs": [],
   "source": [
    "treated = df_one_hot_encoded.iloc[:,0].values.astype('int')\n",
    "\n",
    "t = df_one_hot_encoded.loc[:, 'treated'].values\n",
    "print(t.shape)\n",
    "X = df_one_hot_encoded.drop(columns=['treated', 'pf_ratio_12h_outcome']).values\n",
    "print(X.shape)\n",
    "y = df_one_hot_encoded.loc[:, 'pf_ratio_12h_outcome'].values\n",
    "print(y.shape)"
   ]
  },
  {
   "cell_type": "code",
   "execution_count": null,
   "metadata": {
    "pycharm": {
     "name": "#%% Impute missing values\n"
    }
   },
   "outputs": [],
   "source": [
    "imp = SimpleImputer(missing_values=np.nan, strategy='mean')\n",
    "imp.fit(X)\n",
    "X = imp.transform(X)\n",
    "\n",
    "# Standardize the predictors\n",
    "scaler = StandardScaler().fit(X)\n",
    "X = scaler.transform(X)"
   ]
  },
  {
   "cell_type": "markdown",
   "metadata": {},
   "source": [
    "## 3. Causal modelling"
   ]
  },
  {
   "cell_type": "code",
   "execution_count": null,
   "metadata": {
    "pycharm": {
     "name": "#%%\n"
    }
   },
   "outputs": [],
   "source": [
    "# Instantiate CausalModel\n",
    "\n",
    "causal = CausalModel(y, t, X)\n",
    "print(causal.summary_stats)"
   ]
  },
  {
   "cell_type": "code",
   "execution_count": null,
   "metadata": {
    "pycharm": {
     "name": "#%%\n"
    }
   },
   "outputs": [],
   "source": [
    "X_names = df_one_hot_encoded.drop(columns=['treated', 'pf_ratio_12h_outcome']).columns.to_list()\n",
    "ndiff = causal.summary_stats['ndiff']\n",
    "new_dict = {k: round(v, 2) for k, v in zip(X_names, ndiff)}\n",
    "print(new_dict)\n"
   ]
  },
  {
   "cell_type": "code",
   "execution_count": null,
   "metadata": {
    "pycharm": {
     "name": "#%%\n"
    }
   },
   "outputs": [],
   "source": [
    "df_summary = pd.DataFrame({'ndiff': ndiff}, index=X_names)\n",
    "df_summary['ndiff'] = df_summary['ndiff'].map(lambda x: round(x, 2))"
   ]
  },
  {
   "cell_type": "code",
   "execution_count": null,
   "metadata": {
    "pycharm": {
     "name": "#%%\n"
    }
   },
   "outputs": [],
   "source": [
    "from sklearn.metrics import classification_report, confusion_matrix\n",
    "\n",
    "SEED = 1234\n",
    "from sklearn.linear_model import LogisticRegression\n",
    "clf = LogisticRegression(random_state=SEED,\n",
    "                         class_weight='balanced',\n",
    "                         penalty='none').fit(X, t)\n",
    "print(classification_report(y, clf.predict(X)))\n",
    "pscore = clf.predict_proba(X)[:, 1]\n",
    "df_summary['lr_coef'] = clf.coef_.round(2).reshape((20,))"
   ]
  },
  {
   "cell_type": "code",
   "execution_count": null,
   "metadata": {
    "pycharm": {
     "name": "#%%\n"
    }
   },
   "outputs": [],
   "source": [
    "confusion_matrix(y, clf.predict(X))"
   ]
  },
  {
   "cell_type": "code",
   "execution_count": null,
   "metadata": {
    "pycharm": {
     "name": "#%%\n"
    }
   },
   "outputs": [],
   "source": [
    "sns.distplot(pscore[t],\n",
    "             hist = True,\n",
    "             kde = True,\n",
    "             label='Prone')\n",
    "\n",
    "sns.distplot(pscore[~t],\n",
    "             hist = True,\n",
    "             kde = True,\n",
    "             label='Supine')\n",
    "\n",
    "# Plot formatting\n",
    "plt.legend(prop={'size': 12})\n",
    "plt.title('Pscore')\n",
    "plt.xlabel('pscore')\n",
    "plt.ylabel('Density')"
   ]
  },
  {
   "cell_type": "code",
   "execution_count": null,
   "metadata": {
    "pycharm": {
     "name": "#%%\n"
    }
   },
   "outputs": [],
   "source": [
    "causal.raw_data._dict['pscore'] = pscore"
   ]
  },
  {
   "cell_type": "code",
   "execution_count": null,
   "metadata": {
    "pycharm": {
     "name": "#%%\n"
    }
   },
   "outputs": [],
   "source": [
    "\n"
   ]
  },
  {
   "cell_type": "code",
   "execution_count": null,
   "metadata": {
    "pycharm": {
     "name": "#%%\n"
    }
   },
   "outputs": [],
   "source": [
    "# extract obesity as a feature"
   ]
  },
  {
   "cell_type": "code",
   "execution_count": null,
   "metadata": {
    "pycharm": {
     "name": "#%%\n"
    }
   },
   "outputs": [],
   "source": [
    "\n",
    "\n"
   ]
  }
 ],
 "metadata": {
  "kernelspec": {
   "display_name": "Python 3",
   "language": "python",
   "name": "python3"
  },
  "language_info": {
   "codemirror_mode": {
    "name": "ipython",
    "version": 2
   },
   "file_extension": ".py",
   "mimetype": "text/x-python",
   "name": "python",
   "nbconvert_exporter": "python",
   "pygments_lexer": "ipython2"
  }
 },
 "nbformat": 4,
 "nbformat_minor": 0
}
