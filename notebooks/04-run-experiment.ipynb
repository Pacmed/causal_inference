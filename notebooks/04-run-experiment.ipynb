{
 "cells": [
  {
   "cell_type": "markdown",
   "metadata": {},
   "source": [
    "This notebook runs and save an experiment. "
   ]
  },
  {
   "cell_type": "code",
   "execution_count": null,
   "metadata": {
    "pycharm": {
     "name": "#%% Import libraries\n"
    }
   },
   "outputs": [],
   "source": [
    "import os\n",
    "\n",
    "import numpy as np\n",
    "\n",
    "from sklearn.ensemble import RandomForestRegressor\n"
   ]
  },
  {
   "cell_type": "code",
   "execution_count": null,
   "metadata": {
    "pycharm": {
     "name": "#%% Import the package\n"
    }
   },
   "outputs": [],
   "source": [
    "os.chdir('/home/adam/adam/causal_inference')\n",
    "\n",
    "from causal_inference.model.ols import OLS\n",
    "from causal_inference.model.weighting import IPW\n",
    "from causal_inference.model.blocking import Blocking\n",
    "from causal_inference.experiments.run import Experiment\n",
    "\n",
    "%load_ext autoreload\n",
    "%autoreload 2"
   ]
  },
  {
   "cell_type": "code",
   "execution_count": null,
   "metadata": {
    "pycharm": {
     "name": "#%% Initialize constants\n"
    }
   },
   "outputs": [],
   "source": [
    "SEED_VALUE = 1234\n",
    "\n",
    "OUTCOME = 'pf_ratio_2h_8h_manual_outcome'\n",
    "\n",
    "PATH = '/home/adam/adam/data/causal_inference/'\n",
    "\n",
    "TRAIN_DATA_PATH = '/home/adam/adam/data/causal_inference/data/processed/guerin_2_8_train.npz'\n",
    "TEST_DATA_PATH = '/home/adam/adam/data/causal_inference/data/processed/guerin_2_8_test.npz'\n",
    "\n",
    "RESULTS_PATH = f'/home/adam/adam/data/causal_inference/results/{OUTCOME}/'\n",
    "\n",
    "N_OF_ITERATIONS = 100"
   ]
  },
  {
   "cell_type": "code",
   "execution_count": null,
   "metadata": {
    "pycharm": {
     "name": "#%% Set seed\n"
    }
   },
   "outputs": [],
   "source": [
    "np.random.seed(SEED_VALUE)"
   ]
  },
  {
   "cell_type": "code",
   "execution_count": null,
   "metadata": {
    "pycharm": {
     "name": "#%% Load data\n"
    }
   },
   "outputs": [],
   "source": [
    "# Load train data\n",
    "train_data = np.load(TRAIN_DATA_PATH)\n",
    "y_train, t_train, X_train = train_data['yf'], train_data['t'], train_data['x']\n",
    "\n",
    "# Load test data\n",
    "test_data = np.load(TEST_DATA_PATH)\n",
    "y_test, t_test, X_test = test_data['yf'], test_data['t'], test_data['x']"
   ]
  },
  {
   "cell_type": "code",
   "execution_count": null,
   "metadata": {
    "pycharm": {
     "name": "#%% Check Raw diff across bootstrapped train samples\n"
    }
   },
   "outputs": [],
   "source": [
    "diff = []\n",
    "\n",
    "for sample in range(N_OF_ITERATIONS):\n",
    "    y, t = y_train[:, sample], t_train[:, sample]\n",
    "    diff.append(np.mean(y[t]) - np.mean(y[~t]))\n",
    "\n",
    "#diff = np.Series(diff)\n",
    "print(np.mean(diff),\n",
    "      np.percentile(diff, q=2.5, interpolation='higher'),\n",
    "      np.percentile(diff, q=97.5, interpolation='lower'))"
   ]
  },
  {
   "cell_type": "code",
   "execution_count": null,
   "metadata": {
    "pycharm": {
     "name": "#%% Check Raw diff across bootstrapped test samples\n"
    }
   },
   "outputs": [],
   "source": [
    "diff = []\n",
    "\n",
    "for sample in range(N_OF_ITERATIONS):\n",
    "    y, t = y_test[:, sample], t_test[:, sample]\n",
    "    diff.append(np.mean(y[t]) - np.mean(y[~t]))\n",
    "\n",
    "#diff = np.Series(diff)\n",
    "print(np.mean(diff),\n",
    "      np.percentile(diff, q=2.5, interpolation='higher'),\n",
    "      np.percentile(diff, q=97.5, interpolation='lower'))"
   ]
  },
  {
   "cell_type": "code",
   "execution_count": null,
   "metadata": {
    "pycharm": {
     "name": "#%% Initialize the list of models used in the experiment\n"
    }
   },
   "outputs": [],
   "source": [
    "batch_of_models = [OLS(),\n",
    "                   IPW(),\n",
    "                   Blocking()]"
   ]
  },
  {
   "cell_type": "code",
   "execution_count": null,
   "metadata": {
    "pycharm": {
     "name": "#%% Change directory\n"
    }
   },
   "outputs": [],
   "source": [
    "os.chdir(PATH + '/results/')\n",
    "\n",
    "if not (OUTCOME in os.listdir()):\n",
    "    os.makedirs(OUTCOME)\n",
    "\n",
    "os.chdir(RESULTS_PATH)\n",
    "os.getcwd()"
   ]
  },
  {
   "cell_type": "code",
   "execution_count": null,
   "metadata": {
    "pycharm": {
     "name": "#%% Run experiment\n"
    }
   },
   "outputs": [],
   "source": [
    "for model in batch_of_models:\n",
    "\n",
    "    experiment = Experiment(causal_model=model,\n",
    "                            n_of_iterations=N_OF_ITERATIONS)\n",
    "    experiment.run(y_train=y_train, t_train=t_train, X_train=X_train,\n",
    "                   y_test=y_test, t_test=t_test, X_test=X_test)\n",
    "\n",
    "    print(experiment.summary_)\n",
    "\n",
    "    experiment.save(RESULTS_PATH)"
   ]
  },
  {
   "cell_type": "code",
   "execution_count": null,
   "metadata": {
    "pycharm": {
     "name": "#%%\n"
    }
   },
   "outputs": [],
   "source": []
  }
 ],
 "metadata": {
  "kernelspec": {
   "display_name": "Python 3",
   "language": "python",
   "name": "python3"
  },
  "language_info": {
   "codemirror_mode": {
    "name": "ipython",
    "version": 2
   },
   "file_extension": ".py",
   "mimetype": "text/x-python",
   "name": "python",
   "nbconvert_exporter": "python",
   "pygments_lexer": "ipython2"
  }
 },
 "nbformat": 4,
 "nbformat_minor": 0
}
