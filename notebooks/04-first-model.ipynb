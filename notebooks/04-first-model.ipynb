{
 "cells": [
  {
   "cell_type": "code",
   "execution_count": null,
   "metadata": {
    "pycharm": {
     "name": "#%% Import all libraries\n"
    }
   },
   "outputs": [],
   "source": [
    "import pandas as pd\n",
    "import numpy as np\n",
    "\n",
    "import sys, os\n",
    "\n",
    "import seaborn as sns\n",
    "import matplotlib.pyplot as plt"
   ]
  },
  {
   "cell_type": "code",
   "execution_count": null,
   "metadata": {
    "pycharm": {
     "name": "#%% Load the data\n"
    }
   },
   "outputs": [],
   "source": [
    "os.chdir('/home/adam/files/data/17122020/')\n",
    "df = pd.read_csv('data.csv')\n",
    "df.start_timestamp = df.start_timestamp.astype('datetime64[ns]')\n",
    "df.end_timestamp = df.end_timestamp.astype('datetime64[ns]')\n",
    "df.info(max_cols=200)"
   ]
  },
  {
   "cell_type": "code",
   "execution_count": null,
   "metadata": {
    "pycharm": {
     "name": "#%% We drop sessions that ended with a patient dying\n"
    }
   },
   "outputs": [],
   "source": [
    "print(df.has_died_during_session.value_counts())\n",
    "df = df[~df.has_died_during_session]"
   ]
  },
  {
   "cell_type": "code",
   "execution_count": null,
   "metadata": {
    "pycharm": {
     "name": "#%% We drop observations that has no corresponding output\n"
    }
   },
   "outputs": [],
   "source": [
    "print(\"Before:\", df.treated.value_counts())\n",
    "df.dropna(axis=0, how='any', subset=['pf_ratio_12h_outcome'], inplace=True)\n",
    "print(\"After:\", df.treated.value_counts())"
   ]
  },
  {
   "cell_type": "code",
   "execution_count": null,
   "metadata": {
    "pycharm": {
     "name": "#%% Inclusion vs Outcome\n"
    }
   },
   "outputs": [],
   "source": [
    "df_plot = df\n",
    "sns.distplot(df_plot['pf_ratio_inclusion_8h'],\n",
    "             hist = True,\n",
    "             kde = True,\n",
    "             label='Inclusion')\n",
    "\n",
    "sns.distplot(df_plot['pf_ratio_12h_outcome'],\n",
    "             hist = True,\n",
    "             kde = True,\n",
    "             label='Outcome')\n",
    "# Plot formatting\n",
    "plt.legend(prop={'size': 12})\n",
    "plt.title('P/F ratio improves for all patients')\n",
    "plt.xlabel('pf_ratio')\n",
    "plt.ylabel('Density')\n",
    "plt.xlim(right=400)\n",
    "\n",
    "plt.savefig('inclusion_8h_vs_outcome_12h.png')\n",
    "# Figure comparing inclusion vs. outcome. Sessions included in the study with a\n",
    "# non-missing outcome"
   ]
  },
  {
   "cell_type": "code",
   "execution_count": null,
   "metadata": {
    "pycharm": {
     "name": "#%% Outcome treated vs not-treated\n"
    }
   },
   "outputs": [],
   "source": [
    "df_plot = df[df.treated]\n",
    "sns.distplot(df_plot['pf_ratio_12h_outcome'],\n",
    "             hist = True,\n",
    "             kde = True,\n",
    "             label='Prone')\n",
    "\n",
    "df_plot = df[~df.treated]\n",
    "sns.distplot(df_plot['pf_ratio_12h_outcome'],\n",
    "             hist = True,\n",
    "             kde = True,\n",
    "             label='Supine')\n",
    "# Plot formatting\n",
    "plt.legend(prop={'size': 12})\n",
    "plt.title('Characteristics of Sessions at Inclusion in the Study: P/F ratio.')\n",
    "plt.xlabel('pf_ratio')\n",
    "plt.ylabel('Density')\n",
    "plt.xlim(right=500)\n",
    "\n",
    "# However no average difference for between two groups\n",
    "print(df.loc[df.treated,'pf_ratio_12h_outcome'].mean())\n",
    "print(df.loc[~df.treated, 'pf_ratio_12h_outcome'].mean())"
   ]
  },
  {
   "cell_type": "code",
   "execution_count": null,
   "metadata": {
    "pycharm": {
     "name": "#%% We solve the problem by transforming the outcome\n"
    }
   },
   "outputs": [],
   "source": [
    "# Convert output to differences and see if this helps\n",
    "\n",
    "df['pf_ratio_diff'] = df['pf_ratio_12h_outcome'] - df['pf_ratio_inclusion_8h']\n",
    "df['pf_ratio_diff'].describe()"
   ]
  },
  {
   "cell_type": "code",
   "execution_count": null,
   "metadata": {
    "pycharm": {
     "name": "#%%\n"
    }
   },
   "outputs": [],
   "source": [
    "df_plot = df[df.treated]\n",
    "sns.distplot(df_plot['pf_ratio_diff'],\n",
    "             hist = True,\n",
    "             kde = True,\n",
    "             label='Prone')\n",
    "\n",
    "df_plot = df[~df.treated]\n",
    "sns.distplot(df_plot['pf_ratio_diff'],\n",
    "             hist = True,\n",
    "             kde = True,\n",
    "             label='Supine')\n",
    "# Plot formatting\n",
    "plt.legend(prop={'size': 12})\n",
    "plt.title('Characteristics of Sessions at Inclusion in the Study: P/F ratio.')\n",
    "plt.xlabel('pf_ratio')\n",
    "plt.ylabel('Density')\n",
    "plt.xlim(right=500)\n",
    "\n",
    "print(df.loc[df.treated,'pf_ratio_diff'].mean())\n",
    "print(df.loc[~df.treated, 'pf_ratio_diff'].mean())"
   ]
  },
  {
   "cell_type": "code",
   "execution_count": null,
   "metadata": {
    "pycharm": {
     "name": "#%% Select a subset of columns for modeling\n"
    }
   },
   "outputs": [],
   "source": [
    "df.info(max_cols=200)"
   ]
  },
  {
   "cell_type": "code",
   "execution_count": null,
   "metadata": {
    "pycharm": {
     "name": "#%%\n"
    }
   },
   "outputs": [],
   "source": [
    "columns_to_drop_1 = df.iloc[:, 0:4].columns.tolist()\n",
    "columns_to_drop_2 = df.iloc[:, 5:11].columns.tolist()\n",
    "columns_to_drop_3 = df.iloc[:, 14:18].columns.tolist()\n",
    "columns_to_drop = columns_to_drop_1 + columns_to_drop_2 + columns_to_drop_3\n",
    "df_model = df.drop(columns=columns_to_drop)\n",
    "df_model = df_model.drop(columns=['has_died_during_session', 'fio2', 'po2', 'gender'])"
   ]
  },
  {
   "cell_type": "code",
   "execution_count": null,
   "metadata": {
    "pycharm": {
     "name": "#%% We drop columns that got extracted badly\n"
    }
   },
   "outputs": [],
   "source": [
    "thresh = round(0.75 * len(df_model.index))\n",
    "df_model = df_model.dropna(thresh=thresh, axis=1)\n",
    "\n",
    "# And old outcome\n",
    "df_model = df_model.drop(columns=['pf_ratio_12h_outcome'])"
   ]
  },
  {
   "cell_type": "code",
   "execution_count": null,
   "metadata": {
    "pycharm": {
     "name": "#%% We deal with this later\n"
    }
   },
   "outputs": [],
   "source": [
    "df_model = df_model.drop(df_model.filter(regex='atc').columns, axis=1)\n",
    "df_model = df_model.drop(df_model.filter(regex='nice').columns, axis=1)\n",
    "df_model = df_model.drop(df_model.filter(regex='inclusion').columns, axis=1)"
   ]
  },
  {
   "cell_type": "code",
   "execution_count": null,
   "metadata": {
    "pycharm": {
     "name": "#%%\n"
    }
   },
   "outputs": [],
   "source": [
    "df_model.info()"
   ]
  },
  {
   "cell_type": "code",
   "execution_count": null,
   "metadata": {
    "pycharm": {
     "name": "#%% Extract treatment, covariates, outcome\n"
    }
   },
   "outputs": [],
   "source": [
    "treated = df_model.iloc[:,0].values.astype('int')\n",
    "t = df_model.iloc[:,0].values\n",
    "X = df_model.iloc[:, 1:23].values\n",
    "y = df_model.iloc[:, 24].values\n"
   ]
  },
  {
   "cell_type": "code",
   "execution_count": null,
   "metadata": {
    "pycharm": {
     "name": "#%% Impute missing values\n"
    }
   },
   "outputs": [],
   "source": [
    "from sklearn.impute import SimpleImputer\n",
    "from sklearn.preprocessing import StandardScaler\n",
    "imp = SimpleImputer(missing_values=np.nan, strategy='mean')\n",
    "imp.fit(X)\n",
    "X = imp.transform(X)\n",
    "\n",
    "# Standardize the predictors\n",
    "scaler = StandardScaler().fit(X)\n",
    "X = scaler.transform(X)"
   ]
  },
  {
   "cell_type": "code",
   "execution_count": null,
   "metadata": {
    "pycharm": {
     "name": "#%%\n"
    }
   },
   "outputs": [],
   "source": [
    "# Instantiate CausalModel\n",
    "\n",
    "from causalinference import CausalModel\n",
    "\n",
    "causal = CausalModel(y, t, X)"
   ]
  },
  {
   "cell_type": "code",
   "execution_count": null,
   "metadata": {
    "pycharm": {
     "name": "#%%\n"
    }
   },
   "outputs": [],
   "source": [
    "print(causal.summary_stats)"
   ]
  },
  {
   "cell_type": "code",
   "execution_count": null,
   "metadata": {
    "pycharm": {
     "name": "#%%\n"
    }
   },
   "outputs": [],
   "source": [
    "causal.est_propensity()\n",
    "print(causal.propensity)"
   ]
  },
  {
   "cell_type": "code",
   "execution_count": null,
   "metadata": {
    "pycharm": {
     "name": "#%%\n"
    }
   },
   "outputs": [],
   "source": [
    "sns.distplot(causal.raw_data['pscore'][t],\n",
    "             hist = True,\n",
    "             kde = True,\n",
    "             label='Prone')\n",
    "\n",
    "sns.distplot(causal.raw_data['pscore'][~t],\n",
    "             hist = True,\n",
    "             kde = True,\n",
    "             label='Supine')\n",
    "\n",
    "# Plot formatting\n",
    "plt.legend(prop={'size': 12})\n",
    "plt.title('Characteristics of Sessions at Inclusion in the Study: P/F ratio.')\n",
    "plt.xlabel('pf_ration_inclusion_4h')\n",
    "plt.ylabel('Density')\n",
    "\n"
   ]
  },
  {
   "cell_type": "code",
   "execution_count": null,
   "metadata": {
    "pycharm": {
     "name": "#%%\n"
    }
   },
   "outputs": [],
   "source": [
    "from sklearn.datasets import load_iris\n",
    "from sklearn.linear_model import LogisticRegression\n",
    "clf = LogisticRegression(random_state=0, class_weight='balanced').fit(X, t)\n",
    "pscore = clf.predict_proba(X)[:, 1]\n",
    "causal.raw_data._dict['pscore'] = pscore\n"
   ]
  },
  {
   "cell_type": "code",
   "execution_count": null,
   "metadata": {
    "pycharm": {
     "name": "#%%\n"
    }
   },
   "outputs": [],
   "source": [
    "sns.distplot(causal.raw_data['pscore'][t],\n",
    "             hist = True,\n",
    "             kde = True,\n",
    "             label='Prone')\n",
    "\n",
    "sns.distplot(causal.raw_data['pscore'][~t],\n",
    "             hist = True,\n",
    "             kde = True,\n",
    "             label='Supine')\n",
    "\n",
    "# Plot formatting\n",
    "plt.legend(prop={'size': 12})\n",
    "plt.title('Characteristics of Sessions at Inclusion in the Study: P/F ratio.')\n",
    "plt.xlabel('pf_ration_inclusion_4h')\n",
    "plt.ylabel('Density')"
   ]
  },
  {
   "cell_type": "code",
   "execution_count": null,
   "metadata": {
    "pycharm": {
     "name": "#%%\n"
    }
   },
   "outputs": [],
   "source": [
    "from scipy.special import logit, expit\n",
    "pscore_logit = logit(pscore)\n",
    "#clf.score(X, t)"
   ]
  },
  {
   "cell_type": "code",
   "execution_count": null,
   "metadata": {
    "pycharm": {
     "name": "#%%\n"
    }
   },
   "outputs": [],
   "source": [
    "causal.trim()\n",
    "causal.cutoff\n",
    "print(causal.summary_stats)"
   ]
  },
  {
   "cell_type": "code",
   "execution_count": null,
   "metadata": {
    "pycharm": {
     "name": "#%%\n"
    }
   },
   "outputs": [],
   "source": [
    "causal.est_via_ols()\n",
    "print(causal.estimates)"
   ]
  },
  {
   "cell_type": "code",
   "execution_count": null,
   "metadata": {
    "pycharm": {
     "name": "#%%\n"
    }
   },
   "outputs": [],
   "source": [
    "causal.est_via_blocking\n",
    "print(causal.estimates)"
   ]
  },
  {
   "cell_type": "code",
   "execution_count": null,
   "metadata": {
    "pycharm": {
     "name": "#%%\n"
    }
   },
   "outputs": [],
   "source": [
    "causal.stratify()\n",
    "print(causal.strata)"
   ]
  },
  {
   "cell_type": "code",
   "execution_count": null,
   "metadata": {
    "pycharm": {
     "name": "#%%\n"
    }
   },
   "outputs": [],
   "source": [
    "causal.stratify_s()\n",
    "print(causal.strata)"
   ]
  },
  {
   "cell_type": "code",
   "execution_count": null,
   "metadata": {
    "pycharm": {
     "name": "#%%\n"
    }
   },
   "outputs": [],
   "source": [
    "causal.est_via_blocking()\n",
    "print(causal.estimates)"
   ]
  },
  {
   "cell_type": "code",
   "execution_count": null,
   "metadata": {
    "pycharm": {
     "name": "#%%\n"
    }
   },
   "outputs": [],
   "source": [
    "causal.est_via_matching()\n",
    "print(causal.estimates)\n",
    "\n",
    "\n"
   ]
  },
  {
   "cell_type": "code",
   "execution_count": null,
   "metadata": {
    "pycharm": {
     "name": "#%%\n"
    }
   },
   "outputs": [],
   "source": [
    "sns.distplot(pscore_logit[t],\n",
    "             hist = True,\n",
    "             kde = True,\n",
    "             label='Prone')\n",
    "\n",
    "sns.distplot(pscore_logit[~t],\n",
    "             hist = True,\n",
    "             kde = True,\n",
    "             label='Supine')\n",
    "\n",
    "# Plot formatting\n",
    "plt.legend(prop={'size': 12})\n",
    "plt.title('Characteristics of Sessions at Inclusion in the Study: P/F ratio.')\n",
    "plt.xlabel('pf_ration_inclusion_4h')\n",
    "plt.ylabel('Density')"
   ]
  },
  {
   "cell_type": "markdown",
   "metadata": {
    "pycharm": {
     "name": "#%% md\n"
    }
   },
   "source": [
    "Do it like in a book and cite the steps!\n",
    "\n",
    "# How this compare to RCTs?"
   ]
  },
  {
   "cell_type": "code",
   "execution_count": null,
   "metadata": {
    "pycharm": {
     "name": "#%% After balance\n"
    }
   },
   "outputs": [],
   "source": [
    "causal.blocks\n",
    "print(causal.strata)"
   ]
  },
  {
   "cell_type": "code",
   "execution_count": null,
   "metadata": {
    "pycharm": {
     "name": "#%%\n"
    }
   },
   "outputs": [],
   "source": [
    "causal.stratify()"
   ]
  },
  {
   "cell_type": "code",
   "execution_count": null,
   "metadata": {
    "pycharm": {
     "name": "#%%\n"
    }
   },
   "outputs": [],
   "source": [
    "\n",
    "import numpy as np\n",
    "from sklearn.impute import KNNImputer\n",
    "nan = np.nan\n",
    "X = [[1, 2, nan], [3, 4, 3], [nan, 6, 5], [8, 8, 7]]\n",
    "imputer = KNNImputer(n_neighbors=2, weights=\"uniform\")\n",
    "imputer.fit_transform(X)"
   ]
  }
 ],
 "metadata": {
  "kernelspec": {
   "display_name": "Python 3",
   "language": "python",
   "name": "python3"
  },
  "language_info": {
   "codemirror_mode": {
    "name": "ipython",
    "version": 2
   },
   "file_extension": ".py",
   "mimetype": "text/x-python",
   "name": "python",
   "nbconvert_exporter": "python",
   "pygments_lexer": "ipython2"
  }
 },
 "nbformat": 4,
 "nbformat_minor": 0
}
