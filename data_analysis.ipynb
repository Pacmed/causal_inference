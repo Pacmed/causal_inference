{
 "cells": [
  {
   "cell_type": "code",
   "execution_count": null,
   "metadata": {},
   "outputs": [],
   "source": [
    "import os\n",
    "import pandas as pd\n",
    "import numpy as np\n",
    "\n",
    "import seaborn as sns"
   ]
  },
  {
   "cell_type": "code",
   "execution_count": null,
   "metadata": {
    "pycharm": {
     "name": "#%%\n"
    }
   },
   "outputs": [],
   "source": [
    "# Load data\n",
    "os.chdir('/home/adam/files/data')\n",
    "df = pd.read_csv('data_skeleton.csv')\n",
    "df.start_timestamp = df.start_timestamp.astype('datetime64[ns]')\n",
    "df.end_timestamp = df.start_timestamp.astype('datetime64[ns]')\n",
    "df.info()"
   ]
  },
  {
   "cell_type": "markdown",
   "metadata": {
    "pycharm": {
     "name": "#%% md\n"
    }
   },
   "source": [
    "### Droping data"
   ]
  },
  {
   "cell_type": "code",
   "execution_count": null,
   "metadata": {
    "pycharm": {
     "name": "#%%\n"
    }
   },
   "outputs": [],
   "source": [
    "print(len(df))\n",
    "print(len(df[~df.peep.isna()]))\n",
    "mask = ~(df.peep.isna()) & ~(df.po2_arterial.isna()) & ~(df.fio2.isna())\n",
    "print(len(df[mask]))"
   ]
  },
  {
   "cell_type": "code",
   "execution_count": null,
   "metadata": {
    "pycharm": {
     "name": "#%%\n"
    }
   },
   "outputs": [],
   "source": [
    "df_dropped = df[~mask]\n",
    "df = df[mask]"
   ]
  },
  {
   "cell_type": "code",
   "execution_count": null,
   "metadata": {
    "pycharm": {
     "name": "#%%\n"
    }
   },
   "outputs": [],
   "source": [
    "df['pf_ratio'] = df['po2_arterial'] / df['fio2']\n",
    "df['pf_ratio'] = df['pf_ratio'].map(lambda x: round(x * 100))"
   ]
  },
  {
   "cell_type": "code",
   "execution_count": null,
   "metadata": {
    "pycharm": {
     "name": "#%%\n"
    }
   },
   "outputs": [],
   "source": [
    "df_dropped[['peep', 'fio2', 'po2_arterial']].describe().round()"
   ]
  },
  {
   "cell_type": "code",
   "execution_count": null,
   "metadata": {
    "pycharm": {
     "name": "#%%\n"
    }
   },
   "outputs": [],
   "source": [
    "df[['peep', 'fio2', 'po2_arterial', 'pf_ratio']].describe().round()"
   ]
  },
  {
   "cell_type": "code",
   "execution_count": null,
   "metadata": {
    "pycharm": {
     "name": "#%%\n"
    }
   },
   "outputs": [],
   "source": [
    "df['session_type'] = 'prone'\n",
    "df.loc[(df['treated'] == False) & (df['artificial_session'] == False), 'session_type'] = 'supine'\n",
    "df.loc[(df['treated'] == False) & (df['artificial_session'] == True), 'session_type'] = 'supine_artificial'\n",
    "df['session_type'] = df['session_type'].astype('category')"
   ]
  },
  {
   "cell_type": "code",
   "execution_count": null,
   "metadata": {
    "pycharm": {
     "name": "#%%\n"
    }
   },
   "outputs": [],
   "source": [
    "print(len(df[df.session_type == 'prone']))\n",
    "print(len(df[df.session_type == 'supine']))\n",
    "print(len(df[df.session_type == 'supine_artificial']))"
   ]
  },
  {
   "cell_type": "markdown",
   "metadata": {},
   "source": [
    "### Inclusion criteria"
   ]
  },
  {
   "cell_type": "code",
   "execution_count": null,
   "metadata": {
    "pycharm": {
     "name": "#%%\n"
    }
   },
   "outputs": [],
   "source": [
    "inclusion = (df.pf_ratio < 150) & (df.peep >= 5) & (df.fio2 >= 0.6)\n",
    "df_inclusion = df[inclusion]\n",
    "df_inclusion.info()"
   ]
  },
  {
   "cell_type": "code",
   "execution_count": null,
   "metadata": {
    "pycharm": {
     "name": "#%%\n"
    }
   },
   "outputs": [],
   "source": [
    "print(len(df_inclusion[df_inclusion.session_type == 'prone']))\n",
    "print(len(df_inclusion[df_inclusion.session_type == 'supine']))\n",
    "print(len(df_inclusion[df_inclusion.session_type == 'supine_artificial']))"
   ]
  },
  {
   "cell_type": "code",
   "execution_count": null,
   "metadata": {
    "pycharm": {
     "name": "#%%\n"
    }
   },
   "outputs": [],
   "source": [
    "sns.displot(data= df_inclusion,\n",
    "            x=\"pf_ratio\",\n",
    "            hue='treated',\n",
    "            stat='frequency',\n",
    "            common_norm=False,\n",
    "            multiple='dodge',\n",
    "            bins=20,\n",
    "            kde=True,\n",
    "            palette=[\"blue\", \"pink\"])"
   ]
  },
  {
   "cell_type": "code",
   "execution_count": null,
   "metadata": {
    "pycharm": {
     "name": "#%%\n"
    }
   },
   "outputs": [],
   "source": [
    "sns.displot(data= df_inclusion,\n",
    "            x=\"peep\",\n",
    "            hue='treated',\n",
    "            stat='frequency',\n",
    "            common_norm=False,\n",
    "            multiple='dodge',\n",
    "            bins=20,\n",
    "            kde=True,\n",
    "            palette=[\"blue\", \"pink\"])"
   ]
  },
  {
   "cell_type": "code",
   "execution_count": null,
   "metadata": {
    "pycharm": {
     "name": "#%%\n"
    }
   },
   "outputs": [],
   "source": [
    "sns.displot(data= df_inclusion,\n",
    "            x=\"fio2\",\n",
    "            hue='treated',\n",
    "            multiple=\"stack\",\n",
    "            kde=True,\n",
    "            palette=[\"blue\", \"pink\"])"
   ]
  },
  {
   "cell_type": "markdown",
   "metadata": {
    "pycharm": {
     "name": "#%% md\n"
    }
   },
   "source": [
    "Analyze duration proning\n"
   ]
  },
  {
   "cell_type": "code",
   "execution_count": null,
   "metadata": {
    "pycharm": {
     "name": "#%%\n"
    }
   },
   "outputs": [],
   "source": []
  }
 ],
 "metadata": {
  "kernelspec": {
   "display_name": "Python 3",
   "language": "python",
   "name": "python3"
  },
  "language_info": {
   "codemirror_mode": {
    "name": "ipython",
    "version": 2
   },
   "file_extension": ".py",
   "mimetype": "text/x-python",
   "name": "python",
   "nbconvert_exporter": "python",
   "pygments_lexer": "ipython2"
  }
 },
 "nbformat": 4,
 "nbformat_minor": 0
}
