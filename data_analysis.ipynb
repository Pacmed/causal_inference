{
 "cells": [
  {
   "cell_type": "code",
   "execution_count": null,
   "metadata": {},
   "outputs": [],
   "source": [
    "import os\n",
    "import pandas as pd\n",
    "import numpy as np\n",
    "\n",
    "import seaborn as sns\n",
    "import matplotlib.pyplot as plt"
   ]
  },
  {
   "cell_type": "code",
   "execution_count": null,
   "metadata": {
    "pycharm": {
     "name": "#%%\n"
    }
   },
   "outputs": [],
   "source": [
    "# Load data\n",
    "os.chdir('/home/adam/files/data')\n",
    "df = pd.read_csv('test')\n",
    "df.start_timestamp = df.start_timestamp.astype('datetime64[ns]')\n",
    "df.end_timestamp = df.start_timestamp.astype('datetime64[ns]')\n",
    "df.info()"
   ]
  },
  {
   "cell_type": "code",
   "execution_count": null,
   "metadata": {
    "pycharm": {
     "name": "#%%\n"
    }
   },
   "outputs": [],
   "source": [
    "df.head()"
   ]
  },
  {
   "cell_type": "code",
   "execution_count": null,
   "metadata": {
    "pycharm": {
     "name": "#%%\n"
    }
   },
   "outputs": [],
   "source": [
    "df[df.treated].describe().round()"
   ]
  },
  {
   "cell_type": "code",
   "execution_count": null,
   "metadata": {
    "pycharm": {
     "name": "#%%\n"
    }
   },
   "outputs": [],
   "source": [
    "df[~df.treated].describe().round()"
   ]
  },
  {
   "cell_type": "code",
   "execution_count": null,
   "metadata": {
    "pycharm": {
     "name": "#%%\n"
    }
   },
   "outputs": [],
   "source": [
    "from statistics import median\n",
    "\n",
    "median(df[df.treated].duration_hours)"
   ]
  },
  {
   "cell_type": "code",
   "execution_count": null,
   "metadata": {
    "pycharm": {
     "name": "#%%\n"
    }
   },
   "outputs": [],
   "source": [
    "sns.pairplot(iris, hue='', size=2.5)"
   ]
  },
  {
   "cell_type": "code",
   "execution_count": null,
   "metadata": {
    "pycharm": {
     "name": "#%%\n"
    }
   },
   "outputs": [],
   "source": [
    "sns.displot(data= df,\n",
    "            x=\"pf_ratio\",\n",
    "            hue='treated',\n",
    "            stat='frequency',\n",
    "            common_norm=False,\n",
    "            multiple='dodge',\n",
    "            bins=20,\n",
    "            kde=True,\n",
    "            palette=[\"blue\", \"pink\"])\n"
   ]
  },
  {
   "cell_type": "markdown",
   "metadata": {
    "pycharm": {
     "name": "#%% md\n"
    }
   },
   "source": [
    "Analyze duration proning\n"
   ]
  },
  {
   "cell_type": "code",
   "execution_count": null,
   "metadata": {
    "pycharm": {
     "name": "#%%\n"
    }
   },
   "outputs": [],
   "source": [
    "df_plot = df[df.treated]\n",
    "sns.distplot(df_plot['pf_ratio_inclusion_4h'],\n",
    "             hist = True,\n",
    "             kde = True,\n",
    "             label='Prone')\n",
    "\n",
    "df_plot = df[~df.treated]\n",
    "sns.distplot(df_plot['pf_ratio_inclusion_4h'],\n",
    "             hist = True,\n",
    "             kde = True,\n",
    "             label='Supine')\n",
    "# Plot formatting\n",
    "plt.legend(prop={'size': 12})\n",
    "plt.title('Characteristics of Sessions at Inclusion in the Study: P/F ratio.')\n",
    "plt.xlabel('pf_ration_inclusion_4h')\n",
    "plt.ylabel('Density')"
   ]
  },
  {
   "cell_type": "code",
   "execution_count": null,
   "metadata": {
    "pycharm": {
     "name": "#%%\n"
    }
   },
   "outputs": [],
   "source": [
    "df_plot = df[df.treated]\n",
    "sns.distplot(df_plot['peep_inclusion_4h'],\n",
    "             hist = True,\n",
    "             kde = True,\n",
    "             label='Prone')\n",
    "\n",
    "df_plot = df[~df.treated]\n",
    "sns.distplot(df_plot['peep_inclusion_4h'],\n",
    "             hist = True,\n",
    "             kde = True,\n",
    "             label='Supine')\n",
    "# Plot formatting\n",
    "plt.legend(prop={'size': 12})\n",
    "plt.title('Characteristics of Sessions at Inclusion in the Study: peep.')\n",
    "plt.xlabel('peep_inclusion_4h')\n",
    "plt.ylabel('Density')"
   ]
  },
  {
   "cell_type": "code",
   "execution_count": null,
   "metadata": {
    "pycharm": {
     "name": "#%%\n"
    }
   },
   "outputs": [],
   "source": [
    "df_plot = df[df.treated]\n",
    "sns.distplot(df_plot['fio2_inclusion_4h'],\n",
    "             hist = True,\n",
    "             kde = True,\n",
    "             label='Prone',\n",
    "             bins = 20)\n",
    "\n",
    "df_plot = df[~df.treated]\n",
    "sns.distplot(df_plot['fio2_inclusion_4h'],\n",
    "             hist = True,\n",
    "             kde = True,\n",
    "             label='Supine',\n",
    "             bins=20)\n",
    "# Plot formatting\n",
    "plt.legend(prop={'size': 12})\n",
    "plt.title('Characteristics of Sessions at Inclusion in the Study: fio2.')\n",
    "plt.xlabel('fio2_inclusion_4h')\n",
    "plt.ylabel('Density')"
   ]
  },
  {
   "cell_type": "code",
   "execution_count": null,
   "metadata": {
    "pycharm": {
     "name": "#%%\n"
    }
   },
   "outputs": [],
   "source": [
    "df_plot = df[df.treated]\n",
    "sns.distplot(df_plot['po2_arterial_inclusion_4h'],\n",
    "             hist = True,\n",
    "             kde = True,\n",
    "             label='Prone',\n",
    "             bins = 20)\n",
    "\n",
    "df_plot = df[~df.treated]\n",
    "sns.distplot(df_plot['po2_arterial_inclusion_4h'],\n",
    "             hist = True,\n",
    "             kde = True,\n",
    "             label='Supine',\n",
    "             bins=20)\n",
    "# Plot formatting\n",
    "plt.legend(prop={'size': 12})\n",
    "plt.title('Characteristics of Sessions at Inclusion in the Study: po2_arterial .')\n",
    "plt.xlabel('po2_arterial_inclusion_4h')\n",
    "plt.ylabel('Density')"
   ]
  },
  {
   "cell_type": "code",
   "execution_count": null,
   "metadata": {
    "pycharm": {
     "name": "#%%\n"
    }
   },
   "outputs": [],
   "source": [
    "df_plot = df[df.treated]\n",
    "sns.distplot(df_plot['duration_hours'],\n",
    "             hist = True,\n",
    "             kde = True,\n",
    "             label='Treated')\n",
    "plt.legend(prop={'size': 12})\n",
    "plt.title('Characteristics of Proning Sessions: duration of proning in hours.')\n",
    "plt.xlabel('duration of proning sessions in hours')\n",
    "plt.ylabel('Density')"
   ]
  },
  {
   "cell_type": "markdown",
   "metadata": {
    "pycharm": {
     "name": "#%% md\n"
    }
   },
   "source": [
    "is there a correlation of length and pf"
   ]
  },
  {
   "cell_type": "code",
   "execution_count": null,
   "metadata": {
    "pycharm": {
     "name": "#%%\n"
    }
   },
   "outputs": [],
   "source": [
    "with sns.axes_style('white'):\n",
    "    sns.jointplot(\"pf_ratio_inclusion_4h\", \"duration_hours\", df[df.treated], kind='hex')"
   ]
  },
  {
   "cell_type": "code",
   "execution_count": null,
   "metadata": {
    "pycharm": {
     "name": "#%%\n"
    }
   },
   "outputs": [],
   "source": [
    "with sns.axes_style('white'):\n",
    "    sns.jointplot(\"pf_ratio_inclusion_4h\", \"duration_hours\", df[df.treated], kind='kde')\n"
   ]
  },
  {
   "cell_type": "code",
   "execution_count": null,
   "metadata": {
    "pycharm": {
     "name": "#%%\n"
    }
   },
   "outputs": [],
   "source": [
    "from scipy import stats\n",
    "\n",
    "stats.pearsonr(df[df.treated].duration_hours,\n",
    "               df[df.treated].pf_ratio_inclusion_4h)"
   ]
  },
  {
   "cell_type": "code",
   "execution_count": null,
   "metadata": {
    "pycharm": {
     "name": "#%%\n"
    }
   },
   "outputs": [],
   "source": [
    "hospitals = df[df.treated].pacmed_origin_hospital.value_counts().index[0:4]\n",
    "for hospital in hospitals:\n",
    "    df_plot = df.loc[(df.treated) & (df.pacmed_origin_hospital == '{}'.format(hospital))]\n",
    "    label = '{}'.format(hospital) + ' ({})'.format(round(median(df_plot.duration_hours)))\n",
    "    sns.distplot(df_plot['duration_hours'],\n",
    "                 hist = False,\n",
    "                 kde = True,\n",
    "                label='{}'.format(label))\n",
    "\n",
    "plt.xlim(0, 96)\n",
    "plt.legend(prop={'size': 12})\n",
    "plt.title('Length of Proning Sessions in 4 hospitals (median) with the biggest number of sessions.')\n",
    "plt.xlabel('duration of proning sessions in hours')\n",
    "plt.ylabel('Density')"
   ]
  },
  {
   "cell_type": "code",
   "execution_count": null,
   "metadata": {
    "pycharm": {
     "name": "#%%\n"
    }
   },
   "outputs": [],
   "source": [
    "df.info()"
   ]
  },
  {
   "cell_type": "code",
   "execution_count": null,
   "metadata": {
    "pycharm": {
     "name": "#%%\n"
    }
   },
   "outputs": [],
   "source": []
  },
  {
   "cell_type": "code",
   "execution_count": null,
   "metadata": {
    "pycharm": {
     "name": "#%%\n"
    }
   },
   "outputs": [],
   "source": []
  }
 ],
 "metadata": {
  "kernelspec": {
   "display_name": "Python 3",
   "language": "python",
   "name": "python3"
  },
  "language_info": {
   "codemirror_mode": {
    "name": "ipython",
    "version": 2
   },
   "file_extension": ".py",
   "mimetype": "text/x-python",
   "name": "python",
   "nbconvert_exporter": "python",
   "pygments_lexer": "ipython2"
  }
 },
 "nbformat": 4,
 "nbformat_minor": 0
}
