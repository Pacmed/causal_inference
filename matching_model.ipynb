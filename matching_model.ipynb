{
 "cells": [
  {
   "cell_type": "markdown",
   "metadata": {
    "collapsed": true,
    "pycharm": {
     "name": "#%% md\n"
    }
   },
   "source": [
    "# Estimating treatment effects with matching\n",
    "\n",
    "\n",
    "The goal of this notebook is to estimate causal treatment effects using observational i.e. nonrandomized data.\n",
    "\n",
    "One of the methods to achieve this goal is to use matching. The aim of any matching method is to reduce the bias of\n",
    "an observational data set. This mean reducing the dissimilarity between the covariates distribution in the\n",
    "treated $p(x \\mid t = 1)$ and control $p(x \\mid t = 0)$ groups. In theory, under the strong ignorability assumption,\n",
    "the matched data set will mimic an RCT. Hence we can treat $X$ as independent of $T$ resulting\n",
    "in $p^{t=1}(x) \\approx p^{t=0}(x)$ [last sentence to be checked and citation needed].\n",
    "\n",
    "The most popular matching based method is the propensity score matching [1]. It uses an estimatand of the true\n",
    "propensity score to match the data. Hence observations with closest propensity scores will be matched.\n",
    "\n",
    "There is a typical workflow that a causal study should follow. We will present it in this notebook based on the\n",
    "package:\n",
    "https://github.com/laurencium/causalinference\n",
    "and with summary of workflow:\n",
    "https://laurencewong.com/software/conclusion"
   ]
  },
  {
   "cell_type": "markdown",
   "source": [
    "### Loading the data\n",
    "\n",
    "We load synthetic data using uberml package for making causal inference. We can choose from five different scenarios\n",
    "to generate the data:\n",
    "1. difficult nuisance components and an easy treatment effect;\n",
    "2. a randomized trial; 3 an easy propensity and a difficult baseline;\n",
    "4. unrelated treatment and control groups;\n",
    "5. a hidden confounder biasing treatment."
   ],
   "metadata": {
    "collapsed": false,
    "pycharm": {
     "name": "#%% md\n"
    }
   }
  },
  {
   "cell_type": "code",
   "execution_count": 48,
   "outputs": [
    {
     "name": "stdout",
     "output_type": "stream",
     "text": [
      "The true ATE of the generated data is 0.5 with standard deviation equal to 0.21 .\n",
      "The average propensity score value is equal to 0.53 with standard deviation equal to 0.3 .\n"
     ]
    }
   ],
   "source": [
    "import numpy as np\n",
    "import pandas as pd\n",
    "\n",
    "from sklearn.model_selection import train_test_split\n",
    "from causalml.dataset import synthetic_data\n",
    "\n",
    "y, X, treatment, true_ite, expected_outcome, true_propensity = synthetic_data(mode=1, n=1000, p=10, sigma=1.0)\n",
    "\n",
    "# As the mean propensity doesn't say lot it would be nice to plot the true propensity to see the overlap between\n",
    "# control and treated.\n",
    "# It should be done like: http://ethen8181.github.io/machine-learning/ab_tests/causal_inference/matching.html\n",
    "\n",
    "\n",
    "def calculate_ate(ite):\n",
    "    return ite.mean().round(2), ite.std().round(2)\n",
    "\n",
    "def calculate_propensity(propensity):\n",
    "    return propensity.mean().round(2), propensity.std().round(2)\n",
    "\n",
    "print(\"The true ATE of the generated data is\",\n",
    "      calculate_ate(true_ite)[0],\n",
    "      \"with standard deviation equal to\",\n",
    "      calculate_ate(true_ite)[1],\n",
    "      \".\")\n",
    "\n",
    "print(\"The average propensity score value is equal to\",\n",
    "      calculate_propensity(true_propensity)[0],\n",
    "      \"with standard deviation equal to\",\n",
    "      calculate_propensity(true_propensity)[1],\n",
    "      \".\")\n"
   ],
   "metadata": {
    "collapsed": false,
    "pycharm": {
     "name": "#%%\n"
    }
   }
  },
  {
   "cell_type": "markdown",
   "source": [
    "## 1. Design Phase\n",
    "\n",
    "We begin by a design phase. Let's instatiate the causal model"
   ],
   "metadata": {
    "collapsed": false,
    "pycharm": {
     "name": "#%% md\n"
    }
   }
  },
  {
   "cell_type": "code",
   "execution_count": 49,
   "outputs": [],
   "source": [
    "from causalinference import CausalModel\n",
    "\n",
    "causal = CausalModel(y, treatment, X)"
   ],
   "metadata": {
    "collapsed": false,
    "pycharm": {
     "name": "#%%\n"
    }
   }
  },
  {
   "cell_type": "markdown",
   "source": [
    "### a. Accessing the covariate balance\n",
    "\n",
    "We begin with accessing the initial covariate balance. This allows us to choose the right method and also\n",
    "access how successful we were in de-biasing the data.\n",
    "\n",
    "There is no agreement on how to access balance. We can investigate the difference in momements of each covariate.\n",
    "A popular metric proposed by [citation needed] is the normalized difference in a covariate averages:\n",
    "\n",
    "$$\\frac{\\overline{X}_i^{t=1} - \\overline{X}_i^{t=0}}{\\sqrt{\\frac{1}{2}(s_i^{t=1})^2 + (s_i^{t=0})^2}}$$\n",
    "\n",
    "This quantity can be easily access using the package and is showed under the Nor-diff column\n",
    "\n",
    "To do: it would be interesting to see if it is related to the IPM term."
   ],
   "metadata": {
    "collapsed": false,
    "pycharm": {
     "name": "#%% md\n"
    }
   }
  },
  {
   "cell_type": "code",
   "source": [
    "print(causal.summary_stats)\n",
    "\n",
    "print(\"The maximum distance is\", np.abs(causal.summary_stats['ndiff']).max().round(3))\n"
   ],
   "metadata": {
    "collapsed": false,
    "pycharm": {
     "name": "#%%\n"
    }
   },
   "execution_count": 50,
   "outputs": [
    {
     "name": "stdout",
     "output_type": "stream",
     "text": [
      "\n",
      "Summary Statistics\n",
      "\n",
      "                       Controls (N_c=469)         Treated (N_t=531)             \n",
      "       Variable         Mean         S.d.         Mean         S.d.     Raw-diff\n",
      "--------------------------------------------------------------------------------\n",
      "              Y        1.127        1.060        1.994        1.135        0.866\n",
      "\n",
      "                       Controls (N_c=469)         Treated (N_t=531)             \n",
      "       Variable         Mean         S.d.         Mean         S.d.     Nor-diff\n",
      "--------------------------------------------------------------------------------\n",
      "             X0        0.391        0.287        0.597        0.250        0.766\n",
      "             X1        0.387        0.294        0.606        0.247        0.806\n",
      "             X2        0.517        0.290        0.494        0.287       -0.077\n",
      "             X3        0.512        0.283        0.492        0.277       -0.071\n",
      "             X4        0.513        0.293        0.501        0.287       -0.040\n",
      "             X5        0.487        0.286        0.497        0.297        0.033\n",
      "             X6        0.493        0.277        0.483        0.285       -0.033\n",
      "             X7        0.520        0.285        0.525        0.288        0.019\n",
      "             X8        0.500        0.292        0.518        0.285        0.059\n",
      "             X9        0.491        0.290        0.480        0.284       -0.039\n",
      "\n",
      "The maximum distance is 0.806\n"
     ]
    }
   ]
  },
  {
   "cell_type": "markdown",
   "source": [
    "To match on propensity we need to estimate the propensity score.\n",
    "\n",
    "### 2. Estimating the propensity score\n",
    "\n",
    "With the package we have two options of estimating the propensity score."
   ],
   "metadata": {
    "collapsed": false,
    "pycharm": {
     "name": "#%% md\n"
    }
   }
  },
  {
   "cell_type": "code",
   "execution_count": 51,
   "outputs": [
    {
     "name": "stdout",
     "output_type": "stream",
     "text": [
      "\n",
      "Estimated Parameters of Propensity Score\n",
      "\n",
      "                    Coef.       S.e.          z      P>|z|      [95% Conf. int.]\n",
      "--------------------------------------------------------------------------------\n",
      "     Intercept     -2.549      0.440     -5.792      0.000     -3.411     -1.686\n",
      "            X0      3.038      0.280     10.867      0.000      2.490      3.586\n",
      "            X1      3.162      0.279     11.326      0.000      2.615      3.710\n",
      "            X2     -0.347      0.257     -1.351      0.177     -0.851      0.157\n",
      "            X3     -0.278      0.268     -1.039      0.299     -0.803      0.247\n",
      "            X4     -0.101      0.256     -0.393      0.694     -0.603      0.401\n",
      "            X5      0.055      0.254      0.215      0.829     -0.443      0.552\n",
      "            X6      0.058      0.264      0.219      0.827     -0.460      0.576\n",
      "            X7     -0.038      0.256     -0.148      0.883     -0.541      0.465\n",
      "            X8      0.071      0.261      0.271      0.787     -0.441      0.582\n",
      "            X9     -0.218      0.259     -0.841      0.400     -0.726      0.290\n",
      "\n"
     ]
    }
   ],
   "source": [
    "# Estimate propensity to improve the balance\n",
    "\n",
    "causal.est_propensity()\n",
    "print(causal.propensity)"
   ],
   "metadata": {
    "collapsed": false,
    "pycharm": {
     "name": "#%%\n"
    }
   }
  },
  {
   "cell_type": "code",
   "execution_count": 52,
   "outputs": [
    {
     "name": "stdout",
     "output_type": "stream",
     "text": [
      "\n",
      "Estimated Parameters of Propensity Score\n",
      "\n",
      "                    Coef.       S.e.          z      P>|z|      [95% Conf. int.]\n",
      "--------------------------------------------------------------------------------\n",
      "     Intercept     -7.252      0.694    -10.447      0.000     -8.613     -5.891\n",
      "            X1     14.377      1.562      9.205      0.000     11.316     17.439\n",
      "            X0     12.625      1.534      8.230      0.000      9.618     15.631\n",
      "            X2     -0.253      0.269     -0.941      0.347     -0.780      0.274\n",
      "         X1*X1     -8.472      1.150     -7.367      0.000    -10.726     -6.218\n",
      "         X0*X0     -6.883      1.155     -5.959      0.000     -9.147     -4.620\n",
      "         X1*X0     -4.209      1.110     -3.791      0.000     -6.385     -2.033\n",
      "\n"
     ]
    }
   ],
   "source": [
    "# Use an algorithm for variable selection from Imbens to improve the balance\n",
    "# Details in https://laurencewong.com/software/propensity-score\n",
    "causal.est_propensity_s()\n",
    "print(causal.propensity)"
   ],
   "metadata": {
    "collapsed": false,
    "pycharm": {
     "name": "#%%\n"
    }
   }
  },
  {
   "cell_type": "code",
   "execution_count": 53,
   "outputs": [],
   "source": [
    "# To do in the analysis: supply your own propensity model.\n"
   ],
   "metadata": {
    "collapsed": false,
    "pycharm": {
     "name": "#%%\n"
    }
   }
  },
  {
   "cell_type": "code",
   "execution_count": 54,
   "outputs": [
    {
     "name": "stdout",
     "output_type": "stream",
     "text": [
      "\n",
      "Summary Statistics\n",
      "\n",
      "                       Controls (N_c=354)         Treated (N_t=520)             \n",
      "       Variable         Mean         S.d.         Mean         S.d.     Raw-diff\n",
      "--------------------------------------------------------------------------------\n",
      "              Y        1.201        1.063        2.012        1.126        0.811\n",
      "\n",
      "                       Controls (N_c=354)         Treated (N_t=520)             \n",
      "       Variable         Mean         S.d.         Mean         S.d.     Nor-diff\n",
      "--------------------------------------------------------------------------------\n",
      "             X0        0.461        0.289        0.608        0.242        0.548\n",
      "             X1        0.466        0.291        0.615        0.242        0.557\n",
      "             X2        0.528        0.290        0.493        0.287       -0.120\n",
      "             X3        0.524        0.282        0.492        0.277       -0.115\n",
      "             X4        0.510        0.290        0.501        0.287       -0.032\n",
      "             X5        0.488        0.287        0.497        0.297        0.033\n",
      "             X6        0.480        0.278        0.481        0.285        0.002\n",
      "             X7        0.514        0.287        0.524        0.288        0.036\n",
      "             X8        0.515        0.286        0.521        0.285        0.021\n",
      "             X9        0.489        0.288        0.480        0.285       -0.030\n",
      "\n"
     ]
    }
   ],
   "source": [
    "# We may want to exclude cases that almost surely receive the treatment or not in order to analyze only more similiar\n",
    "# observations. The logic behind this step is that regions with high propensity corresponds to the regions\n",
    "# with a lack of overlap.\n",
    "\n",
    "causal.trim_s()\n",
    "causal.cutoff\n",
    "print(causal.summary_stats)\n",
    "\n",
    "#As you can see the number of observation have changed."
   ],
   "metadata": {
    "collapsed": false,
    "pycharm": {
     "name": "#%%\n"
    }
   }
  },
  {
   "cell_type": "markdown",
   "source": [
    "### 4. Stratification\n",
    "\n",
    "An easy method to access whether the propensity score is helpful is to perform a stratification on the data set.\n",
    "If the bins have less bias than the whole data then we are doing a good job. We again can choose from two methods."
   ],
   "metadata": {
    "collapsed": false,
    "pycharm": {
     "name": "#%% md\n"
    }
   }
  },
  {
   "cell_type": "code",
   "execution_count": 55,
   "outputs": [
    {
     "name": "stdout",
     "output_type": "stream",
     "text": [
      "\n",
      "Stratification Summary\n",
      "\n",
      "              Propensity Score         Sample Size     Ave. Propensity   Outcome\n",
      "   Stratum      Min.      Max.  Controls   Treated  Controls   Treated  Raw-diff\n",
      "--------------------------------------------------------------------------------\n",
      "         1     0.095     0.345       145        30     0.219     0.241     0.240\n",
      "         2     0.346     0.601        99        76     0.465     0.483     0.449\n",
      "         3     0.604     0.747        67       107     0.685     0.680     0.457\n",
      "         4     0.748     0.823        25       150     0.778     0.785     0.539\n",
      "         5     0.823     0.885        18       157     0.855     0.852     0.909\n",
      "\n"
     ]
    }
   ],
   "source": [
    "\n",
    "# Now to access if the propensity is helpful we should see how it balances the strata\n",
    "causal.blocks = 5\n",
    "causal.stratify()\n",
    "print(causal.strata)\n"
   ],
   "metadata": {
    "collapsed": false,
    "pycharm": {
     "name": "#%%\n"
    }
   }
  },
  {
   "cell_type": "code",
   "execution_count": 56,
   "outputs": [
    {
     "name": "stdout",
     "output_type": "stream",
     "text": [
      "\n",
      "Stratification Summary\n",
      "\n",
      "              Propensity Score         Sample Size     Ave. Propensity   Outcome\n",
      "   Stratum      Min.      Max.  Controls   Treated  Controls   Treated  Raw-diff\n",
      "--------------------------------------------------------------------------------\n",
      "         1     0.095     0.258        93        18     0.171     0.195     0.156\n",
      "         2     0.259     0.420        80        29     0.332     0.357     0.392\n",
      "         3     0.421     0.486        35        20     0.451     0.453     0.324\n",
      "         4     0.486     0.562        24        30     0.521     0.527     0.308\n",
      "         5     0.562     0.685        44        65     0.632     0.635     0.534\n",
      "         6     0.686     0.756        39        70     0.720     0.729     0.481\n",
      "         7     0.756     0.803        17        92     0.775     0.780     0.455\n",
      "         8     0.803     0.885        22       196     0.847     0.844     0.840\n",
      "\n"
     ]
    }
   ],
   "source": [
    "# Using a data drive algorithm outlined in https://laurencewong.com/software/stratification\n",
    "causal.reset()\n",
    "causal.est_propensity_s()\n",
    "causal.trim_s()\n",
    "causal.stratify_s()\n",
    "print(causal.strata)"
   ],
   "metadata": {
    "collapsed": false,
    "pycharm": {
     "name": "#%%\n"
    }
   }
  },
  {
   "cell_type": "code",
   "execution_count": 57,
   "outputs": [
    {
     "name": "stdout",
     "output_type": "stream",
     "text": [
      "0.2731891092980303\n",
      "0.2893986947620062\n",
      "0.5381418203734094\n",
      "0.35627254386135665\n",
      "0.3155245070547748\n",
      "0.2236168152314016\n",
      "0.42489371336658127\n",
      "0.5727853595981692\n"
     ]
    }
   ],
   "source": [
    "# We can print the maximum imbalance for each bin\n",
    "\n",
    "for stratum in causal.strata:\n",
    "    print(np.absolute(stratum.summary_stats['ndiff']).max())"
   ],
   "metadata": {
    "collapsed": false,
    "pycharm": {
     "name": "#%%\n"
    }
   }
  },
  {
   "cell_type": "markdown",
   "source": [
    "## 2. Analysis phase\n"
   ],
   "metadata": {
    "collapsed": false
   }
  },
  {
   "cell_type": "markdown",
   "source": [
    "What we could do now is to fit an OLS models to each of the stratified sub-samples and weight the resulted model to\n",
    "obtain the first estimate of ATE."
   ],
   "metadata": {
    "collapsed": false,
    "pycharm": {
     "name": "#%% md\n"
    }
   }
  },
  {
   "cell_type": "code",
   "execution_count": 58,
   "outputs": [
    {
     "name": "stdout",
     "output_type": "stream",
     "text": [
      "\n",
      "Treatment Effect Estimates: Blocking\n",
      "\n",
      "                     Est.       S.e.          z      P>|z|      [95% Conf. int.]\n",
      "--------------------------------------------------------------------------------\n",
      "           ATE      0.516      0.079      6.502      0.000      0.361      0.672\n",
      "           ATC      0.409      0.092      4.445      0.000      0.229      0.589\n",
      "           ATT      0.589      0.091      6.465      0.000      0.411      0.768\n",
      "\n"
     ]
    }
   ],
   "source": [
    "causal.est_via_blocking()\n",
    "print(causal.estimates)"
   ],
   "metadata": {
    "collapsed": false,
    "pycharm": {
     "name": "#%%\n"
    }
   }
  },
  {
   "cell_type": "markdown",
   "source": [
    "However we can do better by using a matching estimator. This package matches however not on the propensity\n",
    "score, but tries to find the best match in the covariate space by using nearest neighborhood matching. After performing the matching the algorithm takes\n",
    "the average of the outcomes in both groups."
   ],
   "metadata": {
    "collapsed": false,
    "pycharm": {
     "name": "#%% md\n"
    }
   }
  },
  {
   "cell_type": "code",
   "execution_count": 59,
   "outputs": [
    {
     "name": "stdout",
     "output_type": "stream",
     "text": [
      "\n",
      "Treatment Effect Estimates: Blocking\n",
      "\n",
      "                     Est.       S.e.          z      P>|z|      [95% Conf. int.]\n",
      "--------------------------------------------------------------------------------\n",
      "           ATE      0.516      0.079      6.502      0.000      0.361      0.672\n",
      "           ATC      0.409      0.092      4.445      0.000      0.229      0.589\n",
      "           ATT      0.589      0.091      6.465      0.000      0.411      0.768\n",
      "\n",
      "Treatment Effect Estimates: Matching\n",
      "\n",
      "                     Est.       S.e.          z      P>|z|      [95% Conf. int.]\n",
      "--------------------------------------------------------------------------------\n",
      "           ATE      0.675      0.123      5.505      0.000      0.435      0.916\n",
      "           ATC      0.680      0.141      4.829      0.000      0.404      0.956\n",
      "           ATT      0.672      0.140      4.814      0.000      0.399      0.946\n",
      "\n"
     ]
    }
   ],
   "source": [
    "#invoke matching estimator\n",
    "\n",
    "causal.est_via_matching()\n",
    "print(causal.estimates)"
   ],
   "metadata": {
    "collapsed": false,
    "pycharm": {
     "name": "#%%\n"
    }
   }
  },
  {
   "cell_type": "markdown",
   "source": [
    "We can improve the above estimate by adjusting for bias.\n",
    "\n",
    "Let $m$ be the matching function. In general $X_i$ and $X_{m(i)}$ will not be similiar so the matching estimator will\n",
    "be additionally biased.\n",
    "\n",
    "The package is not really explaining what does adjusting on bias means. Under the hood it is modifying each ITE\n",
    "by approximated by the dot product of the matching discrepancy (i.e., X-X_matched) and the\n",
    "coefficients from the bias correction regression"
   ],
   "metadata": {
    "collapsed": false,
    "pycharm": {
     "name": "#%% md\n"
    }
   }
  },
  {
   "cell_type": "code",
   "execution_count": 60,
   "outputs": [
    {
     "name": "stdout",
     "output_type": "stream",
     "text": [
      "\n",
      "Treatment Effect Estimates: Blocking\n",
      "\n",
      "                     Est.       S.e.          z      P>|z|      [95% Conf. int.]\n",
      "--------------------------------------------------------------------------------\n",
      "           ATE      0.516      0.079      6.502      0.000      0.361      0.672\n",
      "           ATC      0.409      0.092      4.445      0.000      0.229      0.589\n",
      "           ATT      0.589      0.091      6.465      0.000      0.411      0.768\n",
      "\n",
      "Treatment Effect Estimates: Matching\n",
      "\n",
      "                     Est.       S.e.          z      P>|z|      [95% Conf. int.]\n",
      "--------------------------------------------------------------------------------\n",
      "           ATE      0.612      0.123      4.975      0.000      0.371      0.853\n",
      "           ATC      0.591      0.141      4.194      0.000      0.315      0.868\n",
      "           ATT      0.626      0.140      4.468      0.000      0.351      0.900\n",
      "\n"
     ]
    }
   ],
   "source": [
    "causal.est_via_matching(bias_adj=True)\n",
    "print(causal.estimates)"
   ],
   "metadata": {
    "collapsed": false,
    "pycharm": {
     "name": "#%%\n"
    }
   }
  },
  {
   "cell_type": "markdown",
   "source": [
    "## 3. Conclusions\n",
    "\n",
    "This approach i.e. vanilla k-NN matching on covariates it's certainly not satisfactory. The next step is to look\n",
    "how we can perform propensity score matching. However with propensity scores there is a problem reported\n",
    "in the literature, namely it can increase the balance easily:\n",
    "https://gking.harvard.edu/files/gking/files/psnot.pdf\n",
    "\n",
    "Further steps would include matching on the logit of the propensity score and look at what is done in case\n",
    "studies of performing matching:\n",
    "\n",
    "https://www.tandfonline.com/doi/pdf/10.1080/00273171.2011.540480\n",
    "\n",
    "https://sci-hub.do/http://jhr.uwpress.org/content/50/2/373.full.pdf+html\n",
    "\n",
    "\n",
    "There are also notebooks available to check for some ideas\n",
    "http://www.degeneratestate.org/posts/2018/Mar/24/causal-inference-with-python-part-1-potential-outcomes/\n",
    "\n",
    "Talks to watch:\n",
    "https://www.youtube.com/watch?v=rBv39pK1iEs\n",
    "https://www.youtube.com/watch?v=gaUgW7NWai8\n",
    "\n",
    "## 4. Further considerations\n",
    "When implementing an estimator in the future consider using this\n",
    "https://scikit-learn.org/stable/developers/develop.html\n",
    "https://sklearn-template.readthedocs.io/en/latest/user_guide.html\n",
    "\n",
    "There are clever algorithm like Generative Matching that can exploit a loss function of our choice\n",
    "and we could choose just the IPM or KL or whatever and this is worth analyzing. This is however written in R.\n",
    "\n",
    "## 5. Uber's causal inference package\n",
    "\n",
    "https://github.com/uber/causalml"
   ],
   "metadata": {
    "collapsed": false,
    "pycharm": {
     "name": "#%% md\n"
    }
   }
  },
  {
   "cell_type": "code",
   "execution_count": 61,
   "outputs": [],
   "source": [
    "from causalml.dataset import synthetic_data\n",
    "from causalml.propensity import ElasticNetPropensityModel\n",
    "import pandas as pd"
   ],
   "metadata": {
    "collapsed": false,
    "pycharm": {
     "name": "#%%\n"
    }
   }
  },
  {
   "cell_type": "code",
   "execution_count": 62,
   "outputs": [
    {
     "data": {
      "text/plain": "         x0        x1        x2        x3        x4  treatment   outcome\n0  0.806558  0.999063  0.685922  0.489712  0.064321          1  3.029459\n1  0.351880  0.087048  0.364900  0.124443  0.151241          0  0.364078\n2  0.286686  0.473618  0.008759  0.922285  0.702581          0  0.698016\n3  0.732209  0.518169  0.112590  0.837357  0.683949          1  0.948612\n4  0.897502  0.236969  0.592283  0.808822  0.076285          1  2.087665",
      "text/html": "<div>\n<style scoped>\n    .dataframe tbody tr th:only-of-type {\n        vertical-align: middle;\n    }\n\n    .dataframe tbody tr th {\n        vertical-align: top;\n    }\n\n    .dataframe thead th {\n        text-align: right;\n    }\n</style>\n<table border=\"1\" class=\"dataframe\">\n  <thead>\n    <tr style=\"text-align: right;\">\n      <th></th>\n      <th>x0</th>\n      <th>x1</th>\n      <th>x2</th>\n      <th>x3</th>\n      <th>x4</th>\n      <th>treatment</th>\n      <th>outcome</th>\n    </tr>\n  </thead>\n  <tbody>\n    <tr>\n      <th>0</th>\n      <td>0.806558</td>\n      <td>0.999063</td>\n      <td>0.685922</td>\n      <td>0.489712</td>\n      <td>0.064321</td>\n      <td>1</td>\n      <td>3.029459</td>\n    </tr>\n    <tr>\n      <th>1</th>\n      <td>0.351880</td>\n      <td>0.087048</td>\n      <td>0.364900</td>\n      <td>0.124443</td>\n      <td>0.151241</td>\n      <td>0</td>\n      <td>0.364078</td>\n    </tr>\n    <tr>\n      <th>2</th>\n      <td>0.286686</td>\n      <td>0.473618</td>\n      <td>0.008759</td>\n      <td>0.922285</td>\n      <td>0.702581</td>\n      <td>0</td>\n      <td>0.698016</td>\n    </tr>\n    <tr>\n      <th>3</th>\n      <td>0.732209</td>\n      <td>0.518169</td>\n      <td>0.112590</td>\n      <td>0.837357</td>\n      <td>0.683949</td>\n      <td>1</td>\n      <td>0.948612</td>\n    </tr>\n    <tr>\n      <th>4</th>\n      <td>0.897502</td>\n      <td>0.236969</td>\n      <td>0.592283</td>\n      <td>0.808822</td>\n      <td>0.076285</td>\n      <td>1</td>\n      <td>2.087665</td>\n    </tr>\n  </tbody>\n</table>\n</div>"
     },
     "execution_count": 62,
     "metadata": {},
     "output_type": "execute_result"
    }
   ],
   "source": [
    "y, X, treatment, _, _, e = synthetic_data(mode=1, n=1000, p=5, sigma=1.0)\n",
    "\n",
    "df = pd.DataFrame(X, columns=['x'+ str(i) for i in range(X.shape[1])])\n",
    "df['treatment'] = treatment\n",
    "df['outcome'] = y\n",
    "df.head()\n"
   ],
   "metadata": {
    "collapsed": false,
    "pycharm": {
     "name": "#%%\n"
    }
   }
  },
  {
   "cell_type": "code",
   "execution_count": 63,
   "outputs": [
    {
     "data": {
      "text/plain": "         x0        x1        x2        x3        x4  treatment   outcome  \\\n0  0.806558  0.999063  0.685922  0.489712  0.064321          1  3.029459   \n1  0.351880  0.087048  0.364900  0.124443  0.151241          0  0.364078   \n2  0.286686  0.473618  0.008759  0.922285  0.702581          0  0.698016   \n3  0.732209  0.518169  0.112590  0.837357  0.683949          1  0.948612   \n4  0.897502  0.236969  0.592283  0.808822  0.076285          1  2.087665   \n\n   propensity  \n0    0.917274  \n1    0.153071  \n2    0.388563  \n3    0.723073  \n4    0.631282  ",
      "text/html": "<div>\n<style scoped>\n    .dataframe tbody tr th:only-of-type {\n        vertical-align: middle;\n    }\n\n    .dataframe tbody tr th {\n        vertical-align: top;\n    }\n\n    .dataframe thead th {\n        text-align: right;\n    }\n</style>\n<table border=\"1\" class=\"dataframe\">\n  <thead>\n    <tr style=\"text-align: right;\">\n      <th></th>\n      <th>x0</th>\n      <th>x1</th>\n      <th>x2</th>\n      <th>x3</th>\n      <th>x4</th>\n      <th>treatment</th>\n      <th>outcome</th>\n      <th>propensity</th>\n    </tr>\n  </thead>\n  <tbody>\n    <tr>\n      <th>0</th>\n      <td>0.806558</td>\n      <td>0.999063</td>\n      <td>0.685922</td>\n      <td>0.489712</td>\n      <td>0.064321</td>\n      <td>1</td>\n      <td>3.029459</td>\n      <td>0.917274</td>\n    </tr>\n    <tr>\n      <th>1</th>\n      <td>0.351880</td>\n      <td>0.087048</td>\n      <td>0.364900</td>\n      <td>0.124443</td>\n      <td>0.151241</td>\n      <td>0</td>\n      <td>0.364078</td>\n      <td>0.153071</td>\n    </tr>\n    <tr>\n      <th>2</th>\n      <td>0.286686</td>\n      <td>0.473618</td>\n      <td>0.008759</td>\n      <td>0.922285</td>\n      <td>0.702581</td>\n      <td>0</td>\n      <td>0.698016</td>\n      <td>0.388563</td>\n    </tr>\n    <tr>\n      <th>3</th>\n      <td>0.732209</td>\n      <td>0.518169</td>\n      <td>0.112590</td>\n      <td>0.837357</td>\n      <td>0.683949</td>\n      <td>1</td>\n      <td>0.948612</td>\n      <td>0.723073</td>\n    </tr>\n    <tr>\n      <th>4</th>\n      <td>0.897502</td>\n      <td>0.236969</td>\n      <td>0.592283</td>\n      <td>0.808822</td>\n      <td>0.076285</td>\n      <td>1</td>\n      <td>2.087665</td>\n      <td>0.631282</td>\n    </tr>\n  </tbody>\n</table>\n</div>"
     },
     "execution_count": 63,
     "metadata": {},
     "output_type": "execute_result"
    }
   ],
   "source": [
    "\n",
    "\n",
    "pm = ElasticNetPropensityModel()\n",
    "ps = pm.fit_predict(X, treatment)\n",
    "\n",
    "df['propensity'] = ps\n",
    "\n",
    "df.head()"
   ],
   "metadata": {
    "collapsed": false,
    "pycharm": {
     "name": "#%%\n"
    }
   }
  },
  {
   "cell_type": "code",
   "execution_count": 64,
   "outputs": [],
   "source": [
    "from causalml.match import NearestNeighborMatch, create_table_one\n",
    "\n",
    "\"\"\"\n",
    "    Propensity score matching based on the nearest neighbor algorithm.\n",
    "    Attributes:\n",
    "        caliper (float): threshold to be considered as a match.\n",
    "        replace (bool): whether to match with replacement or not\n",
    "        ratio (int): ratio of control / treatment to be matched. used only if\n",
    "            replace=True.\n",
    "        shuffle (bool): whether to shuffle the treatment group data before\n",
    "            matching\n",
    "        random_state (numpy.random.RandomState or int): RandomState or an int\n",
    "            seed\n",
    "\"\"\"\n",
    "\n",
    "psm = NearestNeighborMatch(replace=False,\n",
    "                           ratio=1,\n",
    "                           random_state=42)"
   ],
   "metadata": {
    "collapsed": false,
    "pycharm": {
     "name": "#%%\n"
    }
   }
  },
  {
   "cell_type": "code",
   "execution_count": 65,
   "outputs": [],
   "source": [
    "matched = psm.match(data=df,\n",
    "                    treatment_col= 'treatment',\n",
    "                    score_cols= ['propensity'])"
   ],
   "metadata": {
    "collapsed": false,
    "pycharm": {
     "name": "#%%\n"
    }
   }
  },
  {
   "cell_type": "code",
   "execution_count": 66,
   "outputs": [
    {
     "data": {
      "text/plain": "1    246\n0    246\nName: treatment, dtype: int64"
     },
     "execution_count": 66,
     "metadata": {},
     "output_type": "execute_result"
    }
   ],
   "source": [
    "matched.treatment.value_counts()"
   ],
   "metadata": {
    "collapsed": false,
    "pycharm": {
     "name": "#%%\n"
    }
   }
  },
  {
   "cell_type": "code",
   "execution_count": 67,
   "outputs": [
    {
     "data": {
      "text/plain": "              Control    Treatment     SMD\nVariable                                  \nn                 246          246        \nx0        0.50 (0.32)  0.50 (0.26) -0.0129\nx1        0.51 (0.31)  0.51 (0.27)  0.0066\nx2        0.48 (0.28)  0.51 (0.28)  0.1127\nx3        0.49 (0.28)  0.48 (0.29) -0.0357\nx4        0.49 (0.29)  0.48 (0.30) -0.0069",
      "text/html": "<div>\n<style scoped>\n    .dataframe tbody tr th:only-of-type {\n        vertical-align: middle;\n    }\n\n    .dataframe tbody tr th {\n        vertical-align: top;\n    }\n\n    .dataframe thead th {\n        text-align: right;\n    }\n</style>\n<table border=\"1\" class=\"dataframe\">\n  <thead>\n    <tr style=\"text-align: right;\">\n      <th></th>\n      <th>Control</th>\n      <th>Treatment</th>\n      <th>SMD</th>\n    </tr>\n    <tr>\n      <th>Variable</th>\n      <th></th>\n      <th></th>\n      <th></th>\n    </tr>\n  </thead>\n  <tbody>\n    <tr>\n      <th>n</th>\n      <td>246</td>\n      <td>246</td>\n      <td></td>\n    </tr>\n    <tr>\n      <th>x0</th>\n      <td>0.50 (0.32)</td>\n      <td>0.50 (0.26)</td>\n      <td>-0.0129</td>\n    </tr>\n    <tr>\n      <th>x1</th>\n      <td>0.51 (0.31)</td>\n      <td>0.51 (0.27)</td>\n      <td>0.0066</td>\n    </tr>\n    <tr>\n      <th>x2</th>\n      <td>0.48 (0.28)</td>\n      <td>0.51 (0.28)</td>\n      <td>0.1127</td>\n    </tr>\n    <tr>\n      <th>x3</th>\n      <td>0.49 (0.28)</td>\n      <td>0.48 (0.29)</td>\n      <td>-0.0357</td>\n    </tr>\n    <tr>\n      <th>x4</th>\n      <td>0.49 (0.29)</td>\n      <td>0.48 (0.30)</td>\n      <td>-0.0069</td>\n    </tr>\n  </tbody>\n</table>\n</div>"
     },
     "execution_count": 67,
     "metadata": {},
     "output_type": "execute_result"
    }
   ],
   "source": [
    "create_table_one(data=matched,\n",
    "                 treatment_col= 'treatment',\n",
    "                 features=matched.columns.tolist()[0:-3])"
   ],
   "metadata": {
    "collapsed": false,
    "pycharm": {
     "name": "#%%\n"
    }
   }
  },
  {
   "cell_type": "code",
   "execution_count": 68,
   "outputs": [
    {
     "name": "stdout",
     "output_type": "stream",
     "text": [
      "The average treatment effect estimated by propensity score matching is equal to 0.7\n"
     ]
    }
   ],
   "source": [
    "# Now we can estimate the treatment effect simply by taking the average\n",
    "\n",
    "def ate_matched(df, treatment_col = 'treatment', outcome_col = 'outcome'):\n",
    "    df_control = df[df[treatment_col] == 0]\n",
    "    df_treated = df[df[treatment_col] == 1]\n",
    "    ate = df_treated[outcome_col].mean() - df_control[outcome_col].mean()\n",
    "    return ate.round(2)\n",
    "\n",
    "print(\"The average treatment effect estimated by propensity score matching is equal to\",\n",
    "      ate_matched(matched))"
   ],
   "metadata": {
    "collapsed": false,
    "pycharm": {
     "name": "#%%\n"
    }
   }
  },
  {
   "cell_type": "markdown",
   "source": [
    "To do:\n",
    "1. Look how it performs on multiple iterations with randomized data generating function. For this first make data modular.\n",
    "2. Maybe we could use the cross validation metrics to tune the parameters\n",
    "3. A sensible approach would be to stratify the sample into small bins based on some specified loss and then use\n",
    "a blocking estimator or even estimate the pscore to improve the balance.\n",
    "\n"
   ],
   "metadata": {
    "collapsed": false,
    "pycharm": {
     "name": "#%% md\n"
    }
   }
  }
 ],
 "metadata": {
  "kernelspec": {
   "display_name": "Python 3",
   "language": "python",
   "name": "python3"
  },
  "language_info": {
   "codemirror_mode": {
    "name": "ipython",
    "version": 2
   },
   "file_extension": ".py",
   "mimetype": "text/x-python",
   "name": "python",
   "nbconvert_exporter": "python",
   "pygments_lexer": "ipython2",
   "version": "2.7.6"
  }
 },
 "nbformat": 4,
 "nbformat_minor": 0
}