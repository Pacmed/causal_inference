{
 "cells": [
  {
   "cell_type": "markdown",
   "metadata": {},
   "source": [
    "#### Workflow:\n",
    "Each 'hash_patient_id' is processed separately to make the process efficient.\n",
    "\n",
    "1. Create observations with 'create_data_points':\n",
    " - an observation is defined as a data point such that all signals 'peep', 'fio2', 'po2'\n",
    " are measured within one hour. The mean of all measurements within the hour is taken\n",
    " and the hour is rounded up to the nearest hour.\n",
    " - As an example if for a single 'hash_patient_id' we have three measurements:\n",
    " 'peep' measured at 12:50, 'fio2' measured at 12:10 and po2 measured at 12:20, 12:40, 13:00\n",
    " then these measurements will create one data point: 13:00.\n",
    " - As a second example if fio2 would not have been measured between 12:01 and 13:00. Then\n",
    " we would discard all observations that happened between 12:01 and 13:00 for all signals.\n",
    " - Notebook works with a single patient and hence '_create_data_points_batch' to make\n",
    "testing faster. Consider changing the function name to 'create_observations'.\n",
    "\n",
    "2. (to be implemented) Function 'select_cohort' selects the cohort by checking the\n",
    "inclusion and exclusion criteria. (First to do is to plot all values as a histogram,\n",
    "possibly without discarding the non measured ones.)\n",
    "\n",
    "3. Create a table with the treatment. Function 'get_proning' creates a table with\n",
    "proning sessions. This table will be used to split the observations into control, treated,\n",
    "outcome control, outcome treated.\n",
    "\n",
    "load blood gas points (create_data_points)\n",
    " -> drop ids that are not eligible (check_inclusion(drop = True))\n",
    " -> split points into (control - not proned and not proned after\n",
    "                       measurement_control - not proned and wasn't proned in the past, may be proned in the future\n",
    "                       trated - not proned will be proned after\n",
    "                       measurement_treated - proned at the moment)\n"
   ]
  },
  {
   "cell_type": "code",
   "execution_count": 4,
   "metadata": {
    "pycharm": {
     "name": "#%%\n"
    }
   },
   "outputs": [],
   "source": [
    "%reset"
   ]
  },
  {
   "cell_type": "code",
   "execution_count": 13,
   "metadata": {
    "pycharm": {
     "name": "#%%\n"
    }
   },
   "outputs": [],
   "source": [
    "import os, sys, random\n",
    "\n",
    "import pandas as pd\n",
    "import numpy as np\n",
    "import swifter\n",
    "\n",
    "import pacmagic\n",
    "import pacmagic_icu\n",
    "\n",
    "from importlib import reload\n",
    "from data_warehouse_utils.dataloader import DataLoader\n",
    "\n",
    "os.chdir('/home/adam/files/causal_inference')\n",
    "os.getcwd()\n",
    "\n",
    "from causal_inference.experiment_generator.create_observations import create_data_points\n",
    "from causal_inference.experiment_generator.create_treatment import get_proning_table\n",
    "from causal_inference.experiment_generator.create_treatment import add_treatment\n",
    "from causal_inference.experiment_generator.create_inclusion_criteria import get_inclusion_data"
   ]
  },
  {
   "cell_type": "code",
   "execution_count": 14,
   "metadata": {
    "pycharm": {
     "name": "#%%\n"
    }
   },
   "outputs": [],
   "source": [
    "# Reloads packages\n",
    "os.chdir('/home/adam/files/causal_inference')\n",
    "os.getcwd()\n",
    "\n",
    "reload(sys.modules['causal_inference.experiment_generator.create_observations'])\n",
    "reload(sys.modules['causal_inference.experiment_generator.create_treatment'])\n",
    "reload(sys.modules['causal_inference.experiment_generator.create_inclusion_criteria'])\n",
    "\n",
    "\n",
    "from causal_inference.experiment_generator.create_observations import create_data_points\n",
    "from causal_inference.experiment_generator.create_treatment import get_proning_table\n",
    "from causal_inference.experiment_generator.create_treatment import add_treatment\n",
    "from causal_inference.experiment_generator.create_inclusion_criteria import get_inclusion_data"
   ]
  },
  {
   "cell_type": "code",
   "execution_count": 15,
   "metadata": {
    "pycharm": {
     "name": "#%%\n"
    }
   },
   "outputs": [],
   "source": [
    "dl = DataLoader()"
   ]
  },
  {
   "cell_type": "code",
   "execution_count": null,
   "metadata": {
    "pycharm": {
     "name": "#%% Load blood_gas measurement data\n"
    }
   },
   "outputs": [],
   "source": [
    "df_measurements = create_data_points(dl)"
   ]
  },
  {
   "cell_type": "code",
   "execution_count": null,
   "metadata": {
    "pycharm": {
     "name": "#%%\n"
    }
   },
   "outputs": [],
   "source": [
    "df_measurements.head()"
   ]
  },
  {
   "cell_type": "code",
   "execution_count": null,
   "metadata": {
    "pycharm": {
     "name": "#%%\n"
    }
   },
   "outputs": [],
   "source": [
    "df_measurements.info()"
   ]
  },
  {
   "cell_type": "code",
   "execution_count": null,
   "metadata": {
    "pycharm": {
     "name": "#%%\n"
    }
   },
   "outputs": [],
   "source": [
    "os.chdir('/home/adam/files/data')\n",
    "os.getcwd()"
   ]
  },
  {
   "cell_type": "code",
   "execution_count": null,
   "metadata": {
    "pycharm": {
     "name": "#%%\n"
    }
   },
   "outputs": [],
   "source": [
    "df_measurements.to_csv('blood_gas_measurements.csv', index=False)"
   ]
  },
  {
   "cell_type": "code",
   "execution_count": 16,
   "metadata": {
    "pycharm": {
     "name": "#%% Load treatment data\n"
    }
   },
   "outputs": [],
   "source": [
    "df_treatment = get_proning_table(dl)"
   ]
  },
  {
   "cell_type": "code",
   "execution_count": 17,
   "metadata": {
    "pycharm": {
     "name": "#%%\n"
    }
   },
   "outputs": [
    {
     "name": "stdout",
     "output_type": "stream",
     "text": [
      "<class 'pandas.core.frame.DataFrame'>\n",
      "RangeIndex: 6866 entries, 0 to 6865\n",
      "Data columns (total 8 columns):\n",
      " #   Column              Non-Null Count  Dtype         \n",
      "---  ------              --------------  -----         \n",
      " 0   hash_patient_id     6866 non-null   object        \n",
      " 1   effective_value     6866 non-null   object        \n",
      " 2   session_id          6866 non-null   int64         \n",
      " 3   is_correct_unit_yn  6866 non-null   bool          \n",
      " 4   proning_canceled    6866 non-null   bool          \n",
      " 5   start_timestamp     6866 non-null   datetime64[ns]\n",
      " 6   end_timestamp       6866 non-null   datetime64[ns]\n",
      " 7   duration_hours      6866 non-null   int64         \n",
      "dtypes: bool(2), datetime64[ns](2), int64(2), object(2)\n",
      "memory usage: 335.4+ KB\n"
     ]
    }
   ],
   "source": [
    "df_treatment.info()"
   ]
  },
  {
   "cell_type": "code",
   "execution_count": 18,
   "metadata": {
    "pycharm": {
     "name": "#%%\n"
    }
   },
   "outputs": [
    {
     "data": {
      "text/plain": "                                     hash_patient_id effective_value  \\\n0  0056C30A94364E6D71E41EF2F4611DE0FEDF1D86755991...           prone   \n1  0056C30A94364E6D71E41EF2F4611DE0FEDF1D86755991...          supine   \n2  0056C30A94364E6D71E41EF2F4611DE0FEDF1D86755991...          supine   \n3  0062A4D1F904E04A4B1FA417D87F71181AEB285660274A...          supine   \n4  0070A04E30F2A5F394E0EED71AE0C186DEAB514BD21D27...  Bed naar links   \n\n   session_id  is_correct_unit_yn  proning_canceled     start_timestamp  \\\n0           1                True             False 2020-04-20 20:11:35   \n1           0                True             False 2020-04-17 18:47:58   \n2           2                True             False 2020-04-27 15:29:45   \n3           0               False             False 2020-03-20 15:27:00   \n4           1                True             False 2020-05-13 04:00:00   \n\n        end_timestamp  duration_hours  \n0 2020-04-27 15:29:45             163  \n1 2020-04-20 20:11:35              73  \n2 2020-05-06 20:20:29             220  \n3 2020-03-20 22:18:00               6  \n4 2020-05-13 12:00:00               8  ",
      "text/html": "<div>\n<style scoped>\n    .dataframe tbody tr th:only-of-type {\n        vertical-align: middle;\n    }\n\n    .dataframe tbody tr th {\n        vertical-align: top;\n    }\n\n    .dataframe thead th {\n        text-align: right;\n    }\n</style>\n<table border=\"1\" class=\"dataframe\">\n  <thead>\n    <tr style=\"text-align: right;\">\n      <th></th>\n      <th>hash_patient_id</th>\n      <th>effective_value</th>\n      <th>session_id</th>\n      <th>is_correct_unit_yn</th>\n      <th>proning_canceled</th>\n      <th>start_timestamp</th>\n      <th>end_timestamp</th>\n      <th>duration_hours</th>\n    </tr>\n  </thead>\n  <tbody>\n    <tr>\n      <th>0</th>\n      <td>0056C30A94364E6D71E41EF2F4611DE0FEDF1D86755991...</td>\n      <td>prone</td>\n      <td>1</td>\n      <td>True</td>\n      <td>False</td>\n      <td>2020-04-20 20:11:35</td>\n      <td>2020-04-27 15:29:45</td>\n      <td>163</td>\n    </tr>\n    <tr>\n      <th>1</th>\n      <td>0056C30A94364E6D71E41EF2F4611DE0FEDF1D86755991...</td>\n      <td>supine</td>\n      <td>0</td>\n      <td>True</td>\n      <td>False</td>\n      <td>2020-04-17 18:47:58</td>\n      <td>2020-04-20 20:11:35</td>\n      <td>73</td>\n    </tr>\n    <tr>\n      <th>2</th>\n      <td>0056C30A94364E6D71E41EF2F4611DE0FEDF1D86755991...</td>\n      <td>supine</td>\n      <td>2</td>\n      <td>True</td>\n      <td>False</td>\n      <td>2020-04-27 15:29:45</td>\n      <td>2020-05-06 20:20:29</td>\n      <td>220</td>\n    </tr>\n    <tr>\n      <th>3</th>\n      <td>0062A4D1F904E04A4B1FA417D87F71181AEB285660274A...</td>\n      <td>supine</td>\n      <td>0</td>\n      <td>False</td>\n      <td>False</td>\n      <td>2020-03-20 15:27:00</td>\n      <td>2020-03-20 22:18:00</td>\n      <td>6</td>\n    </tr>\n    <tr>\n      <th>4</th>\n      <td>0070A04E30F2A5F394E0EED71AE0C186DEAB514BD21D27...</td>\n      <td>Bed naar links</td>\n      <td>1</td>\n      <td>True</td>\n      <td>False</td>\n      <td>2020-05-13 04:00:00</td>\n      <td>2020-05-13 12:00:00</td>\n      <td>8</td>\n    </tr>\n  </tbody>\n</table>\n</div>"
     },
     "execution_count": 18,
     "metadata": {},
     "output_type": "execute_result"
    }
   ],
   "source": [
    "df_treatment.head()"
   ]
  },
  {
   "cell_type": "code",
   "execution_count": 25,
   "metadata": {
    "pycharm": {
     "name": "#%%\n"
    }
   },
   "outputs": [
    {
     "data": {
      "text/plain": "'/home/adam/files/data'"
     },
     "execution_count": 25,
     "metadata": {},
     "output_type": "execute_result"
    }
   ],
   "source": [
    "os.chdir('/home/adam/files/data')\n",
    "os.getcwd()"
   ]
  },
  {
   "cell_type": "code",
   "execution_count": 26,
   "metadata": {
    "pycharm": {
     "name": "#%%\n"
    }
   },
   "outputs": [],
   "source": [
    "df_treatment.to_csv('prone_sessions.csv', index=False)"
   ]
  },
  {
   "cell_type": "code",
   "execution_count": null,
   "metadata": {
    "pycharm": {
     "name": "#%% load treatment\n"
    }
   },
   "outputs": [],
   "source": [
    "df_observations = add_treatment(df_treatment)"
   ]
  },
  {
   "cell_type": "code",
   "execution_count": null,
   "metadata": {
    "pycharm": {
     "name": "#%%\n"
    }
   },
   "outputs": [],
   "source": [
    "os.chdir('/home/adam/files/data')\n",
    "df_measurements = pd.read_csv('blood_gas_measurements.csv')\n",
    "df_measurements.head()"
   ]
  },
  {
   "cell_type": "code",
   "execution_count": null,
   "metadata": {
    "pycharm": {
     "name": "#%%\n"
    }
   },
   "outputs": [],
   "source": [
    "df_observations = get_inclusion_data(df_observations, df_measurements)"
   ]
  },
  {
   "cell_type": "code",
   "execution_count": null,
   "metadata": {
    "pycharm": {
     "name": "#%% Load inclusion data\n"
    }
   },
   "outputs": [],
   "source": [
    "df_observations.head()"
   ]
  },
  {
   "cell_type": "code",
   "execution_count": 20,
   "metadata": {
    "pycharm": {
     "name": "#%%\n"
    }
   },
   "outputs": [
    {
     "data": {
      "text/plain": "        session_id  duration_hours\ncount  6866.000000     6866.000000\nmean      6.113749       68.185698\nstd       7.336826      170.149423\nmin       0.000000        0.000000\n25%       1.000000        6.000000\n50%       4.000000       18.000000\n75%       8.000000       47.000000\nmax      47.000000     3470.000000",
      "text/html": "<div>\n<style scoped>\n    .dataframe tbody tr th:only-of-type {\n        vertical-align: middle;\n    }\n\n    .dataframe tbody tr th {\n        vertical-align: top;\n    }\n\n    .dataframe thead th {\n        text-align: right;\n    }\n</style>\n<table border=\"1\" class=\"dataframe\">\n  <thead>\n    <tr style=\"text-align: right;\">\n      <th></th>\n      <th>session_id</th>\n      <th>duration_hours</th>\n    </tr>\n  </thead>\n  <tbody>\n    <tr>\n      <th>count</th>\n      <td>6866.000000</td>\n      <td>6866.000000</td>\n    </tr>\n    <tr>\n      <th>mean</th>\n      <td>6.113749</td>\n      <td>68.185698</td>\n    </tr>\n    <tr>\n      <th>std</th>\n      <td>7.336826</td>\n      <td>170.149423</td>\n    </tr>\n    <tr>\n      <th>min</th>\n      <td>0.000000</td>\n      <td>0.000000</td>\n    </tr>\n    <tr>\n      <th>25%</th>\n      <td>1.000000</td>\n      <td>6.000000</td>\n    </tr>\n    <tr>\n      <th>50%</th>\n      <td>4.000000</td>\n      <td>18.000000</td>\n    </tr>\n    <tr>\n      <th>75%</th>\n      <td>8.000000</td>\n      <td>47.000000</td>\n    </tr>\n    <tr>\n      <th>max</th>\n      <td>47.000000</td>\n      <td>3470.000000</td>\n    </tr>\n  </tbody>\n</table>\n</div>"
     },
     "execution_count": 20,
     "metadata": {},
     "output_type": "execute_result"
    }
   ],
   "source": [
    "df_treatment.describe()"
   ]
  },
  {
   "cell_type": "code",
   "execution_count": 22,
   "outputs": [
    {
     "data": {
      "text/plain": "        session_id  duration_hours\ncount  2706.000000     2706.000000\nmean      6.257945       36.512195\nstd       7.090593       64.739061\nmin       0.000000        0.000000\n25%       1.000000       14.000000\n50%       4.000000       19.000000\n75%       9.000000       33.000000\nmax      47.000000      865.000000",
      "text/html": "<div>\n<style scoped>\n    .dataframe tbody tr th:only-of-type {\n        vertical-align: middle;\n    }\n\n    .dataframe tbody tr th {\n        vertical-align: top;\n    }\n\n    .dataframe thead th {\n        text-align: right;\n    }\n</style>\n<table border=\"1\" class=\"dataframe\">\n  <thead>\n    <tr style=\"text-align: right;\">\n      <th></th>\n      <th>session_id</th>\n      <th>duration_hours</th>\n    </tr>\n  </thead>\n  <tbody>\n    <tr>\n      <th>count</th>\n      <td>2706.000000</td>\n      <td>2706.000000</td>\n    </tr>\n    <tr>\n      <th>mean</th>\n      <td>6.257945</td>\n      <td>36.512195</td>\n    </tr>\n    <tr>\n      <th>std</th>\n      <td>7.090593</td>\n      <td>64.739061</td>\n    </tr>\n    <tr>\n      <th>min</th>\n      <td>0.000000</td>\n      <td>0.000000</td>\n    </tr>\n    <tr>\n      <th>25%</th>\n      <td>1.000000</td>\n      <td>14.000000</td>\n    </tr>\n    <tr>\n      <th>50%</th>\n      <td>4.000000</td>\n      <td>19.000000</td>\n    </tr>\n    <tr>\n      <th>75%</th>\n      <td>9.000000</td>\n      <td>33.000000</td>\n    </tr>\n    <tr>\n      <th>max</th>\n      <td>47.000000</td>\n      <td>865.000000</td>\n    </tr>\n  </tbody>\n</table>\n</div>"
     },
     "execution_count": 22,
     "metadata": {},
     "output_type": "execute_result"
    }
   ],
   "source": [
    "df_treatment[df_treatment.effective_value == 'prone'].describe()"
   ],
   "metadata": {
    "collapsed": false,
    "pycharm": {
     "name": "#%%\n"
    }
   }
  },
  {
   "cell_type": "code",
   "execution_count": 24,
   "outputs": [
    {
     "name": "stderr",
     "output_type": "stream",
     "text": [
      "/home/adam/.conda/envs/python37/lib/python3.7/site-packages/ipykernel_launcher.py:1: UserWarning:\n",
      "\n",
      "Boolean Series key will be reindexed to match DataFrame index.\n",
      "\n"
     ]
    },
    {
     "data": {
      "text/plain": "        session_id  duration_hours\ncount  2531.000000     2531.000000\nmean      6.547215       23.360332\nstd       7.179327       19.070468\nmin       0.000000        0.000000\n25%       1.000000       13.000000\n50%       4.000000       19.000000\n75%       9.000000       25.000000\nmax      47.000000       96.000000",
      "text/html": "<div>\n<style scoped>\n    .dataframe tbody tr th:only-of-type {\n        vertical-align: middle;\n    }\n\n    .dataframe tbody tr th {\n        vertical-align: top;\n    }\n\n    .dataframe thead th {\n        text-align: right;\n    }\n</style>\n<table border=\"1\" class=\"dataframe\">\n  <thead>\n    <tr style=\"text-align: right;\">\n      <th></th>\n      <th>session_id</th>\n      <th>duration_hours</th>\n    </tr>\n  </thead>\n  <tbody>\n    <tr>\n      <th>count</th>\n      <td>2531.000000</td>\n      <td>2531.000000</td>\n    </tr>\n    <tr>\n      <th>mean</th>\n      <td>6.547215</td>\n      <td>23.360332</td>\n    </tr>\n    <tr>\n      <th>std</th>\n      <td>7.179327</td>\n      <td>19.070468</td>\n    </tr>\n    <tr>\n      <th>min</th>\n      <td>0.000000</td>\n      <td>0.000000</td>\n    </tr>\n    <tr>\n      <th>25%</th>\n      <td>1.000000</td>\n      <td>13.000000</td>\n    </tr>\n    <tr>\n      <th>50%</th>\n      <td>4.000000</td>\n      <td>19.000000</td>\n    </tr>\n    <tr>\n      <th>75%</th>\n      <td>9.000000</td>\n      <td>25.000000</td>\n    </tr>\n    <tr>\n      <th>max</th>\n      <td>47.000000</td>\n      <td>96.000000</td>\n    </tr>\n  </tbody>\n</table>\n</div>"
     },
     "execution_count": 24,
     "metadata": {},
     "output_type": "execute_result"
    }
   ],
   "source": [
    "df_treatment[df_treatment.effective_value == 'prone'][df_treatment.duration_hours <= 96].describe()"
   ],
   "metadata": {
    "collapsed": false,
    "pycharm": {
     "name": "#%%\n"
    }
   }
  },
  {
   "cell_type": "code",
   "execution_count": 27,
   "outputs": [
    {
     "data": {
      "text/plain": "hash_patient_id               object\neffective_value               object\nsession_id                     int64\nis_correct_unit_yn              bool\nproning_canceled                bool\nstart_timestamp       datetime64[ns]\nend_timestamp         datetime64[ns]\nduration_hours                 int64\ndtype: object"
     },
     "execution_count": 27,
     "metadata": {},
     "output_type": "execute_result"
    }
   ],
   "source": [
    "\n",
    "df_treatment.dtypes"
   ],
   "metadata": {
    "collapsed": false,
    "pycharm": {
     "name": "#%%\n"
    }
   }
  },
  {
   "cell_type": "code",
   "execution_count": null,
   "outputs": [],
   "source": [],
   "metadata": {
    "collapsed": false,
    "pycharm": {
     "name": "#%%\n"
    }
   }
  }
 ],
 "metadata": {
  "kernelspec": {
   "display_name": "Python 3",
   "language": "python",
   "name": "python3"
  },
  "language_info": {
   "codemirror_mode": {
    "name": "ipython",
    "version": 2
   },
   "file_extension": ".py",
   "mimetype": "text/x-python",
   "name": "python",
   "nbconvert_exporter": "python",
   "pygments_lexer": "ipython2"
  }
 },
 "nbformat": 4,
 "nbformat_minor": 0
}