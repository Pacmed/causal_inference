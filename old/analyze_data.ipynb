{
 "cells": [
  {
   "cell_type": "code",
   "execution_count": 242,
   "metadata": {
    "pycharm": {
     "name": "#%%\n"
    }
   },
   "outputs": [],
   "source": [
    "%reset"
   ]
  },
  {
   "cell_type": "code",
   "execution_count": 272,
   "outputs": [],
   "source": [
    "import os, sys, random\n",
    "\n",
    "import pandas as pd\n",
    "import numpy as np\n",
    "import swifter\n",
    "\n",
    "import pacmagic\n",
    "import pacmagic_icu\n",
    "\n",
    "\n",
    "from importlib import reload\n",
    "from data_warehouse_utils.dataloader import DataLoader\n",
    "\n",
    "os.chdir('/home/adam/files/causal_inference')\n",
    "os.getcwd()\n",
    "\n",
    "from causal_inference.experiment_generator.create_observations import create_data_points\n",
    "from causal_inference.experiment_generator.create_treatment import get_proning_table"
   ],
   "metadata": {
    "collapsed": false,
    "pycharm": {
     "name": "#%%\n"
    }
   }
  },
  {
   "cell_type": "code",
   "execution_count": 260,
   "metadata": {
    "pycharm": {
     "name": "#%% Analyze the overlap of patients ID\n"
    }
   },
   "outputs": [],
   "source": [
    "dl = DataLoader()"
   ]
  },
  {
   "cell_type": "code",
   "execution_count": 3,
   "metadata": {
    "pycharm": {
     "name": "#%%\n"
    }
   },
   "outputs": [
    {
     "data": {
      "text/plain": "1687"
     },
     "execution_count": 3,
     "metadata": {},
     "output_type": "execute_result"
    }
   ],
   "source": [
    "count_admissions = _get_hash_patient_id(dl)\n",
    "len(count_admissions)"
   ]
  },
  {
   "cell_type": "code",
   "execution_count": 4,
   "metadata": {
    "pycharm": {
     "name": "#%%\n"
    }
   },
   "outputs": [
    {
     "data": {
      "text/plain": "2053"
     },
     "execution_count": 4,
     "metadata": {},
     "output_type": "execute_result"
    }
   ],
   "source": [
    "count_patients = dl.get_patients(columns=['hash_patient_id']).hash_patient_id.unique().tolist()\n",
    "len(count_patients)"
   ]
  },
  {
   "cell_type": "code",
   "execution_count": 5,
   "metadata": {
    "pycharm": {
     "name": "#%%\n"
    }
   },
   "outputs": [
    {
     "data": {
      "text/plain": "1722"
     },
     "execution_count": 5,
     "metadata": {},
     "output_type": "execute_result"
    }
   ],
   "source": [
    "count_treatment = dl.get_range_measurements(columns=['hash_patient_id']).hash_patient_id.unique().tolist()\n",
    "len(count_treatment)\n"
   ]
  },
  {
   "cell_type": "code",
   "execution_count": null,
   "metadata": {
    "pycharm": {
     "name": "#%%\n"
    }
   },
   "outputs": [],
   "source": [
    "len(list(set(count_admissions).intersection(set(count_treatment))))"
   ]
  },
  {
   "cell_type": "markdown",
   "metadata": {
    "pycharm": {
     "name": "#%% md\n"
    }
   },
   "source": [
    "Getting the skeleton data"
   ]
  },
  {
   "cell_type": "code",
   "execution_count": 246,
   "metadata": {
    "pycharm": {
     "name": "#%% load data\n"
    }
   },
   "outputs": [
    {
     "data": {
      "text/plain": "'/home/adam/files/data'"
     },
     "execution_count": 246,
     "metadata": {},
     "output_type": "execute_result"
    }
   ],
   "source": [
    "os.chdir('/home/adam/files/data')\n",
    "os.getcwd()\n"
   ]
  },
  {
   "cell_type": "code",
   "execution_count": 247,
   "metadata": {
    "pycharm": {
     "name": "#%%\n"
    }
   },
   "outputs": [
    {
     "data": {
      "text/plain": "                                     hash_patient_id effective_value  \\\n0  0056C30A94364E6D71E41EF2F4611DE0FEDF1D86755991...           prone   \n1  0056C30A94364E6D71E41EF2F4611DE0FEDF1D86755991...          supine   \n2  0056C30A94364E6D71E41EF2F4611DE0FEDF1D86755991...          supine   \n3  0062A4D1F904E04A4B1FA417D87F71181AEB285660274A...          supine   \n4  0070A04E30F2A5F394E0EED71AE0C186DEAB514BD21D27...  Bed naar links   \n\n   session_id  is_correct_unit_yn  proning_canceled      start_timestamp  \\\n0           1                True             False  2020-04-20 20:11:35   \n1           0                True             False  2020-04-17 18:47:58   \n2           2                True             False  2020-04-27 15:29:45   \n3           0               False             False  2020-03-20 15:27:00   \n4           1                True             False  2020-05-13 04:00:00   \n\n         end_timestamp  duration_hours  \n0  2020-04-27 15:29:45             163  \n1  2020-04-20 20:11:35              73  \n2  2020-05-06 20:20:29             220  \n3  2020-03-20 22:18:00               6  \n4  2020-05-13 12:00:00               8  ",
      "text/html": "<div>\n<style scoped>\n    .dataframe tbody tr th:only-of-type {\n        vertical-align: middle;\n    }\n\n    .dataframe tbody tr th {\n        vertical-align: top;\n    }\n\n    .dataframe thead th {\n        text-align: right;\n    }\n</style>\n<table border=\"1\" class=\"dataframe\">\n  <thead>\n    <tr style=\"text-align: right;\">\n      <th></th>\n      <th>hash_patient_id</th>\n      <th>effective_value</th>\n      <th>session_id</th>\n      <th>is_correct_unit_yn</th>\n      <th>proning_canceled</th>\n      <th>start_timestamp</th>\n      <th>end_timestamp</th>\n      <th>duration_hours</th>\n    </tr>\n  </thead>\n  <tbody>\n    <tr>\n      <th>0</th>\n      <td>0056C30A94364E6D71E41EF2F4611DE0FEDF1D86755991...</td>\n      <td>prone</td>\n      <td>1</td>\n      <td>True</td>\n      <td>False</td>\n      <td>2020-04-20 20:11:35</td>\n      <td>2020-04-27 15:29:45</td>\n      <td>163</td>\n    </tr>\n    <tr>\n      <th>1</th>\n      <td>0056C30A94364E6D71E41EF2F4611DE0FEDF1D86755991...</td>\n      <td>supine</td>\n      <td>0</td>\n      <td>True</td>\n      <td>False</td>\n      <td>2020-04-17 18:47:58</td>\n      <td>2020-04-20 20:11:35</td>\n      <td>73</td>\n    </tr>\n    <tr>\n      <th>2</th>\n      <td>0056C30A94364E6D71E41EF2F4611DE0FEDF1D86755991...</td>\n      <td>supine</td>\n      <td>2</td>\n      <td>True</td>\n      <td>False</td>\n      <td>2020-04-27 15:29:45</td>\n      <td>2020-05-06 20:20:29</td>\n      <td>220</td>\n    </tr>\n    <tr>\n      <th>3</th>\n      <td>0062A4D1F904E04A4B1FA417D87F71181AEB285660274A...</td>\n      <td>supine</td>\n      <td>0</td>\n      <td>False</td>\n      <td>False</td>\n      <td>2020-03-20 15:27:00</td>\n      <td>2020-03-20 22:18:00</td>\n      <td>6</td>\n    </tr>\n    <tr>\n      <th>4</th>\n      <td>0070A04E30F2A5F394E0EED71AE0C186DEAB514BD21D27...</td>\n      <td>Bed naar links</td>\n      <td>1</td>\n      <td>True</td>\n      <td>False</td>\n      <td>2020-05-13 04:00:00</td>\n      <td>2020-05-13 12:00:00</td>\n      <td>8</td>\n    </tr>\n  </tbody>\n</table>\n</div>"
     },
     "execution_count": 247,
     "metadata": {},
     "output_type": "execute_result"
    }
   ],
   "source": [
    "df_treatment = pd.read_csv('prone_sessions.csv')\n",
    "df_treatment.head()"
   ]
  },
  {
   "cell_type": "code",
   "execution_count": 248,
   "outputs": [
    {
     "name": "stdout",
     "output_type": "stream",
     "text": [
      "<class 'pandas.core.frame.DataFrame'>\n",
      "RangeIndex: 6866 entries, 0 to 6865\n",
      "Data columns (total 8 columns):\n",
      " #   Column              Non-Null Count  Dtype         \n",
      "---  ------              --------------  -----         \n",
      " 0   hash_patient_id     6866 non-null   object        \n",
      " 1   effective_value     6866 non-null   object        \n",
      " 2   session_id          6866 non-null   int64         \n",
      " 3   is_correct_unit_yn  6866 non-null   bool          \n",
      " 4   proning_canceled    6866 non-null   bool          \n",
      " 5   start_timestamp     6866 non-null   datetime64[ns]\n",
      " 6   end_timestamp       6866 non-null   datetime64[ns]\n",
      " 7   duration_hours      6866 non-null   int64         \n",
      "dtypes: bool(2), datetime64[ns](2), int64(2), object(2)\n",
      "memory usage: 335.4+ KB\n"
     ]
    }
   ],
   "source": [
    "df_treatment['start_timestamp'] = df_treatment.start_timestamp.astype('datetime64[ns]')\n",
    "df_treatment['end_timestamp'] = df_treatment.end_timestamp.astype('datetime64[ns]')\n",
    "df_treatment.info()"
   ],
   "metadata": {
    "collapsed": false,
    "pycharm": {
     "name": "#%%\n"
    }
   }
  },
  {
   "cell_type": "code",
   "execution_count": 249,
   "outputs": [],
   "source": [
    "df_treatment = df_treatment[df_treatment.effective_value == 'prone']\n",
    "df_treatment = df_treatment[df_treatment.duration_hours <= 96]"
   ],
   "metadata": {
    "collapsed": false,
    "pycharm": {
     "name": "#%%\n"
    }
   }
  },
  {
   "cell_type": "code",
   "execution_count": 250,
   "outputs": [
    {
     "name": "stdout",
     "output_type": "stream",
     "text": [
      "<class 'pandas.core.frame.DataFrame'>\n",
      "Int64Index: 2531 entries, 11 to 6858\n",
      "Data columns (total 8 columns):\n",
      " #   Column              Non-Null Count  Dtype         \n",
      "---  ------              --------------  -----         \n",
      " 0   hash_patient_id     2531 non-null   object        \n",
      " 1   effective_value     2531 non-null   object        \n",
      " 2   session_id          2531 non-null   int64         \n",
      " 3   is_correct_unit_yn  2531 non-null   bool          \n",
      " 4   proning_canceled    2531 non-null   bool          \n",
      " 5   start_timestamp     2531 non-null   datetime64[ns]\n",
      " 6   end_timestamp       2531 non-null   datetime64[ns]\n",
      " 7   duration_hours      2531 non-null   int64         \n",
      "dtypes: bool(2), datetime64[ns](2), int64(2), object(2)\n",
      "memory usage: 143.4+ KB\n"
     ]
    }
   ],
   "source": [
    "df_treatment.info()"
   ],
   "metadata": {
    "collapsed": false,
    "pycharm": {
     "name": "#%%\n"
    }
   }
  },
  {
   "cell_type": "code",
   "execution_count": 251,
   "outputs": [
    {
     "data": {
      "text/plain": "<matplotlib.axes._subplots.AxesSubplot at 0x7f23c23b3a90>"
     },
     "execution_count": 251,
     "metadata": {},
     "output_type": "execute_result"
    },
    {
     "data": {
      "text/plain": "<Figure size 1080x720 with 1 Axes>",
      "image/png": "[encoded data removed]"
     },
     "metadata": {},
     "output_type": "display_data"
    }
   ],
   "source": [
    "df_treatment.duration_hours.plot.hist(bins = 24)"
   ],
   "metadata": {
    "collapsed": false,
    "pycharm": {
     "name": "#%%\n"
    }
   }
  },
  {
   "cell_type": "code",
   "execution_count": 309,
   "outputs": [],
   "source": [
    "df_sample = df_treatment.sample(5)"
   ],
   "metadata": {
    "collapsed": false,
    "pycharm": {
     "name": "#%%\n"
    }
   }
  },
  {
   "cell_type": "code",
   "execution_count": 310,
   "outputs": [],
   "source": [
    "PARAMETERS = ['fio2', 'peep', 'po2_arterial']"
   ],
   "metadata": {
    "collapsed": false,
    "pycharm": {
     "name": "#%%\n"
    }
   }
  },
  {
   "cell_type": "code",
   "execution_count": 311,
   "outputs": [],
   "source": [],
   "metadata": {
    "collapsed": false,
    "pycharm": {
     "name": "#%%\n"
    }
   }
  },
  {
   "cell_type": "code",
   "execution_count": 312,
   "outputs": [
    {
     "name": "stderr",
     "output_type": "stream",
     "text": [
      "Exception during reset or similar\n",
      "Traceback (most recent call last):\n",
      "  File \"/home/adam/.conda/envs/python37/lib/python3.7/site-packages/pandas/io/sql.py\", line 1586, in execute\n",
      "    cur.execute(*args, **kwargs)\n",
      "psycopg2.errors.AdminShutdown: terminating connection due to administrator command\n",
      "server closed the connection unexpectedly\n",
      "\tThis probably means the server terminated abnormally\n",
      "\tbefore or while processing the request.\n",
      "\n",
      "\n",
      "During handling of the above exception, another exception occurred:\n",
      "\n",
      "Traceback (most recent call last):\n",
      "  File \"/home/adam/.conda/envs/python37/lib/python3.7/site-packages/pandas/io/sql.py\", line 1590, in execute\n",
      "    self.con.rollback()\n",
      "psycopg2.InterfaceError: connection already closed\n",
      "\n",
      "The above exception was the direct cause of the following exception:\n",
      "\n",
      "Traceback (most recent call last):\n",
      "  File \"/home/adam/files/data-warehouse-utils/data_warehouse_utils/api.py\", line 142, in _execute_query\n",
      "    params=params\n",
      "  File \"/home/adam/.conda/envs/python37/lib/python3.7/site-packages/pandas/io/sql.py\", line 332, in read_sql_query\n",
      "    chunksize=chunksize,\n",
      "  File \"/home/adam/.conda/envs/python37/lib/python3.7/site-packages/pandas/io/sql.py\", line 1633, in read_query\n",
      "    cursor = self.execute(*args)\n",
      "  File \"/home/adam/.conda/envs/python37/lib/python3.7/site-packages/pandas/io/sql.py\", line 1595, in execute\n",
      "    raise ex from inner_exc\n",
      "pandas.io.sql.DatabaseError: Execution failed on sql: SQL('SELECT pacmed_name, pacmed_subname, numerical_value, effective_timestamp FROM processed.single_timestamp WHERE (hash_patient_id IN (%s)) AND (pacmed_name IN (%s, %s, %s)) AND (effective_timestamp >= %s) AND (effective_timestamp < %s)')\n",
      "terminating connection due to administrator command\n",
      "server closed the connection unexpectedly\n",
      "\tThis probably means the server terminated abnormally\n",
      "\tbefore or while processing the request.\n",
      "\n",
      "unable to rollback\n",
      "\n",
      "During handling of the above exception, another exception occurred:\n",
      "\n",
      "Traceback (most recent call last):\n",
      "  File \"/home/adam/.conda/envs/python37/lib/python3.7/site-packages/sqlalchemy/pool/base.py\", line 693, in _finalize_fairy\n",
      "    fairy._reset(pool)\n",
      "  File \"/home/adam/.conda/envs/python37/lib/python3.7/site-packages/sqlalchemy/pool/base.py\", line 880, in _reset\n",
      "    pool._dialect.do_rollback(self)\n",
      "  File \"/home/adam/.conda/envs/python37/lib/python3.7/site-packages/sqlalchemy/engine/default.py\", line 540, in do_rollback\n",
      "    dbapi_connection.rollback()\n",
      "psycopg2.InterfaceError: connection already closed\n"
     ]
    },
    {
     "ename": "DatabaseError",
     "evalue": "Execution failed on sql: SQL('SELECT pacmed_name, pacmed_subname, numerical_value, effective_timestamp FROM processed.single_timestamp WHERE (hash_patient_id IN (%s)) AND (pacmed_name IN (%s, %s, %s)) AND (effective_timestamp >= %s) AND (effective_timestamp < %s)')\nterminating connection due to administrator command\nserver closed the connection unexpectedly\n\tThis probably means the server terminated abnormally\n\tbefore or while processing the request.\n\nunable to rollback",
     "output_type": "error",
     "traceback": [
      "\u001B[0;31m---------------------------------------------------------------------------\u001B[0m",
      "\u001B[0;31mAdminShutdown\u001B[0m                             Traceback (most recent call last)",
      "\u001B[0;32m~/.conda/envs/python37/lib/python3.7/site-packages/pandas/io/sql.py\u001B[0m in \u001B[0;36mexecute\u001B[0;34m(self, *args, **kwargs)\u001B[0m\n\u001B[1;32m   1585\u001B[0m         \u001B[0;32mtry\u001B[0m\u001B[0;34m:\u001B[0m\u001B[0;34m\u001B[0m\u001B[0;34m\u001B[0m\u001B[0m\n\u001B[0;32m-> 1586\u001B[0;31m             \u001B[0mcur\u001B[0m\u001B[0;34m.\u001B[0m\u001B[0mexecute\u001B[0m\u001B[0;34m(\u001B[0m\u001B[0;34m*\u001B[0m\u001B[0margs\u001B[0m\u001B[0;34m,\u001B[0m \u001B[0;34m**\u001B[0m\u001B[0mkwargs\u001B[0m\u001B[0;34m)\u001B[0m\u001B[0;34m\u001B[0m\u001B[0;34m\u001B[0m\u001B[0m\n\u001B[0m\u001B[1;32m   1587\u001B[0m             \u001B[0;32mreturn\u001B[0m \u001B[0mcur\u001B[0m\u001B[0;34m\u001B[0m\u001B[0;34m\u001B[0m\u001B[0m\n",
      "\u001B[0;31mAdminShutdown\u001B[0m: terminating connection due to administrator command\nserver closed the connection unexpectedly\n\tThis probably means the server terminated abnormally\n\tbefore or while processing the request.\n",
      "\nDuring handling of the above exception, another exception occurred:\n",
      "\u001B[0;31mInterfaceError\u001B[0m                            Traceback (most recent call last)",
      "\u001B[0;32m~/.conda/envs/python37/lib/python3.7/site-packages/pandas/io/sql.py\u001B[0m in \u001B[0;36mexecute\u001B[0;34m(self, *args, **kwargs)\u001B[0m\n\u001B[1;32m   1589\u001B[0m             \u001B[0;32mtry\u001B[0m\u001B[0;34m:\u001B[0m\u001B[0;34m\u001B[0m\u001B[0;34m\u001B[0m\u001B[0m\n\u001B[0;32m-> 1590\u001B[0;31m                 \u001B[0mself\u001B[0m\u001B[0;34m.\u001B[0m\u001B[0mcon\u001B[0m\u001B[0;34m.\u001B[0m\u001B[0mrollback\u001B[0m\u001B[0;34m(\u001B[0m\u001B[0;34m)\u001B[0m\u001B[0;34m\u001B[0m\u001B[0;34m\u001B[0m\u001B[0m\n\u001B[0m\u001B[1;32m   1591\u001B[0m             \u001B[0;32mexcept\u001B[0m \u001B[0mException\u001B[0m \u001B[0;32mas\u001B[0m \u001B[0minner_exc\u001B[0m\u001B[0;34m:\u001B[0m  \u001B[0;31m# pragma: no cover\u001B[0m\u001B[0;34m\u001B[0m\u001B[0;34m\u001B[0m\u001B[0m\n",
      "\u001B[0;31mInterfaceError\u001B[0m: connection already closed",
      "\nThe above exception was the direct cause of the following exception:\n",
      "\u001B[0;31mDatabaseError\u001B[0m                             Traceback (most recent call last)",
      "\u001B[0;32m<ipython-input-312-a10389b093ce>\u001B[0m in \u001B[0;36m<module>\u001B[0;34m\u001B[0m\n\u001B[1;32m      4\u001B[0m                                     \u001B[0mPARAMETERS\u001B[0m\u001B[0;34m,\u001B[0m\u001B[0;34m\u001B[0m\u001B[0;34m\u001B[0m\u001B[0m\n\u001B[1;32m      5\u001B[0m                                     \u001B[0;36m12\u001B[0m\u001B[0;34m,\u001B[0m\u001B[0;34m\u001B[0m\u001B[0;34m\u001B[0m\u001B[0m\n\u001B[0;32m----> 6\u001B[0;31m                                     0) for idx, row in df_treatment.iterrows()]\n\u001B[0m\u001B[1;32m      7\u001B[0m \u001B[0;34m\u001B[0m\u001B[0m\n\u001B[1;32m      8\u001B[0m \u001B[0mdf_measurements\u001B[0m \u001B[0;34m=\u001B[0m \u001B[0mpd\u001B[0m\u001B[0;34m.\u001B[0m\u001B[0mconcat\u001B[0m\u001B[0;34m(\u001B[0m\u001B[0mdf_measurements\u001B[0m\u001B[0;34m)\u001B[0m\u001B[0;34m\u001B[0m\u001B[0;34m\u001B[0m\u001B[0m\n",
      "\u001B[0;32m<ipython-input-312-a10389b093ce>\u001B[0m in \u001B[0;36m<listcomp>\u001B[0;34m(.0)\u001B[0m\n\u001B[1;32m      4\u001B[0m                                     \u001B[0mPARAMETERS\u001B[0m\u001B[0;34m,\u001B[0m\u001B[0;34m\u001B[0m\u001B[0;34m\u001B[0m\u001B[0m\n\u001B[1;32m      5\u001B[0m                                     \u001B[0;36m12\u001B[0m\u001B[0;34m,\u001B[0m\u001B[0;34m\u001B[0m\u001B[0;34m\u001B[0m\u001B[0m\n\u001B[0;32m----> 6\u001B[0;31m                                     0) for idx, row in df_treatment.iterrows()]\n\u001B[0m\u001B[1;32m      7\u001B[0m \u001B[0;34m\u001B[0m\u001B[0m\n\u001B[1;32m      8\u001B[0m \u001B[0mdf_measurements\u001B[0m \u001B[0;34m=\u001B[0m \u001B[0mpd\u001B[0m\u001B[0;34m.\u001B[0m\u001B[0mconcat\u001B[0m\u001B[0;34m(\u001B[0m\u001B[0mdf_measurements\u001B[0m\u001B[0;34m)\u001B[0m\u001B[0;34m\u001B[0m\u001B[0;34m\u001B[0m\u001B[0m\n",
      "\u001B[0;32m<ipython-input-311-0bfceef017fa>\u001B[0m in \u001B[0;36mget_measurements\u001B[0;34m(dl, patient_id, start_timestamp, parameters, interval_start, interval_end)\u001B[0m\n\u001B[1;32m     18\u001B[0m                                                         'effective_timestamp'],\n\u001B[1;32m     19\u001B[0m                                                          \u001B[0mfrom_timestamp\u001B[0m \u001B[0;34m=\u001B[0m \u001B[0mstart\u001B[0m\u001B[0;34m,\u001B[0m\u001B[0;34m\u001B[0m\u001B[0;34m\u001B[0m\u001B[0m\n\u001B[0;32m---> 20\u001B[0;31m                                                          to_timestamp = end)\n\u001B[0m\u001B[1;32m     21\u001B[0m     \u001B[0mcolumns\u001B[0m \u001B[0;34m=\u001B[0m \u001B[0mparameters\u001B[0m\u001B[0;34m\u001B[0m\u001B[0;34m\u001B[0m\u001B[0m\n\u001B[1;32m     22\u001B[0m     \u001B[0mdf_measurement\u001B[0m \u001B[0;34m=\u001B[0m \u001B[0mpd\u001B[0m\u001B[0;34m.\u001B[0m\u001B[0mDataFrame\u001B[0m\u001B[0;34m(\u001B[0m\u001B[0;34m[\u001B[0m\u001B[0;34m]\u001B[0m\u001B[0;34m,\u001B[0m \u001B[0mcolumns\u001B[0m \u001B[0;34m=\u001B[0m \u001B[0mcolumns\u001B[0m\u001B[0;34m)\u001B[0m\u001B[0;34m\u001B[0m\u001B[0;34m\u001B[0m\u001B[0m\n",
      "\u001B[0;32m~/files/data-warehouse-utils/data_warehouse_utils/dataloader.py\u001B[0m in \u001B[0;36mget_single_timestamp\u001B[0;34m(self, hospitals, ehrs, from_timestamp, to_timestamp, parameters, sub_parameters, min_value, max_value, values, patients, columns)\u001B[0m\n\u001B[1;32m    305\u001B[0m \u001B[0;34m\u001B[0m\u001B[0m\n\u001B[1;32m    306\u001B[0m         return self._get_data(table=tn.SINGLE_TIMESTAMP, where_conditions=where_conditions,\n\u001B[0;32m--> 307\u001B[0;31m                               columns=columns)\n\u001B[0m\u001B[1;32m    308\u001B[0m \u001B[0;34m\u001B[0m\u001B[0m\n\u001B[1;32m    309\u001B[0m     def get_range_measurements(\n",
      "\u001B[0;32m~/files/data-warehouse-utils/data_warehouse_utils/dataloader.py\u001B[0m in \u001B[0;36m_get_data\u001B[0;34m(self, table, where_conditions, columns)\u001B[0m\n\u001B[1;32m     62\u001B[0m             \u001B[0;31m# Only use conditions that are not empty\u001B[0m\u001B[0;34m\u001B[0m\u001B[0;34m\u001B[0m\u001B[0;34m\u001B[0m\u001B[0m\n\u001B[1;32m     63\u001B[0m             \u001B[0mwhere_conditions\u001B[0m\u001B[0;34m=\u001B[0m\u001B[0;34m[\u001B[0m\u001B[0mx\u001B[0m \u001B[0;32mfor\u001B[0m \u001B[0mx\u001B[0m \u001B[0;32min\u001B[0m \u001B[0mwhere_conditions\u001B[0m \u001B[0;32mif\u001B[0m \u001B[0mx\u001B[0m\u001B[0;34m]\u001B[0m \u001B[0;32mor\u001B[0m \u001B[0;32mNone\u001B[0m\u001B[0;34m,\u001B[0m\u001B[0;34m\u001B[0m\u001B[0;34m\u001B[0m\u001B[0m\n\u001B[0;32m---> 64\u001B[0;31m             \u001B[0mcolumns\u001B[0m\u001B[0;34m=\u001B[0m\u001B[0mcolumns\u001B[0m\u001B[0;34m\u001B[0m\u001B[0;34m\u001B[0m\u001B[0m\n\u001B[0m\u001B[1;32m     65\u001B[0m         )\n\u001B[1;32m     66\u001B[0m \u001B[0;34m\u001B[0m\u001B[0m\n",
      "\u001B[0;32m~/files/data-warehouse-utils/data_warehouse_utils/api.py\u001B[0m in \u001B[0;36mget_data\u001B[0;34m(self, table_name, where_conditions, columns)\u001B[0m\n\u001B[1;32m    175\u001B[0m                                                      where_conditions=where_conditions)\n\u001B[1;32m    176\u001B[0m \u001B[0;34m\u001B[0m\u001B[0m\n\u001B[0;32m--> 177\u001B[0;31m         \u001B[0;32mreturn\u001B[0m \u001B[0mself\u001B[0m\u001B[0;34m.\u001B[0m\u001B[0m_execute_query\u001B[0m\u001B[0;34m(\u001B[0m\u001B[0mquery\u001B[0m\u001B[0;34m,\u001B[0m \u001B[0mparams\u001B[0m\u001B[0;34m)\u001B[0m\u001B[0;34m\u001B[0m\u001B[0;34m\u001B[0m\u001B[0m\n\u001B[0m\u001B[1;32m    178\u001B[0m \u001B[0;34m\u001B[0m\u001B[0m\n\u001B[1;32m    179\u001B[0m     def get_min_value_for_column(self, table_name: str, column_name: str,\n",
      "\u001B[0;32m~/files/data-warehouse-utils/data_warehouse_utils/api.py\u001B[0m in \u001B[0;36m_execute_query\u001B[0;34m(self, query, params)\u001B[0m\n\u001B[1;32m    140\u001B[0m                 \u001B[0msql\u001B[0m\u001B[0;34m.\u001B[0m\u001B[0mSQL\u001B[0m\u001B[0;34m(\u001B[0m\u001B[0mquery\u001B[0m\u001B[0;34m)\u001B[0m\u001B[0;34m,\u001B[0m\u001B[0;34m\u001B[0m\u001B[0;34m\u001B[0m\u001B[0m\n\u001B[1;32m    141\u001B[0m                 \u001B[0mcon\u001B[0m\u001B[0;34m=\u001B[0m\u001B[0mconn\u001B[0m\u001B[0;34m,\u001B[0m\u001B[0;34m\u001B[0m\u001B[0;34m\u001B[0m\u001B[0m\n\u001B[0;32m--> 142\u001B[0;31m                 \u001B[0mparams\u001B[0m\u001B[0;34m=\u001B[0m\u001B[0mparams\u001B[0m\u001B[0;34m\u001B[0m\u001B[0;34m\u001B[0m\u001B[0m\n\u001B[0m\u001B[1;32m    143\u001B[0m             )\n\u001B[1;32m    144\u001B[0m \u001B[0;34m\u001B[0m\u001B[0m\n",
      "\u001B[0;32m~/.conda/envs/python37/lib/python3.7/site-packages/pandas/io/sql.py\u001B[0m in \u001B[0;36mread_sql_query\u001B[0;34m(sql, con, index_col, coerce_float, params, parse_dates, chunksize)\u001B[0m\n\u001B[1;32m    330\u001B[0m         \u001B[0mcoerce_float\u001B[0m\u001B[0;34m=\u001B[0m\u001B[0mcoerce_float\u001B[0m\u001B[0;34m,\u001B[0m\u001B[0;34m\u001B[0m\u001B[0;34m\u001B[0m\u001B[0m\n\u001B[1;32m    331\u001B[0m         \u001B[0mparse_dates\u001B[0m\u001B[0;34m=\u001B[0m\u001B[0mparse_dates\u001B[0m\u001B[0;34m,\u001B[0m\u001B[0;34m\u001B[0m\u001B[0;34m\u001B[0m\u001B[0m\n\u001B[0;32m--> 332\u001B[0;31m         \u001B[0mchunksize\u001B[0m\u001B[0;34m=\u001B[0m\u001B[0mchunksize\u001B[0m\u001B[0;34m,\u001B[0m\u001B[0;34m\u001B[0m\u001B[0;34m\u001B[0m\u001B[0m\n\u001B[0m\u001B[1;32m    333\u001B[0m     )\n\u001B[1;32m    334\u001B[0m \u001B[0;34m\u001B[0m\u001B[0m\n",
      "\u001B[0;32m~/.conda/envs/python37/lib/python3.7/site-packages/pandas/io/sql.py\u001B[0m in \u001B[0;36mread_query\u001B[0;34m(self, sql, index_col, coerce_float, params, parse_dates, chunksize)\u001B[0m\n\u001B[1;32m   1631\u001B[0m \u001B[0;34m\u001B[0m\u001B[0m\n\u001B[1;32m   1632\u001B[0m         \u001B[0margs\u001B[0m \u001B[0;34m=\u001B[0m \u001B[0m_convert_params\u001B[0m\u001B[0;34m(\u001B[0m\u001B[0msql\u001B[0m\u001B[0;34m,\u001B[0m \u001B[0mparams\u001B[0m\u001B[0;34m)\u001B[0m\u001B[0;34m\u001B[0m\u001B[0;34m\u001B[0m\u001B[0m\n\u001B[0;32m-> 1633\u001B[0;31m         \u001B[0mcursor\u001B[0m \u001B[0;34m=\u001B[0m \u001B[0mself\u001B[0m\u001B[0;34m.\u001B[0m\u001B[0mexecute\u001B[0m\u001B[0;34m(\u001B[0m\u001B[0;34m*\u001B[0m\u001B[0margs\u001B[0m\u001B[0;34m)\u001B[0m\u001B[0;34m\u001B[0m\u001B[0;34m\u001B[0m\u001B[0m\n\u001B[0m\u001B[1;32m   1634\u001B[0m         \u001B[0mcolumns\u001B[0m \u001B[0;34m=\u001B[0m \u001B[0;34m[\u001B[0m\u001B[0mcol_desc\u001B[0m\u001B[0;34m[\u001B[0m\u001B[0;36m0\u001B[0m\u001B[0;34m]\u001B[0m \u001B[0;32mfor\u001B[0m \u001B[0mcol_desc\u001B[0m \u001B[0;32min\u001B[0m \u001B[0mcursor\u001B[0m\u001B[0;34m.\u001B[0m\u001B[0mdescription\u001B[0m\u001B[0;34m]\u001B[0m\u001B[0;34m\u001B[0m\u001B[0;34m\u001B[0m\u001B[0m\n\u001B[1;32m   1635\u001B[0m \u001B[0;34m\u001B[0m\u001B[0m\n",
      "\u001B[0;32m~/.conda/envs/python37/lib/python3.7/site-packages/pandas/io/sql.py\u001B[0m in \u001B[0;36mexecute\u001B[0;34m(self, *args, **kwargs)\u001B[0m\n\u001B[1;32m   1593\u001B[0m                     \u001B[0;34mf\"Execution failed on sql: {args[0]}\\n{exc}\\nunable to rollback\"\u001B[0m\u001B[0;34m\u001B[0m\u001B[0;34m\u001B[0m\u001B[0m\n\u001B[1;32m   1594\u001B[0m                 )\n\u001B[0;32m-> 1595\u001B[0;31m                 \u001B[0;32mraise\u001B[0m \u001B[0mex\u001B[0m \u001B[0;32mfrom\u001B[0m \u001B[0minner_exc\u001B[0m\u001B[0;34m\u001B[0m\u001B[0;34m\u001B[0m\u001B[0m\n\u001B[0m\u001B[1;32m   1596\u001B[0m \u001B[0;34m\u001B[0m\u001B[0m\n\u001B[1;32m   1597\u001B[0m             \u001B[0mex\u001B[0m \u001B[0;34m=\u001B[0m \u001B[0mDatabaseError\u001B[0m\u001B[0;34m(\u001B[0m\u001B[0;34mf\"Execution failed on sql '{args[0]}': {exc}\"\u001B[0m\u001B[0;34m)\u001B[0m\u001B[0;34m\u001B[0m\u001B[0;34m\u001B[0m\u001B[0m\n",
      "\u001B[0;31mDatabaseError\u001B[0m: Execution failed on sql: SQL('SELECT pacmed_name, pacmed_subname, numerical_value, effective_timestamp FROM processed.single_timestamp WHERE (hash_patient_id IN (%s)) AND (pacmed_name IN (%s, %s, %s)) AND (effective_timestamp >= %s) AND (effective_timestamp < %s)')\nterminating connection due to administrator command\nserver closed the connection unexpectedly\n\tThis probably means the server terminated abnormally\n\tbefore or while processing the request.\n\nunable to rollback"
     ]
    }
   ],
   "source": [],
   "metadata": {
    "collapsed": false,
    "pycharm": {
     "name": "#%%\n"
    }
   }
  },
  {
   "cell_type": "code",
   "execution_count": null,
   "outputs": [],
   "source": [
    "df_measurements"
   ],
   "metadata": {
    "collapsed": false,
    "pycharm": {
     "name": "#%%\n"
    }
   }
  },
  {
   "cell_type": "code",
   "execution_count": null,
   "outputs": [],
   "source": [
    "df_measurements.info()"
   ],
   "metadata": {
    "collapsed": false,
    "pycharm": {
     "name": "#%%\n"
    }
   }
  },
  {
   "cell_type": "code",
   "execution_count": null,
   "outputs": [],
   "source": [],
   "metadata": {
    "collapsed": false,
    "pycharm": {
     "name": "#%%\n"
    }
   }
  },
  {
   "cell_type": "code",
   "execution_count": null,
   "outputs": [],
   "source": [],
   "metadata": {
    "collapsed": false,
    "pycharm": {
     "name": "#%%\n"
    }
   }
  }
 ],
 "metadata": {
  "kernelspec": {
   "display_name": "Python 3",
   "language": "python",
   "name": "python3"
  },
  "language_info": {
   "codemirror_mode": {
    "name": "ipython",
    "version": 2
   },
   "file_extension": ".py",
   "mimetype": "text/x-python",
   "name": "python",
   "nbconvert_exporter": "python",
   "pygments_lexer": "ipython2"
  }
 },
 "nbformat": 4,
 "nbformat_minor": 0
}