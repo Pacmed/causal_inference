{
 "cells": [
  {
   "cell_type": "markdown",
   "metadata": {},
   "source": [
    "#### Workflow:\n",
    "Each 'hash_patient_id' is processed separately to make the process efficient.\n",
    "\n",
    "1. Create observations with 'create_data_points':\n",
    " - an observation is defined as a data point such that all signals 'peep', 'fio2', 'po2'\n",
    " are measured within one hour. The mean of all measurements within the hour is taken\n",
    " and the hour is rounded up to the nearest hour.\n",
    " - As an example if for a single 'hash_patient_id' we have three measurements:\n",
    " 'peep' measured at 12:50, 'fio2' measured at 12:10 and po2 measured at 12:20, 12:40, 13:00\n",
    " then these measurements will create one data point: 13:00.\n",
    " - As a second example if fio2 would not have been measured between 12:01 and 13:00. Then\n",
    " we would discard all observations that happened between 12:01 and 13:00 for all signals.\n",
    " - Notebook works with a single patient and hence '_create_data_points_batch' to make\n",
    "testing faster. Consider changing the function name to 'create_observations'.\n",
    "\n",
    "2. (to be implemented) Function 'select_cohort' selects the cohort by checking the\n",
    "inclusion and exclusion criteria. (First to do is to plot all values as a histogram,\n",
    "possibly without discarding the non measured ones.)\n",
    "\n",
    "3. Create a table with the treatment. Function 'get_proning' creates a table with\n",
    "proning sessions. This table will be used to split the observations into control, treated,\n",
    "outcome control, outcome treated.\n",
    "\n",
    "load blood gas points (create_data_points)\n",
    " -> drop ids that are not eligible (check_inclusion(drop = True))\n",
    " -> split points into (control - not proned and not proned after\n",
    "                       measurement_control - not proned and wasn't proned in the past, may be proned in the future\n",
    "                       trated - not proned will be proned after\n",
    "                       measurement_treated - proned at the moment)\n"
   ]
  },
  {
   "cell_type": "code",
   "execution_count": null,
   "metadata": {
    "pycharm": {
     "name": "#%%\n"
    }
   },
   "outputs": [],
   "source": [
    "%reset"
   ]
  },
  {
   "cell_type": "code",
   "execution_count": null,
   "metadata": {
    "pycharm": {
     "name": "#%%\n"
    }
   },
   "outputs": [],
   "source": [
    "import os, sys, random\n",
    "\n",
    "import pandas as pd\n",
    "import numpy as np\n",
    "import swifter\n",
    "\n",
    "import pacmagic\n",
    "import pacmagic_icu\n",
    "\n",
    "from importlib import reload\n",
    "from data_warehouse_utils.dataloader import DataLoader\n",
    "\n",
    "os.chdir('/home/adam/files/causal_inference')\n",
    "os.getcwd()\n",
    "\n",
    "from causal_inference.experiment_generator.create_observations import create_data_points\n",
    "from causal_inference.experiment_generator.create_treatment import get_proning_table\n",
    "from causal_inference.experiment_generator.create_treatment import add_treatment\n",
    "from causal_inference.experiment_generator.create_inclusion_criteria import get_inclusion_data"
   ]
  },
  {
   "cell_type": "code",
   "execution_count": null,
   "metadata": {
    "pycharm": {
     "name": "#%%\n"
    }
   },
   "outputs": [],
   "source": [
    "# Reloads packages\n",
    "os.chdir('/home/adam/files/causal_inference')\n",
    "os.getcwd()\n",
    "\n",
    "reload(sys.modules['causal_inference.experiment_generator.create_observations'])\n",
    "reload(sys.modules['causal_inference.experiment_generator.create_treatment'])\n",
    "reload(sys.modules['causal_inference.experiment_generator.create_inclusion_criteria'])\n",
    "\n",
    "\n",
    "from causal_inference.experiment_generator.create_observations import create_data_points\n",
    "from causal_inference.experiment_generator.create_treatment import get_proning_table\n",
    "from causal_inference.experiment_generator.create_treatment import add_treatment\n",
    "from causal_inference.experiment_generator.create_inclusion_criteria import get_inclusion_data"
   ]
  },
  {
   "cell_type": "code",
   "execution_count": null,
   "metadata": {
    "pycharm": {
     "name": "#%%\n"
    }
   },
   "outputs": [],
   "source": [
    "dl = DataLoader()"
   ]
  },
  {
   "cell_type": "code",
   "execution_count": null,
   "metadata": {
    "pycharm": {
     "name": "#%% Load blood_gas measurement data\n"
    }
   },
   "outputs": [],
   "source": [
    "df_measurements = create_data_points(dl)"
   ]
  },
  {
   "cell_type": "code",
   "execution_count": null,
   "metadata": {
    "pycharm": {
     "name": "#%%\n"
    }
   },
   "outputs": [],
   "source": [
    "df_measurements.head()"
   ]
  },
  {
   "cell_type": "code",
   "execution_count": null,
   "metadata": {
    "pycharm": {
     "name": "#%%\n"
    }
   },
   "outputs": [],
   "source": [
    "df_measurements.info()"
   ]
  },
  {
   "cell_type": "code",
   "execution_count": null,
   "metadata": {
    "pycharm": {
     "name": "#%%\n"
    }
   },
   "outputs": [],
   "source": [
    "os.chdir('/home/adam/files/data')\n",
    "os.getcwd()"
   ]
  },
  {
   "cell_type": "code",
   "execution_count": null,
   "metadata": {
    "pycharm": {
     "name": "#%%\n"
    }
   },
   "outputs": [],
   "source": [
    "df_measurements.to_csv('blood_gas_measurements.csv', index=False)"
   ]
  },
  {
   "cell_type": "code",
   "execution_count": null,
   "metadata": {
    "pycharm": {
     "name": "#%% Load treatment data\n"
    }
   },
   "outputs": [],
   "source": [
    "df_treatment = get_proning_table(dl)"
   ]
  },
  {
   "cell_type": "code",
   "execution_count": null,
   "metadata": {
    "pycharm": {
     "name": "#%%\n"
    }
   },
   "outputs": [],
   "source": [
    "df_treatment.info()"
   ]
  },
  {
   "cell_type": "code",
   "execution_count": null,
   "metadata": {
    "pycharm": {
     "name": "#%%\n"
    }
   },
   "outputs": [],
   "source": [
    "df_treatment.head()"
   ]
  },
  {
   "cell_type": "code",
   "execution_count": null,
   "metadata": {
    "pycharm": {
     "name": "#%%\n"
    }
   },
   "outputs": [],
   "source": [
    "os.chdir('/home/adam/files/data')\n",
    "os.getcwd()"
   ]
  },
  {
   "cell_type": "code",
   "execution_count": null,
   "metadata": {
    "pycharm": {
     "name": "#%%\n"
    }
   },
   "outputs": [],
   "source": [
    "df_treatment.to_csv('prone_sessions.csv', index=False)"
   ]
  },
  {
   "cell_type": "code",
   "execution_count": null,
   "metadata": {
    "pycharm": {
     "name": "#%% load treatment\n"
    }
   },
   "outputs": [],
   "source": [
    "df_observations = add_treatment(df_treatment)"
   ]
  },
  {
   "cell_type": "code",
   "execution_count": null,
   "metadata": {
    "pycharm": {
     "name": "#%%\n"
    }
   },
   "outputs": [],
   "source": [
    "os.chdir('/home/adam/files/data')\n",
    "df_measurements = pd.read_csv('blood_gas_measurements.csv')\n",
    "df_measurements.head()"
   ]
  },
  {
   "cell_type": "code",
   "execution_count": null,
   "metadata": {
    "pycharm": {
     "name": "#%%\n"
    }
   },
   "outputs": [],
   "source": [
    "df_observations = get_inclusion_data(df_observations, df_measurements)"
   ]
  },
  {
   "cell_type": "code",
   "execution_count": null,
   "metadata": {
    "pycharm": {
     "name": "#%% Load inclusion data\n"
    }
   },
   "outputs": [],
   "source": [
    "df_observations.head()"
   ]
  },
  {
   "cell_type": "code",
   "execution_count": null,
   "metadata": {
    "pycharm": {
     "name": "#%%\n"
    }
   },
   "outputs": [],
   "source": [
    "df_treatment.describe()"
   ]
  },
  {
   "cell_type": "code",
   "execution_count": null,
   "metadata": {
    "pycharm": {
     "name": "#%%\n"
    }
   },
   "outputs": [],
   "source": [
    "df_treatment[df_treatment.effective_value == 'prone'].describe()"
   ]
  },
  {
   "cell_type": "code",
   "execution_count": null,
   "metadata": {
    "pycharm": {
     "name": "#%%\n"
    }
   },
   "outputs": [],
   "source": [
    "df_treatment[df_treatment.effective_value == 'prone'][df_treatment.duration_hours <= 96].describe()"
   ]
  },
  {
   "cell_type": "code",
   "execution_count": null,
   "metadata": {
    "pycharm": {
     "name": "#%%\n"
    }
   },
   "outputs": [],
   "source": [
    "\n",
    "df_treatment.dtypes"
   ]
  },
  {
   "cell_type": "code",
   "execution_count": null,
   "metadata": {
    "pycharm": {
     "name": "#%%\n"
    }
   },
   "outputs": [],
   "source": []
  }
 ],
 "metadata": {
  "kernelspec": {
   "display_name": "Python 3",
   "language": "python",
   "name": "python3"
  },
  "language_info": {
   "codemirror_mode": {
    "name": "ipython",
    "version": 2
   },
   "file_extension": ".py",
   "mimetype": "text/x-python",
   "name": "python",
   "nbconvert_exporter": "python",
   "pygments_lexer": "ipython2"
  }
 },
 "nbformat": 4,
 "nbformat_minor": 0
}
