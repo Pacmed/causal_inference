{
 "cells": [
  {
   "cell_type": "code",
   "execution_count": null,
   "metadata": {
    "pycharm": {
     "name": "#%%\n"
    }
   },
   "outputs": [],
   "source": [
    "%reset"
   ]
  },
  {
   "cell_type": "code",
   "execution_count": null,
   "metadata": {
    "pycharm": {
     "name": "#%%\n"
    }
   },
   "outputs": [],
   "source": [
    "\n",
    "import os\n",
    "import numpy as np\n",
    "import pandas as pd\n",
    "import statsmodels.api as sm\n",
    "\n",
    "from sklearn.linear_model import LogisticRegression\n",
    "\n",
    "from sklearn.ensemble import RandomForestRegressor\n"
   ]
  },
  {
   "cell_type": "code",
   "execution_count": null,
   "metadata": {
    "pycharm": {
     "name": "#%%\n"
    }
   },
   "outputs": [],
   "source": [
    "os.chdir('/home/adam/adam/cfrnet/data/')\n",
    "os.getcwd()"
   ]
  },
  {
   "cell_type": "code",
   "execution_count": null,
   "metadata": {
    "pycharm": {
     "name": "#%%\n"
    }
   },
   "outputs": [],
   "source": [
    "def calculate_r2(y_true, y_pred):\n",
    "    rss = np.sum((y_true - y_pred)**2)\n",
    "    tss = np.sum((y_true - np.mean(y_true))**2)\n",
    "    r2 = 1 - np.true_divide(rss, tss)\n",
    "    return r2\n",
    "\n",
    "def calculate_rmse(y_true, y_pred):\n",
    "    return np.sqrt(np.mean((y_true-y_pred)**2))\n",
    "\n",
    "def ipw_weights(t, X):\n",
    "    clf = LogisticRegression(random_state=1234,\n",
    "                             class_weight='balanced',\n",
    "                             penalty='none',\n",
    "                             max_iter=2000,\n",
    "                             n_jobs=-1,\n",
    "                             solver='newton-cg').fit(X, t)\n",
    "\n",
    "    weights = clf.predict_proba(X)[:, 1]\n",
    "    weights[~t] = 1 - weights[~t]\n",
    "    weights[weights < 0.1] = 0.1 # clipping\n",
    "    weights = 1 / weights\n",
    "\n",
    "    return weights\n",
    "\n",
    "def stratify(y, t, X):\n",
    "\n",
    "    model = LogisticRegression(random_state=1234,\n",
    "                               class_weight='balanced',\n",
    "                               penalty='none',\n",
    "                               max_iter=2000,\n",
    "                               n_jobs=-1,\n",
    "                               solver='newton-cg').fit(X, t)\n",
    "\n",
    "    weights = model.predict_proba(X)[:, 1]\n",
    "    bins = [0, 0.4, 0.6, 0.75, 1]\n",
    "    X = np.hstack((t, X))\n",
    "    X_1 = X[(bins[0] < weights) & (weights <= bins[3])] # BUG!\n",
    "    X_2 = X[(bins[1] < weights) & (weights <= bins[2])]\n",
    "    X_3 = X[(bins[2] < weights) & (weights <= bins[3])]\n",
    "    X_4 = X[(bins[3] < weights) & (weights <= bins[4])]\n",
    "\n",
    "    y_1 = y[(bins[0] < weights) & (weights <= bins[3])]\n",
    "    y_2 = y[(bins[1] < weights) & (weights <= bins[2])]\n",
    "    y_3 = y[(bins[2] < weights) & (weights <= bins[3])]\n",
    "    y_4 = y[(bins[3] < weights) & (weights <= bins[4])]\n",
    "\n",
    "    return [y_1, y_2, y_3, y_4], [X_1, X_2, X_3, X_4], model\n",
    "\n",
    "def stratify_predict(y, t, X, model):\n",
    "\n",
    "    weights = model.predict_proba(X)[:, 1]\n",
    "    bins = [0, 0.4, 0.6, 0.75, 1]\n",
    "    X = np.hstack((t, X))\n",
    "    X_1 = X[(bins[0] < weights) & (weights <= bins[3])]\n",
    "    X_2 = X[(bins[1] < weights) & (weights <= bins[2])]\n",
    "    X_3 = X[(bins[2] < weights) & (weights <= bins[3])]\n",
    "    X_4 = X[(bins[3] < weights) & (weights <= bins[4])]\n",
    "\n",
    "    y_1 = y[(bins[0] < weights) & (weights <= bins[3])]\n",
    "    y_2 = y[(bins[1] < weights) & (weights <= bins[2])]\n",
    "    y_3 = y[(bins[2] < weights) & (weights <= bins[3])]\n",
    "    y_4 = y[(bins[3] < weights) & (weights <= bins[4])]\n",
    "\n",
    "    n_all = len(y_1) + len(y_2) + len(y_3) + len(y_4)\n",
    "    n_1 = len(y_1)\n",
    "    n_2 = len(y_2)\n",
    "    n_3 = len(y_3)\n",
    "    n_4 = len(y_4)\n",
    "\n",
    "    return [y_1, y_2, y_3, y_4], [X_1, X_2, X_3, X_4], [n_1, n_2, n_3, n_4]\n",
    "\n",
    "def results_summary(df_results):\n",
    "    ate = [np.mean(df_results['ate']),\n",
    "           np.percentile(df_results['ate'], q=2.5, interpolation='higher'),\n",
    "           np.percentile(df_results['ate'], q=97.5, interpolation='lower')]\n",
    "\n",
    "    rmse = [np.mean(df_results['rmse']),\n",
    "            np.percentile(df_results['rmse'], q=2.5, interpolation='higher'),\n",
    "            np.percentile(df_results['rmse'], q=97.5, interpolation='lower')]\n",
    "\n",
    "    r2 = [np.mean(df_results['r2']),\n",
    "          np.percentile(df_results['r2'], q=2.5, interpolation='higher'),\n",
    "          np.percentile(df_results['r2'], q=97.5, interpolation='lower')]\n",
    "\n",
    "    summary = {'ate': ate, 'rmse': rmse, 'r2': r2}\n",
    "    df_summary = pd.DataFrame(data = summary).T.round(2)\n",
    "\n",
    "    return df_summary"
   ]
  },
  {
   "cell_type": "code",
   "execution_count": null,
   "metadata": {
    "pycharm": {
     "name": "#%%\n"
    }
   },
   "outputs": [],
   "source": [
    "train_data = np.load('bfpguerin_12_24.train.npz')\n",
    "print(train_data.files)\n",
    "test_data = np.load('bfpguerin_12_24.test.npz')\n",
    "print(test_data.files)"
   ]
  },
  {
   "cell_type": "code",
   "execution_count": null,
   "metadata": {
    "pycharm": {
     "name": "#%%\n"
    }
   },
   "outputs": [],
   "source": [
    "y_train, t_train, x_train = train_data['yf'], train_data['t'], train_data['x']\n",
    "y_test, t_test, x_test = test_data['yf'], test_data['t'], test_data['x']"
   ]
  },
  {
   "cell_type": "code",
   "execution_count": null,
   "metadata": {
    "pycharm": {
     "name": "#%%\n"
    }
   },
   "outputs": [],
   "source": [
    "print(y_train.shape)\n",
    "print(y_test.shape)\n",
    "\n",
    "print(t_train.shape)\n",
    "print(t_test.shape)\n",
    "\n",
    "print(x_train.shape)\n",
    "print(x_test.shape)\n"
   ]
  },
  {
   "cell_type": "code",
   "execution_count": null,
   "metadata": {
    "pycharm": {
     "name": "#%%\n"
    }
   },
   "outputs": [],
   "source": [
    "from sklearn.metrics import r2_score\n",
    "\n",
    "def run_experiment_ols(y_train,\n",
    "                       t_train,\n",
    "                       X_train,\n",
    "                       y_test,\n",
    "                       t_test,\n",
    "                       X_test,\n",
    "                       n_of_experiments,\n",
    "                       method):\n",
    "\n",
    "    ate_list = []\n",
    "    rmse_list = []\n",
    "    r2_list = []\n",
    "    r2_training = []\n",
    "\n",
    "    for i in range(n_of_experiments):\n",
    "\n",
    "        ### TRAIN ###\n",
    "        y, t, X = y_train[:, i], t_train[:, i], X_train[:, :, i]\n",
    "        y, t = y.reshape(len(y), 1), t.reshape(len(t), 1)\n",
    "\n",
    "        ### PROPENSITY ESTIMATION ### LAND ON PAPER WE ESTIMATE PROPENSITY ON TEST SET\n",
    "        # https://arxiv.org/pdf/1804.05146.pdf\n",
    "        # So far we use training data\n",
    "\n",
    "        if method == 'ols':\n",
    "            X = np.hstack((t, X))\n",
    "            model = sm.OLS(y, sm.add_constant(X)).fit()\n",
    "            r2_training.append(model.rsquared)\n",
    "        if method == 'ipw':\n",
    "            weights = ipw_weights(t.flatten(), X)\n",
    "            X = np.hstack((t, X))\n",
    "            model = sm.WLS(y, sm.add_constant(X), weights=weights).fit()\n",
    "            print(\"Model fitted\")\n",
    "            r2_training.append(model.rsquared)\n",
    "\n",
    "        if method == '2-ols':\n",
    "            t = t.flatten()\n",
    "            model_treated = sm.OLS(y[t], sm.add_constant(X[t, :])).fit()\n",
    "            model_control = sm.OLS(y[~t], sm.add_constant(X[~t, :])).fit()\n",
    "            r2_training.append([model_treated.rsquared, model_control.rsquared])\n",
    "\n",
    "        if method == 'stratify':\n",
    "            y_list, X_list, pmodel = stratify(y, t, X)\n",
    "            model_list = [sm.OLS(y_list[i], sm.add_constant(X_list[i])).fit() for i in range(len(X_list))]\n",
    "\n",
    "        if method == 'rf':\n",
    "            X = np.hstack((t, X))\n",
    "            model = RandomForestRegressor(max_depth=2, random_state=0).fit(X, y)\n",
    "\n",
    "        if method == 'raw':\n",
    "            ate_list.append(np.mean(y[t]) - np.mean(y[~t]))\n",
    "            rmse_list.append(np.median(y[t]) - np.median(y[~t]))\n",
    "            r2_list.append(np.percentile(y, q=95))\n",
    "\n",
    "        ### TEST ###\n",
    "        y, t, X = y_test[:, i], t_test[:, i], X_test[:, :, i]\n",
    "        y, t = y.reshape(len(y), 1), t.reshape(len(t), 1)\n",
    "\n",
    "        if (method == 'ols') | (method == 'ipw'):\n",
    "\n",
    "            X = np.hstack((t, X))\n",
    "            y_pred = model.predict(sm.add_constant(X))\n",
    "\n",
    "            ate_list.append(model.params[1])\n",
    "            rmse_list.append(calculate_rmse(y_pred=y_pred, y_true=y))\n",
    "            r2_list.append(r2_score(y, y_pred))\n",
    "\n",
    "        if method == '2-ols':\n",
    "            t = t.flatten()\n",
    "            y_treated = model_treated.predict(sm.add_constant(X))\n",
    "            y_control = model_control.predict(sm.add_constant(X))\n",
    "            ite = y_treated - y_control\n",
    "            ate = np.mean(ite)\n",
    "            ate_list.append(ate)\n",
    "\n",
    "            y_pred = y_treated\n",
    "            y_pred[~t] = y_control[~t]\n",
    "            rmse_list.append(calculate_rmse(y_pred=y_pred, y_true=y))\n",
    "            r2_list.append(r2_score(y, y_pred))\n",
    "\n",
    "        if method == 'rf':\n",
    "            ite = model.predict(np.hstack((np.ones(t.shape), X))) - model.predict(np.hstack((np.zeros(t.shape), X)))\n",
    "            ate = np.mean(ite)\n",
    "            ate_list.append(ate)\n",
    "\n",
    "            y_pred = model.predict(np.hstack((t, X)))\n",
    "            rmse_list.append(calculate_rmse(y_pred=y_pred, y_true=y))\n",
    "            r2_list.append(r2_score(y, y_pred))\n",
    "\n",
    "        if method == 'stratify':\n",
    "            y_list, X_list, n_list = stratify_predict(y, t, X, pmodel)\n",
    "            y_pred_list = [model_list[i].predict(sm.add_constant(X_list[i])) for i in range(len(model_list))]\n",
    "\n",
    "            ate = [model_list[i].params[1] for i in range(len(y_list))]\n",
    "            rmse = [calculate_rmse(y_pred=y_pred_list[i], y_true=y_list[i]) for i in range(len(y_list))]\n",
    "            r2 = [r2_score(y_list[i], y_pred_list[i]) for i in range(len(y_list))]\n",
    "            print(ate, n_list)\n",
    "            ate_list.append(np.average(ate, weights=n_list))\n",
    "            rmse_list.append(np.average(rmse, weights=n_list))\n",
    "            r2_list.append(np.average(r2, weights=n_list))\n",
    "\n",
    "    if (method == 'ols') | (method == 'ipw'):\n",
    "        print(\"Mean training R2\", np.mean(r2_training))\n",
    "    if method == '2-ols':\n",
    "        print(\"Mean training R2 (treated, control)\",\n",
    "              np.mean([item[0] for item in r2_training]),\n",
    "              np.mean([item[1] for item in r2_training]))\n",
    "\n",
    "    results = {'ate': ate_list, 'rmse': rmse_list, 'r2': r2_list}\n",
    "    df_results = pd.DataFrame(data = results)\n",
    "\n",
    "    return df_results"
   ]
  },
  {
   "cell_type": "code",
   "execution_count": null,
   "metadata": {
    "pycharm": {
     "name": "#%%\n"
    }
   },
   "outputs": [],
   "source": [
    "n_of_experiments = 100"
   ]
  },
  {
   "cell_type": "code",
   "execution_count": null,
   "metadata": {
    "pycharm": {
     "name": "#%%\n"
    }
   },
   "outputs": [],
   "source": [
    "os.chdir('/home/adam/adam/data/results/')\n",
    "os.getcwd()"
   ]
  },
  {
   "cell_type": "markdown",
   "metadata": {},
   "source": [
    "#### RAW"
   ]
  },
  {
   "cell_type": "code",
   "execution_count": null,
   "metadata": {
    "pycharm": {
     "name": "#%%\n"
    }
   },
   "outputs": [],
   "source": [
    "results_raw = run_experiment_ols(y_train=train_data['yf'], y_test=test_data['yf'],\n",
    "                             t_train=train_data['t'], t_test=test_data['t'],\n",
    "                             X_train=train_data['x'], X_test=test_data['x'],\n",
    "                             n_of_experiments=n_of_experiments,\n",
    "                             method='raw')\n",
    "\n",
    "summary_raw = results_summary(results_raw)\n",
    "print(summary_raw)"
   ]
  },
  {
   "cell_type": "markdown",
   "metadata": {},
   "source": [
    "#### OLS"
   ]
  },
  {
   "cell_type": "code",
   "execution_count": null,
   "metadata": {
    "pycharm": {
     "name": "#%%\n"
    }
   },
   "outputs": [],
   "source": [
    "results_ols = run_experiment_ols(y_train=train_data['yf'], y_test=test_data['yf'],\n",
    "                             t_train=train_data['t'], t_test=test_data['t'],\n",
    "                             X_train=train_data['x'], X_test=test_data['x'],\n",
    "                             n_of_experiments=n_of_experiments,\n",
    "                             method='ols')\n"
   ]
  },
  {
   "cell_type": "code",
   "execution_count": null,
   "metadata": {
    "pycharm": {
     "name": "#%%\n"
    }
   },
   "outputs": [],
   "source": [
    "np.savetxt(\"results_ols_pf_ratio_12h_24h_manual_outcome.csv\", results_ols, delimiter=\",\", fmt='%1.2f')"
   ]
  },
  {
   "cell_type": "code",
   "execution_count": null,
   "metadata": {
    "pycharm": {
     "name": "#%%\n"
    }
   },
   "outputs": [],
   "source": [
    "results_ols = pd.read_csv('results_ols_pf_ratio_12h_24h_manual_outcome.csv', header=None)\n",
    "results_ols.columns = ['ate', 'rmse', 'r2']"
   ]
  },
  {
   "cell_type": "code",
   "execution_count": null,
   "metadata": {
    "pycharm": {
     "name": "#%%\n"
    }
   },
   "outputs": [],
   "source": [
    "summary_ols = results_summary(results_ols)\n",
    "print(summary_ols)\n",
    "np.savetxt(\"summary_ols_pf_ratio_12h_24h_manual_outcome.csv\", summary_ols, delimiter=\",\", fmt='%1.2f')"
   ]
  },
  {
   "cell_type": "markdown",
   "metadata": {},
   "source": [
    "#### IPW"
   ]
  },
  {
   "cell_type": "code",
   "execution_count": null,
   "metadata": {
    "pycharm": {
     "name": "#%%\n"
    }
   },
   "outputs": [],
   "source": [
    "results_ipw = run_experiment_ols(y_train=train_data['yf'], y_test=test_data['yf'],\n",
    "                                 t_train=train_data['t'], t_test=test_data['t'],\n",
    "                                 X_train=train_data['x'], X_test=test_data['x'],\n",
    "                                 n_of_experiments=n_of_experiments,\n",
    "                                 method='ipw')\n",
    "\n",
    "np.savetxt(\"results_ipw_pf_ratio_12h_24h_manual_outcome.csv\", results_ipw, delimiter=\",\", fmt='%1.2f')"
   ]
  },
  {
   "cell_type": "code",
   "execution_count": null,
   "metadata": {
    "pycharm": {
     "name": "#%%\n"
    }
   },
   "outputs": [],
   "source": [
    "results_ipw = pd.read_csv('results_ipw_pf_ratio_12h_24h_manual_outcome.csv', header=None)\n",
    "results_ipw.columns = ['ate', 'rmse', 'r2']"
   ]
  },
  {
   "cell_type": "code",
   "execution_count": null,
   "metadata": {
    "pycharm": {
     "name": "#%%\n"
    }
   },
   "outputs": [],
   "source": [
    "summary_ipw = results_summary(results_ipw)\n",
    "print(summary_ipw)\n",
    "np.savetxt(\"summary_ipw_pf_ratio_12h_24h_manual_outcome.csv\", summary_ipw, delimiter=\",\", fmt='%1.2f')"
   ]
  },
  {
   "cell_type": "markdown",
   "metadata": {},
   "source": [
    "#### Stratification"
   ]
  },
  {
   "cell_type": "code",
   "execution_count": null,
   "metadata": {
    "pycharm": {
     "name": "#%%\n"
    }
   },
   "outputs": [],
   "source": [
    "results_stratify = run_experiment_ols(y_train=train_data['yf'], y_test=test_data['yf'],\n",
    "                             t_train=train_data['t'], t_test=test_data['t'],\n",
    "                             X_train=train_data['x'], X_test=test_data['x'],\n",
    "                             n_of_experiments=n_of_experiments,\n",
    "                             method='stratify')\n",
    "\n",
    "np.savetxt(\"results_stratify_pf_ratio_12h_24h_manual_outcome.csv\", results_stratify, delimiter=\",\", fmt='%1.2f')"
   ]
  },
  {
   "cell_type": "code",
   "execution_count": null,
   "metadata": {
    "pycharm": {
     "name": "#%%\n"
    }
   },
   "outputs": [],
   "source": [
    "results_stratify = pd.read_csv('results_stratify_pf_ratio_12h_24h_manual_outcome.csv', header=None)\n",
    "results_stratify.columns = ['ate', 'rmse', 'r2']"
   ]
  },
  {
   "cell_type": "code",
   "execution_count": null,
   "metadata": {
    "pycharm": {
     "name": "#%%\n"
    }
   },
   "outputs": [],
   "source": [
    "summary_stratify = results_summary(results_stratify)\n",
    "print(summary_stratify)\n",
    "np.savetxt(\"summary_stratify_pf_ratio_12h_24h_manual_outcome.csv\", summary_stratify, delimiter=\",\", fmt='%1.2f')"
   ]
  },
  {
   "cell_type": "markdown",
   "metadata": {},
   "source": [
    "#### 2-OLS"
   ]
  },
  {
   "cell_type": "code",
   "execution_count": null,
   "metadata": {
    "pycharm": {
     "name": "#%%\n"
    }
   },
   "outputs": [],
   "source": [
    "results_2ols = run_experiment_ols(y_train=train_data['yf'], y_test=test_data['yf'],\n",
    "                             t_train=train_data['t'], t_test=test_data['t'],\n",
    "                             X_train=train_data['x'], X_test=test_data['x'],\n",
    "                             n_of_experiments=n_of_experiments,\n",
    "                             method='2-ols')\n",
    "\n",
    "np.savetxt(\"results_2ols_pf_ratio_12h_24h_manual_outcome.csv\", results_2ols, delimiter=\",\", fmt='%1.2f')"
   ]
  },
  {
   "cell_type": "code",
   "execution_count": null,
   "metadata": {
    "pycharm": {
     "name": "#%%\n"
    }
   },
   "outputs": [],
   "source": [
    "summary_2ols = results_summary(results_2ols)\n",
    "print(summary_2ols)\n",
    "np.savetxt(\"summary_2ols_pf_ratio_12h_24h_manual_outcome.csv\", summary_2ols, delimiter=\",\", fmt='%1.2f')"
   ]
  },
  {
   "cell_type": "markdown",
   "metadata": {},
   "source": [
    "#### RF"
   ]
  },
  {
   "cell_type": "code",
   "execution_count": null,
   "metadata": {
    "pycharm": {
     "name": "#%%\n"
    }
   },
   "outputs": [],
   "source": [
    "results_rf = run_experiment_ols(y_train=train_data['yf'], y_test=test_data['yf'],\n",
    "                             t_train=train_data['t'], t_test=test_data['t'],\n",
    "                             X_train=train_data['x'], X_test=test_data['x'],\n",
    "                             n_of_experiments=n_of_experiments,\n",
    "                             method='rf')\n",
    "\n",
    "np.savetxt(\"results_rf_pf_ratio_12h_24h_manual_outcome.csv\", results_rf, delimiter=\",\", fmt='%1.2f')"
   ]
  },
  {
   "cell_type": "code",
   "execution_count": null,
   "metadata": {
    "pycharm": {
     "name": "#%%\n"
    }
   },
   "outputs": [],
   "source": [
    "summary_rf = results_summary(results_rf)\n",
    "print(summary_rf)\n",
    "np.savetxt(\"summary_rf_pf_ratio_12h_24h_manual_outcome.csv\", summary_rf, delimiter=\",\", fmt='%1.2f')"
   ]
  },
  {
   "cell_type": "markdown",
   "metadata": {
    "pycharm": {
     "name": "#%% md\n"
    }
   },
   "source": [
    "## Pscore saving"
   ]
  },
  {
   "cell_type": "code",
   "execution_count": null,
   "metadata": {
    "pycharm": {
     "name": "#%%\n"
    }
   },
   "outputs": [],
   "source": [
    "import seaborn as sns\n",
    "import matplotlib.pyplot as plt\n",
    "\n",
    "def save_propensity_plot(t, X, path):\n",
    "    experiment = 0\n",
    "    t, X = t[:, experiment].reshape(len(t[:, experiment]), 1).flatten(), X[:, :, experiment]\n",
    "    pscore = LogisticRegression(random_state=1234,\n",
    "                                class_weight='balanced',\n",
    "                                penalty='none',\n",
    "                                max_iter=10000).fit(X, t).predict_proba(X)[:, 1]\n",
    "\n",
    "    treated_pscore = pscore[t]\n",
    "    treated = {'Propensity_score': treated_pscore, 'Group': np.ones(treated_pscore.shape)}\n",
    "    df_trated = pd.DataFrame(treated)\n",
    "\n",
    "    control_pscore = pscore[~t]\n",
    "    control = {'Propensity_score': control_pscore, 'Group': np.zeros(control_pscore.shape)}\n",
    "    df_control = pd.DataFrame(control)\n",
    "\n",
    "    df_plot = pd.concat([df_trated, df_control])\n",
    "    df_plot.loc[df_plot.Group == 1, 'Group'] = 'Treated'\n",
    "    df_plot.loc[df_plot.Group == 0, 'Group'] = 'Control'\n",
    "\n",
    "    sns.displot(df_plot, x=\"Propensity_score\", hue=\"Group\", stat=\"probability\")\n",
    "    plt.savefig(path)"
   ]
  },
  {
   "cell_type": "code",
   "execution_count": null,
   "metadata": {
    "pycharm": {
     "name": "#%%\n"
    }
   },
   "outputs": [],
   "source": [
    "path = 'pscore_12_24_outcome.png'\n",
    "save_propensity_plot(t=train_data['t'], X=train_data['x'], path=path)\n"
   ]
  },
  {
   "cell_type": "markdown",
   "metadata": {},
   "source": [
    "## Additioanl"
   ]
  },
  {
   "cell_type": "code",
   "execution_count": null,
   "metadata": {
    "pycharm": {
     "name": "#%%\n"
    }
   },
   "outputs": [],
   "source": [
    "import numpy as np\n",
    "\n",
    "from scipy.stats import uniform, randint\n",
    "\n",
    "from sklearn.datasets import load_breast_cancer, load_diabetes, load_wine\n",
    "from sklearn.metrics import auc, accuracy_score, confusion_matrix, mean_squared_error\n",
    "from sklearn.model_selection import cross_val_score, GridSearchCV, KFold, RandomizedSearchCV, train_test_split\n",
    "\n",
    "import xgboost as xgb\n",
    "\n",
    "import numpy as np\n",
    "from sklearn.model_selection import train_test_split"
   ]
  },
  {
   "cell_type": "code",
   "execution_count": null,
   "metadata": {
    "pycharm": {
     "name": "#%%\n"
    }
   },
   "outputs": [],
   "source": [
    "xgb_model = xgb.XGBRegressor(objective=\"reg:squarederror\", random_state=42)\n",
    "\n",
    "xgb_model.fit(X_train, y_train)\n",
    "\n",
    "y_pred = xgb_model.predict(X_test)\n",
    "\n",
    "rmse=mean_squared_error(y_test, y_pred, squared=False)\n",
    "\n",
    "print(rmse)"
   ]
  },
  {
   "cell_type": "code",
   "execution_count": null,
   "metadata": {
    "pycharm": {
     "name": "#%%\n"
    }
   },
   "outputs": [],
   "source": [
    "from sklearn.metrics import r2_score\n",
    "\n",
    "coefficient_of_dermination = r2_score(y_test, y_pred)\n",
    "print(coefficient_of_dermination)\n"
   ]
  },
  {
   "cell_type": "code",
   "execution_count": null,
   "metadata": {
    "pycharm": {
     "name": "#%%\n"
    }
   },
   "outputs": [],
   "source": []
  },
  {
   "cell_type": "markdown",
   "metadata": {},
   "source": [
    "### Saving results for CfR"
   ]
  },
  {
   "cell_type": "code",
   "execution_count": null,
   "metadata": {
    "pycharm": {
     "name": "#%%\n"
    }
   },
   "outputs": [],
   "source": [
    "os.chdir('/home/adam/adam/data/results/')\n",
    "os.getcwd()"
   ]
  },
  {
   "cell_type": "code",
   "execution_count": null,
   "metadata": {
    "pycharm": {
     "name": "#%%\n"
    }
   },
   "outputs": [],
   "source": [
    "ate_tarnet = pd.read_csv('results_tarnet_pf_ratio_12h_24h_manual_outcome.csv', header=None)\n",
    "ate_cfr = pd.read_csv('results_cfr_pf_ratio_12h_24h_manual_outcome.csv', header=None)"
   ]
  },
  {
   "cell_type": "code",
   "execution_count": null,
   "metadata": {
    "pycharm": {
     "name": "#%%\n"
    }
   },
   "outputs": [],
   "source": [
    "ate_cfr.columns = ['ate', 'rmse', 'r2']\n",
    "ate_tarnet.columns = ['ate', 'rmse', 'r2']"
   ]
  },
  {
   "cell_type": "code",
   "execution_count": null,
   "metadata": {
    "pycharm": {
     "name": "#%%\n"
    }
   },
   "outputs": [],
   "source": [
    "results_summary(ate_cfr)"
   ]
  },
  {
   "cell_type": "code",
   "execution_count": null,
   "metadata": {
    "pycharm": {
     "name": "#%%\n"
    }
   },
   "outputs": [],
   "source": [
    "results_summary(ate_tarnet)"
   ]
  },
  {
   "cell_type": "code",
   "execution_count": null,
   "metadata": {
    "pycharm": {
     "name": "#%%\n"
    }
   },
   "outputs": [],
   "source": []
  }
 ],
 "metadata": {
  "kernelspec": {
   "display_name": "Python 3",
   "language": "python",
   "name": "python3"
  },
  "language_info": {
   "codemirror_mode": {
    "name": "ipython",
    "version": 2
   },
   "file_extension": ".py",
   "mimetype": "text/x-python",
   "name": "python",
   "nbconvert_exporter": "python",
   "pygments_lexer": "ipython2"
  }
 },
 "nbformat": 4,
 "nbformat_minor": 0
}
