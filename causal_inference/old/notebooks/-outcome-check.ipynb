{
 "cells": [
  {
   "cell_type": "code",
   "execution_count": null,
   "metadata": {
    "pycharm": {
     "name": "#%%\n"
    }
   },
   "outputs": [],
   "source": [
    "import os\n",
    "\n",
    "import pandas as pd\n",
    "import numpy as np"
   ]
  },
  {
   "cell_type": "code",
   "execution_count": null,
   "metadata": {
    "pycharm": {
     "name": "#%%\n"
    }
   },
   "outputs": [],
   "source": [
    "%load_ext autoreload\n",
    "%autoreload 2"
   ]
  },
  {
   "cell_type": "code",
   "execution_count": null,
   "metadata": {
    "pycharm": {
     "name": "#%%\n"
    }
   },
   "outputs": [],
   "source": [
    "os.chdir('/home/adam/adam/causal_inference')\n",
    "\n",
    "from causal_inference.causal_data_handler.get_data import process_data\n",
    "from causal_inference.causal_data_handler.get_data import get_training_indices\n",
    "from causal_inference.causal_data_handler.get_data import get_data\n",
    "from causal_inference.causal_data_handler.get_data import get_covariate_names\n",
    "from causal_inference.causal_data_handler.get_data import get_bootstrapped_experiments"
   ]
  },
  {
   "cell_type": "code",
   "execution_count": null,
   "metadata": {
    "pycharm": {
     "name": "#%%\n"
    }
   },
   "outputs": [],
   "source": [
    "\n",
    "os.chdir('/home/adam/adam/data/19012021/')\n",
    "df = pd.read_csv('data_guerin_rct.csv')\n",
    "df.info(max_cols=200)"
   ]
  },
  {
   "cell_type": "code",
   "execution_count": null,
   "metadata": {
    "pycharm": {
     "name": "#%%\n"
    }
   },
   "outputs": [],
   "source": [
    "os.chdir('/home/adam/adam/data/19012021/')\n",
    "df_fix = pd.read_csv('data_guerin_rct_fixed_prone.csv')\n",
    "df_fix.info(max_cols=200)"
   ]
  },
  {
   "cell_type": "code",
   "execution_count": null,
   "metadata": {
    "pycharm": {
     "name": "#%% Late outcome\n"
    }
   },
   "outputs": [],
   "source": [
    "df.loc[df_fix.pf_ratio_12h_24h_manual_outcome.isna() & ~df.pf_ratio_12h_24h_manual_outcome.isna(), 'pf_ratio_12h_24h_manual_outcome']"
   ]
  },
  {
   "cell_type": "code",
   "execution_count": null,
   "metadata": {
    "pycharm": {
     "name": "#%%\n"
    }
   },
   "outputs": [],
   "source": [
    "df.loc[~df_fix.pf_ratio_12h_24h_manual_outcome.isna() & df.pf_ratio_12h_24h_manual_outcome.isna(), 'pf_ratio_12h_24h_manual_outcome']"
   ]
  },
  {
   "cell_type": "code",
   "execution_count": null,
   "metadata": {
    "pycharm": {
     "name": "#%%\n"
    }
   },
   "outputs": [],
   "source": [
    "(df_fix['pf_ratio_12h_24h_manual_outcome'] - df['pf_ratio_12h_24h_manual_outcome']).value_counts()"
   ]
  },
  {
   "cell_type": "code",
   "execution_count": null,
   "metadata": {
    "pycharm": {
     "name": "#%% Early outcome\n"
    }
   },
   "outputs": [],
   "source": [
    "df.loc[df_fix.pf_ratio_2h_8h_manual_outcome.isna() & ~df.pf_ratio_2h_8h_manual_outcome.isna(), 'pf_ratio_2h_8h_manual_outcome']"
   ]
  },
  {
   "cell_type": "code",
   "execution_count": null,
   "metadata": {
    "pycharm": {
     "name": "#%%\n"
    }
   },
   "outputs": [],
   "source": [
    "df.loc[~df_fix.pf_ratio_2h_8h_manual_outcome.isna() & df.pf_ratio_2h_8h_manual_outcome.isna(), 'pf_ratio_2h_8h_manual_outcome']"
   ]
  },
  {
   "cell_type": "code",
   "execution_count": null,
   "metadata": {
    "pycharm": {
     "name": "#%%\n"
    }
   },
   "outputs": [],
   "source": [
    "(df['pf_ratio_2h_8h_manual_outcome'] - df_fix['pf_ratio_2h_8h_manual_outcome']).value_counts()"
   ]
  },
  {
   "cell_type": "code",
   "execution_count": null,
   "metadata": {
    "pycharm": {
     "name": "#%%\n"
    }
   },
   "outputs": [],
   "source": []
  }
 ],
 "metadata": {
  "kernelspec": {
   "display_name": "Python 3",
   "language": "python",
   "name": "python3"
  },
  "language_info": {
   "codemirror_mode": {
    "name": "ipython",
    "version": 2
   },
   "file_extension": ".py",
   "mimetype": "text/x-python",
   "name": "python",
   "nbconvert_exporter": "python",
   "pygments_lexer": "ipython2"
  }
 },
 "nbformat": 4,
 "nbformat_minor": 0
}
