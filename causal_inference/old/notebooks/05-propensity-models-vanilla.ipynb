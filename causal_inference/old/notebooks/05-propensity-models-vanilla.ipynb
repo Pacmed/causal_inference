{
 "cells": [
  {
   "cell_type": "code",
   "execution_count": null,
   "metadata": {
    "pycharm": {
     "name": "#%%\n"
    }
   },
   "outputs": [],
   "source": [
    "%reset"
   ]
  },
  {
   "cell_type": "code",
   "execution_count": 1,
   "metadata": {
    "pycharm": {
     "name": "#%% Import all libraries\n"
    }
   },
   "outputs": [],
   "source": [
    "import pandas as pd\n",
    "import numpy as np\n",
    "\n",
    "import sys, os\n",
    "\n",
    "import seaborn as sns\n",
    "import matplotlib.pyplot as plt\n",
    "\n",
    "from causalinference import CausalModel\n",
    "\n",
    "from sklearn.impute import SimpleImputer\n",
    "from sklearn.preprocessing import StandardScaler\n",
    "from sklearn.metrics import roc_auc_score\n",
    "from importlib import reload\n",
    "\n",
    "from scipy.stats import wasserstein_distance\n",
    "from scipy import stats"
   ]
  },
  {
   "cell_type": "code",
   "execution_count": 2,
   "metadata": {
    "pycharm": {
     "name": "#%%\n"
    }
   },
   "outputs": [],
   "source": [
    "%load_ext autoreload\n",
    "%autoreload 2"
   ]
  },
  {
   "cell_type": "code",
   "execution_count": 3,
   "metadata": {
    "pycharm": {
     "name": "#%%\n"
    }
   },
   "outputs": [],
   "source": [
    "seed=1234\n",
    "np.random.seed(seed)"
   ]
  },
  {
   "cell_type": "code",
   "execution_count": 4,
   "metadata": {
    "pycharm": {
     "name": "#%%\n"
    }
   },
   "outputs": [],
   "source": [
    "def process_data(df, outcome, thresh=0.6):\n",
    "\n",
    "    # prepare outcomes\n",
    "    outcomes_to_delete = df.filter(regex='outcome').\\\n",
    "                            columns.\\\n",
    "                            to_list()\n",
    "    outcomes_to_delete.remove(outcome)\n",
    "    df.drop(columns=outcomes_to_delete,\n",
    "            inplace=True)\n",
    "    df.dropna(subset=[outcome], inplace=True)\n",
    "\n",
    "    # drop columns with missing values exceeding the thresh\n",
    "    thresh = round(thresh * len(df.index))\n",
    "    df = df.dropna(thresh=thresh, axis=1)\n",
    "\n",
    "    # get dummies\n",
    "    df = pd.get_dummies(df)\n",
    "    columns_to_drop = ['gender_M'] + df.filter(regex='False').columns.to_list()\n",
    "    df.drop(columns=columns_to_drop, inplace=True)\n",
    "\n",
    "    # convert to bool\n",
    "    for column in df.select_dtypes(include=['uint8']).columns.to_list():\n",
    "        df[column] = df[column] == 1\n",
    "\n",
    "    return df\n",
    "\n",
    "def get_training_data(df, treatment_col, outcome_col):\n",
    "\n",
    "    cols_num = df.select_dtypes(include=['float64']).columns.to_list()\n",
    "    if outcome_col in cols_num:\n",
    "        cols_num.remove(outcome_col)\n",
    "    cols_bool = df.select_dtypes(include=['uint8', 'bool']).columns.to_list()\n",
    "    if treatment_col in cols_bool:\n",
    "        cols_bool.remove(treatment_col)\n",
    "\n",
    "    t = df_encoded.loc[:, treatment_col].values\n",
    "    X_bool = df_encoded[cols_bool].values\n",
    "    X_num = df_encoded[cols_num].values\n",
    "    y = df_encoded.loc[:, outcome_col].values\n",
    "\n",
    "\n",
    "    imp = SimpleImputer(missing_values=np.nan, strategy='mean')\n",
    "    imp.fit(X_num)\n",
    "    X_num = imp.transform(X_num)\n",
    "    scaler = StandardScaler().fit(X_num)\n",
    "    X_num = scaler.transform(X_num)\n",
    "    X = np.hstack((X_num, X_bool))\n",
    "\n",
    "    return y, t, X\n",
    "\n",
    "def get_covariate_names(df, treatment_col, outcome_col):\n",
    "\n",
    "    cols_num = df.select_dtypes(include=['float64']).columns.to_list()\n",
    "    if outcome_col in cols_num:\n",
    "        cols_num.remove(outcome_col)\n",
    "    cols_bool = df.select_dtypes(include=['uint8', 'bool']).columns.to_list()\n",
    "    if treatment_col in cols_bool:\n",
    "        cols_bool.remove(treatment_col)\n",
    "\n",
    "    return cols_num + cols_bool"
   ]
  },
  {
   "cell_type": "code",
   "execution_count": 5,
   "metadata": {
    "pycharm": {
     "name": "#%%\n"
    }
   },
   "outputs": [],
   "source": [
    "os.chdir('/home/adam/adam/causal_inference')\n",
    "from causal_inference.model.propensity_model import PropensityModel\n",
    "reload(sys.modules['causal_inference.model.propensity_model'])\n",
    "from causal_inference.model.propensity_model import PropensityModel"
   ]
  },
  {
   "cell_type": "code",
   "execution_count": 6,
   "metadata": {
    "pycharm": {
     "name": "#%% Load the data\n"
    }
   },
   "outputs": [
    {
     "name": "stdout",
     "output_type": "stream",
     "text": [
      "<class 'pandas.core.frame.DataFrame'>\n",
      "RangeIndex: 6371 entries, 0 to 6370\n",
      "Data columns (total 34 columns):\n",
      " #   Column                           Non-Null Count  Dtype  \n",
      "---  ------                           --------------  -----  \n",
      " 0   treated                          6371 non-null   bool   \n",
      " 1   age                              6371 non-null   float64\n",
      " 2   gender                           6371 non-null   object \n",
      " 3   bmi                              6371 non-null   float64\n",
      " 4   nice_diabetes                    4915 non-null   object \n",
      " 5   nice_aki                         3818 non-null   object \n",
      " 6   nice_cirrhosis                   4915 non-null   object \n",
      " 7   nice_hem_malign                  4915 non-null   object \n",
      " 8   nice_copd                        4915 non-null   object \n",
      " 9   nice_imm_insuf                   4915 non-null   object \n",
      " 10  nice_cardio_vasc_insuf           4915 non-null   object \n",
      " 11  nice_morbid_obesity              6371 non-null   bool   \n",
      " 12  renal_replacement_therapy        6371 non-null   bool   \n",
      " 13  sofa_score                       4667 non-null   float64\n",
      " 14  lactate                          5482 non-null   float64\n",
      " 15  tidal_volume                     5993 non-null   float64\n",
      " 16  tidal_volume_per_kg              5885 non-null   float64\n",
      " 17  respiratory_rate_measured        5535 non-null   float64\n",
      " 18  peep                             6371 non-null   float64\n",
      " 19  fio2                             6371 non-null   float64\n",
      " 20  po2                              6371 non-null   float64\n",
      " 21  pco2                             6236 non-null   float64\n",
      " 22  ph                               5978 non-null   float64\n",
      " 23  plateau_pressure                 2518 non-null   float64\n",
      " 24  driving_pressure                 5356 non-null   float64\n",
      " 25  lung_compliance_static           5128 non-null   float64\n",
      " 26  med_muscle_relaxants             6371 non-null   bool   \n",
      " 27  med_vasopressors                 6371 non-null   bool   \n",
      " 28  med_glucocorticoids              6371 non-null   bool   \n",
      " 29  pf_ratio                         6371 non-null   int64  \n",
      " 30  pf_ratio_2h_8h_outcome           4100 non-null   float64\n",
      " 31  pf_ratio_2h_8h_manual_outcome    5257 non-null   float64\n",
      " 32  pf_ratio_12h_24h_outcome         3679 non-null   float64\n",
      " 33  pf_ratio_12h_24h_manual_outcome  4762 non-null   float64\n",
      "dtypes: bool(6), float64(19), int64(1), object(8)\n",
      "memory usage: 1.4+ MB\n"
     ]
    }
   ],
   "source": [
    "os.chdir('/home/adam/adam/data/19012021/')\n",
    "df = pd.read_csv('data_guerin_rct.csv')\n",
    "df.info(max_cols=200)"
   ]
  },
  {
   "cell_type": "code",
   "execution_count": 7,
   "metadata": {
    "pycharm": {
     "name": "#%%\n"
    }
   },
   "outputs": [
    {
     "data": {
      "text/plain": "              fio2         peep          po2     pf_ratio  tidal_volume_per_kg\ncount  1260.000000  1260.000000  1260.000000  1260.000000          1174.000000\nmean     78.970556    13.133540    69.445357    90.980159             6.693356\nstd      14.820638     3.631854    12.831878    22.862411             1.794731\nmin      60.000000     5.000000    27.750000    34.000000             0.126635\n25%      65.000000    10.000000    61.510000    73.000000             5.807030\n50%      79.550000    12.945000    67.510000    88.000000             6.536879\n75%      95.000000    16.000000    76.000000   107.000000             7.399000\nmax     100.000000    30.000000   147.760000   149.000000            20.859377",
      "text/html": "<div>\n<style scoped>\n    .dataframe tbody tr th:only-of-type {\n        vertical-align: middle;\n    }\n\n    .dataframe tbody tr th {\n        vertical-align: top;\n    }\n\n    .dataframe thead th {\n        text-align: right;\n    }\n</style>\n<table border=\"1\" class=\"dataframe\">\n  <thead>\n    <tr style=\"text-align: right;\">\n      <th></th>\n      <th>fio2</th>\n      <th>peep</th>\n      <th>po2</th>\n      <th>pf_ratio</th>\n      <th>tidal_volume_per_kg</th>\n    </tr>\n  </thead>\n  <tbody>\n    <tr>\n      <th>count</th>\n      <td>1260.000000</td>\n      <td>1260.000000</td>\n      <td>1260.000000</td>\n      <td>1260.000000</td>\n      <td>1174.000000</td>\n    </tr>\n    <tr>\n      <th>mean</th>\n      <td>78.970556</td>\n      <td>13.133540</td>\n      <td>69.445357</td>\n      <td>90.980159</td>\n      <td>6.693356</td>\n    </tr>\n    <tr>\n      <th>std</th>\n      <td>14.820638</td>\n      <td>3.631854</td>\n      <td>12.831878</td>\n      <td>22.862411</td>\n      <td>1.794731</td>\n    </tr>\n    <tr>\n      <th>min</th>\n      <td>60.000000</td>\n      <td>5.000000</td>\n      <td>27.750000</td>\n      <td>34.000000</td>\n      <td>0.126635</td>\n    </tr>\n    <tr>\n      <th>25%</th>\n      <td>65.000000</td>\n      <td>10.000000</td>\n      <td>61.510000</td>\n      <td>73.000000</td>\n      <td>5.807030</td>\n    </tr>\n    <tr>\n      <th>50%</th>\n      <td>79.550000</td>\n      <td>12.945000</td>\n      <td>67.510000</td>\n      <td>88.000000</td>\n      <td>6.536879</td>\n    </tr>\n    <tr>\n      <th>75%</th>\n      <td>95.000000</td>\n      <td>16.000000</td>\n      <td>76.000000</td>\n      <td>107.000000</td>\n      <td>7.399000</td>\n    </tr>\n    <tr>\n      <th>max</th>\n      <td>100.000000</td>\n      <td>30.000000</td>\n      <td>147.760000</td>\n      <td>149.000000</td>\n      <td>20.859377</td>\n    </tr>\n  </tbody>\n</table>\n</div>"
     },
     "execution_count": 7,
     "metadata": {},
     "output_type": "execute_result"
    }
   ],
   "source": [
    "df.loc[df.treated, ['fio2', 'peep', 'po2', 'pf_ratio', 'tidal_volume_per_kg']].describe()"
   ]
  },
  {
   "cell_type": "code",
   "execution_count": 8,
   "metadata": {
    "pycharm": {
     "name": "#%% Inclusion criteria we ommit: Vt around 6\n"
    }
   },
   "outputs": [
    {
     "data": {
      "text/plain": "<AxesSubplot:ylabel='Frequency'>"
     },
     "execution_count": 8,
     "metadata": {},
     "output_type": "execute_result"
    },
    {
     "data": {
      "text/plain": "<Figure size 432x288 with 1 Axes>",
      "image/png": "[encoded data removed]"
     },
     "metadata": {
      "needs_background": "light"
     },
     "output_type": "display_data"
    }
   ],
   "source": [
    "df.loc[df.treated, ['tidal_volume_per_kg']].plot.hist()"
   ]
  },
  {
   "cell_type": "code",
   "execution_count": 9,
   "metadata": {
    "pycharm": {
     "name": "#%%\n"
    }
   },
   "outputs": [
    {
     "data": {
      "text/plain": "              fio2         peep          po2     pf_ratio  tidal_volume_per_kg\ncount  5111.000000  5111.000000  5111.000000  5111.000000          4711.000000\nmean     71.047349    12.413395    71.456862   103.252984             6.940931\nstd      12.504143     3.670345    11.656788    21.967766             1.901132\nmin      60.000000     5.000000    18.000000    23.000000             0.040884\n25%      60.000000    10.000000    63.760000    88.000000             5.972259\n50%      67.000000    12.000000    70.510000   105.000000             6.746180\n75%      80.000000    15.000000    78.000000   119.000000             7.803519\nmax     100.000000    33.980000   141.010000   149.000000            22.845908",
      "text/html": "<div>\n<style scoped>\n    .dataframe tbody tr th:only-of-type {\n        vertical-align: middle;\n    }\n\n    .dataframe tbody tr th {\n        vertical-align: top;\n    }\n\n    .dataframe thead th {\n        text-align: right;\n    }\n</style>\n<table border=\"1\" class=\"dataframe\">\n  <thead>\n    <tr style=\"text-align: right;\">\n      <th></th>\n      <th>fio2</th>\n      <th>peep</th>\n      <th>po2</th>\n      <th>pf_ratio</th>\n      <th>tidal_volume_per_kg</th>\n    </tr>\n  </thead>\n  <tbody>\n    <tr>\n      <th>count</th>\n      <td>5111.000000</td>\n      <td>5111.000000</td>\n      <td>5111.000000</td>\n      <td>5111.000000</td>\n      <td>4711.000000</td>\n    </tr>\n    <tr>\n      <th>mean</th>\n      <td>71.047349</td>\n      <td>12.413395</td>\n      <td>71.456862</td>\n      <td>103.252984</td>\n      <td>6.940931</td>\n    </tr>\n    <tr>\n      <th>std</th>\n      <td>12.504143</td>\n      <td>3.670345</td>\n      <td>11.656788</td>\n      <td>21.967766</td>\n      <td>1.901132</td>\n    </tr>\n    <tr>\n      <th>min</th>\n      <td>60.000000</td>\n      <td>5.000000</td>\n      <td>18.000000</td>\n      <td>23.000000</td>\n      <td>0.040884</td>\n    </tr>\n    <tr>\n      <th>25%</th>\n      <td>60.000000</td>\n      <td>10.000000</td>\n      <td>63.760000</td>\n      <td>88.000000</td>\n      <td>5.972259</td>\n    </tr>\n    <tr>\n      <th>50%</th>\n      <td>67.000000</td>\n      <td>12.000000</td>\n      <td>70.510000</td>\n      <td>105.000000</td>\n      <td>6.746180</td>\n    </tr>\n    <tr>\n      <th>75%</th>\n      <td>80.000000</td>\n      <td>15.000000</td>\n      <td>78.000000</td>\n      <td>119.000000</td>\n      <td>7.803519</td>\n    </tr>\n    <tr>\n      <th>max</th>\n      <td>100.000000</td>\n      <td>33.980000</td>\n      <td>141.010000</td>\n      <td>149.000000</td>\n      <td>22.845908</td>\n    </tr>\n  </tbody>\n</table>\n</div>"
     },
     "execution_count": 9,
     "metadata": {},
     "output_type": "execute_result"
    }
   ],
   "source": [
    "df.loc[~df.treated, ['fio2', 'peep', 'po2', 'pf_ratio', 'tidal_volume_per_kg']].describe()"
   ]
  },
  {
   "cell_type": "code",
   "execution_count": 10,
   "metadata": {
    "pycharm": {
     "name": "#%%\n"
    }
   },
   "outputs": [
    {
     "data": {
      "text/plain": "<AxesSubplot:ylabel='Frequency'>"
     },
     "execution_count": 10,
     "metadata": {},
     "output_type": "execute_result"
    },
    {
     "data": {
      "text/plain": "<Figure size 432x288 with 1 Axes>",
      "image/png": "[encoded data removed]"
     },
     "metadata": {
      "needs_background": "light"
     },
     "output_type": "display_data"
    }
   ],
   "source": [
    "df.loc[~df.treated, ['tidal_volume_per_kg']].plot.hist()"
   ]
  },
  {
   "cell_type": "code",
   "execution_count": 11,
   "metadata": {
    "pycharm": {
     "name": "#%% Obesity\n"
    }
   },
   "outputs": [
    {
     "data": {
      "text/plain": "             fio2        peep         po2    pf_ratio  tidal_volume_per_kg\ncount  119.000000  119.000000  119.000000  119.000000           115.000000\nmean    80.237815   14.263782   68.744622   89.025210             6.718094\nstd     15.576465    3.343531   11.758084   22.464459             1.760138\nmin     60.000000    5.000000   34.500000   34.000000             0.217221\n25%     65.500000   12.000000   61.255000   71.500000             5.907489\n50%     77.000000   14.000000   67.000000   87.000000             6.727570\n75%    100.000000   16.050000   74.260000  100.000000             7.622156\nmax    100.000000   24.470000  126.000000  146.000000            13.940893",
      "text/html": "<div>\n<style scoped>\n    .dataframe tbody tr th:only-of-type {\n        vertical-align: middle;\n    }\n\n    .dataframe tbody tr th {\n        vertical-align: top;\n    }\n\n    .dataframe thead th {\n        text-align: right;\n    }\n</style>\n<table border=\"1\" class=\"dataframe\">\n  <thead>\n    <tr style=\"text-align: right;\">\n      <th></th>\n      <th>fio2</th>\n      <th>peep</th>\n      <th>po2</th>\n      <th>pf_ratio</th>\n      <th>tidal_volume_per_kg</th>\n    </tr>\n  </thead>\n  <tbody>\n    <tr>\n      <th>count</th>\n      <td>119.000000</td>\n      <td>119.000000</td>\n      <td>119.000000</td>\n      <td>119.000000</td>\n      <td>115.000000</td>\n    </tr>\n    <tr>\n      <th>mean</th>\n      <td>80.237815</td>\n      <td>14.263782</td>\n      <td>68.744622</td>\n      <td>89.025210</td>\n      <td>6.718094</td>\n    </tr>\n    <tr>\n      <th>std</th>\n      <td>15.576465</td>\n      <td>3.343531</td>\n      <td>11.758084</td>\n      <td>22.464459</td>\n      <td>1.760138</td>\n    </tr>\n    <tr>\n      <th>min</th>\n      <td>60.000000</td>\n      <td>5.000000</td>\n      <td>34.500000</td>\n      <td>34.000000</td>\n      <td>0.217221</td>\n    </tr>\n    <tr>\n      <th>25%</th>\n      <td>65.500000</td>\n      <td>12.000000</td>\n      <td>61.255000</td>\n      <td>71.500000</td>\n      <td>5.907489</td>\n    </tr>\n    <tr>\n      <th>50%</th>\n      <td>77.000000</td>\n      <td>14.000000</td>\n      <td>67.000000</td>\n      <td>87.000000</td>\n      <td>6.727570</td>\n    </tr>\n    <tr>\n      <th>75%</th>\n      <td>100.000000</td>\n      <td>16.050000</td>\n      <td>74.260000</td>\n      <td>100.000000</td>\n      <td>7.622156</td>\n    </tr>\n    <tr>\n      <th>max</th>\n      <td>100.000000</td>\n      <td>24.470000</td>\n      <td>126.000000</td>\n      <td>146.000000</td>\n      <td>13.940893</td>\n    </tr>\n  </tbody>\n</table>\n</div>"
     },
     "execution_count": 11,
     "metadata": {},
     "output_type": "execute_result"
    }
   ],
   "source": [
    "df.loc[df.nice_morbid_obesity & df.treated, ['fio2', 'peep', 'po2', 'pf_ratio', 'tidal_volume_per_kg']].describe()"
   ]
  },
  {
   "cell_type": "code",
   "execution_count": 12,
   "metadata": {
    "pycharm": {
     "name": "#%%\n"
    }
   },
   "outputs": [
    {
     "data": {
      "text/plain": "              fio2         peep         po2     pf_ratio  tidal_volume_per_kg\ncount  1141.000000  1141.000000  1141.00000  1141.000000          1059.000000\nmean     78.838387    13.015662    69.51844    91.184049             6.690670\nstd      14.740446     3.641820    12.94133    22.903599             1.799245\nmin      60.000000     5.000000    27.75000    40.000000             0.126635\n25%      65.000000    10.000000    61.51000    73.000000             5.790879\n50%      79.600000    12.240000    67.51000    89.000000             6.522354\n75%      92.000000    15.900000    76.00000   107.000000             7.372692\nmax     100.000000    30.000000   147.76000   149.000000            20.859377",
      "text/html": "<div>\n<style scoped>\n    .dataframe tbody tr th:only-of-type {\n        vertical-align: middle;\n    }\n\n    .dataframe tbody tr th {\n        vertical-align: top;\n    }\n\n    .dataframe thead th {\n        text-align: right;\n    }\n</style>\n<table border=\"1\" class=\"dataframe\">\n  <thead>\n    <tr style=\"text-align: right;\">\n      <th></th>\n      <th>fio2</th>\n      <th>peep</th>\n      <th>po2</th>\n      <th>pf_ratio</th>\n      <th>tidal_volume_per_kg</th>\n    </tr>\n  </thead>\n  <tbody>\n    <tr>\n      <th>count</th>\n      <td>1141.000000</td>\n      <td>1141.000000</td>\n      <td>1141.00000</td>\n      <td>1141.000000</td>\n      <td>1059.000000</td>\n    </tr>\n    <tr>\n      <th>mean</th>\n      <td>78.838387</td>\n      <td>13.015662</td>\n      <td>69.51844</td>\n      <td>91.184049</td>\n      <td>6.690670</td>\n    </tr>\n    <tr>\n      <th>std</th>\n      <td>14.740446</td>\n      <td>3.641820</td>\n      <td>12.94133</td>\n      <td>22.903599</td>\n      <td>1.799245</td>\n    </tr>\n    <tr>\n      <th>min</th>\n      <td>60.000000</td>\n      <td>5.000000</td>\n      <td>27.75000</td>\n      <td>40.000000</td>\n      <td>0.126635</td>\n    </tr>\n    <tr>\n      <th>25%</th>\n      <td>65.000000</td>\n      <td>10.000000</td>\n      <td>61.51000</td>\n      <td>73.000000</td>\n      <td>5.790879</td>\n    </tr>\n    <tr>\n      <th>50%</th>\n      <td>79.600000</td>\n      <td>12.240000</td>\n      <td>67.51000</td>\n      <td>89.000000</td>\n      <td>6.522354</td>\n    </tr>\n    <tr>\n      <th>75%</th>\n      <td>92.000000</td>\n      <td>15.900000</td>\n      <td>76.00000</td>\n      <td>107.000000</td>\n      <td>7.372692</td>\n    </tr>\n    <tr>\n      <th>max</th>\n      <td>100.000000</td>\n      <td>30.000000</td>\n      <td>147.76000</td>\n      <td>149.000000</td>\n      <td>20.859377</td>\n    </tr>\n  </tbody>\n</table>\n</div>"
     },
     "execution_count": 12,
     "metadata": {},
     "output_type": "execute_result"
    }
   ],
   "source": [
    "df.loc[~df.nice_morbid_obesity & df.treated, ['fio2', 'peep', 'po2', 'pf_ratio', 'tidal_volume_per_kg']].describe()"
   ]
  },
  {
   "cell_type": "code",
   "execution_count": 13,
   "metadata": {
    "pycharm": {
     "name": "#%%\n"
    }
   },
   "outputs": [],
   "source": [
    "OUTCOME = 'pf_ratio_2h_8h_manual_outcome'"
   ]
  },
  {
   "cell_type": "code",
   "execution_count": 14,
   "metadata": {
    "pycharm": {
     "name": "#%%\n"
    }
   },
   "outputs": [
    {
     "data": {
      "text/plain": "count    1054.000000\nmean      138.376660\nstd        60.361915\nmin        36.000000\n25%        96.250000\n50%       128.000000\n75%       162.000000\nmax       595.000000\nName: pf_ratio_2h_8h_manual_outcome, dtype: float64"
     },
     "execution_count": 14,
     "metadata": {},
     "output_type": "execute_result"
    }
   ],
   "source": [
    "df.loc[df.treated, OUTCOME].describe()"
   ]
  },
  {
   "cell_type": "code",
   "execution_count": 15,
   "metadata": {
    "pycharm": {
     "name": "#%%\n"
    }
   },
   "outputs": [
    {
     "data": {
      "text/plain": "count    4203.000000\nmean      123.941946\nstd        48.660623\nmin        30.000000\n25%        94.000000\n50%       115.000000\n75%       141.000000\nmax       669.000000\nName: pf_ratio_2h_8h_manual_outcome, dtype: float64"
     },
     "execution_count": 15,
     "metadata": {},
     "output_type": "execute_result"
    }
   ],
   "source": [
    "df.loc[~df.treated, OUTCOME].describe()\n"
   ]
  },
  {
   "cell_type": "code",
   "execution_count": 16,
   "metadata": {
    "pycharm": {
     "name": "#%%\n"
    }
   },
   "outputs": [
    {
     "name": "stdout",
     "output_type": "stream",
     "text": [
      "<class 'pandas.core.frame.DataFrame'>\n",
      "Int64Index: 5257 entries, 1 to 6370\n",
      "Data columns (total 30 columns):\n",
      " #   Column                         Non-Null Count  Dtype  \n",
      "---  ------                         --------------  -----  \n",
      " 0   treated                        5257 non-null   bool   \n",
      " 1   age                            5257 non-null   float64\n",
      " 2   bmi                            5257 non-null   float64\n",
      " 3   nice_morbid_obesity            5257 non-null   bool   \n",
      " 4   renal_replacement_therapy      5257 non-null   bool   \n",
      " 5   sofa_score                     3925 non-null   float64\n",
      " 6   lactate                        4642 non-null   float64\n",
      " 7   tidal_volume                   5013 non-null   float64\n",
      " 8   tidal_volume_per_kg            4923 non-null   float64\n",
      " 9   respiratory_rate_measured      4564 non-null   float64\n",
      " 10  peep                           5257 non-null   float64\n",
      " 11  fio2                           5257 non-null   float64\n",
      " 12  po2                            5257 non-null   float64\n",
      " 13  pco2                           5170 non-null   float64\n",
      " 14  ph                             5014 non-null   float64\n",
      " 15  driving_pressure               4433 non-null   float64\n",
      " 16  lung_compliance_static         4279 non-null   float64\n",
      " 17  med_muscle_relaxants           5257 non-null   bool   \n",
      " 18  med_vasopressors               5257 non-null   bool   \n",
      " 19  med_glucocorticoids            5257 non-null   bool   \n",
      " 20  pf_ratio                       5257 non-null   int64  \n",
      " 21  pf_ratio_2h_8h_manual_outcome  5257 non-null   float64\n",
      " 22  gender_V                       5257 non-null   bool   \n",
      " 23  nice_diabetes_True             5257 non-null   bool   \n",
      " 24  nice_aki_True                  5257 non-null   bool   \n",
      " 25  nice_cirrhosis_True            5257 non-null   bool   \n",
      " 26  nice_hem_malign_True           5257 non-null   bool   \n",
      " 27  nice_copd_True                 5257 non-null   bool   \n",
      " 28  nice_imm_insuf_True            5257 non-null   bool   \n",
      " 29  nice_cardio_vasc_insuf_True    5257 non-null   bool   \n",
      "dtypes: bool(14), float64(15), int64(1)\n",
      "memory usage: 770.1 KB\n"
     ]
    }
   ],
   "source": [
    "df_encoded = process_data(df=df, outcome=OUTCOME)\n",
    "df_encoded.info()\n",
    "\n",
    "y, t, X = get_training_data(df=df_encoded,\n",
    "                            treatment_col='treated',\n",
    "                            outcome_col=OUTCOME)\n",
    "\n",
    "covariates = get_covariate_names(df=df_encoded,\n",
    "                                 treatment_col='treated',\n",
    "                                 outcome_col=OUTCOME)"
   ]
  },
  {
   "cell_type": "markdown",
   "metadata": {},
   "source": [
    "## 3. Causal modelling"
   ]
  },
  {
   "cell_type": "markdown",
   "metadata": {
    "pycharm": {
     "name": "#%% md\n"
    }
   },
   "source": [
    "#### V1: All variables"
   ]
  },
  {
   "cell_type": "code",
   "execution_count": null,
   "metadata": {
    "pycharm": {
     "name": "#%%\n"
    }
   },
   "outputs": [],
   "source": [
    "propensity_model_all = PropensityModel(outcome=y,\n",
    "                                   treatment=t,\n",
    "                                   covariates=X,\n",
    "                                   outcome_name=OUTCOME,\n",
    "                                   treatment_name='proned',\n",
    "                                   covariates_name=covariates)\n",
    "propensity_model_all.summary_stats()\n"
   ]
  },
  {
   "cell_type": "code",
   "execution_count": null,
   "metadata": {
    "pycharm": {
     "name": "#%%\n"
    }
   },
   "outputs": [],
   "source": [
    "propensity_model_all.est_propensity(X=X, t=t, method='balanced')\n",
    "propensity_model_all.show_propensity()"
   ]
  },
  {
   "cell_type": "code",
   "execution_count": null,
   "metadata": {
    "pycharm": {
     "name": "#%%\n"
    }
   },
   "outputs": [],
   "source": [
    "np.mean(abs(propensity_model_all.causal_model.summary_stats['ndiff']))"
   ]
  },
  {
   "cell_type": "code",
   "execution_count": null,
   "metadata": {
    "pycharm": {
     "name": "#%%\n"
    }
   },
   "outputs": [],
   "source": [
    "#propensity_model_all.trim()"
   ]
  },
  {
   "cell_type": "code",
   "execution_count": null,
   "metadata": {
    "pycharm": {
     "name": "#%%\n"
    }
   },
   "outputs": [],
   "source": [
    "np.mean(abs(propensity_model_all.causal_model.summary_stats['ndiff']))"
   ]
  },
  {
   "cell_type": "code",
   "execution_count": null,
   "metadata": {
    "pycharm": {
     "name": "#%%\n"
    }
   },
   "outputs": [],
   "source": [
    "propensity_model_all.causal_model.blocks = [0, 0.4, 0.6, 0.75, 1]\n",
    "propensity_model_all.access_balance(method='default')\n"
   ]
  },
  {
   "cell_type": "code",
   "execution_count": null,
   "metadata": {
    "pycharm": {
     "name": "#%%\n"
    }
   },
   "outputs": [],
   "source": [
    "propensity_model_all.est_treatment_effect()"
   ]
  },
  {
   "cell_type": "code",
   "execution_count": null,
   "metadata": {
    "pycharm": {
     "name": "#%%\n"
    }
   },
   "outputs": [],
   "source": [
    "propensity_model_all.print_models(raw_effect=14.6, true_effect=15)\n"
   ]
  },
  {
   "cell_type": "code",
   "execution_count": null,
   "metadata": {
    "pycharm": {
     "name": "#%%\n"
    }
   },
   "outputs": [],
   "source": [
    "propensity_model_all.plot_propensity()"
   ]
  },
  {
   "cell_type": "code",
   "execution_count": null,
   "metadata": {
    "pycharm": {
     "name": "#%%\n"
    }
   },
   "outputs": [],
   "source": [
    "propensity_model_all.causal_model.estimates['matching']['ate'].round(2)"
   ]
  },
  {
   "cell_type": "code",
   "execution_count": null,
   "metadata": {
    "pycharm": {
     "name": "#%%\n"
    }
   },
   "outputs": [],
   "source": [
    "propensity_model_all.causal_model.reset()"
   ]
  },
  {
   "cell_type": "markdown",
   "metadata": {
    "pycharm": {
     "name": "#%% md\n"
    }
   },
   "source": [
    "#### With medically relevant features"
   ]
  },
  {
   "cell_type": "markdown",
   "metadata": {
    "pycharm": {
     "name": "#%% md\n"
    }
   },
   "source": [
    "V2. Balance only potential confounders"
   ]
  },
  {
   "cell_type": "code",
   "execution_count": null,
   "metadata": {
    "pycharm": {
     "name": "#%%\n"
    }
   },
   "outputs": [],
   "source": [
    "propensity_model_subset = PropensityModel(outcome=y,\n",
    "                                          treatment=t,\n",
    "                                          covariates=X,\n",
    "                                          outcome_name=OUTCOME,\n",
    "                                          treatment_name='proned',\n",
    "                                          covariates_name=covariates)\n",
    "propensity_model_subset.summary_stats()\n"
   ]
  },
  {
   "cell_type": "code",
   "execution_count": null,
   "metadata": {
    "pycharm": {
     "name": "#%% Select good columns\n"
    }
   },
   "outputs": [],
   "source": [
    "propensity_cols = ['pf_ratio',\n",
    "                   'peep',\n",
    "                   'fio2',\n",
    "                   'tidal_volume_per_kg',\n",
    "                   'nice_copd_True',\n",
    "                   'nice_hem_malign_True']"
   ]
  },
  {
   "cell_type": "code",
   "execution_count": null,
   "metadata": {
    "pycharm": {
     "name": "#%%\n"
    }
   },
   "outputs": [],
   "source": [
    "y_subset, t_subset, X_subset = get_training_data(df=df_encoded[propensity_cols],\n",
    "                                                 treatment_col='treated',\n",
    "                                                 outcome_col=OUTCOME)\n",
    "\n",
    "covariates = get_covariate_names(df=df_encoded[propensity_cols],\n",
    "                                 treatment_col='treated',\n",
    "                                 outcome_col=OUTCOME)\n",
    "\n",
    "\n",
    "print(covariates)"
   ]
  },
  {
   "cell_type": "code",
   "execution_count": null,
   "metadata": {
    "pycharm": {
     "name": "#%%\n"
    }
   },
   "outputs": [],
   "source": [
    "propensity_model_subset.est_propensity(X=X_subset, t=t, method='balanced')\n",
    "#propensity_model.est_propensity(X=X_subset, t=t_subset, method='balanced')\n",
    "propensity_model_subset.show_propensity()"
   ]
  },
  {
   "cell_type": "code",
   "execution_count": null,
   "metadata": {
    "pycharm": {
     "name": "#%%\n"
    }
   },
   "outputs": [],
   "source": [
    "np.mean(abs(propensity_model_subset.causal_model.summary_stats['ndiff']))"
   ]
  },
  {
   "cell_type": "code",
   "execution_count": null,
   "metadata": {
    "pycharm": {
     "name": "#%%\n"
    }
   },
   "outputs": [],
   "source": [
    "# propensity_model_subset.trim()"
   ]
  },
  {
   "cell_type": "code",
   "execution_count": null,
   "metadata": {
    "pycharm": {
     "name": "#%%\n"
    }
   },
   "outputs": [],
   "source": [
    "np.mean(abs(propensity_model_subset.causal_model.summary_stats['ndiff']))"
   ]
  },
  {
   "cell_type": "code",
   "execution_count": null,
   "metadata": {
    "pycharm": {
     "name": "#%%\n"
    }
   },
   "outputs": [],
   "source": [
    "propensity_model_subset.causal_model.blocks = [0, 0.4, 0.5, 0.6, 0.7, 1]\n",
    "propensity_model_subset.access_balance(method='default')"
   ]
  },
  {
   "cell_type": "code",
   "execution_count": null,
   "metadata": {
    "pycharm": {
     "name": "#%%\n"
    }
   },
   "outputs": [],
   "source": [
    "propensity_model_subset.est_treatment_effect()"
   ]
  },
  {
   "cell_type": "code",
   "execution_count": null,
   "metadata": {
    "pycharm": {
     "name": "#%%\n"
    }
   },
   "outputs": [],
   "source": [
    "propensity_model_subset.print_models(raw_effect=10.5, true_effect=15)"
   ]
  },
  {
   "cell_type": "code",
   "execution_count": null,
   "metadata": {
    "pycharm": {
     "name": "#%%\n"
    }
   },
   "outputs": [],
   "source": [
    "propensity_model_subset.plot_propensity()"
   ]
  },
  {
   "cell_type": "markdown",
   "metadata": {
    "pycharm": {
     "name": "#%% md\n"
    }
   },
   "source": [
    "V3. All + interactions + poly"
   ]
  },
  {
   "cell_type": "code",
   "execution_count": null,
   "metadata": {
    "pycharm": {
     "name": "#%%\n"
    }
   },
   "outputs": [],
   "source": [
    "propensity_model_poly = PropensityModel(outcome=y,\n",
    "                                        treatment=t,\n",
    "                                        covariates=X,\n",
    "                                          outcome_name=OUTCOME,\n",
    "                                          treatment_name='proned',\n",
    "                                          covariates_name=covariates)\n",
    "propensity_model_poly.summary_stats()\n"
   ]
  },
  {
   "cell_type": "code",
   "execution_count": null,
   "metadata": {
    "pycharm": {
     "name": "#%%\n"
    }
   },
   "outputs": [],
   "source": [
    "y, t, X = get_training_data(df=df_encoded,\n",
    "                            treatment_col='treated',\n",
    "                            outcome_col=OUTCOME)\n",
    "\n",
    "covariates = get_covariate_names(df=df_encoded,\n",
    "                                 treatment_col='treated',\n",
    "                                 outcome_col=OUTCOME)\n",
    "\n",
    "\n",
    "print(covariates)"
   ]
  },
  {
   "cell_type": "code",
   "execution_count": null,
   "metadata": {
    "pycharm": {
     "name": "#%%\n"
    }
   },
   "outputs": [],
   "source": [
    "from sklearn.preprocessing import PolynomialFeatures\n",
    "\n",
    "poly = PolynomialFeatures(2)\n",
    "poly.fit_transform(X)\n",
    "poly = PolynomialFeatures(include_bias=False, interaction_only=True)\n",
    "X_poly = poly.fit_transform(X)"
   ]
  },
  {
   "cell_type": "code",
   "execution_count": null,
   "metadata": {
    "pycharm": {
     "name": "#%%\n"
    }
   },
   "outputs": [],
   "source": [
    "propensity_model_poly.est_propensity(X=X_poly, t=t, method='balanced')\n",
    "#propensity_model.est_propensity(X=X_subset, t=t_subset, method='balanced')\n",
    "propensity_model_poly.show_propensity()"
   ]
  },
  {
   "cell_type": "code",
   "execution_count": null,
   "metadata": {
    "pycharm": {
     "name": "#%%\n"
    }
   },
   "outputs": [],
   "source": [
    "np.mean(abs(propensity_model_poly.causal_model.summary_stats['ndiff']))"
   ]
  },
  {
   "cell_type": "code",
   "execution_count": null,
   "metadata": {
    "pycharm": {
     "name": "#%%\n"
    }
   },
   "outputs": [],
   "source": [
    "#propensity_model_poly.trim()"
   ]
  },
  {
   "cell_type": "code",
   "execution_count": null,
   "metadata": {
    "pycharm": {
     "name": "#%%\n"
    }
   },
   "outputs": [],
   "source": [
    "np.mean(abs(propensity_model_poly.causal_model.summary_stats['ndiff']))"
   ]
  },
  {
   "cell_type": "code",
   "execution_count": null,
   "metadata": {
    "pycharm": {
     "name": "#%%\n"
    }
   },
   "outputs": [],
   "source": [
    "propensity_model_poly.causal_model.blocks = [0, 0.4, 0.6, 0.7, 0.8, 1]\n",
    "propensity_model_poly.access_balance(method='default')"
   ]
  },
  {
   "cell_type": "code",
   "execution_count": null,
   "metadata": {
    "pycharm": {
     "name": "#%%\n"
    }
   },
   "outputs": [],
   "source": [
    "propensity_model_poly.est_treatment_effect()"
   ]
  },
  {
   "cell_type": "code",
   "execution_count": null,
   "metadata": {
    "pycharm": {
     "name": "#%%\n"
    }
   },
   "outputs": [],
   "source": [
    "propensity_model_poly.print_models(raw_effect=10.5, true_effect=15)"
   ]
  },
  {
   "cell_type": "code",
   "execution_count": null,
   "metadata": {
    "pycharm": {
     "name": "#%%\n"
    }
   },
   "outputs": [],
   "source": [
    "propensity_model_poly.plot_propensity()"
   ]
  },
  {
   "cell_type": "markdown",
   "metadata": {},
   "source": [
    "#### V4: obese patients"
   ]
  },
  {
   "cell_type": "code",
   "execution_count": null,
   "metadata": {
    "pycharm": {
     "name": "#%%\n"
    }
   },
   "outputs": [],
   "source": [
    "# Choose patients with BMI > 35\n",
    "\n",
    "morbid_obesity = X[:, 14] > 0"
   ]
  },
  {
   "cell_type": "code",
   "execution_count": null,
   "metadata": {
    "pycharm": {
     "name": "#%%\n"
    }
   },
   "outputs": [],
   "source": [
    "# The standard raw_effect\n",
    "\n",
    "print(np.mean(y[t]) - np.mean(y[~t]))\n",
    "\n",
    "# Raw effect for obese\n",
    "\n",
    "print(np.mean(y[morbid_obesity & t]) - np.mean(y[morbid_obesity & ~t]))\n",
    "\n",
    "# and non obese\n",
    "\n",
    "print(np.mean(y[~morbid_obesity & t]) - np.mean(y[~morbid_obesity & ~t]))\n",
    "\n",
    "# % of obese\n",
    "\n",
    "print(len(y[morbid_obesity]) / len(y))"
   ]
  },
  {
   "cell_type": "code",
   "execution_count": null,
   "metadata": {
    "pycharm": {
     "name": "#%%\n"
    }
   },
   "outputs": [],
   "source": [
    "X.shape"
   ]
  },
  {
   "cell_type": "code",
   "execution_count": null,
   "metadata": {
    "pycharm": {
     "name": "#%%\n"
    }
   },
   "outputs": [],
   "source": [
    "propensity_model_all = PropensityModel(outcome=y[morbid_obesity],\n",
    "                                   treatment=t[morbid_obesity],\n",
    "                                   covariates=np.delete(X[morbid_obesity], 14, 1),\n",
    "                                   outcome_name=OUTCOME,\n",
    "                                   treatment_name='proned',\n",
    "                                   covariates_name=covariates)\n",
    "propensity_model_all.summary_stats()\n"
   ]
  },
  {
   "cell_type": "code",
   "execution_count": null,
   "metadata": {
    "pycharm": {
     "name": "#%%\n"
    }
   },
   "outputs": [],
   "source": [
    "propensity_model_all.est_propensity(X=np.delete(X[morbid_obesity], 14, 1),\n",
    "                                    t=t[morbid_obesity],\n",
    "                                    method='balanced')\n",
    "propensity_model_all.show_propensity()"
   ]
  },
  {
   "cell_type": "code",
   "execution_count": null,
   "metadata": {
    "pycharm": {
     "name": "#%%\n"
    }
   },
   "outputs": [],
   "source": [
    "np.mean(abs(propensity_model_all.causal_model.summary_stats['ndiff']))"
   ]
  },
  {
   "cell_type": "code",
   "execution_count": null,
   "metadata": {
    "pycharm": {
     "name": "#%%\n"
    }
   },
   "outputs": [],
   "source": [
    "propensity_model_all.trim()"
   ]
  },
  {
   "cell_type": "code",
   "execution_count": null,
   "metadata": {
    "pycharm": {
     "name": "#%%\n"
    }
   },
   "outputs": [],
   "source": [
    "np.mean(abs(propensity_model_all.causal_model.summary_stats['ndiff']))"
   ]
  },
  {
   "cell_type": "code",
   "execution_count": null,
   "metadata": {
    "pycharm": {
     "name": "#%%\n"
    }
   },
   "outputs": [],
   "source": [
    "propensity_model_all.causal_model.blocks = [0, 0.7, 1]\n",
    "propensity_model_all.access_balance(method='default')\n"
   ]
  },
  {
   "cell_type": "code",
   "execution_count": null,
   "metadata": {
    "pycharm": {
     "name": "#%%\n"
    }
   },
   "outputs": [],
   "source": [
    "propensity_model_all.est_treatment_effect()"
   ]
  },
  {
   "cell_type": "code",
   "execution_count": null,
   "metadata": {
    "pycharm": {
     "name": "#%%\n"
    }
   },
   "outputs": [],
   "source": [
    "propensity_model_all.print_models(raw_effect=14.4, true_effect=15)\n"
   ]
  },
  {
   "cell_type": "markdown",
   "metadata": {
    "pycharm": {
     "name": "#%% md\n"
    }
   },
   "source": [
    "## check interactions"
   ]
  },
  {
   "cell_type": "markdown",
   "metadata": {
    "pycharm": {
     "is_executing": true,
     "name": "#%% md\n"
    }
   },
   "source": [
    "## Other computations"
   ]
  },
  {
   "cell_type": "code",
   "execution_count": null,
   "metadata": {
    "pycharm": {
     "name": "#%%\n"
    }
   },
   "outputs": [],
   "source": [
    "n_of_control = []\n",
    "n_of_treated = []\n",
    "p_bin = []\n",
    "effect = []\n",
    "\n",
    "for stratum in propensity_model_all.causal_model.strata:\n",
    "    p_min = stratum.summary_stats['p_min'].round(2)\n",
    "    p_max = stratum.summary_stats['p_max'].round(2)\n",
    "    index = '[{},{}]'.format(p_min, p_max)\n",
    "    p_bin.append(index)\n",
    "\n",
    "    stratum.est_via_matching(bias_adj=True)\n",
    "    ate = stratum.estimates['matching']['ate']\n",
    "    effect.append(ate)\n",
    "\n",
    "    n_of_control.append(stratum.summary_stats['N_c'])\n",
    "    n_of_treated.append(stratum.summary_stats['N_t'])\n",
    "\n",
    "df = pd.DataFrame({'n_of_treated': n_of_treated,\n",
    "                   'n_of_control': n_of_control,\n",
    "                   'ate': effect}, index=p_bin)"
   ]
  },
  {
   "cell_type": "code",
   "execution_count": null,
   "metadata": {
    "pycharm": {
     "name": "#%%\n"
    }
   },
   "outputs": [],
   "source": [
    "ax =  df.plot.bar(y=['n_of_control', 'n_of_treated'], ylabel='Frequency', figsize=(10, 5))\n",
    "df.plot(y='ate', c='k', ax=ax, use_index=False, secondary_y=True, mark_right=False)\n",
    "ax.right_ax.set_ylabel('ATE')"
   ]
  },
  {
   "cell_type": "code",
   "execution_count": null,
   "metadata": {
    "pycharm": {
     "name": "#%% Initialize df_balance\n"
    }
   },
   "outputs": [],
   "source": [
    "# https://seaborn.pydata.org/examples/pairgrid_dotplot.html\n"
   ]
  },
  {
   "cell_type": "code",
   "execution_count": null,
   "metadata": {
    "pycharm": {
     "name": "#%% Initialize\n"
    }
   },
   "outputs": [],
   "source": [
    "df_balance = pd.DataFrame([], columns=['raw_diff', 'all', 'all_poly', 'subset', 'subset_poly'])\n",
    "df_balance.loc[:,'raw_diff'] = propensity_model_all.causal_model.summary_stats['ndiff']\n",
    "df_balance = df_balance.abs().round(2)"
   ]
  },
  {
   "cell_type": "code",
   "execution_count": null,
   "metadata": {
    "pycharm": {
     "name": "#%% Add column\n"
    }
   },
   "outputs": [],
   "source": [
    "COLUMN_NAME = 'all'\n",
    "df_balance[COLUMN_NAME] = 0"
   ]
  },
  {
   "cell_type": "code",
   "execution_count": null,
   "metadata": {
    "pycharm": {
     "name": "#%%\n"
    }
   },
   "outputs": [],
   "source": [
    "df_strat_balance = pd.DataFrame([])\n",
    "weights = []\n",
    "n_of_strata = 0\n",
    "\n",
    "for stratum in propensity_model_all.causal_model.strata:\n",
    "    n_of_strata += 1\n",
    "    column = 'strata_{}'.format(n_of_strata)\n",
    "    df_strat_balance[column] = stratum.summary_stats['ndiff']\n",
    "    weights.append(stratum.summary_stats['N'])\n",
    "df_strat_balance = df_strat_balance.abs()\n",
    "\n",
    "\n",
    "for row, column in df.iterrows():\n",
    "    print(row)\n",
    "    df_balance.loc[row, COLUMN_NAME] = np.average(column, weights=np.asarray(weights)).round(2)"
   ]
  },
  {
   "cell_type": "code",
   "execution_count": null,
   "metadata": {
    "pycharm": {
     "name": "#%%\n"
    }
   },
   "outputs": [],
   "source": [
    "df_balance.loc['mean'] = df.mean()\n",
    "df_balance.index = propensity_model.covariates_name"
   ]
  },
  {
   "cell_type": "code",
   "execution_count": null,
   "metadata": {
    "pycharm": {
     "name": "#%%\n"
    }
   },
   "outputs": [],
   "source": [
    "df_balance\n"
   ]
  },
  {
   "cell_type": "code",
   "execution_count": null,
   "metadata": {
    "pycharm": {
     "name": "#%%\n"
    }
   },
   "outputs": [],
   "source": [
    "# What if I train using an XGBoost?\n",
    "\n",
    "\n",
    "def compare_balance()"
   ]
  },
  {
   "cell_type": "markdown",
   "metadata": {
    "pycharm": {
     "name": "#%% md\n"
    }
   },
   "source": [
    "#### OLS estimation"
   ]
  },
  {
   "cell_type": "code",
   "execution_count": 17,
   "metadata": {
    "pycharm": {
     "name": "#%%\n"
    }
   },
   "outputs": [],
   "source": [
    "import statsmodels.api as sm\n",
    "import numpy as np"
   ]
  },
  {
   "cell_type": "code",
   "execution_count": null,
   "metadata": {
    "pycharm": {
     "name": "#%%\n"
    }
   },
   "outputs": [],
   "source": [
    "morbid_obesity = X[:, 14] > 0"
   ]
  },
  {
   "cell_type": "code",
   "execution_count": null,
   "metadata": {
    "pycharm": {
     "name": "#%%\n"
    }
   },
   "outputs": [],
   "source": [
    "X_new = sm.add_constant(np.hstack((t.reshape((len(t), 1)),X)))"
   ]
  },
  {
   "cell_type": "code",
   "execution_count": null,
   "metadata": {
    "pycharm": {
     "name": "#%%\n"
    }
   },
   "outputs": [],
   "source": [
    "len(t[morbid_obesity]) / len(t)"
   ]
  },
  {
   "cell_type": "code",
   "execution_count": null,
   "metadata": {
    "pycharm": {
     "name": "#%%\n"
    }
   },
   "outputs": [],
   "source": [
    "len(t[~morbid_obesity]) / len(t)\n"
   ]
  },
  {
   "cell_type": "code",
   "execution_count": 18,
   "metadata": {
    "pycharm": {
     "name": "#%%\n"
    }
   },
   "outputs": [
    {
     "name": "stdout",
     "output_type": "stream",
     "text": [
      "R2:  0.1453741506489612\n",
      "                            OLS Regression Results                            \n",
      "==============================================================================\n",
      "Dep. Variable:                      y   R-squared:                       0.145\n",
      "Model:                            OLS   Adj. R-squared:                  0.141\n",
      "Method:                 Least Squares   F-statistic:                     31.76\n",
      "Date:                Tue, 06 Apr 2021   Prob (F-statistic):          2.71e-155\n",
      "Time:                        16:49:24   Log-Likelihood:                -27771.\n",
      "No. Observations:                5257   AIC:                         5.560e+04\n",
      "Df Residuals:                    5228   BIC:                         5.579e+04\n",
      "Df Model:                          28                                         \n",
      "Covariance Type:            nonrobust                                         \n",
      "==============================================================================\n",
      "                 coef    std err          t      P>|t|      [0.025      0.975]\n",
      "------------------------------------------------------------------------------\n",
      "const        122.1144      1.458     83.751      0.000     119.256     124.973\n",
      "x1            17.6080      1.759     10.010      0.000      14.160      21.056\n",
      "x2            -0.2100      0.692     -0.304      0.762      -1.566       1.146\n",
      "x3            -1.5825      1.001     -1.581      0.114      -3.545       0.380\n",
      "x4            -1.0041      0.812     -1.236      0.216      -2.596       0.588\n",
      "x5            -3.5738      0.733     -4.879      0.000      -5.010      -2.138\n",
      "x6            -0.2097      1.245     -0.168      0.866      -2.651       2.232\n",
      "x7            -2.0766      1.167     -1.779      0.075      -4.364       0.211\n",
      "x8            -1.2832      0.708     -1.813      0.070      -2.671       0.104\n",
      "x9             0.2274      0.717      0.317      0.751      -1.178       1.633\n",
      "x10           -2.8395      0.697     -4.075      0.000      -4.205      -1.474\n",
      "x11           12.7713      0.676     18.879      0.000      11.445      14.097\n",
      "x12          -11.5486      0.941    -12.270      0.000     -13.394      -9.703\n",
      "x13           -0.6861      0.993     -0.691      0.490      -2.633       1.261\n",
      "x14           -1.9425      0.925     -2.100      0.036      -3.756      -0.129\n",
      "x15           -1.2336      1.059     -1.165      0.244      -3.309       0.842\n",
      "x16           -4.8285      2.975     -1.623      0.105     -10.661       1.004\n",
      "x17           -0.7601      2.406     -0.316      0.752      -5.478       3.957\n",
      "x18            6.5846      1.574      4.184      0.000       3.500       9.670\n",
      "x19           -0.1325      1.458     -0.091      0.928      -2.992       2.727\n",
      "x20            9.4326      2.389      3.948      0.000       4.749      14.116\n",
      "x21           -8.0431      1.734     -4.637      0.000     -11.443      -4.643\n",
      "x22            1.5856      1.829      0.867      0.386      -1.999       5.170\n",
      "x23           10.6638      2.187      4.876      0.000       6.376      14.951\n",
      "x24           23.1962      7.337      3.162      0.002       8.813      37.580\n",
      "x25           -3.8462      5.211     -0.738      0.460     -14.061       6.369\n",
      "x26           -0.5680      2.502     -0.227      0.820      -5.472       4.336\n",
      "x27           -2.9821      3.123     -0.955      0.340      -9.104       3.139\n",
      "x28          -15.6204      6.563     -2.380      0.017     -28.486      -2.754\n",
      "==============================================================================\n",
      "Omnibus:                     3243.926   Durbin-Watson:                   1.471\n",
      "Prob(Omnibus):                  0.000   Jarque-Bera (JB):            54782.500\n",
      "Skew:                           2.655   Prob(JB):                         0.00\n",
      "Kurtosis:                      17.897   Cond. No.                         22.6\n",
      "==============================================================================\n",
      "\n",
      "Notes:\n",
      "[1] Standard Errors assume that the covariance matrix of the errors is correctly specified.\n"
     ]
    }
   ],
   "source": [
    "model = sm.OLS(y, sm.add_constant(np.hstack((t.reshape((len(t), 1)),X)))).fit()\n",
    "\n",
    "print('R2: ', model.rsquared)\n",
    "print(model.summary())"
   ]
  },
  {
   "cell_type": "code",
   "execution_count": null,
   "outputs": [],
   "source": [
    "model_obese = sm.OLS(y[morbid_obesity], sm.add_constant(np.hstack((t[morbid_obesity].reshape((len(t[morbid_obesity]), 1)),X[morbid_obesity])))).fit()\n",
    "\n",
    "print('R2: ', model_obese.rsquared)\n",
    "print(model_obese.summary())"
   ],
   "metadata": {
    "collapsed": false,
    "pycharm": {
     "name": "#%%\n"
    }
   }
  },
  {
   "cell_type": "code",
   "execution_count": null,
   "metadata": {
    "pycharm": {
     "name": "#%%\n"
    }
   },
   "outputs": [],
   "source": [
    "model_not_obese = sm.OLS(y[~morbid_obesity], sm.add_constant(np.hstack((t[~morbid_obesity].reshape((len(t[~morbid_obesity]), 1)),X[~morbid_obesity])))).fit()\n",
    "\n",
    "print('R2: ', model_not_obese.rsquared)\n",
    "print(model_not_obese.summary())"
   ]
  },
  {
   "cell_type": "code",
   "execution_count": null,
   "metadata": {
    "pycharm": {
     "name": "#%%\n"
    }
   },
   "outputs": [],
   "source": [
    "df_ols_summary = pd.DataFrame([], index=['intercept', 'treated'] + covariates)\n",
    "df_ols_summary['OLS_all_pvalues_'] = model.params.round(2).tolist()\n",
    "df_ols_summary"
   ]
  },
  {
   "cell_type": "code",
   "execution_count": null,
   "metadata": {
    "pycharm": {
     "name": "#%%\n"
    }
   },
   "outputs": [],
   "source": [
    "df_ols_summary['OLS_obese_pvalues_'] = model_obese.params.round(2).tolist()\n",
    "df_ols_summary['OLS_not_obese_pvalues_'] = model_not_obese.params.round(2).tolist()\n",
    "df_ols_summary"
   ]
  },
  {
   "cell_type": "code",
   "execution_count": null,
   "metadata": {
    "pycharm": {
     "name": "#%%\n"
    }
   },
   "outputs": [],
   "source": [
    "model_obese.params.round(2).shape"
   ]
  },
  {
   "cell_type": "code",
   "execution_count": null,
   "metadata": {
    "pycharm": {
     "name": "#%%\n"
    }
   },
   "outputs": [],
   "source": [
    "from statsmodels.compat import lzip\n",
    "\n",
    "import numpy as np\n",
    "import pandas as pd\n",
    "import statsmodels.formula.api as smf\n",
    "import statsmodels.stats.api as sms\n",
    "\n",
    "name = ['Jarque-Bera', 'Chi^2 two-tail prob.', 'Skew', 'Kurtosis']\n",
    "test = sms.jarque_bera(results.resid)\n",
    "lzip(name, test)"
   ]
  },
  {
   "cell_type": "code",
   "execution_count": null,
   "metadata": {
    "pycharm": {
     "name": "#%%\n"
    }
   },
   "outputs": [],
   "source": [
    "# Add interactions\n",
    "\n",
    "log_reg = sm.Logit(t, X).fit()"
   ]
  },
  {
   "cell_type": "code",
   "execution_count": null,
   "metadata": {
    "pycharm": {
     "name": "#%%\n"
    }
   },
   "outputs": [],
   "source": [
    "print(log_reg.summary())"
   ]
  },
  {
   "cell_type": "code",
   "execution_count": null,
   "metadata": {
    "pycharm": {
     "name": "#%%\n"
    }
   },
   "outputs": [],
   "source": [
    "covariates"
   ]
  },
  {
   "cell_type": "code",
   "execution_count": null,
   "metadata": {
    "pycharm": {
     "name": "#%%\n"
    }
   },
   "outputs": [],
   "source": [
    "import statsmodels.api as sm\n",
    "\n",
    "log_reg = sm.Logit(t, sm.add_constant(X)).fit()\n",
    "\n",
    "print(log_reg.summary())"
   ]
  },
  {
   "cell_type": "code",
   "execution_count": null,
   "metadata": {
    "pycharm": {
     "name": "#%%\n"
    }
   },
   "outputs": [],
   "source": [
    "y, t, X = get_training_data(df=df_encoded[['pf_ratio',\n",
    "                                          'peep',\n",
    "                                          'fio2',\n",
    "                                          'tidal_volume',\n",
    "                                          'nice_copd_True',\n",
    "                                          'nice_hem_malign_True']],\n",
    "                            treatment_col='treated',\n",
    "                            outcome_col=OUTCOME)\n",
    "\n",
    "covariates = get_covariate_names(df=df_encoded,\n",
    "                                 treatment_col='treated',\n",
    "                                 outcome_col=OUTCOME)"
   ]
  },
  {
   "cell_type": "code",
   "execution_count": null,
   "metadata": {
    "pycharm": {
     "name": "#%%\n"
    }
   },
   "outputs": [],
   "source": [
    "new_X = np.hstack((X**(i+1) for i in range(k)))"
   ]
  },
  {
   "cell_type": "code",
   "execution_count": null,
   "metadata": {
    "pycharm": {
     "name": "#%%\n"
    }
   },
   "outputs": [],
   "source": [
    "import numpy as np\n",
    "\n",
    "from scipy.stats import uniform, randint\n",
    "\n",
    "from sklearn.datasets import load_breast_cancer, load_diabetes, load_wine\n",
    "from sklearn.metrics import auc, accuracy_score, confusion_matrix, mean_squared_error\n",
    "from sklearn.model_selection import cross_val_score, GridSearchCV, KFold, RandomizedSearchCV, train_test_split\n",
    "\n",
    "import xgboost as xgb"
   ]
  },
  {
   "cell_type": "code",
   "execution_count": null,
   "metadata": {
    "pycharm": {
     "name": "#%%\n"
    }
   },
   "outputs": [],
   "source": [
    "print(X.shape)\n",
    "\n",
    "print(t.shape)\n",
    "\n",
    "print(y.shape)"
   ]
  },
  {
   "cell_type": "code",
   "execution_count": null,
   "metadata": {
    "pycharm": {
     "name": "#%%\n"
    }
   },
   "outputs": [],
   "source": [
    "X_all = np.concatenate((X, t.reshape(len(t), 1)), axis=1)\n",
    "print(X_all.shape)"
   ]
  },
  {
   "cell_type": "code",
   "execution_count": null,
   "metadata": {
    "pycharm": {
     "name": "#%%\n"
    }
   },
   "outputs": [],
   "source": [
    "import numpy as np\n",
    "from sklearn.model_selection import train_test_split\n",
    "\n",
    "X_train, X_test, y_train, y_test = train_test_split(X_all, y)"
   ]
  },
  {
   "cell_type": "code",
   "execution_count": null,
   "metadata": {
    "pycharm": {
     "name": "#%%\n"
    }
   },
   "outputs": [],
   "source": [
    "xgb_model = xgb.XGBRegressor(objective=\"reg:squarederror\", random_state=42)\n",
    "\n",
    "xgb_model.fit(X_train, y_train)\n",
    "\n",
    "y_pred = xgb_model.predict(X_test)\n",
    "\n",
    "rmse=mean_squared_error(y_test, y_pred, squared=False)\n",
    "\n",
    "print(rmse)"
   ]
  },
  {
   "cell_type": "code",
   "execution_count": null,
   "metadata": {
    "pycharm": {
     "name": "#%%\n"
    }
   },
   "outputs": [],
   "source": [
    "from sklearn.metrics import r2_score\n",
    "\n",
    "coefficient_of_dermination = r2_score(y_test, y_pred)\n",
    "print(coefficient_of_dermination)"
   ]
  },
  {
   "cell_type": "code",
   "execution_count": null,
   "metadata": {
    "pycharm": {
     "name": "#%%\n"
    }
   },
   "outputs": [],
   "source": [
    "test_treated = X_test\n",
    "test_treated[:, -1] = 1\n",
    "m_1 = xgb_model.predict(test_treated)\n",
    "test_treated[:, -1] = 0\n",
    "m_0 = xgb_model.predict(test_treated)\n",
    "\n",
    "print(np.mean(m_1 - m_0))"
   ]
  },
  {
   "cell_type": "code",
   "execution_count": null,
   "metadata": {
    "pycharm": {
     "name": "#%%\n"
    }
   },
   "outputs": [],
   "source": [
    "def logit_ip_f(y, X):\n",
    "    \"\"\"\n",
    "    Create the f(y|X) part of IP weights\n",
    "    from logistic regression\n",
    "\n",
    "    Parameters\n",
    "    ----------\n",
    "    y : Pandas Series\n",
    "    X : Pandas DataFrame\n",
    "\n",
    "    Returns\n",
    "    -------\n",
    "    Numpy array of IP weights\n",
    "\n",
    "    \"\"\"\n",
    "    model = sm.Logit(y, X)\n",
    "    res = model.fit()\n",
    "    weights = np.zeros(X.shape[0])\n",
    "    weights[y == 1] = res.predict(X[y == 1])\n",
    "    weights[y == 0] = (1 - res.predict(X[y == 0]))\n",
    "    return weights"
   ]
  },
  {
   "cell_type": "code",
   "execution_count": null,
   "metadata": {
    "pycharm": {
     "name": "#%%\n"
    }
   },
   "outputs": [],
   "source": [
    "denoms = logit_ip_f(t, X)\n",
    "weights = 1 / denoms"
   ]
  },
  {
   "cell_type": "code",
   "execution_count": null,
   "metadata": {
    "pycharm": {
     "name": "#%%%\n"
    }
   },
   "outputs": [],
   "source": [
    "wls = sm.WLS(y, sm.add_constant(X), weights=weights)\n",
    "res = wls.fit()\n",
    "print(res.summary())"
   ]
  },
  {
   "cell_type": "code",
   "execution_count": null,
   "metadata": {
    "pycharm": {
     "name": "#%%\n"
    }
   },
   "outputs": [],
   "source": []
  }
 ],
 "metadata": {
  "kernelspec": {
   "display_name": "Python 3",
   "language": "python",
   "name": "python3"
  },
  "language_info": {
   "codemirror_mode": {
    "name": "ipython",
    "version": 2
   },
   "file_extension": ".py",
   "mimetype": "text/x-python",
   "name": "python",
   "nbconvert_exporter": "python",
   "pygments_lexer": "ipython2"
  }
 },
 "nbformat": 4,
 "nbformat_minor": 0
}