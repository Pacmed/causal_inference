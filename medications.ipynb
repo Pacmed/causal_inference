{
 "cells": [
  {
   "cell_type": "code",
   "execution_count": null,
   "metadata": {
    "pycharm": {
     "name": "#%%\n"
    }
   },
   "outputs": [],
   "source": [
    "from numpy import median\n",
    "\n",
    "import os, sys, random\n",
    "\n",
    "import pandas as pd\n",
    "import numpy as np\n",
    "import swifter\n",
    "\n",
    "from datetime import timedelta, date\n",
    "from importlib import reload\n",
    "from data_warehouse_utils.dataloader import DataLoader\n",
    "\n",
    "os.chdir('/home/adam/files/causal_inference')\n",
    "\n",
    "from causal_inference.create_experiment.create_observations import create_observations\n",
    "from causal_inference.create_experiment.create_covariates import add_covariates\n",
    "from causal_inference.create_experiment.create_control import create_control_observations\n",
    "from causal_inference.create_experiment.create_outcome import add_outcome\n",
    "from causal_inference.create_experiment.create_medications import get_medications\n",
    "from causal_inference.create_experiment.utils import add_pf_ratio"
   ]
  },
  {
   "cell_type": "code",
   "execution_count": null,
   "metadata": {
    "pycharm": {
     "name": "#%%\n"
    }
   },
   "outputs": [],
   "source": [
    "reload(sys.modules['causal_inference.create_experiment.utils'])\n",
    "reload(sys.modules['causal_inference.create_experiment.create_treatment'])\n",
    "reload(sys.modules['causal_inference.create_experiment.create_observations'])\n",
    "reload(sys.modules['causal_inference.create_experiment.create_covariates'])\n",
    "reload(sys.modules['causal_inference.create_experiment.create_control'])\n",
    "reload(sys.modules['causal_inference.create_experiment.create_outcome'])\n",
    "reload(sys.modules['causal_inference.create_experiment.create_medications'])\n",
    "\n",
    "\n",
    "from causal_inference.create_experiment.create_observations import create_observations\n",
    "from causal_inference.create_experiment.create_covariates import add_covariates\n",
    "from causal_inference.create_experiment.create_control import create_control_observations\n",
    "from causal_inference.create_experiment.create_outcome import add_outcome\n",
    "from causal_inference.create_experiment.create_medications import get_medications\n",
    "from causal_inference.create_experiment.utils import add_pf_ratio"
   ]
  },
  {
   "cell_type": "code",
   "execution_count": null,
   "metadata": {
    "pycharm": {
     "name": "#%%\n"
    }
   },
   "outputs": [],
   "source": [
    "dl = DataLoader()\n",
    "df = create_observations(dl, 10)"
   ]
  },
  {
   "cell_type": "code",
   "execution_count": null,
   "metadata": {
    "pycharm": {
     "name": "#%%\n"
    }
   },
   "outputs": [],
   "source": [
    "df_1 = get_medications(dl, df)"
   ]
  },
  {
   "cell_type": "code",
   "execution_count": null,
   "metadata": {
    "pycharm": {
     "name": "#%%\n"
    }
   },
   "outputs": [],
   "source": [
    "df_1.info()\n"
   ]
  }
 ],
 "metadata": {
  "kernelspec": {
   "display_name": "Python 3",
   "language": "python",
   "name": "python3"
  },
  "language_info": {
   "codemirror_mode": {
    "name": "ipython",
    "version": 2
   },
   "file_extension": ".py",
   "mimetype": "text/x-python",
   "name": "python",
   "nbconvert_exporter": "python",
   "pygments_lexer": "ipython2"
  }
 },
 "nbformat": 4,
 "nbformat_minor": 0
}
