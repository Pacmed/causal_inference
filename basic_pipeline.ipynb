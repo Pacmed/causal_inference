{
 "cells": [
  {
   "cell_type": "code",
   "execution_count": 1,
   "metadata": {
    "collapsed": true
   },
   "outputs": [
    {
     "ename": "ModuleNotFoundError",
     "evalue": "No module named 'causalml'",
     "output_type": "error",
     "traceback": [
      "\u001B[0;31m---------------------------------------------------------------------------\u001B[0m",
      "\u001B[0;31mModuleNotFoundError\u001B[0m                       Traceback (most recent call last)",
      "\u001B[0;32m<ipython-input-1-63a398058386>\u001B[0m in \u001B[0;36m<module>\u001B[0;34m\u001B[0m\n\u001B[1;32m      5\u001B[0m \u001B[0;32mfrom\u001B[0m \u001B[0msklearn\u001B[0m\u001B[0;34m.\u001B[0m\u001B[0mmodel_selection\u001B[0m \u001B[0;32mimport\u001B[0m \u001B[0mtrain_test_split\u001B[0m\u001B[0;34m\u001B[0m\u001B[0;34m\u001B[0m\u001B[0m\n\u001B[1;32m      6\u001B[0m \u001B[0;32mfrom\u001B[0m \u001B[0msklearn\u001B[0m\u001B[0;34m.\u001B[0m\u001B[0mpreprocessing\u001B[0m \u001B[0;32mimport\u001B[0m \u001B[0mStandardScaler\u001B[0m\u001B[0;34m\u001B[0m\u001B[0;34m\u001B[0m\u001B[0m\n\u001B[0;32m----> 7\u001B[0;31m \u001B[0;32mfrom\u001B[0m \u001B[0mcausalml\u001B[0m\u001B[0;34m.\u001B[0m\u001B[0mdataset\u001B[0m \u001B[0;32mimport\u001B[0m \u001B[0msynthetic_data\u001B[0m\u001B[0;34m\u001B[0m\u001B[0;34m\u001B[0m\u001B[0m\n\u001B[0m\u001B[1;32m      8\u001B[0m \u001B[0;32mfrom\u001B[0m \u001B[0msklearn\u001B[0m\u001B[0;34m.\u001B[0m\u001B[0mmodel_selection\u001B[0m \u001B[0;32mimport\u001B[0m \u001B[0mKFold\u001B[0m\u001B[0;34m\u001B[0m\u001B[0;34m\u001B[0m\u001B[0m\n\u001B[1;32m      9\u001B[0m \u001B[0;34m\u001B[0m\u001B[0m\n",
      "\u001B[0;31mModuleNotFoundError\u001B[0m: No module named 'causalml'"
     ]
    }
   ],
   "source": [
    "import numpy as np\n",
    "import pandas as pd\n",
    "\n",
    "from sklearn.pipeline import Pipeline\n",
    "from sklearn.model_selection import train_test_split\n",
    "from sklearn.preprocessing import StandardScaler\n",
    "from causalml.dataset import synthetic_data\n",
    "from sklearn.model_selection import KFold"
   ]
  },
  {
   "cell_type": "code",
   "execution_count": 2,
   "outputs": [
    {
     "ename": "ModuleNotFoundError",
     "evalue": "No module named 'causal_inference'",
     "output_type": "error",
     "traceback": [
      "\u001B[0;31m---------------------------------------------------------------------------\u001B[0m",
      "\u001B[0;31mModuleNotFoundError\u001B[0m                       Traceback (most recent call last)",
      "\u001B[0;32m<ipython-input-2-05ea567448ed>\u001B[0m in \u001B[0;36m<module>\u001B[0;34m\u001B[0m\n\u001B[1;32m      1\u001B[0m \u001B[0;32mfrom\u001B[0m \u001B[0mimportlib\u001B[0m \u001B[0;32mimport\u001B[0m \u001B[0mreload\u001B[0m\u001B[0;34m\u001B[0m\u001B[0;34m\u001B[0m\u001B[0m\n\u001B[0;32m----> 2\u001B[0;31m \u001B[0;32mimport\u001B[0m \u001B[0mcausal_inference\u001B[0m\u001B[0;34m.\u001B[0m\u001B[0mpropensity\u001B[0m \u001B[0;32mas\u001B[0m \u001B[0mcausal\u001B[0m\u001B[0;34m\u001B[0m\u001B[0;34m\u001B[0m\u001B[0m\n\u001B[0m\u001B[1;32m      3\u001B[0m \u001B[0;34m\u001B[0m\u001B[0m\n\u001B[1;32m      4\u001B[0m \u001B[0mreload\u001B[0m\u001B[0;34m(\u001B[0m\u001B[0mcausal\u001B[0m\u001B[0;34m)\u001B[0m\u001B[0;34m\u001B[0m\u001B[0;34m\u001B[0m\u001B[0m\n\u001B[1;32m      5\u001B[0m \u001B[0;34m\u001B[0m\u001B[0m\n",
      "\u001B[0;31mModuleNotFoundError\u001B[0m: No module named 'causal_inference'"
     ]
    }
   ],
   "source": [
    "from importlib import reload\n",
    "import causal_inference.propensity as causal\n",
    "\n",
    "reload(causal)"
   ],
   "metadata": {
    "collapsed": false,
    "pycharm": {
     "name": "#%%\n"
    }
   }
  },
  {
   "cell_type": "code",
   "execution_count": 4,
   "outputs": [],
   "source": [
    "def calculate_ate(ite):\n",
    "    return ite.mean().round(2), ite.std().round(2)\n",
    "\n",
    "def calculate_propensity(propensity):\n",
    "    return propensity.mean().round(2), propensity.std().round(2)"
   ],
   "metadata": {
    "collapsed": false,
    "pycharm": {
     "name": "#%%\n"
    }
   }
  },
  {
   "cell_type": "code",
   "execution_count": 5,
   "outputs": [
    {
     "name": "stdout",
     "output_type": "stream",
     "text": [
      "The true ATE of the generated data is 0.5 with standard deviation equal to 0.2 .\n",
      "The average propensity score value is equal to 0.52 with standard deviation equal to 0.3 .\n"
     ]
    }
   ],
   "source": [
    "\n",
    "y, X, treatment, true_ite, expected_outcome, true_propensity = synthetic_data(mode=1,\n",
    "                                                                              n=1000,\n",
    "                                                                              p=10,\n",
    "                                                                              sigma=2)\n",
    "\n",
    "# As the mean propensity doesn't say lot it would be nice to plot the true propensity to see the overlap between\n",
    "# control and treated.\n",
    "# It should be done like: http://ethen8181.github.io/machine-learning/ab_tests/causal_inference/matching.html\n",
    "\n",
    "print(\"The true ATE of the generated data is\",\n",
    "      calculate_ate(true_ite)[0],\n",
    "      \"with standard deviation equal to\",\n",
    "      calculate_ate(true_ite)[1],\n",
    "      \".\")\n",
    "\n",
    "print(\"The average propensity score value is equal to\",\n",
    "      calculate_propensity(true_propensity)[0],\n",
    "      \"with standard deviation equal to\",\n",
    "      calculate_propensity(true_propensity)[1],\n",
    "      \".\")\n"
   ],
   "metadata": {
    "collapsed": false,
    "pycharm": {
     "name": "#%%\n"
    }
   }
  },
  {
   "cell_type": "code",
   "execution_count": 40,
   "outputs": [
    {
     "data": {
      "text/plain": "         x0        x1        x2        x3        x4        x5        x6  \\\n0  0.359627  0.446570  0.411718  0.649406  0.639417  0.382112  0.064756   \n1  0.662416  0.741412  0.726182  0.172345  0.306480  0.789330  0.207179   \n2  0.278708  0.886643  0.231053  0.710887  0.979224  0.238260  0.227481   \n3  0.028814  0.650119  0.676624  0.108490  0.553162  0.215532  0.515815   \n4  0.009053  0.686230  0.339981  0.380432  0.320762  0.841956  0.492759   \n\n         x7        x8        x9  treatment   outcome  \n0  0.707055  0.672825  0.838403          0 -0.019813  \n1  0.417174  0.594880  0.462731          1  2.903387  \n2  0.816783  0.554203  0.249234          0 -0.848033  \n3  0.595005  0.132184  0.857128          0  1.580476  \n4  0.939890  0.030171  0.664879          1  1.744999  ",
      "text/html": "<div>\n<style scoped>\n    .dataframe tbody tr th:only-of-type {\n        vertical-align: middle;\n    }\n\n    .dataframe tbody tr th {\n        vertical-align: top;\n    }\n\n    .dataframe thead th {\n        text-align: right;\n    }\n</style>\n<table border=\"1\" class=\"dataframe\">\n  <thead>\n    <tr style=\"text-align: right;\">\n      <th></th>\n      <th>x0</th>\n      <th>x1</th>\n      <th>x2</th>\n      <th>x3</th>\n      <th>x4</th>\n      <th>x5</th>\n      <th>x6</th>\n      <th>x7</th>\n      <th>x8</th>\n      <th>x9</th>\n      <th>treatment</th>\n      <th>outcome</th>\n    </tr>\n  </thead>\n  <tbody>\n    <tr>\n      <th>0</th>\n      <td>0.359627</td>\n      <td>0.446570</td>\n      <td>0.411718</td>\n      <td>0.649406</td>\n      <td>0.639417</td>\n      <td>0.382112</td>\n      <td>0.064756</td>\n      <td>0.707055</td>\n      <td>0.672825</td>\n      <td>0.838403</td>\n      <td>0</td>\n      <td>-0.019813</td>\n    </tr>\n    <tr>\n      <th>1</th>\n      <td>0.662416</td>\n      <td>0.741412</td>\n      <td>0.726182</td>\n      <td>0.172345</td>\n      <td>0.306480</td>\n      <td>0.789330</td>\n      <td>0.207179</td>\n      <td>0.417174</td>\n      <td>0.594880</td>\n      <td>0.462731</td>\n      <td>1</td>\n      <td>2.903387</td>\n    </tr>\n    <tr>\n      <th>2</th>\n      <td>0.278708</td>\n      <td>0.886643</td>\n      <td>0.231053</td>\n      <td>0.710887</td>\n      <td>0.979224</td>\n      <td>0.238260</td>\n      <td>0.227481</td>\n      <td>0.816783</td>\n      <td>0.554203</td>\n      <td>0.249234</td>\n      <td>0</td>\n      <td>-0.848033</td>\n    </tr>\n    <tr>\n      <th>3</th>\n      <td>0.028814</td>\n      <td>0.650119</td>\n      <td>0.676624</td>\n      <td>0.108490</td>\n      <td>0.553162</td>\n      <td>0.215532</td>\n      <td>0.515815</td>\n      <td>0.595005</td>\n      <td>0.132184</td>\n      <td>0.857128</td>\n      <td>0</td>\n      <td>1.580476</td>\n    </tr>\n    <tr>\n      <th>4</th>\n      <td>0.009053</td>\n      <td>0.686230</td>\n      <td>0.339981</td>\n      <td>0.380432</td>\n      <td>0.320762</td>\n      <td>0.841956</td>\n      <td>0.492759</td>\n      <td>0.939890</td>\n      <td>0.030171</td>\n      <td>0.664879</td>\n      <td>1</td>\n      <td>1.744999</td>\n    </tr>\n  </tbody>\n</table>\n</div>"
     },
     "execution_count": 40,
     "metadata": {},
     "output_type": "execute_result"
    }
   ],
   "source": [
    "# Make a df from it\n",
    "\n",
    "df = pd.DataFrame(X, columns = ['x' + str(i) for i in range(X.shape[1])])\n",
    "df['treatment'] = treatment\n",
    "df['outcome'] = y\n",
    "\n",
    "df.head()\n"
   ],
   "metadata": {
    "collapsed": false,
    "pycharm": {
     "name": "#%%\n"
    }
   }
  },
  {
   "cell_type": "code",
   "execution_count": 42,
   "outputs": [],
   "source": [
    "from __future__ import division\n",
    "\n",
    "import numpy as np\n",
    "import pandas as pd\n",
    "import matplotlib.pyplot as plt\n",
    "import seaborn as sns\n",
    "\n",
    "sns.set_style(\"whitegrid\")\n",
    "sns.set_palette(\"colorblind\")\n",
    "\n",
    "%matplotlib inline\n"
   ],
   "metadata": {
    "collapsed": false,
    "pycharm": {
     "name": "#%%\n"
    }
   }
  },
  {
   "cell_type": "code",
   "execution_count": 45,
   "outputs": [
    {
     "data": {
      "text/plain": "<AxesSubplot:xlabel='outcome', ylabel='Density'>"
     },
     "execution_count": 45,
     "metadata": {},
     "output_type": "execute_result"
    },
    {
     "data": {
      "text/plain": "<Figure size 432x288 with 1 Axes>",
      "image/png": "[encoded data removed]"
     },
     "metadata": {
      "needs_background": "light"
     },
     "output_type": "display_data"
    }
   ],
   "source": [
    "\n",
    "sns.kdeplot(df[df.treatment == 0]['outcome'], label=\"untreated\")\n",
    "sns.kdeplot(df[df.treatment == 1]['outcome'], label=\"untreated\")"
   ],
   "metadata": {
    "collapsed": false,
    "pycharm": {
     "name": "#%%\n"
    }
   }
  },
  {
   "cell_type": "code",
   "execution_count": 50,
   "outputs": [
    {
     "name": "stdout",
     "output_type": "stream",
     "text": [
      "The true ATE of the generated data is equal to 0.5 .\n",
      "Estimated ATE is equal to 0.97 .\n"
     ]
    }
   ],
   "source": [
    "print(\"The true ATE of the generated data is equal to\",\n",
    "      calculate_ate(true_ite)[0],\".\")\n",
    "print(\"Estimated ATE is equal to\",\n",
    "      calculate_ate(df[df.treatment == 1]['outcome'])[0] - calculate_ate(df[df.treatment == 0]['outcome'])[0],\".\")\n"
   ],
   "metadata": {
    "collapsed": false,
    "pycharm": {
     "name": "#%%\n"
    }
   }
  },
  {
   "cell_type": "code",
   "execution_count": 73,
   "outputs": [],
   "source": [
    "from scipy.stats import wasserstein_distance\n",
    "from scipy import stats\n",
    "\n",
    "def calc_ndiff(covariate_control, covariate_treated):\n",
    "    m_c = covariate_control.mean()\n",
    "    m_t = covariate_treated.mean()\n",
    "    std_c = covariate_control.std()\n",
    "    std_t = covariate_treated.std()\n",
    "    ndiff = (m_t-m_c) / np.sqrt((std_c**2+std_t**2)/2)\n",
    "    return ndiff"
   ],
   "metadata": {
    "collapsed": false,
    "pycharm": {
     "name": "#%%\n"
    }
   }
  },
  {
   "cell_type": "code",
   "execution_count": null,
   "outputs": [],
   "source": [
    "df_summary = pd.DataFrame(index = df.iloc[:,0:X.shape[1]].columns.to_list())"
   ],
   "metadata": {
    "collapsed": false,
    "pycharm": {
     "name": "#%%\n"
    }
   }
  },
  {
   "cell_type": "code",
   "execution_count": 90,
   "outputs": [
    {
     "name": "stdout",
     "output_type": "stream",
     "text": [
      "0.1855265068932163\n",
      "1.1761494485390301e-24\n",
      "0.22090652730320823\n",
      "7.130816475994311e-30\n",
      "0.02028992444022526\n",
      "0.4941477600215872\n",
      "0.01869125043627079\n",
      "0.16577477732698975\n",
      "0.019758143174014364\n",
      "0.3657831498468527\n",
      "0.017070076455082468\n",
      "0.7095358643224496\n",
      "0.01593028429128746\n",
      "0.6353165825427982\n",
      "0.02888277238889737\n",
      "0.27954791900018694\n",
      "0.013197820776808289\n",
      "0.8053964166070375\n",
      "0.04308167291423168\n",
      "0.031059804471000985\n"
     ]
    }
   ],
   "source": [
    "for i in range(X.shape[1]):\n",
    "    covariate_control = df[df.treatment == 0].iloc[:,i]\n",
    "    covariate_treated = df[df.treatment == 1].iloc[:,i]\n",
    "    df_summary.iloc[i,:]['norm-diff'] = calc_ndiff(covariate_control, covariate_treated)\n",
    "    print(wasserstein_distance(covariate_control,covariate_treated))\n",
    "    # If p-value is low then we can reject the null hypothesis that\n",
    "    # the distributions of the two samples are the same\n",
    "    print(stats.ks_2samp(covariate_control,covariate_treated)[1])"
   ],
   "metadata": {
    "collapsed": false,
    "pycharm": {
     "name": "#%%\n"
    }
   }
  },
  {
   "cell_type": "code",
   "execution_count": 126,
   "outputs": [],
   "source": [
    "# Similiar way to do the below, probably better. Check this. Goal Gio: prepare Table 1 on COVID data.\n",
    "\n",
    "# http://ethen8181.github.io/machine-learning/ab_tests/causal_inference/matching.html"
   ],
   "metadata": {
    "collapsed": false,
    "pycharm": {
     "name": "#%%\n"
    }
   }
  },
  {
   "cell_type": "code",
   "execution_count": 130,
   "outputs": [
    {
     "data": {
      "text/plain": "    norm_dist  w_dist  ks_test\nx0       0.69    0.19    0.000\nx1       0.82    0.22    0.000\nx2      -0.07    0.02    0.494\nx3       0.06    0.02    0.166\nx4      -0.05    0.02    0.366\nx5      -0.05    0.02    0.710\nx6       0.01    0.02    0.635\nx7      -0.09    0.03    0.280\nx8       0.04    0.01    0.805\nx9       0.15    0.04    0.031",
      "text/html": "<div>\n<style scoped>\n    .dataframe tbody tr th:only-of-type {\n        vertical-align: middle;\n    }\n\n    .dataframe tbody tr th {\n        vertical-align: top;\n    }\n\n    .dataframe thead th {\n        text-align: right;\n    }\n</style>\n<table border=\"1\" class=\"dataframe\">\n  <thead>\n    <tr style=\"text-align: right;\">\n      <th></th>\n      <th>norm_dist</th>\n      <th>w_dist</th>\n      <th>ks_test</th>\n    </tr>\n  </thead>\n  <tbody>\n    <tr>\n      <th>x0</th>\n      <td>0.69</td>\n      <td>0.19</td>\n      <td>0.000</td>\n    </tr>\n    <tr>\n      <th>x1</th>\n      <td>0.82</td>\n      <td>0.22</td>\n      <td>0.000</td>\n    </tr>\n    <tr>\n      <th>x2</th>\n      <td>-0.07</td>\n      <td>0.02</td>\n      <td>0.494</td>\n    </tr>\n    <tr>\n      <th>x3</th>\n      <td>0.06</td>\n      <td>0.02</td>\n      <td>0.166</td>\n    </tr>\n    <tr>\n      <th>x4</th>\n      <td>-0.05</td>\n      <td>0.02</td>\n      <td>0.366</td>\n    </tr>\n    <tr>\n      <th>x5</th>\n      <td>-0.05</td>\n      <td>0.02</td>\n      <td>0.710</td>\n    </tr>\n    <tr>\n      <th>x6</th>\n      <td>0.01</td>\n      <td>0.02</td>\n      <td>0.635</td>\n    </tr>\n    <tr>\n      <th>x7</th>\n      <td>-0.09</td>\n      <td>0.03</td>\n      <td>0.280</td>\n    </tr>\n    <tr>\n      <th>x8</th>\n      <td>0.04</td>\n      <td>0.01</td>\n      <td>0.805</td>\n    </tr>\n    <tr>\n      <th>x9</th>\n      <td>0.15</td>\n      <td>0.04</td>\n      <td>0.031</td>\n    </tr>\n  </tbody>\n</table>\n</div>"
     },
     "execution_count": 130,
     "metadata": {},
     "output_type": "execute_result"
    }
   ],
   "source": [
    "norm_diff, w_dist, ks_test = [], [], []\n",
    "\n",
    "# make it an iteration over the methods\n",
    "# maybe it should be a more pythonic way to do it but less clear?\n",
    "\n",
    "for index, row in df_summary.iterrows():\n",
    "    idx = int(index[1])\n",
    "    covariate_control = df[df.treatment == 0].iloc[:,idx]\n",
    "    covariate_treated = df[df.treatment == 1].iloc[:,idx]\n",
    "    norm_diff.append(calc_ndiff(covariate_control, covariate_treated).round(2))\n",
    "    w_dist.append(wasserstein_distance(covariate_control,covariate_treated).round(2))\n",
    "    ks_test.append(stats.ks_2samp(covariate_control,covariate_treated)[1].round(3))\n",
    "\n",
    "df_summary['norm_dist'] = norm_diff\n",
    "df_summary['w_dist'] = w_dist\n",
    "df_summary['ks_test'] = ks_test\n",
    "df_summary"
   ],
   "metadata": {
    "collapsed": false,
    "pycharm": {
     "name": "#%%\n"
    }
   }
  },
  {
   "cell_type": "code",
   "execution_count": null,
   "outputs": [],
   "source": [
    "# can we the same tests on a weighted sample?"
   ],
   "metadata": {
    "collapsed": false,
    "pycharm": {
     "name": "#%%\n"
    }
   }
  },
  {
   "cell_type": "code",
   "execution_count": null,
   "outputs": [],
   "source": [],
   "metadata": {
    "collapsed": false,
    "pycharm": {
     "name": "#%%\n"
    }
   }
  },
  {
   "cell_type": "code",
   "execution_count": 132,
   "outputs": [
    {
     "name": "stdout",
     "output_type": "stream",
     "text": [
      "treatment count: (493,)\n",
      "control count: (507,)\n"
     ]
    }
   ],
   "source": [
    "#First analyze the propensity\n",
    "\n",
    "df['p_score'] = true_propensity\n",
    "p_score_control = df[df.treatment == 0]['p_score']\n",
    "p_score_treated = df[df.treatment == 1]['p_score']\n",
    "print('treatment count:', p_score_control.shape)\n",
    "print('control count:', p_score_treated.shape)"
   ],
   "metadata": {
    "collapsed": false,
    "pycharm": {
     "name": "#%%\n"
    }
   }
  },
  {
   "cell_type": "code",
   "execution_count": 135,
   "outputs": [],
   "source": [
    "# Kind of implements matching\n",
    "\n",
    "# http://ethen8181.github.io/machine-learning/ab_tests/causal_inference/matching.html"
   ],
   "metadata": {
    "collapsed": false,
    "pycharm": {
     "name": "#%%\n"
    }
   }
  },
  {
   "cell_type": "code",
   "execution_count": null,
   "outputs": [],
   "source": [
    "# statistical tests http://benalexkeen.com/comparative-statistics-in-python-using-scipy/"
   ],
   "metadata": {
    "collapsed": false,
    "pycharm": {
     "name": "#%%\n"
    }
   }
  },
  {
   "cell_type": "code",
   "execution_count": 133,
   "outputs": [
    {
     "data": {
      "text/plain": "<Figure size 576x432 with 1 Axes>",
      "image/png": "[encoded data removed]"
     },
     "metadata": {
      "needs_background": "light"
     },
     "output_type": "display_data"
    }
   ],
   "source": [
    "plt.rcParams['figure.figsize'] = 8, 6\n",
    "plt.rcParams['font.size'] = 12\n",
    "\n",
    "sns.distplot(p_score_control, label='control')\n",
    "sns.distplot(p_score_treated, label='treated')\n",
    "plt.xlim(0, 1)\n",
    "plt.title('Propensity Score Distribution of Control vs Treatment')\n",
    "plt.ylabel('Density')\n",
    "plt.xlabel('Scores')\n",
    "plt.legend()\n",
    "plt.tight_layout()\n",
    "plt.show()"
   ],
   "metadata": {
    "collapsed": false,
    "pycharm": {
     "name": "#%%\n"
    }
   }
  },
  {
   "cell_type": "code",
   "execution_count": 43,
   "outputs": [],
   "source": [
    "X_new = np.hstack((X, treatment.reshape(len(treatment), 1)))\n",
    "\n",
    "# Break off validation set from training data\n",
    "X_train, X_valid, y_train, y_valid = train_test_split(X_new, y,\n",
    "                                                                train_size=0.8, test_size=0.2,\n",
    "                                                                random_state=0)\n"
   ],
   "metadata": {
    "collapsed": false,
    "pycharm": {
     "name": "#%%\n"
    }
   }
  },
  {
   "cell_type": "code",
   "execution_count": 7,
   "outputs": [],
   "source": [
    "from sklearn.linear_model import LinearRegression\n",
    "\n",
    "\n",
    "model = LinearRegression()\n",
    "\n"
   ],
   "metadata": {
    "collapsed": false,
    "pycharm": {
     "name": "#%%\n"
    }
   }
  },
  {
   "cell_type": "code",
   "execution_count": 8,
   "outputs": [],
   "source": [
    "my_pipeline = Pipeline([\n",
    "    ('scale', StandardScaler()),\n",
    "    ('estimate_propensity', causal.PropensityEstimator()),\n",
    "    ('model', model)\n",
    "])"
   ],
   "metadata": {
    "collapsed": false,
    "pycharm": {
     "name": "#%%\n"
    }
   }
  },
  {
   "cell_type": "code",
   "execution_count": 10,
   "outputs": [
    {
     "name": "stdout",
     "output_type": "stream",
     "text": [
      "The propensity score was estimated using a logistic regression model with accuracy 0.745\n",
      "The balance of the covariate distribution is ?\n",
      "The propensity score was estimated using a logistic regression model with accuracy 0.76\n",
      "The balance of the covariate distribution is ?\n",
      "MSE: 4.006032626557897\n"
     ]
    }
   ],
   "source": [
    "from sklearn.metrics import mean_squared_error\n",
    "\n",
    "# Preprocessing of training data, fit model\n",
    "my_pipeline.fit(X_train, y_train)\n",
    "\n",
    "# Preprocessing of validation data, get predictions\n",
    "preds = my_pipeline.predict(X_valid)\n",
    "\n",
    "# Evaluate the model\n",
    "score = mean_squared_error(y_valid, preds)\n",
    "print('MSE:', score)"
   ],
   "metadata": {
    "collapsed": false,
    "pycharm": {
     "name": "#%%\n"
    }
   }
  },
  {
   "cell_type": "code",
   "execution_count": 21,
   "outputs": [
    {
     "name": "stdout",
     "output_type": "stream",
     "text": [
      "MSE: -4.367 (0.573)\n"
     ]
    }
   ],
   "source": [
    "from sklearn.model_selection import StratifiedKFold\n",
    "from sklearn.model_selection import cross_val_score\n",
    "# define the model cross-validation configuration\n",
    "\n",
    "cv = KFold(n_splits=10)\n",
    "\n",
    "# evaluate the pipeline using cross validation and calculate MAE\n",
    "scores = cross_val_score(my_pipeline,\n",
    "                         X_train, y_train,\n",
    "                         scoring='neg_mean_squared_error',\n",
    "                         cv=cv, n_jobs=-1)\n",
    "\n",
    "# convert MAE scores to positive values\n",
    "scores\n",
    "# summarize the model performance\n",
    "print('MSE: %.3f (%.3f)' % (np.mean(scores), np.std(scores)))"
   ],
   "metadata": {
    "collapsed": false,
    "pycharm": {
     "name": "#%%\n"
    }
   }
  },
  {
   "cell_type": "code",
   "execution_count": 23,
   "outputs": [
    {
     "ename": "ValueError",
     "evalue": "For evaluating multiple scores, use sklearn.model_selection.cross_validate instead. ['neg_mean_squared_error', 'r2'] was passed.",
     "output_type": "error",
     "traceback": [
      "\u001B[0;31m---------------------------------------------------------------------------\u001B[0m",
      "\u001B[0;31mValueError\u001B[0m                                Traceback (most recent call last)",
      "\u001B[0;32m<ipython-input-23-64db0c3f3332>\u001B[0m in \u001B[0;36m<module>\u001B[0;34m()\u001B[0m\n\u001B[1;32m      4\u001B[0m \u001B[0;34m\u001B[0m\u001B[0m\n\u001B[1;32m      5\u001B[0m scores = cross_val_score(my_pipeline, X_new, y, cv=5,\n\u001B[0;32m----> 6\u001B[0;31m                          scoring = scoring)\n\u001B[0m\u001B[1;32m      7\u001B[0m \u001B[0mscores\u001B[0m\u001B[0;34m\u001B[0m\u001B[0;34m\u001B[0m\u001B[0m\n\u001B[1;32m      8\u001B[0m \u001B[0;34m\u001B[0m\u001B[0m\n",
      "\u001B[0;32m/home/adam/miniconda3/envs/pacmed/lib/python3.7/site-packages/sklearn/utils/validation.py\u001B[0m in \u001B[0;36minner_f\u001B[0;34m(*args, **kwargs)\u001B[0m\n\u001B[1;32m     70\u001B[0m                           FutureWarning)\n\u001B[1;32m     71\u001B[0m         \u001B[0mkwargs\u001B[0m\u001B[0;34m.\u001B[0m\u001B[0mupdate\u001B[0m\u001B[0;34m(\u001B[0m\u001B[0;34m{\u001B[0m\u001B[0mk\u001B[0m\u001B[0;34m:\u001B[0m \u001B[0marg\u001B[0m \u001B[0;32mfor\u001B[0m \u001B[0mk\u001B[0m\u001B[0;34m,\u001B[0m \u001B[0marg\u001B[0m \u001B[0;32min\u001B[0m \u001B[0mzip\u001B[0m\u001B[0;34m(\u001B[0m\u001B[0msig\u001B[0m\u001B[0;34m.\u001B[0m\u001B[0mparameters\u001B[0m\u001B[0;34m,\u001B[0m \u001B[0margs\u001B[0m\u001B[0;34m)\u001B[0m\u001B[0;34m}\u001B[0m\u001B[0;34m)\u001B[0m\u001B[0;34m\u001B[0m\u001B[0;34m\u001B[0m\u001B[0m\n\u001B[0;32m---> 72\u001B[0;31m         \u001B[0;32mreturn\u001B[0m \u001B[0mf\u001B[0m\u001B[0;34m(\u001B[0m\u001B[0;34m**\u001B[0m\u001B[0mkwargs\u001B[0m\u001B[0;34m)\u001B[0m\u001B[0;34m\u001B[0m\u001B[0;34m\u001B[0m\u001B[0m\n\u001B[0m\u001B[1;32m     73\u001B[0m     \u001B[0;32mreturn\u001B[0m \u001B[0minner_f\u001B[0m\u001B[0;34m\u001B[0m\u001B[0;34m\u001B[0m\u001B[0m\n\u001B[1;32m     74\u001B[0m \u001B[0;34m\u001B[0m\u001B[0m\n",
      "\u001B[0;32m/home/adam/miniconda3/envs/pacmed/lib/python3.7/site-packages/sklearn/model_selection/_validation.py\u001B[0m in \u001B[0;36mcross_val_score\u001B[0;34m(estimator, X, y, groups, scoring, cv, n_jobs, verbose, fit_params, pre_dispatch, error_score)\u001B[0m\n\u001B[1;32m    397\u001B[0m     \"\"\"\n\u001B[1;32m    398\u001B[0m     \u001B[0;31m# To ensure multimetric format is not supported\u001B[0m\u001B[0;34m\u001B[0m\u001B[0;34m\u001B[0m\u001B[0;34m\u001B[0m\u001B[0m\n\u001B[0;32m--> 399\u001B[0;31m     \u001B[0mscorer\u001B[0m \u001B[0;34m=\u001B[0m \u001B[0mcheck_scoring\u001B[0m\u001B[0;34m(\u001B[0m\u001B[0mestimator\u001B[0m\u001B[0;34m,\u001B[0m \u001B[0mscoring\u001B[0m\u001B[0;34m=\u001B[0m\u001B[0mscoring\u001B[0m\u001B[0;34m)\u001B[0m\u001B[0;34m\u001B[0m\u001B[0;34m\u001B[0m\u001B[0m\n\u001B[0m\u001B[1;32m    400\u001B[0m \u001B[0;34m\u001B[0m\u001B[0m\n\u001B[1;32m    401\u001B[0m     cv_results = cross_validate(estimator=estimator, X=X, y=y, groups=groups,\n",
      "\u001B[0;32m/home/adam/miniconda3/envs/pacmed/lib/python3.7/site-packages/sklearn/utils/validation.py\u001B[0m in \u001B[0;36minner_f\u001B[0;34m(*args, **kwargs)\u001B[0m\n\u001B[1;32m     70\u001B[0m                           FutureWarning)\n\u001B[1;32m     71\u001B[0m         \u001B[0mkwargs\u001B[0m\u001B[0;34m.\u001B[0m\u001B[0mupdate\u001B[0m\u001B[0;34m(\u001B[0m\u001B[0;34m{\u001B[0m\u001B[0mk\u001B[0m\u001B[0;34m:\u001B[0m \u001B[0marg\u001B[0m \u001B[0;32mfor\u001B[0m \u001B[0mk\u001B[0m\u001B[0;34m,\u001B[0m \u001B[0marg\u001B[0m \u001B[0;32min\u001B[0m \u001B[0mzip\u001B[0m\u001B[0;34m(\u001B[0m\u001B[0msig\u001B[0m\u001B[0;34m.\u001B[0m\u001B[0mparameters\u001B[0m\u001B[0;34m,\u001B[0m \u001B[0margs\u001B[0m\u001B[0;34m)\u001B[0m\u001B[0;34m}\u001B[0m\u001B[0;34m)\u001B[0m\u001B[0;34m\u001B[0m\u001B[0;34m\u001B[0m\u001B[0m\n\u001B[0;32m---> 72\u001B[0;31m         \u001B[0;32mreturn\u001B[0m \u001B[0mf\u001B[0m\u001B[0;34m(\u001B[0m\u001B[0;34m**\u001B[0m\u001B[0mkwargs\u001B[0m\u001B[0;34m)\u001B[0m\u001B[0;34m\u001B[0m\u001B[0;34m\u001B[0m\u001B[0m\n\u001B[0m\u001B[1;32m     73\u001B[0m     \u001B[0;32mreturn\u001B[0m \u001B[0minner_f\u001B[0m\u001B[0;34m\u001B[0m\u001B[0;34m\u001B[0m\u001B[0m\n\u001B[1;32m     74\u001B[0m \u001B[0;34m\u001B[0m\u001B[0m\n",
      "\u001B[0;32m/home/adam/miniconda3/envs/pacmed/lib/python3.7/site-packages/sklearn/metrics/_scorer.py\u001B[0m in \u001B[0;36mcheck_scoring\u001B[0;34m(estimator, scoring, allow_none)\u001B[0m\n\u001B[1;32m    430\u001B[0m         raise ValueError(\"For evaluating multiple scores, use \"\n\u001B[1;32m    431\u001B[0m                          \u001B[0;34m\"sklearn.model_selection.cross_validate instead. \"\u001B[0m\u001B[0;34m\u001B[0m\u001B[0;34m\u001B[0m\u001B[0m\n\u001B[0;32m--> 432\u001B[0;31m                          \"{0} was passed.\".format(scoring))\n\u001B[0m\u001B[1;32m    433\u001B[0m     \u001B[0;32melse\u001B[0m\u001B[0;34m:\u001B[0m\u001B[0;34m\u001B[0m\u001B[0;34m\u001B[0m\u001B[0m\n\u001B[1;32m    434\u001B[0m         raise ValueError(\"scoring value should either be a callable, string or\"\n",
      "\u001B[0;31mValueError\u001B[0m: For evaluating multiple scores, use sklearn.model_selection.cross_validate instead. ['neg_mean_squared_error', 'r2'] was passed."
     ]
    }
   ],
   "source": [
    "from sklearn.model_selection import cross_val_score\n",
    "\n",
    "\n",
    "scores = cross_val_score(my_pipeline, X_new, y, cv=5,\n",
    "                         scoring = 'neg_mean_squared_error')\n",
    "scores"
   ],
   "metadata": {
    "collapsed": false,
    "pycharm": {
     "name": "#%%\n"
    }
   }
  },
  {
   "cell_type": "code",
   "execution_count": 18,
   "outputs": [
    {
     "name": "stdout",
     "output_type": "stream",
     "text": [
      "Accuracy: -4.22 (+/- 0.86)\n"
     ]
    }
   ],
   "source": [
    "print(\"Accuracy: %0.2f (+/- %0.2f)\" % (scores.mean(), scores.std() * 2))\n",
    "\n"
   ],
   "metadata": {
    "collapsed": false,
    "pycharm": {
     "name": "#%%\n"
    }
   }
  },
  {
   "cell_type": "code",
   "execution_count": 26,
   "outputs": [
    {
     "data": {
      "text/plain": "['fit_time', 'score_time', 'test_neg_mean_squared_error', 'test_r2']"
     },
     "execution_count": 26,
     "metadata": {},
     "output_type": "execute_result"
    }
   ],
   "source": [
    "from sklearn.model_selection import cross_validate\n",
    "from sklearn.metrics import recall_score\n",
    "\n",
    "scoring = ['neg_mean_squared_error', 'r2']\n",
    "\n",
    "scores = cross_validate(model, X_new, y, scoring=scoring)\n",
    "\n",
    "sorted(scores.keys())"
   ],
   "metadata": {
    "collapsed": false,
    "pycharm": {
     "name": "#%%\n"
    }
   }
  },
  {
   "cell_type": "code",
   "execution_count": 27,
   "outputs": [
    {
     "data": {
      "text/plain": "array([0.00266266, 0.0013814 , 0.00135016, 0.00140071, 0.00277019])"
     },
     "execution_count": 27,
     "metadata": {},
     "output_type": "execute_result"
    }
   ],
   "source": [
    "scores['fit_time']"
   ],
   "metadata": {
    "collapsed": false,
    "pycharm": {
     "name": "#%%\n"
    }
   }
  },
  {
   "cell_type": "code",
   "execution_count": null,
   "outputs": [],
   "source": [
    "from sklearn.metrics import make_scorer\n",
    "scoring = {'prec_macro': 'precision_macro',\n",
    "           'rec_macro': make_scorer(recall_score, average='macro')}\n",
    "\n",
    "scores = cross_validate(model, X, y, scoring=scoring,\n",
    "                        cv=5, return_train_score=True)\n",
    "\n",
    "sorted(scores.keys())\n",
    "scores['train_rec_macro']"
   ],
   "metadata": {
    "collapsed": false,
    "pycharm": {
     "name": "#%%\n"
    }
   }
  },
  {
   "cell_type": "code",
   "execution_count": 13,
   "outputs": [],
   "source": [
    "# What is the godness of fit metric?\n",
    "from sklearn.neighbors import NearestNeighbors\n",
    "\n",
    "nbrs = NearestNeighbors(n_neighbors=2, algorithm='ball_tree').fit(X)\n",
    "distances, indices = nbrs.kneighbors(X)"
   ],
   "metadata": {
    "collapsed": false,
    "pycharm": {
     "name": "#%%\n"
    }
   }
  },
  {
   "cell_type": "code",
   "execution_count": 15,
   "outputs": [
    {
     "data": {
      "text/plain": "array([0.        , 0.43294188])"
     },
     "execution_count": 15,
     "metadata": {},
     "output_type": "execute_result"
    }
   ],
   "source": [
    "distances[1]"
   ],
   "metadata": {
    "collapsed": false,
    "pycharm": {
     "name": "#%%\n"
    }
   }
  },
  {
   "cell_type": "code",
   "execution_count": 17,
   "outputs": [
    {
     "data": {
      "text/plain": "array([731,   1])"
     },
     "execution_count": 17,
     "metadata": {},
     "output_type": "execute_result"
    }
   ],
   "source": [
    "indices[731]"
   ],
   "metadata": {
    "collapsed": false,
    "pycharm": {
     "name": "#%%\n"
    }
   }
  },
  {
   "cell_type": "code",
   "execution_count": 18,
   "outputs": [
    {
     "data": {
      "text/plain": "(2000, 1)"
     },
     "execution_count": 18,
     "metadata": {},
     "output_type": "execute_result"
    }
   ],
   "source": [
    "indices.reshape(-1,1).shape"
   ],
   "metadata": {
    "collapsed": false,
    "pycharm": {
     "name": "#%%\n"
    }
   }
  },
  {
   "cell_type": "code",
   "execution_count": null,
   "outputs": [],
   "source": [],
   "metadata": {
    "collapsed": false,
    "pycharm": {
     "name": "#%%\n"
    }
   }
  }
 ],
 "metadata": {
  "kernelspec": {
   "display_name": "Python 3",
   "language": "python",
   "name": "python3"
  },
  "language_info": {
   "codemirror_mode": {
    "name": "ipython",
    "version": 2
   },
   "file_extension": ".py",
   "mimetype": "text/x-python",
   "name": "python",
   "nbconvert_exporter": "python",
   "pygments_lexer": "ipython2",
   "version": "2.7.6"
  }
 },
 "nbformat": 4,
 "nbformat_minor": 0
}