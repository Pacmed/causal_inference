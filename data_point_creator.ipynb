{
 "cells": [
  {
   "cell_type": "markdown",
   "metadata": {},
   "source": [
    "#### Workflow:\n",
    "1. Create observations with 'create_data_points'. An observation is a data point in which\n",
    "all signals 'peep', 'fio2', 'po2' are measured. All data points are rounded down to the\n",
    "nearest hour. Hence each data points is an hour during which all signals where measured.\n",
    "Notebook works with a single patient and hence '_create_data_points_batch' to make\n",
    "testing faster. Consider changing the function name to 'create_observations'.\n",
    "\n",
    "2. (to be implemented) Function 'select_cohort' selects the cohort by checking the\n",
    "inclusion and exclusion criteria.\n",
    "\n",
    "3. Create a table with the treatment. Function 'get_proning' creates a table with\n",
    "proning sessions. This table will be used to check whether an observation was treated.\n",
    "\n",
    "\n",
    "function that for each point checks preconditions\n",
    "\n",
    "patients -> treated -> proning sessions -> included\n",
    "\n",
    "patients -> never treated -> then look at points with blood gas -> if inclusion yes then data point\n",
    "\n",
    "(update)\n",
    "\n",
    "load blood gas points (create_data_points)\n",
    " -> drop ids that are not eligible (check_inclusion(drop = True))\n",
    " -> split points into (control - not proned and not proned after\n",
    "                       measurement_control - not proned and wasn't proned in the past, may be proned in the future\n",
    "                       trated - not proned will be proned after\n",
    "                       measurement_treated - proned at the moment)\n"
   ]
  },
  {
   "cell_type": "code",
   "execution_count": null,
   "metadata": {
    "pycharm": {
     "name": "#%%\n"
    }
   },
   "outputs": [],
   "source": [
    "%reset"
   ]
  },
  {
   "cell_type": "code",
   "execution_count": null,
   "metadata": {
    "pycharm": {
     "name": "#%%\n"
    }
   },
   "outputs": [],
   "source": [
    "import os, sys, random\n",
    "\n",
    "import pandas as pd\n",
    "import numpy as np\n",
    "import swifter\n",
    "\n",
    "import pacmagic\n",
    "import pacmagic_icu\n",
    "\n",
    "from importlib import reload\n",
    "from data_warehouse_utils.dataloader import DataLoader\n",
    "\n",
    "os.chdir('/home/adam/files/causal_inference')\n",
    "os.getcwd()\n",
    "\n",
    "from causal_inference.experiment_generator.create_observations import create_data_points\n",
    "from causal_inference.experiment_generator.create_observations import _get_hash_patient_id\n",
    "from causal_inference.experiment_generator.create_observations import hour_rounder\n",
    "from causal_inference.experiment_generator.create_observations import _create_data_points_batch\n",
    "from causal_inference.experiment_generator.create_treatment import get_proning_table\n",
    "from causal_inference.experiment_generator.create_treatment import proning_table_to_intervals\n"
   ]
  },
  {
   "cell_type": "code",
   "execution_count": null,
   "metadata": {
    "pycharm": {
     "name": "#%%\n"
    }
   },
   "outputs": [],
   "source": [
    "# Reloads packages\n",
    "\n",
    "reload(sys.modules['causal_inference'])\n",
    "reload(sys.modules['causal_inference.experiment_generator'])\n",
    "reload(sys.modules['causal_inference.experiment_generator.create_observations'])\n",
    "reload(sys.modules['causal_inference.experiment_generator.create_treatment'])"
   ]
  },
  {
   "cell_type": "code",
   "execution_count": null,
   "metadata": {
    "pycharm": {
     "name": "#%%\n"
    }
   },
   "outputs": [],
   "source": [
    "dl = DataLoader()\n",
    "\n",
    "patient_id_all = _get_hash_patient_id(dl)"
   ]
  },
  {
   "cell_type": "code",
   "execution_count": null,
   "metadata": {
    "pycharm": {
     "name": "#%%\n"
    }
   },
   "outputs": [],
   "source": [
    "ID = random.choice(patient_id_all)\n",
    "ID"
   ]
  },
  {
   "cell_type": "code",
   "execution_count": null,
   "metadata": {
    "pycharm": {
     "name": "#%% I first process only single 'ID's to make computations faster and easier to debug\n"
    }
   },
   "outputs": [],
   "source": [
    "df = _create_data_points_batch(dl = dl,\n",
    "                               patient_id = ID,\n",
    "                               compress = False, # doesn't have an effect yet\n",
    "                               nearest = False) # We need to round down to be consistent"
   ]
  },
  {
   "cell_type": "code",
   "execution_count": null,
   "metadata": {
    "pycharm": {
     "name": "#%%\n"
    }
   },
   "outputs": [],
   "source": [
    "df.head()"
   ]
  },
  {
   "cell_type": "code",
   "execution_count": null,
   "metadata": {
    "pycharm": {
     "name": "#%%\n"
    }
   },
   "outputs": [],
   "source": [
    "# Remark: for some Ids there is no data, we need to account for it and then delete such a patient\n",
    "\n",
    "df_treatment = get_proning_table(dl, ID)\n",
    "\n",
    "df_treatment.head()"
   ]
  },
  {
   "cell_type": "code",
   "execution_count": null,
   "metadata": {
    "pycharm": {
     "name": "#%%\n"
    }
   },
   "outputs": [],
   "source": [
    "#for each patient we could say\n",
    "# 1. Let's aggregate for each patient the sum of intervals when it was proned\n",
    "# 1a We consider only proning sessions that was at least 1 hour long so if we check all\n",
    "# full hours between time stamp and time stamp + x then we are fine\n",
    "# 2. For each patient for each data point check if during the next x (argument)\n",
    "#    it wasn't proned"
   ]
  },
  {
   "cell_type": "code",
   "execution_count": null,
   "metadata": {
    "pycharm": {
     "name": "#%%\n"
    }
   },
   "outputs": [],
   "source": [
    "df_position = dl.get_range_measurements(patients= [ID],\n",
    "                                            parameters= ['position'],\n",
    "                                            sub_parameters=['position_body'],\n",
    "                                            columns=['hash_patient_id',\n",
    "                                                     'start_timestamp',\n",
    "                                                     'end_timestamp',\n",
    "                                                     'effective_value',\n",
    "                                                     'is_correct_unit_yn']\n",
    "                                            )\n",
    "\n",
    "df_position.sort_values(by = ['hash_patient_id', 'start_timestamp'],\n",
    "                            ascending = True,\n",
    "                            inplace = True)\n",
    "\n",
    "df_position.reset_index(drop=True, inplace=True)\n",
    "\n",
    "df_position.head()"
   ]
  },
  {
   "cell_type": "code",
   "execution_count": null,
   "metadata": {
    "pycharm": {
     "name": "#%%\n"
    }
   },
   "outputs": [],
   "source": [
    "    ### Aggregate into sessions: get_proning_table\n",
    "\n",
    "df_position['effective_timestamp'] = df_position['start_timestamp']\n",
    "df_position['effective_timestamp_next'] = df_position['effective_timestamp'].shift(-1)\n",
    "\n",
    "df_position['effective_value_next'] = df_position['effective_value'].shift(-1)\n",
    "df_position['session_id'] = 0\n",
    "df_position['proning_canceled'] = False\n",
    "session_id = 0"
   ]
  },
  {
   "cell_type": "code",
   "execution_count": null,
   "metadata": {
    "pycharm": {
     "name": "#%%\n"
    }
   },
   "outputs": [],
   "source": [
    "for idx, row in df_position.iterrows():\n",
    "\n",
    "    df_position.loc[idx, 'session_id'] = session_id\n",
    "    if row.effective_value != row.effective_value_next:\n",
    "        session_id += 1\n",
    "        df_position.loc[idx, 'effective_timestamp'] = row.effective_timestamp_next\n",
    "\n",
    "    if (row.effective_value == 'prone') & (row.effective_value_next == 'canceled'):\n",
    "        df_position.loc[idx, 'proning_canceled'] = True"
   ]
  },
  {
   "cell_type": "code",
   "execution_count": null,
   "metadata": {
    "pycharm": {
     "name": "#%%\n"
    }
   },
   "outputs": [],
   "source": [
    "df_position.head()"
   ]
  },
  {
   "cell_type": "code",
   "execution_count": null,
   "metadata": {
    "pycharm": {
     "name": "#%%\n"
    }
   },
   "outputs": [],
   "source": [
    "    ### Groupby session wise: groupby_proning_table\n",
    "df_groupby_start = df_position.groupby(['hash_patient_id', 'effective_value', 'session_id'],\n",
    "                               as_index=False)['start_timestamp'].min()\n",
    "\n",
    "df_groupby_start = df_groupby_start.drop(columns = ['hash_patient_id', 'effective_value'])\n",
    "\n",
    "    #df_groupby_start = df_groupby_start.rename(columns = {'effective_timestamp':'start_timestamp'})\n",
    "\n",
    "df_groupby_end = df_position.groupby(['hash_patient_id', 'effective_value', 'session_id'],\n",
    "                               as_index=False)['effective_timestamp'].max()\n",
    "\n",
    "df_groupby_end = df_groupby_end.drop(columns = ['hash_patient_id', 'effective_value'])\n",
    "\n",
    "df_groupby_end = df_groupby_end.rename(columns = {'effective_timestamp':'end_timestamp'})\n",
    "\n",
    "df_groupby = df_position.groupby(['hash_patient_id', 'effective_value', 'session_id'],\n",
    "                               as_index=False)['is_correct_unit_yn',\n",
    "                                               'proning_canceled'].last()\n",
    "\n",
    "df_groupby = pd.merge(df_groupby, df_groupby_start, how='left', on='session_id')\n",
    "df_groupby = pd.merge(df_groupby, df_groupby_end, how='left', on='session_id')\n",
    "\n",
    "    # Calculate duration full hours\n",
    "\n",
    "df_groupby['duration_hours'] = df_groupby['end_timestamp'] - df_groupby['start_timestamp']\n",
    "#df_groupby['duration_hours'] = df_groupby['duration_hours'].astype('timedelta64[h]').astype('int')\n",
    "\n",
    "df_groupby.head()"
   ]
  },
  {
   "cell_type": "code",
   "execution_count": null,
   "metadata": {
    "pycharm": {
     "name": "#%%\n"
    }
   },
   "outputs": [],
   "source": [
    "# what happens if the last one is proning"
   ]
  }
 ],
 "metadata": {
  "kernelspec": {
   "display_name": "Python 3",
   "language": "python",
   "name": "python3"
  },
  "language_info": {
   "codemirror_mode": {
    "name": "ipython",
    "version": 2
   },
   "file_extension": ".py",
   "mimetype": "text/x-python",
   "name": "python",
   "nbconvert_exporter": "python",
   "pygments_lexer": "ipython2"
  }
 },
 "nbformat": 4,
 "nbformat_minor": 0
}
