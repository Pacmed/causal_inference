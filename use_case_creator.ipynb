{
 "cells": [
  {
   "cell_type": "code",
   "execution_count": null,
   "metadata": {},
   "outputs": [],
   "source": [
    "%reset"
   ]
  },
  {
   "cell_type": "code",
   "execution_count": null,
   "metadata": {
    "pycharm": {
     "name": "#%%\n"
    }
   },
   "outputs": [],
   "source": [
    "import os, sys\n",
    "\n",
    "import pandas as pd\n",
    "import numpy as np\n",
    "\n",
    "import pacmagic\n",
    "import pacmagic_icu\n",
    "\n",
    "from importlib import reload\n",
    "from data_warehouse_utils.dataloader import DataLoader\n",
    "\n",
    "from causal_inference.experiment_generator.initialize_experiment import initialize_experiment\n",
    "from causal_inference.experiment_generator.initialize_experiment import add_parameter\n",
    "# from causal_inference.experiment_genertor.combiner import DataHandler #not ready yet"
   ]
  },
  {
   "cell_type": "code",
   "execution_count": null,
   "metadata": {
    "pycharm": {
     "name": "#%%\n"
    }
   },
   "outputs": [],
   "source": [
    "# When running the notebook for the first time, change wd to\n",
    "# the path of causal_inference folder\n",
    "os.getcwd()\n",
    "os.chdir('/home/adam/files/causal_inference')\n",
    "os.getcwd()"
   ]
  },
  {
   "cell_type": "code",
   "execution_count": null,
   "metadata": {
    "pycharm": {
     "name": "#%%\n"
    }
   },
   "outputs": [],
   "source": [
    "# Reloads packages\n",
    "\n",
    "reload(sys.modules['causal_inference'])\n",
    "reload(sys.modules['causal_inference.experiment_generator'])\n",
    "reload(sys.modules['causal_inference.experiment_generator.initialize_experiment'])\n",
    "\n",
    "from causal_inference.experiment_generator.initialize_experiment import initialize_experiment\n",
    "from causal_inference.experiment_generator.initialize_experiment import add_parameter\n",
    "from causal_inference.data_creator.combiner import DataHandler"
   ]
  },
  {
   "cell_type": "code",
   "execution_count": null,
   "metadata": {
    "pycharm": {
     "name": "#%%\n"
    }
   },
   "outputs": [],
   "source": [
    "dl = DataLoader()\n",
    "\n",
    "df = initialize_experiment(dl = dl,\n",
    "                           n_of_patients = 5,\n",
    "                           min_length_of_intubation = 24)"
   ]
  },
  {
   "cell_type": "code",
   "execution_count": null,
   "metadata": {
    "pycharm": {
     "name": "#%%\n"
    }
   },
   "outputs": [],
   "source": [
    "test_df = pd.DataFrame(np.ones((10,10)))\n",
    "\n",
    "test_df.head()"
   ]
  },
  {
   "cell_type": "code",
   "execution_count": null,
   "metadata": {
    "pycharm": {
     "name": "#%%\n"
    }
   },
   "outputs": [],
   "source": [
    "#df.info()"
   ]
  },
  {
   "cell_type": "code",
   "execution_count": null,
   "metadata": {
    "pycharm": {
     "name": "#%%\n"
    }
   },
   "outputs": [],
   "source": [
    "# doesn't work yet\n",
    "\n",
    "#add_parameter(dl, df, 'fio2')\n"
   ]
  },
  {
   "cell_type": "code",
   "execution_count": null,
   "metadata": {
    "pycharm": {
     "name": "#%%\n"
    }
   },
   "outputs": [],
   "source": []
  }
 ],
 "metadata": {
  "kernelspec": {
   "display_name": "Python 3",
   "language": "python",
   "name": "python3"
  },
  "language_info": {
   "codemirror_mode": {
    "name": "ipython",
    "version": 2
   },
   "file_extension": ".py",
   "mimetype": "text/x-python",
   "name": "python",
   "nbconvert_exporter": "python",
   "pygments_lexer": "ipython2"
  }
 },
 "nbformat": 4,
 "nbformat_minor": 0
}
