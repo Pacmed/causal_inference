{
 "cells": [
  {
   "cell_type": "code",
   "execution_count": null,
   "metadata": {},
   "outputs": [],
   "source": [
    "%reset"
   ]
  },
  {
   "cell_type": "code",
   "execution_count": null,
   "metadata": {
    "pycharm": {
     "name": "#%%\n"
    }
   },
   "outputs": [],
   "source": [
    "# Change wd to the path of causal_inference folder as the package has no setup\n",
    "\n"
   ]
  },
  {
   "cell_type": "code",
   "execution_count": null,
   "metadata": {
    "pycharm": {
     "name": "#%%\n"
    }
   },
   "outputs": [],
   "source": [
    "import os, sys\n",
    "\n",
    "import pandas as pd\n",
    "import numpy as np\n",
    "import swifter\n",
    "\n",
    "import pacmagic\n",
    "import pacmagic_icu\n",
    "\n",
    "from importlib import reload\n",
    "from data_warehouse_utils.dataloader import DataLoader\n",
    "\n",
    "os.chdir('/home/adam/files/causal_inference')\n",
    "os.getcwd()\n",
    "\n",
    "from causal_inference.experiment_generator.initialize_experiment import initialize_experiment\n",
    "from causal_inference.experiment_generator.initialize_experiment import add_parameter\n",
    "from causal_inference.experiment_generator.initialize_experiment import _load_data_patients"
   ]
  },
  {
   "cell_type": "code",
   "execution_count": null,
   "metadata": {
    "pycharm": {
     "name": "#%%\n"
    }
   },
   "outputs": [],
   "source": [
    "# Reloads packages\n",
    "\n",
    "reload(sys.modules['causal_inference'])\n",
    "reload(sys.modules['causal_inference.experiment_generator'])\n",
    "reload(sys.modules['causal_inference.experiment_generator.initialize_experiment'])\n",
    "\n",
    "\n",
    "from causal_inference.experiment_generator.initialize_experiment import initialize_experiment"
   ]
  },
  {
   "cell_type": "code",
   "execution_count": null,
   "metadata": {
    "pycharm": {
     "name": "#%%\n"
    }
   },
   "outputs": [],
   "source": [
    "dl = DataLoader()\n",
    "\n",
    "df, generator = initialize_experiment(dl = dl,\n",
    "                           n_of_patients = 10,\n",
    "                           min_length_of_intubation = 24,\n",
    "                           length_of_time_window_hours = 4)"
   ]
  },
  {
   "cell_type": "code",
   "execution_count": null,
   "metadata": {
    "pycharm": {
     "name": "#%%\n"
    }
   },
   "outputs": [],
   "source": [
    "df.head()"
   ]
  },
  {
   "cell_type": "code",
   "execution_count": null,
   "metadata": {
    "pycharm": {
     "name": "#%%\n"
    }
   },
   "outputs": [],
   "source": [
    "df.info()"
   ]
  },
  {
   "cell_type": "code",
   "execution_count": null,
   "metadata": {
    "pycharm": {
     "name": "#%%\n"
    }
   },
   "outputs": [],
   "source": [
    "generator_test = generator[0:5]"
   ]
  },
  {
   "cell_type": "code",
   "execution_count": null,
   "metadata": {
    "pycharm": {
     "name": "#%%\n"
    }
   },
   "outputs": [],
   "source": [
    "BMI = ['body_mass_index']"
   ]
  },
  {
   "cell_type": "code",
   "execution_count": null,
   "metadata": {
    "pycharm": {
     "name": "#%%\n"
    }
   },
   "outputs": [],
   "source": [
    "LAB_VALUES = ['c_reactive_protein',\n",
    "              'leukocytes',\n",
    "              'procalcitonin',\n",
    "              'hemoglobin',\n",
    "              'creatinine',\n",
    "              'ureum',\n",
    "              'chloride',# is this instead of chlorine?\n",
    "              'sodium',\n",
    "              'calcium',\n",
    "              'phosphate',\n",
    "              'glucose',\n",
    "              'activated_partial_thromboplastin_time',\n",
    "              'prothrombin_time_inr',\n",
    "              'd_dimer',\n",
    "              'fibrinogen',\n",
    "              'alanine_transaminase',\n",
    "              'aspartate_transaminase'\n",
    "              'lactate_dehydrogenase',\n",
    "              'albumin',\n",
    "              'creatine_kinase',\n",
    "              'gamma_glutamyl_transferase',\n",
    "              'alkaline_phosphatase',\n",
    "              'bilirubin_direct']"
   ]
  },
  {
   "cell_type": "code",
   "execution_count": null,
   "metadata": {
    "pycharm": {
     "name": "#%%\n"
    }
   },
   "outputs": [],
   "source": [
    "BLOOD_GAS = ['pco2', 'po2', 'bicarbonate', 'lactate' ]\n"
   ]
  },
  {
   "cell_type": "code",
   "execution_count": null,
   "metadata": {
    "pycharm": {
     "name": "#%%\n"
    }
   },
   "outputs": [],
   "source": [
    "VITAL_SIGNS = ['heart_rate',\n",
    "               'arterial_blood_pressure_mean',\n",
    "               'arterial_blood_pressure_diastolic',\n",
    "               'arterial_blood_pressure_systolic']"
   ]
  },
  {
   "cell_type": "code",
   "execution_count": null,
   "metadata": {
    "pycharm": {
     "name": "#%%\n"
    }
   },
   "outputs": [],
   "source": [
    "VENTILATOR_VALUES = ['peep',\n",
    "                     'fio2',\n",
    "                     'pressure_above_peep',\n",
    "                     'tidal_volume',\n",
    "                     'inspiratory_expiratory_ratio',\n",
    "                     'respiratory_rate' #this doesn't work and the name is correct\n",
    "                     'lung_compliance',\n",
    "                     'driving_pressure',\n",
    "                     'plateau_pressure',\n",
    "                     'peak_pressure']"
   ]
  },
  {
   "cell_type": "code",
   "execution_count": null,
   "metadata": {
    "pycharm": {
     "name": "#%%\n"
    }
   },
   "outputs": [],
   "source": [
    "values = pd.DataFrame([])\n",
    "\n",
    "for idx, row in enumerate(generator_test):\n",
    "\n",
    "    patient_id = [generator[idx][0]]\n",
    "    patient_df = generator[idx][1]\n",
    "\n",
    "    parameter_value = patient_df[['time_window_start', 'time_window_end']].\\\n",
    "        swifter.\\\n",
    "        apply(lambda row: dl.get_single_timestamp(patients = patient_id,\n",
    "                                                  parameters = LAB_VALUES,\n",
    "                                                  columns = ['pacmed_name',\n",
    "                                                             'numerical_value'],\n",
    "                                                  from_timestamp = row.time_window_start,\n",
    "                                                  to_timestamp = row.time_window_end).\\\n",
    "              groupby('pacmed_name').\\\n",
    "              mean(numeric_only = False).\n",
    "              T,\n",
    "              axis = 1)\n",
    "\n",
    "    parameter_value = pd.concat([parameter_value[idx] for idx in range(len(parameter_value))])\n",
    "    parameter_value.reset_index(inplace = True, drop=True)\n",
    "    values = pd.concat([values, parameter_value])"
   ]
  },
  {
   "cell_type": "code",
   "execution_count": null,
   "metadata": {
    "pycharm": {
     "name": "#%%\n"
    }
   },
   "outputs": [],
   "source": [
    "values.info()"
   ]
  },
  {
   "cell_type": "code",
   "execution_count": null,
   "metadata": {
    "pycharm": {
     "name": "#%%\n"
    }
   },
   "outputs": [],
   "source": [
    "values\n"
   ]
  },
  {
   "cell_type": "code",
   "execution_count": null,
   "metadata": {
    "pycharm": {
     "name": "#%%\n"
    }
   },
   "outputs": [],
   "source": [
    "df_test = df.sample(10)"
   ]
  },
  {
   "cell_type": "code",
   "execution_count": null,
   "metadata": {
    "pycharm": {
     "name": "#%%\n"
    }
   },
   "outputs": [],
   "source": [
    "PARAMETER_NAME = ['fio2', 'peep', 'pao2']\n",
    "\n",
    "values = pd.DataFrame([])\n",
    "\n",
    "for idx, row in df_test.iterows():\n",
    "\n",
    "    patient_df = generator[idx][1]\n",
    "\n",
    "    parameter_value = patient_df[['hash_patient_id', 'time_window_start', 'time_window_end']].\\\n",
    "        swifter.\\\n",
    "        apply(lambda row: dl.get_single_timestamp(patients = [row.hash_patient_id],\n",
    "                                                  parameters = PARAMETER_NAME,\n",
    "                                                  columns = ['pacmed_name',\n",
    "                                                             'numerical_value'],\n",
    "                                                  from_timestamp = row.time_window_start,\n",
    "                                                  to_timestamp = row.time_window_end).\\\n",
    "              groupby('pacmed_name').\\\n",
    "              mean(numeric_only = False).\n",
    "              T,\n",
    "              axis = 1)\n",
    "\n",
    "    parameter_value = pd.concat([parameter_value[idx] for idx in range(len(parameter_value))])\n",
    "    parameter_value.reset_index(inplace = True, drop=True)\n",
    "    values = pd.concat([values, parameter_value])"
   ]
  },
  {
   "cell_type": "code",
   "execution_count": null,
   "metadata": {
    "pycharm": {
     "name": "#%%\n"
    }
   },
   "outputs": [],
   "source": [
    "values.head()"
   ]
  },
  {
   "cell_type": "code",
   "execution_count": null,
   "metadata": {
    "pycharm": {
     "name": "#%%\n"
    }
   },
   "outputs": [],
   "source": [
    "dl.get_single_timestamp(patients = [df.hash_patient_id.iloc[4]],\n",
    "                        parameters = ['spo2'],\n",
    "                        columns = ['pacmed_name', 'pacmed_subname', 'numerical_value', 'effective_timestamp'],\n",
    "                        from_timestamp = df.time_window_start.iloc[1],\n",
    "                        to_timestamp = df.time_window_end.iloc[500])\n",
    "\n",
    "\n",
    "\n"
   ]
  },
  {
   "cell_type": "code",
   "execution_count": null,
   "metadata": {
    "pycharm": {
     "name": "#%%\n"
    }
   },
   "outputs": [],
   "source": [
    "measurements_range.head()"
   ]
  },
  {
   "cell_type": "code",
   "execution_count": null,
   "metadata": {
    "pycharm": {
     "name": "#%%\n"
    }
   },
   "outputs": [],
   "source": [
    "patients = _load_data_patients(dl, min_length_of_stay_hours = 96)"
   ]
  },
  {
   "cell_type": "code",
   "execution_count": null,
   "metadata": {
    "pycharm": {
     "name": "#%%\n"
    }
   },
   "outputs": [],
   "source": [
    "patients.head()"
   ]
  },
  {
   "cell_type": "code",
   "execution_count": null,
   "metadata": {
    "pycharm": {
     "name": "#%%\n"
    }
   },
   "outputs": [],
   "source": [
    "patients['bmi_timestamp'] = patients.apply(lambda row: dl.get_single_timestamp(\n",
    "    patients = [row.hash_patient_id],\n",
    "    parameters = ['body_mass_index'],\n",
    "    columns = ['numerical_value'],\n",
    "    from_timestamp = row.start_timestamp,\n",
    "    to_timestamp = row.end_timestamp).first(),\n",
    "              axis = 1)"
   ]
  },
  {
   "cell_type": "code",
   "execution_count": null,
   "metadata": {
    "pycharm": {
     "name": "#%%\n"
    }
   },
   "outputs": [],
   "source": [
    "dl.get_single_timestamp(patients = [patients.hash_patient_id.first()],\n",
    "    parameters = ['body_mass_index'],\n",
    "    columns = ['numerical_value'],\n",
    "    from_timestamp = row.start_timestamp,\n",
    "    to_timestamp = row.end_timestamp)"
   ]
  },
  {
   "cell_type": "code",
   "execution_count": null,
   "metadata": {
    "pycharm": {
     "name": "#%%\n"
    }
   },
   "outputs": [],
   "source": [
    "patients.hash_patient_id"
   ]
  },
  {
   "cell_type": "code",
   "execution_count": null,
   "metadata": {
    "pycharm": {
     "name": "#%%\n"
    }
   },
   "outputs": [],
   "source": []
  },
  {
   "cell_type": "code",
   "execution_count": null,
   "metadata": {
    "pycharm": {
     "name": "#%%\n"
    }
   },
   "outputs": [],
   "source": [
    "patients.head()"
   ]
  },
  {
   "cell_type": "code",
   "execution_count": null,
   "metadata": {
    "pycharm": {
     "name": "#%%\n"
    }
   },
   "outputs": [],
   "source": [
    "df_proning.info()"
   ]
  },
  {
   "cell_type": "code",
   "execution_count": null,
   "metadata": {
    "pycharm": {
     "name": "#%%\n"
    }
   },
   "outputs": [],
   "source": [
    "df_proning.head(10)"
   ]
  },
  {
   "cell_type": "code",
   "execution_count": null,
   "metadata": {
    "pycharm": {
     "name": "#%%\n"
    }
   },
   "outputs": [],
   "source": [
    "#### Procesing proned patients\n",
    "\n",
    "df_proning = dl.get_range_measurements(parameters= ['position'],\n",
    "                                       sub_parameters=['position_body'],\n",
    "                                       columns=['hash_patient_id',\n",
    "                                                'start_timestamp',\n",
    "                                                'end_timestamp',\n",
    "                                                'effective_value',\n",
    "                                                'is_correct_unit_yn',\n",
    "                                                'pacmed_origin_hospital',\n",
    "                                                'fake_admission_id'\n",
    "                                                ]\n",
    "                                       )\n",
    "\n",
    "df_proning.sort_values(by = ['hash_patient_id', 'start_timestamp'],\n",
    "                       ascending = True,\n",
    "                       inplace = True)\n",
    "df_proning.reset_index(drop=True, inplace=True)"
   ]
  },
  {
   "cell_type": "code",
   "execution_count": null,
   "metadata": {
    "pycharm": {
     "name": "#%%\n"
    }
   },
   "outputs": [],
   "source": [
    "df_proning.info()"
   ]
  },
  {
   "cell_type": "code",
   "execution_count": null,
   "metadata": {
    "pycharm": {
     "name": "#%%\n"
    }
   },
   "outputs": [],
   "source": [
    "df_proning.head(5)"
   ]
  },
  {
   "cell_type": "code",
   "execution_count": null,
   "metadata": {
    "pycharm": {
     "name": "#%%\n"
    }
   },
   "outputs": [],
   "source": [
    "df_proned = df_proning[df_proning.effective_value == 'prone']"
   ]
  },
  {
   "cell_type": "code",
   "execution_count": null,
   "metadata": {
    "pycharm": {
     "name": "#%%\n"
    }
   },
   "outputs": [],
   "source": [
    "df_proned.info()"
   ]
  },
  {
   "cell_type": "code",
   "execution_count": null,
   "metadata": {
    "pycharm": {
     "name": "#%%\n"
    }
   },
   "outputs": [],
   "source": [
    "df_proned.head()"
   ]
  },
  {
   "cell_type": "code",
   "execution_count": null,
   "metadata": {
    "pycharm": {
     "name": "#%%\n"
    }
   },
   "outputs": [],
   "source": [
    "df_proned['duration'] = df_proned.end_timestamp - df_proned.start_timestamp\n",
    "df_proned['duration'] = df_proned.duration.astype('timedelta64[h]')"
   ]
  },
  {
   "cell_type": "code",
   "execution_count": null,
   "metadata": {
    "pycharm": {
     "name": "#%%\n"
    }
   },
   "outputs": [],
   "source": [
    "df_proned.describe()"
   ]
  },
  {
   "cell_type": "code",
   "execution_count": null,
   "metadata": {
    "pycharm": {
     "name": "#%%\n"
    }
   },
   "outputs": [],
   "source": [
    "proning_session_id = 0\n",
    "df_proning['session_end'] = 0\n",
    "df_proning['proning_session_id'] = 0\n",
    "\n",
    "for index, row in df_proning.iterrows():\n",
    "    df_proning.proning_session_id[index] = proning_session_id\n",
    "    df_proning['session_end'] = df_proning.start_timestamp[index+1] #use diff instead\n",
    "    if (df_proning.effective_value[index] != df_proning.effective_value[index + 1]):\n",
    "        proning_session_id = proning_session_id + 1"
   ]
  },
  {
   "cell_type": "markdown",
   "metadata": {
    "pycharm": {
     "name": "#%% md\n"
    }
   },
   "source": [
    "start with taking hash_id and blood gas measurement as point\n",
    "\n",
    "function for every patient blood gas measurement says if it was proned afterwards\n",
    "\n",
    "function that for each point checks preconditions\n",
    "\n",
    "patients -> treated -> proning sessions -> included\n",
    "\n",
    "patients -> never treated -> then look at points with blood gas -> if inclusion yes then data point"
   ]
  },
  {
   "cell_type": "code",
   "execution_count": null,
   "metadata": {
    "pycharm": {
     "name": "#%%\n"
    }
   },
   "outputs": [],
   "source": [
    "df_proning.groupby('proning_session_id')['end_timestamp'].first()"
   ]
  },
  {
   "cell_type": "code",
   "execution_count": null,
   "metadata": {
    "pycharm": {
     "name": "#%%\n"
    }
   },
   "outputs": [],
   "source": [
    "df.groupby('proning_session_id').agg({'B': ['min', 'max'], 'C': 'sum'})"
   ]
  },
  {
   "cell_type": "code",
   "execution_count": null,
   "metadata": {
    "pycharm": {
     "name": "#%%\n"
    }
   },
   "outputs": [],
   "source": [
    "df_proned"
   ]
  },
  {
   "cell_type": "code",
   "execution_count": null,
   "metadata": {
    "pycharm": {
     "name": "#%%\n"
    }
   },
   "outputs": [],
   "source": [
    "df_proned.proning_session_id.nunique()"
   ]
  },
  {
   "cell_type": "code",
   "execution_count": null,
   "metadata": {
    "pycharm": {
     "name": "#%%\n"
    }
   },
   "outputs": [],
   "source": [
    "\n",
    "df_proning.info()"
   ]
  },
  {
   "cell_type": "code",
   "execution_count": null,
   "metadata": {
    "pycharm": {
     "name": "#%%\n"
    }
   },
   "outputs": [],
   "source": [
    "\n",
    "\n",
    "\n"
   ]
  }
 ],
 "metadata": {
  "kernelspec": {
   "display_name": "Python 3",
   "language": "python",
   "name": "python3"
  },
  "language_info": {
   "codemirror_mode": {
    "name": "ipython",
    "version": 2
   },
   "file_extension": ".py",
   "mimetype": "text/x-python",
   "name": "python",
   "nbconvert_exporter": "python",
   "pygments_lexer": "ipython2"
  }
 },
 "nbformat": 4,
 "nbformat_minor": 0
}
