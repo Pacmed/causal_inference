{
 "cells": [
  {
   "cell_type": "code",
   "execution_count": null,
   "metadata": {},
   "outputs": [],
   "source": [
    "%reset"
   ]
  },
  {
   "cell_type": "code",
   "execution_count": null,
   "metadata": {
    "pycharm": {
     "name": "#%%\n"
    }
   },
   "outputs": [],
   "source": [
    "from numpy import median\n",
    "\n",
    "import os, sys, random\n",
    "\n",
    "import pandas as pd\n",
    "import numpy as np\n",
    "import swifter\n",
    "\n",
    "from datetime import timedelta, date\n",
    "from importlib import reload\n",
    "from data_warehouse_utils.dataloader import DataLoader\n",
    "\n",
    "os.chdir('/home/adam/files/causal_inference')\n",
    "\n",
    "from causal_inference.create_experiment.create_observations import create_observations\n",
    "from causal_inference.create_experiment.create_covariates import add_covariates\n",
    "from causal_inference.create_experiment.create_control import create_control_observations\n",
    "from causal_inference.create_experiment.create_outcome import add_outcome\n",
    "from causal_inference.create_experiment.create_medications import get_medications\n",
    "from causal_inference.create_experiment.utils import add_pf_ratio"
   ]
  },
  {
   "cell_type": "code",
   "execution_count": null,
   "metadata": {
    "pycharm": {
     "name": "#%%\n"
    }
   },
   "outputs": [],
   "source": [
    "# Reloads packages\n",
    "os.chdir('/home/adam/files/causal_inference')\n",
    "os.getcwd()\n",
    "\n",
    "reload(sys.modules['causal_inference.create_experiment.utils'])\n",
    "reload(sys.modules['causal_inference.create_experiment.create_treatment'])\n",
    "reload(sys.modules['causal_inference.create_experiment.create_observations'])\n",
    "reload(sys.modules['causal_inference.create_experiment.create_covariates'])\n",
    "reload(sys.modules['causal_inference.create_experiment.create_control'])\n",
    "reload(sys.modules['causal_inference.create_experiment.create_outcome'])\n",
    "reload(sys.modules['causal_inference.create_experiment.create_medications'])\n",
    "\n",
    "\n",
    "from causal_inference.create_experiment.create_observations import create_observations\n",
    "from causal_inference.create_experiment.create_covariates import add_covariates\n",
    "from causal_inference.create_experiment.create_control import create_control_observations\n",
    "from causal_inference.create_experiment.create_outcome import add_outcome\n",
    "from causal_inference.create_experiment.create_medications import get_medications\n",
    "from causal_inference.create_experiment.utils import add_pf_ratio"
   ]
  },
  {
   "cell_type": "markdown",
   "metadata": {
    "pycharm": {
     "name": "#%% md\n"
    }
   },
   "source": [
    "### 1. Load observations\n",
    "\n",
    "Loads all proning sessions that matches a 'hash_patient_id' from Patients table in the\n",
    "Data Warehouse."
   ]
  },
  {
   "cell_type": "code",
   "execution_count": null,
   "metadata": {
    "pycharm": {
     "name": "#%%\n"
    }
   },
   "outputs": [],
   "source": [
    "dl = DataLoader()"
   ]
  },
  {
   "cell_type": "code",
   "execution_count": null,
   "metadata": {
    "pycharm": {
     "name": "#%%\n"
    }
   },
   "outputs": [],
   "source": [
    "df = create_observations(dl,5)"
   ]
  },
  {
   "cell_type": "code",
   "execution_count": null,
   "metadata": {
    "pycharm": {
     "name": "#%%\n"
    }
   },
   "outputs": [],
   "source": [
    "df = add_outcome(dl,df,2,4)"
   ]
  },
  {
   "cell_type": "code",
   "execution_count": null,
   "metadata": {
    "pycharm": {
     "name": "#%%\n"
    }
   },
   "outputs": [],
   "source": [
    "df = add_outcome(dl,df,6,8)"
   ]
  },
  {
   "cell_type": "code",
   "execution_count": null,
   "metadata": {
    "pycharm": {
     "name": "#%%\n"
    }
   },
   "outputs": [],
   "source": [
    "df = add_outcome(dl,df,12,16)"
   ]
  },
  {
   "cell_type": "code",
   "execution_count": null,
   "metadata": {
    "pycharm": {
     "name": "#%%\n"
    }
   },
   "outputs": [],
   "source": [
    "df, _ = add_covariates(dl, df, 1000, 0, covariate_type='bmi')"
   ]
  },
  {
   "cell_type": "code",
   "execution_count": null,
   "metadata": {
    "pycharm": {
     "name": "#%%\n"
    }
   },
   "outputs": [],
   "source": [
    "df, _ = add_covariates(dl, df, 24, 0, covariate_type='lab_values')"
   ]
  },
  {
   "cell_type": "code",
   "execution_count": null,
   "metadata": {
    "pycharm": {
     "name": "#%%\n"
    }
   },
   "outputs": [],
   "source": [
    "df, _ = add_covariates(dl, df, 8, 0, covariate_type='vital_signs')"
   ]
  },
  {
   "cell_type": "code",
   "execution_count": null,
   "metadata": {
    "pycharm": {
     "name": "#%%\n"
    }
   },
   "outputs": [],
   "source": [
    "df, _ = add_covariates(dl, df, 8, 0, covariate_type='ventilator_values')"
   ]
  },
  {
   "cell_type": "code",
   "execution_count": null,
   "metadata": {
    "pycharm": {
     "name": "#%%\n"
    }
   },
   "outputs": [],
   "source": [
    "df, _ = add_covariates(dl, df, 4, 0, covariate_type='central_line')"
   ]
  },
  {
   "cell_type": "code",
   "execution_count": null,
   "metadata": {
    "pycharm": {
     "name": "#%%\n"
    }
   },
   "outputs": [],
   "source": [
    "df, _ = add_covariates(dl, df, 4, 0, covariate_type='saturation')"
   ]
  },
  {
   "cell_type": "code",
   "execution_count": null,
   "metadata": {
    "pycharm": {
     "name": "#%%\n"
    }
   },
   "outputs": [],
   "source": [
    "df, _ = add_covariates(dl, df, 4, 0, covariate_type='blood_gas')"
   ]
  },
  {
   "cell_type": "code",
   "execution_count": null,
   "metadata": {
    "pycharm": {
     "name": "#%%\n"
    }
   },
   "outputs": [],
   "source": [
    "df = add_pf_ratio(df)"
   ]
  },
  {
   "cell_type": "code",
   "execution_count": null,
   "metadata": {
    "pycharm": {
     "name": "#%%\n"
    }
   },
   "outputs": [],
   "source": [
    "df.info()"
   ]
  },
  {
   "cell_type": "code",
   "execution_count": null,
   "metadata": {
    "pycharm": {
     "name": "#%%\n"
    }
   },
   "outputs": [],
   "source": [
    "df.head()"
   ]
  },
  {
   "cell_type": "code",
   "execution_count": null,
   "metadata": {
    "pycharm": {
     "name": "#%% Save the data\n"
    }
   },
   "outputs": [],
   "source": [
    "#os.chdir('/home/adam/files/data')\n",
    "#df.to_csv('test', index=False)"
   ]
  },
  {
   "cell_type": "code",
   "execution_count": null,
   "metadata": {
    "pycharm": {
     "name": "#%% Load data\n"
    }
   },
   "outputs": [],
   "source": [
    "os.chdir('/home/adam/files/data')\n",
    "df = pd.read_csv('test')\n",
    "df.start_timestamp = df.start_timestamp.astype('datetime64[ns]')\n",
    "df.end_timestamp = df.start_timestamp.astype('datetime64[ns]')\n",
    "df.info()"
   ]
  },
  {
   "cell_type": "markdown",
   "metadata": {
    "pycharm": {
     "name": "#%% md\n"
    }
   },
   "source": [
    "### Table 1"
   ]
  },
  {
   "cell_type": "code",
   "execution_count": null,
   "metadata": {
    "pycharm": {
     "name": "#%%\n"
    }
   },
   "outputs": [],
   "source": [
    "print(len(dl.get_patients(columns=['hash_patient_id']).index))\n",
    "print(df.hash_patient_id.nunique())\n",
    "print(df[df.treated].hash_patient_id.nunique())\n"
   ]
  },
  {
   "cell_type": "markdown",
   "metadata": {},
   "source": [
    "### Table 2"
   ]
  },
  {
   "cell_type": "code",
   "execution_count": null,
   "metadata": {
    "pycharm": {
     "name": "#%%\n"
    }
   },
   "outputs": [],
   "source": [
    "print(len(df.index))\n",
    "print(len(df[df.treated].index))\n",
    "print(len(df[~df.treated].index))\n",
    "print(len(df[df.artificial_session == True].index))"
   ]
  },
  {
   "cell_type": "markdown",
   "metadata": {
    "pycharm": {
     "name": "#%% md\n"
    }
   },
   "source": [
    "#### Table 3"
   ]
  },
  {
   "cell_type": "code",
   "execution_count": null,
   "metadata": {
    "pycharm": {
     "name": "#%%\n"
    }
   },
   "outputs": [],
   "source": [
    "df_treated = df.loc[df.treated]\n",
    "print(len(df_treated[~(df_treated.peep.isna())]))\n",
    "mask = ~(df_treated.peep.isna()) &\\\n",
    "       ~(df_treated.po2_arterial.isna()) &\\\n",
    "       ~(df_treated.fio2.isna())\n",
    "\n",
    "print(len(df_treated[mask].index))"
   ]
  },
  {
   "cell_type": "code",
   "execution_count": null,
   "metadata": {
    "pycharm": {
     "name": "#%%\n"
    }
   },
   "outputs": [],
   "source": [
    "df_control = df.loc[~df.treated]\n",
    "print(len(df_control.index))\n",
    "print(len(df_control[~(df_control.peep.isna())]))\n",
    "mask = ~(df_control.peep.isna()) &\\\n",
    "       ~(df_control.po2_arterial.isna()) &\\\n",
    "       ~(df_control.fio2.isna())\n",
    "\n",
    "print(len(df_control[mask].index))"
   ]
  },
  {
   "cell_type": "code",
   "execution_count": null,
   "metadata": {
    "pycharm": {
     "is_executing": true,
     "name": "#%%\n"
    }
   },
   "outputs": [],
   "source": [
    "df_control = df.loc[~df.treated]\n",
    "print(len(df_control.index))\n",
    "print(len(df_control[~(df_control.peep.isna())]))\n",
    "mask = ~(df_control.peep.isna()) &\\\n",
    "       ~(df_control.po2_arterial.isna()) &\\\n",
    "       ~(df_control.fio2.isna())\n",
    "\n",
    "print(len(df_control[mask].index))"
   ]
  },
  {
   "cell_type": "markdown",
   "metadata": {
    "pycharm": {
     "name": "#%% md\n"
    }
   },
   "source": [
    "#### Table 4"
   ]
  },
  {
   "cell_type": "code",
   "execution_count": null,
   "metadata": {
    "pycharm": {
     "name": "#%%\n"
    }
   },
   "outputs": [],
   "source": [
    "is_na = ~(df.peep.isna()) &\\\n",
    "       ~(df.po2_arterial.isna()) &\\\n",
    "       ~(df.fio2.isna())\n",
    "df = df[is_na]\n",
    "\n",
    "df['pf_ratio'] = df['po2_arterial'] / df['fio2']\n",
    "df['pf_ratio'] = df['pf_ratio'].map(lambda x: round(x * 100))"
   ]
  },
  {
   "cell_type": "code",
   "execution_count": null,
   "metadata": {
    "pycharm": {
     "name": "#%%\n"
    }
   },
   "outputs": [],
   "source": [
    "df.rename(columns={'po2_arterial': 'po2_arterial_inclusion_4h',\n",
    "                   'peep': 'peep_inclusion_4h',\n",
    "                   'fio2': 'fio2_inclusion_4h',\n",
    "                   'pf_ratio_4h': 'pf_ratio_inclusion_4h'},\n",
    "          inplace=True)"
   ]
  },
  {
   "cell_type": "code",
   "execution_count": null,
   "metadata": {
    "pycharm": {
     "name": "#%%\n"
    }
   },
   "outputs": [],
   "source": [
    "df.treated.value_counts()"
   ]
  },
  {
   "cell_type": "code",
   "execution_count": null,
   "metadata": {
    "pycharm": {
     "name": "#%%\n"
    }
   },
   "outputs": [],
   "source": [
    "inclusion = (df.pf_ratio_inclusion_4h < 150) &\\\n",
    "            (df.peep_inclusion_4h >= 5) &\\\n",
    "            (df.fio2_inclusion_4h >= 0.6)\n",
    "\n",
    "df_inclusion = df[inclusion]\n",
    "\n",
    "df_inclusion.treated.value_counts()"
   ]
  },
  {
   "cell_type": "code",
   "execution_count": null,
   "metadata": {
    "pycharm": {
     "name": "#%% Save the data\n"
    }
   },
   "outputs": [],
   "source": [
    "os.chdir('/home/adam/files/data')\n",
    "df_inclusion.to_csv('data_skeleton_4h_only_included.csv', index=False)"
   ]
  },
  {
   "cell_type": "markdown",
   "metadata": {
    "pycharm": {
     "name": "#%% md\n"
    }
   },
   "source": [
    "### Add outcomes"
   ]
  },
  {
   "cell_type": "code",
   "execution_count": null,
   "metadata": {
    "pycharm": {
     "name": "#%%\n"
    }
   },
   "outputs": [],
   "source": [
    "df_inclusion.info()"
   ]
  },
  {
   "cell_type": "code",
   "execution_count": null,
   "metadata": {
    "pycharm": {
     "name": "#%%\n"
    }
   },
   "outputs": [],
   "source": [
    "df = add_outcome(dl, df, 2, 4)\n",
    "\n",
    "df.info()"
   ]
  },
  {
   "cell_type": "code",
   "execution_count": null,
   "metadata": {
    "pycharm": {
     "name": "#%%\n"
    }
   },
   "outputs": [],
   "source": [
    "df.head()"
   ]
  },
  {
   "cell_type": "code",
   "execution_count": null,
   "metadata": {
    "pycharm": {
     "name": "#%%\n"
    }
   },
   "outputs": [],
   "source": [
    "df.loc[:, ['start_timestamp', 'end_timestamp']].min(axis=1)"
   ]
  },
  {
   "cell_type": "code",
   "execution_count": null,
   "metadata": {
    "pycharm": {
     "name": "#%%\n"
    }
   },
   "outputs": [],
   "source": [
    "df['pf_ratio_4h_outcome_time_until_interval_end'].dtype"
   ]
  },
  {
   "cell_type": "code",
   "execution_count": null,
   "metadata": {
    "pycharm": {
     "name": "#%%\n"
    }
   },
   "outputs": [],
   "source": [
    "df_covariates, report = add_covariates(dl, df, interval_start=12, interval_end=0)"
   ]
  },
  {
   "cell_type": "code",
   "execution_count": null,
   "metadata": {
    "pycharm": {
     "name": "#%%\n"
    }
   },
   "outputs": [],
   "source": [
    "df_covariates.info()"
   ]
  },
  {
   "cell_type": "markdown",
   "metadata": {
    "pycharm": {
     "name": "#%% md\n"
    }
   },
   "source": [
    "### NEW"
   ]
  },
  {
   "cell_type": "code",
   "execution_count": null,
   "metadata": {
    "pycharm": {
     "name": "#%%\n"
    }
   },
   "outputs": [],
   "source": [
    "# Distribution of proning sessions in hospitals\n",
    "\n",
    "df_treated.pacmed_origin_hospital.value_counts()"
   ]
  },
  {
   "cell_type": "code",
   "execution_count": null,
   "metadata": {
    "pycharm": {
     "name": "#%%\n"
    }
   },
   "outputs": [],
   "source": [
    "#Distribution of outcomes\n",
    "\n",
    "df_treated.outcome.value_counts()"
   ]
  },
  {
   "cell_type": "code",
   "execution_count": null,
   "metadata": {
    "pycharm": {
     "name": "#%%\n"
    }
   },
   "outputs": [],
   "source": [
    "# has died during session\n",
    "\n",
    "df_treated.has_died_during_session.value_counts()"
   ]
  },
  {
   "cell_type": "markdown",
   "metadata": {
    "pycharm": {
     "name": "#%% md\n"
    }
   },
   "source": [
    "### 3. Loading inclusion criteria"
   ]
  },
  {
   "cell_type": "code",
   "execution_count": null,
   "metadata": {
    "pycharm": {
     "name": "#%%\n"
    }
   },
   "outputs": [],
   "source": [
    "df_treated, time_report = add_covariates(dl=dl,\n",
    "                                         df=df_treated,\n",
    "                                         interval_start=4,\n",
    "                                         interval_end=0,\n",
    "                                         covariates=['fio2',\n",
    "                                                     'peep',\n",
    "                                                     'po2_arterial']\n",
    "                                         )"
   ]
  },
  {
   "cell_type": "code",
   "execution_count": null,
   "metadata": {
    "pycharm": {
     "name": "#%%\n"
    }
   },
   "outputs": [],
   "source": [
    "df_treated_6, time_report_6 = add_covariates(dl=dl,\n",
    "                                         df=df_treated,\n",
    "                                         interval_start=6,\n",
    "                                         interval_end=0,\n",
    "                                         covariates=['fio2',\n",
    "                                                     'peep',\n",
    "                                                     'po2_arterial']\n",
    "                                         )"
   ]
  },
  {
   "cell_type": "code",
   "execution_count": null,
   "metadata": {
    "pycharm": {
     "name": "#%%\n"
    }
   },
   "outputs": [],
   "source": [
    "# rename columns\n",
    "df_treated_6.rename(columns={\"fio2_x\": \"fio2_4h\",\n",
    "                             \"peep_x\": \"peep_4h\",\n",
    "                             \"po2_arterial_x\": \"po2_arterial_4h\",\n",
    "                             \"fio2_y\": \"fio2_6h\",\n",
    "                             \"peep_y\": \"peep_6h\",\n",
    "                             \"po2_arterial_y\": \"po2_arterial_6h\"},\n",
    "                    inplace=True)\n",
    "df_treated_6.info()"
   ]
  },
  {
   "cell_type": "code",
   "execution_count": null,
   "metadata": {
    "pycharm": {
     "name": "#%%\n"
    }
   },
   "outputs": [],
   "source": [
    "os.chdir('/home/adam/files/data')\n",
    "\n",
    "df_treated_6.to_csv('treated_data_skeleton_6h_inclusion.csv', index=False)\n",
    "time_report_6.to_csv('treated_data_skeleton_6h_inclusion_time_report.csv', index=True)"
   ]
  },
  {
   "cell_type": "markdown",
   "metadata": {},
   "source": [
    "### 4. Analysis"
   ]
  },
  {
   "cell_type": "code",
   "execution_count": null,
   "metadata": {
    "pycharm": {
     "name": "#%%\n"
    }
   },
   "outputs": [],
   "source": [
    "os.chdir('/home/adam/files/data')\n",
    "df = pd.read_csv('treated_data_skeleton_6h_inclusion.csv')\n",
    "df.start_timestamp = df.start_timestamp.astype('datetime64[ns]')\n",
    "df.end_timestamp = df.start_timestamp.astype('datetime64[ns]')\n",
    "df.info()"
   ]
  },
  {
   "cell_type": "code",
   "execution_count": null,
   "metadata": {
    "pycharm": {
     "name": "#%% get sessions without missing data\n"
    }
   },
   "outputs": [],
   "source": [
    "df = df.dropna(subset=['fio2_4h', 'peep_4h', 'po2_arterial_4h'])"
   ]
  },
  {
   "cell_type": "code",
   "execution_count": null,
   "metadata": {
    "pycharm": {
     "name": "#%%\n"
    }
   },
   "outputs": [],
   "source": [
    "df.info()"
   ]
  },
  {
   "cell_type": "code",
   "execution_count": null,
   "metadata": {
    "pycharm": {
     "name": "#%%\n"
    }
   },
   "outputs": [],
   "source": [
    "# add p_f ratio\n",
    "\n",
    "df.loc[:, 'pf_4h'] = df['po2_arterial_4h'] / df['fio2_4h']\n",
    "df.loc[:, 'pf_4h'] = df.pf_4h.map(lambda x: round(x * 100))"
   ]
  },
  {
   "cell_type": "code",
   "execution_count": null,
   "metadata": {
    "pycharm": {
     "name": "#%%\n"
    }
   },
   "outputs": [],
   "source": [
    "df.head()"
   ]
  },
  {
   "cell_type": "markdown",
   "metadata": {
    "pycharm": {
     "name": "#%% md\n"
    }
   },
   "source": [
    "#### Proning Length w.r.t. hospitals"
   ]
  },
  {
   "cell_type": "code",
   "execution_count": null,
   "metadata": {
    "pycharm": {
     "name": "#%%\n"
    }
   },
   "outputs": [],
   "source": [
    "df.pacmed_origin_hospital.value_counts()"
   ]
  },
  {
   "cell_type": "code",
   "execution_count": null,
   "metadata": {
    "pycharm": {
     "name": "#%%\n"
    }
   },
   "outputs": [],
   "source": [
    "import matplotlib.pyplot as plt\n",
    "\n",
    "# An \"interface\" to matplotlib.axes.Axes.hist() method\n",
    "n, bins, patches = plt.hist(x=df.duration_hours.values,\n",
    "                            bins='auto',\n",
    "                            color='#0504aa',\n",
    "                            alpha=0.7,\n",
    "                            rwidth=0.85)\n",
    "plt.grid(axis='y', alpha=0.75)\n",
    "plt.xlabel('Value')\n",
    "plt.ylabel('Frequency')\n",
    "plt.title('My Very Own Histogram')\n",
    "plt.text(23, 45, r'$\\mu=15, b=3$')\n",
    "maxfreq = n.max()\n",
    "# Set a clean upper y-axis limit.\n",
    "plt.ylim(ymax=np.ceil(maxfreq / 10) * 10 if maxfreq % 10 else maxfreq + 10)"
   ]
  },
  {
   "cell_type": "code",
   "execution_count": null,
   "metadata": {
    "pycharm": {
     "name": "#%%\n"
    }
   },
   "outputs": [],
   "source": [
    "import seaborn as sns\n",
    "\n",
    "hospitals = ['amc', 'vumc', 'olvg', 'erasmus', 'amphia']\n",
    "df_hospitals = df[df.pacmed_origin_hospital.isin(hospitals)]\n",
    "\n",
    "sns.displot(data= df_hospitals,\n",
    "            x=\"duration_hours\",\n",
    "            hue='pacmed_origin_hospital',\n",
    "            kind=\"kde\",\n",
    "            bw_adjust=.7,\n",
    "            cut = 0)"
   ]
  },
  {
   "cell_type": "markdown",
   "metadata": {},
   "source": [
    "#### Distribution of parameters w.r.t. hospitals"
   ]
  },
  {
   "cell_type": "code",
   "execution_count": null,
   "metadata": {
    "pycharm": {
     "name": "#%%\n"
    }
   },
   "outputs": [],
   "source": [
    "df_plot = df_hospitals[df.pf_4h < 300]\n",
    "\n",
    "sns.displot(data=df_plot,\n",
    "            x=\"pf_4h\",\n",
    "            hue='pacmed_origin_hospital',\n",
    "            element=\"step\",\n",
    "            bins=10)"
   ]
  },
  {
   "cell_type": "code",
   "execution_count": null,
   "metadata": {
    "pycharm": {
     "name": "#%%\n"
    }
   },
   "outputs": [],
   "source": [
    "sns.displot(data=df[df.pf_4h < 300],\n",
    "            x=\"pf_4h\",\n",
    "            element=\"step\",\n",
    "            bins=10)"
   ]
  },
  {
   "cell_type": "markdown",
   "metadata": {
    "pycharm": {
     "name": "#%% md\n"
    }
   },
   "source": [
    "#### Creating control\n"
   ]
  },
  {
   "cell_type": "code",
   "execution_count": null,
   "metadata": {
    "pycharm": {
     "name": "#%%\n"
    }
   },
   "outputs": [],
   "source": [
    "df.head()"
   ]
  },
  {
   "cell_type": "code",
   "execution_count": null,
   "metadata": {
    "pycharm": {
     "name": "#%%\n"
    }
   },
   "outputs": [],
   "source": [
    "df_control = df.loc[(df[\"treated\"] == False)]\n",
    "df_control.head()"
   ]
  },
  {
   "cell_type": "code",
   "execution_count": null,
   "metadata": {
    "pycharm": {
     "name": "#%%\n"
    }
   },
   "outputs": [],
   "source": [
    "# 1. Ignore control less than 8\n",
    "\n",
    "df_1 = df_control.loc[(df_control.duration_hours >= 8)]\n",
    "df_1.head()"
   ]
  },
  {
   "cell_type": "code",
   "execution_count": null,
   "metadata": {
    "pycharm": {
     "name": "#%%\n"
    }
   },
   "outputs": [],
   "source": [
    "# 2. Load measurements if the sessions lasts for 8 hours. This is ready\n",
    "# to load blood gas\n",
    "\n",
    "df_2 ="
   ]
  },
  {
   "cell_type": "code",
   "execution_count": null,
   "metadata": {
    "pycharm": {
     "name": "#%%\n"
    }
   },
   "outputs": [],
   "source": [
    "# 3. Data to be split is prepared\n",
    "\n",
    "df_3 = df_1.loc[(df_1.duration_hours > 8)]\n",
    "\n",
    "\n",
    "start = df_3.start_timestamp\n",
    "end = df_3.start_timestamp + df_control.duration_hours - 8\n",
    "\n",
    "n_of_measuremnts?\n",
    "# 2. Round to half hour\n",
    "\n",
    "# 3."
   ]
  },
  {
   "cell_type": "code",
   "execution_count": null,
   "metadata": {
    "pycharm": {
     "name": "#%%\n"
    }
   },
   "outputs": [],
   "source": [
    "df_sample = df_control[df_control.duration_hours > 8].sample(3)"
   ]
  },
  {
   "cell_type": "code",
   "execution_count": null,
   "metadata": {
    "pycharm": {
     "name": "#%%\n"
    }
   },
   "outputs": [],
   "source": [
    "sample = create_control_observations(dl, df_sample)"
   ]
  },
  {
   "cell_type": "code",
   "execution_count": null,
   "metadata": {
    "pycharm": {
     "name": "#%%\n"
    }
   },
   "outputs": [],
   "source": [
    "sample\n",
    "\n"
   ]
  },
  {
   "cell_type": "code",
   "execution_count": null,
   "metadata": {
    "pycharm": {
     "name": "#%%\n"
    }
   },
   "outputs": [],
   "source": [
    "df_1 = pd.DataFrame([])\n",
    "df_2 = pd.DataFrame([])\n",
    "\n",
    "pd.concat([df_1, df_2])"
   ]
  },
  {
   "cell_type": "code",
   "execution_count": null,
   "metadata": {
    "pycharm": {
     "name": "#%%\n"
    }
   },
   "outputs": [],
   "source": [
    "df_medications = get_medications(dl)"
   ]
  },
  {
   "cell_type": "code",
   "execution_count": null,
   "metadata": {
    "pycharm": {
     "name": "#%%\n"
    }
   },
   "outputs": [],
   "source": [
    "df_medications.pacmed_name.value_counts()"
   ]
  },
  {
   "cell_type": "code",
   "execution_count": null,
   "metadata": {
    "pycharm": {
     "name": "#%%\n"
    }
   },
   "outputs": [],
   "source": [
    "df_medications.pacmed_subname.value_counts()"
   ]
  },
  {
   "cell_type": "code",
   "execution_count": null,
   "metadata": {
    "pycharm": {
     "name": "#%%\n"
    }
   },
   "outputs": [],
   "source": [
    "df_medications = dl.get_medications(columns=['hash_patient_id',\n",
    "                                                 'pacmed_name',\n",
    "                                                 'pacmed_subname',\n",
    "                                                 'start_timestamp',\n",
    "                                                 'end_timestamp',\n",
    "                                                 'total_dose',\n",
    "                                                 'dose_unit_name'])"
   ]
  },
  {
   "cell_type": "code",
   "execution_count": null,
   "metadata": {
    "pycharm": {
     "name": "#%%\n"
    }
   },
   "outputs": [],
   "source": [
    "df_medications[df_medications.pacmed_subname == 'med_vitamin_k_antagonists']"
   ]
  },
  {
   "cell_type": "code",
   "execution_count": null,
   "metadata": {
    "pycharm": {
     "name": "#%%\n"
    }
   },
   "outputs": [],
   "source": [
    "df.info()"
   ]
  },
  {
   "cell_type": "code",
   "execution_count": null,
   "metadata": {
    "pycharm": {
     "name": "#%%\n"
    }
   },
   "outputs": [],
   "source": [
    "df.loc[df.treated, 'duration_hours'].describe().round()"
   ]
  },
  {
   "cell_type": "code",
   "execution_count": null,
   "metadata": {
    "pycharm": {
     "name": "#%%\n"
    }
   },
   "outputs": [],
   "source": [
    "mask = ~(df['po2_arterial_inclusion_4h'].isna()) & ~(df['fio2_inclusion_4h'].isna())\n",
    "df.loc[mask, 'pf_ratio_inclusion_4h'] = df.loc[mask, 'po2_arterial_inclusion_4h'] / df.loc[mask, 'fio2_inclusion_4h']\n",
    "df['pf_ratio_inclusion_4h'].describe()"
   ]
  },
  {
   "cell_type": "code",
   "execution_count": null,
   "metadata": {
    "pycharm": {
     "name": "#%%\n"
    }
   },
   "outputs": [],
   "source": [
    "df.info()"
   ]
  },
  {
   "cell_type": "code",
   "execution_count": null,
   "metadata": {
    "pycharm": {
     "name": "#%%\n"
    }
   },
   "outputs": [],
   "source": [
    "len(df.dropna(subset=[pco2_arterial\n",
    "po2_arterial\n",
    "all pacmed_names starting with bicarbonate_\n",
    "all pacmed_names starting with ph_\n",
    "all pacmed_names starting with lactate_ EXCEPT for lactate_dehydrogenase\n",
    "so2_central_venous\n",
    "o2_saturation]).index) / len(df.index)"
   ]
  },
  {
   "cell_type": "code",
   "execution_count": null,
   "metadata": {
    "pycharm": {
     "name": "#%%\n"
    }
   },
   "outputs": [],
   "source": []
  }
 ],
 "metadata": {
  "kernelspec": {
   "display_name": "Python 3",
   "language": "python",
   "name": "python3"
  },
  "language_info": {
   "codemirror_mode": {
    "name": "ipython",
    "version": 2
   },
   "file_extension": ".py",
   "mimetype": "text/x-python",
   "name": "python",
   "nbconvert_exporter": "python",
   "pygments_lexer": "ipython2"
  }
 },
 "nbformat": 4,
 "nbformat_minor": 0
}
