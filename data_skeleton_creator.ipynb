{
 "cells": [
  {
   "cell_type": "code",
   "execution_count": null,
   "metadata": {},
   "outputs": [],
   "source": [
    "%reset"
   ]
  },
  {
   "cell_type": "code",
   "execution_count": null,
   "metadata": {
    "pycharm": {
     "name": "#%%\n"
    }
   },
   "outputs": [],
   "source": [
    "from numpy import median\n",
    "\n",
    "import os, sys, random\n",
    "\n",
    "import pandas as pd\n",
    "import numpy as np\n",
    "import swifter\n",
    "\n",
    "from datetime import timedelta, date\n",
    "from importlib import reload\n",
    "from data_warehouse_utils.dataloader import DataLoader\n",
    "\n",
    "from causal_inference.create_experiment.create_observations import create_observations\n",
    "from causal_inference.create_experiment.create_covariates import add_covariates"
   ]
  },
  {
   "cell_type": "code",
   "execution_count": null,
   "metadata": {
    "pycharm": {
     "name": "#%%\n"
    }
   },
   "outputs": [],
   "source": [
    "# Reloads packages\n",
    "os.chdir('/home/adam/files/causal_inference')\n",
    "os.getcwd()\n",
    "\n",
    "reload(sys.modules['causal_inference.create_experiment.create_treatment'])\n",
    "reload(sys.modules['causal_inference.create_experiment.create_observations'])\n",
    "reload(sys.modules['causal_inference.create_experiment.create_covariates'])\n",
    "\n",
    "from causal_inference.create_experiment.create_observations import create_observations\n",
    "from causal_inference.create_experiment.create_covariates import add_covariates"
   ]
  },
  {
   "cell_type": "markdown",
   "metadata": {
    "pycharm": {
     "name": "#%% md\n"
    }
   },
   "source": [
    "### 1. Loads proning sessions\n",
    "\n",
    "Loads all proning sessions that matches a 'hash_patient_id' from Patients table in the\n",
    "Data Warehouse."
   ]
  },
  {
   "cell_type": "code",
   "execution_count": null,
   "metadata": {
    "pycharm": {
     "name": "#%%\n"
    }
   },
   "outputs": [],
   "source": [
    "dl = DataLoader()"
   ]
  },
  {
   "cell_type": "code",
   "execution_count": null,
   "metadata": {
    "pycharm": {
     "name": "#%%\n"
    }
   },
   "outputs": [],
   "source": [
    "df = create_observations(dl)"
   ]
  },
  {
   "cell_type": "code",
   "execution_count": null,
   "metadata": {
    "pycharm": {
     "name": "#%%\n"
    }
   },
   "outputs": [],
   "source": [
    "df_treated = df[df.treated == True]\n"
   ]
  },
  {
   "cell_type": "code",
   "execution_count": null,
   "metadata": {
    "pycharm": {
     "name": "#%%\n"
    }
   },
   "outputs": [],
   "source": [
    "df_treated, _ = add_covariates(dl=dl,\n",
    "                               df=df_treated,\n",
    "                               interval_start=5000,\n",
    "                               interval_end=0,\n",
    "                               covariates=['body_mass_index'])"
   ]
  },
  {
   "cell_type": "code",
   "execution_count": null,
   "metadata": {
    "pycharm": {
     "name": "#%%\n"
    }
   },
   "outputs": [],
   "source": [
    "df_treated.head()"
   ]
  },
  {
   "cell_type": "code",
   "execution_count": null,
   "metadata": {
    "pycharm": {
     "name": "#%%\n"
    }
   },
   "outputs": [],
   "source": [
    "df_treated.info()"
   ]
  },
  {
   "cell_type": "code",
   "execution_count": null,
   "metadata": {
    "pycharm": {
     "name": "#%%\n"
    }
   },
   "outputs": [],
   "source": [
    "df_treated[['bmi_first', 'body_mass_index']].sample(10)"
   ]
  },
  {
   "cell_type": "code",
   "execution_count": null,
   "metadata": {
    "pycharm": {
     "name": "#%% Save the data\n"
    }
   },
   "outputs": [],
   "source": [
    "os.chdir('/home/adam/files/data')\n",
    "df_treated.to_csv('treated_data_skeleton.csv', index=False)"
   ]
  },
  {
   "cell_type": "markdown",
   "metadata": {
    "pycharm": {
     "name": "#%% md\n"
    }
   },
   "source": [
    "### 2. Analysis of proning sessions"
   ]
  },
  {
   "cell_type": "code",
   "execution_count": null,
   "metadata": {
    "pycharm": {
     "name": "#%%\n"
    }
   },
   "outputs": [],
   "source": [
    "os.chdir('/home/adam/files/data')\n",
    "df_treated = pd.read_csv('treated_data_skeleton.csv')\n",
    "df_treated.start_timestamp = df_treated.start_timestamp.astype('datetime64[ns]')\n",
    "df_treated.end_timestamp = df_treated.start_timestamp.astype('datetime64[ns]')\n",
    "df_treated.info()"
   ]
  },
  {
   "cell_type": "code",
   "execution_count": null,
   "metadata": {
    "pycharm": {
     "name": "#%%\n"
    }
   },
   "outputs": [],
   "source": [
    "print(df_treated.hash_patient_id.nunique(),\n",
    "      \"patients got treated.\")\n",
    "print(\"We loaded\", len(df_treated.index),\n",
    "      \"treatment sessions of length at most 96 hours.\")\n",
    "print(\"With median length of\", median(df_treated.duration_hours),\n",
    "      \"hours.\")"
   ]
  },
  {
   "cell_type": "code",
   "execution_count": null,
   "metadata": {
    "pycharm": {
     "name": "#%%\n"
    }
   },
   "outputs": [],
   "source": [
    "# Distribution of proning sessions in hospitals\n",
    "\n",
    "df_treated.pacmed_origin_hospital.value_counts()"
   ]
  },
  {
   "cell_type": "code",
   "execution_count": null,
   "metadata": {
    "pycharm": {
     "name": "#%%\n"
    }
   },
   "outputs": [],
   "source": [
    "#Distribution of outcomes\n",
    "\n",
    "df_treated.outcome.value_counts()"
   ]
  },
  {
   "cell_type": "code",
   "execution_count": null,
   "metadata": {
    "pycharm": {
     "name": "#%%\n"
    }
   },
   "outputs": [],
   "source": [
    "# has died during session\n",
    "\n",
    "df_treated.has_died_during_session.value_counts()"
   ]
  },
  {
   "cell_type": "markdown",
   "metadata": {
    "pycharm": {
     "name": "#%% md\n"
    }
   },
   "source": [
    "### 3. Loading inclusion criteria"
   ]
  },
  {
   "cell_type": "code",
   "execution_count": null,
   "metadata": {
    "pycharm": {
     "name": "#%%\n"
    }
   },
   "outputs": [],
   "source": [
    "df_treated, time_report = add_covariates(dl=dl,\n",
    "                                         df=df_treated,\n",
    "                                         interval_start=4,\n",
    "                                         interval_end=0,\n",
    "                                         covariates=['fio2',\n",
    "                                                     'peep',\n",
    "                                                     'po2_arterial']\n",
    "                                         )"
   ]
  },
  {
   "cell_type": "code",
   "execution_count": null,
   "metadata": {
    "pycharm": {
     "name": "#%%\n"
    }
   },
   "outputs": [],
   "source": [
    "df_treated_6, time_report_6 = add_covariates(dl=dl,\n",
    "                                         df=df_treated,\n",
    "                                         interval_start=6,\n",
    "                                         interval_end=0,\n",
    "                                         covariates=['fio2',\n",
    "                                                     'peep',\n",
    "                                                     'po2_arterial']\n",
    "                                         )"
   ]
  },
  {
   "cell_type": "code",
   "execution_count": null,
   "metadata": {
    "pycharm": {
     "name": "#%%\n"
    }
   },
   "outputs": [],
   "source": [
    "# rename columns\n",
    "df_treated_6.rename(columns={\"fio2_x\": \"fio2_4h\",\n",
    "                             \"peep_x\": \"peep_4h\",\n",
    "                             \"po2_arterial_x\": \"po2_arterial_4h\",\n",
    "                             \"fio2_y\": \"fio2_6h\",\n",
    "                             \"peep_y\": \"peep_6h\",\n",
    "                             \"po2_arterial_y\": \"po2_arterial_6h\"},\n",
    "                    inplace=True)\n",
    "df_treated_6.info()"
   ]
  },
  {
   "cell_type": "code",
   "execution_count": null,
   "metadata": {
    "pycharm": {
     "name": "#%%\n"
    }
   },
   "outputs": [],
   "source": [
    "os.chdir('/home/adam/files/data')\n",
    "\n",
    "df_treated_6.to_csv('treated_data_skeleton_6h_inclusion.csv', index=False)\n",
    "time_report_6.to_csv('treated_data_skeleton_6h_inclusion_time_report.csv', index=True)"
   ]
  },
  {
   "cell_type": "markdown",
   "metadata": {},
   "source": [
    "### 4. Analysis"
   ]
  },
  {
   "cell_type": "code",
   "execution_count": null,
   "metadata": {
    "pycharm": {
     "name": "#%%\n"
    }
   },
   "outputs": [],
   "source": [
    "os.chdir('/home/adam/files/data')\n",
    "df = pd.read_csv('treated_data_skeleton_6h_inclusion.csv')\n",
    "df.start_timestamp = df.start_timestamp.astype('datetime64[ns]')\n",
    "df.end_timestamp = df.start_timestamp.astype('datetime64[ns]')\n",
    "df.info()"
   ]
  },
  {
   "cell_type": "code",
   "execution_count": null,
   "metadata": {
    "pycharm": {
     "name": "#%% get sessions without missing data\n"
    }
   },
   "outputs": [],
   "source": [
    "df = df.dropna(subset=['fio2_4h', 'peep_4h', 'po2_arterial_4h'])"
   ]
  },
  {
   "cell_type": "code",
   "execution_count": null,
   "metadata": {
    "pycharm": {
     "name": "#%%\n"
    }
   },
   "outputs": [],
   "source": [
    "df.info()"
   ]
  },
  {
   "cell_type": "code",
   "execution_count": null,
   "metadata": {
    "pycharm": {
     "name": "#%%\n"
    }
   },
   "outputs": [],
   "source": [
    "# add p_f ratio\n",
    "\n",
    "df.loc[:, 'pf_4h'] = df['po2_arterial_4h'] / df['fio2_4h']\n",
    "df.loc[:, 'pf_4h'] = df.pf_4h.map(lambda x: round(x * 100))"
   ]
  },
  {
   "cell_type": "code",
   "execution_count": null,
   "metadata": {
    "pycharm": {
     "name": "#%%\n"
    }
   },
   "outputs": [],
   "source": [
    "df.head()"
   ]
  },
  {
   "cell_type": "markdown",
   "metadata": {
    "pycharm": {
     "name": "#%% md\n"
    }
   },
   "source": [
    "#### Proning Length w.r.t. hospitals"
   ]
  },
  {
   "cell_type": "code",
   "execution_count": null,
   "metadata": {
    "pycharm": {
     "name": "#%%\n"
    }
   },
   "outputs": [],
   "source": [
    "df.pacmed_origin_hospital.value_counts()"
   ]
  },
  {
   "cell_type": "code",
   "execution_count": null,
   "metadata": {
    "pycharm": {
     "name": "#%%\n"
    }
   },
   "outputs": [],
   "source": [
    "import matplotlib.pyplot as plt\n",
    "\n",
    "# An \"interface\" to matplotlib.axes.Axes.hist() method\n",
    "n, bins, patches = plt.hist(x=df.duration_hours.values,\n",
    "                            bins='auto',\n",
    "                            color='#0504aa',\n",
    "                            alpha=0.7,\n",
    "                            rwidth=0.85)\n",
    "plt.grid(axis='y', alpha=0.75)\n",
    "plt.xlabel('Value')\n",
    "plt.ylabel('Frequency')\n",
    "plt.title('My Very Own Histogram')\n",
    "plt.text(23, 45, r'$\\mu=15, b=3$')\n",
    "maxfreq = n.max()\n",
    "# Set a clean upper y-axis limit.\n",
    "plt.ylim(ymax=np.ceil(maxfreq / 10) * 10 if maxfreq % 10 else maxfreq + 10)"
   ]
  },
  {
   "cell_type": "code",
   "execution_count": null,
   "metadata": {
    "pycharm": {
     "name": "#%%\n"
    }
   },
   "outputs": [],
   "source": [
    "import seaborn as sns\n",
    "\n",
    "hospitals = ['amc', 'vumc', 'olvg', 'erasmus', 'amphia']\n",
    "df_hospitals = df[df.pacmed_origin_hospital.isin(hospitals)]\n",
    "\n",
    "sns.displot(data= df_hospitals,\n",
    "            x=\"duration_hours\",\n",
    "            hue='pacmed_origin_hospital',\n",
    "            kind=\"kde\",\n",
    "            bw_adjust=.7,\n",
    "            cut = 0)"
   ]
  },
  {
   "cell_type": "markdown",
   "metadata": {},
   "source": [
    "#### Distribution of parameters w.r.t. hospitals"
   ]
  },
  {
   "cell_type": "code",
   "execution_count": null,
   "metadata": {
    "pycharm": {
     "name": "#%%\n"
    }
   },
   "outputs": [],
   "source": [
    "df_plot = df_hospitals[df.pf_4h < 300]\n",
    "\n",
    "sns.displot(data=df_plot,\n",
    "            x=\"pf_4h\",\n",
    "            hue='pacmed_origin_hospital',\n",
    "            element=\"step\",\n",
    "            bins=10)"
   ]
  },
  {
   "cell_type": "code",
   "execution_count": null,
   "metadata": {
    "pycharm": {
     "name": "#%%\n"
    }
   },
   "outputs": [],
   "source": [
    "sns.displot(data=df[df.pf_4h < 300],\n",
    "            x=\"pf_4h\",\n",
    "            element=\"step\",\n",
    "            bins=10)"
   ]
  },
  {
   "cell_type": "code",
   "execution_count": null,
   "metadata": {
    "pycharm": {
     "name": "#%%\n"
    }
   },
   "outputs": [],
   "source": []
  }
 ],
 "metadata": {
  "kernelspec": {
   "display_name": "Python 3",
   "language": "python",
   "name": "python3"
  },
  "language_info": {
   "codemirror_mode": {
    "name": "ipython",
    "version": 2
   },
   "file_extension": ".py",
   "mimetype": "text/x-python",
   "name": "python",
   "nbconvert_exporter": "python",
   "pygments_lexer": "ipython2"
  }
 },
 "nbformat": 4,
 "nbformat_minor": 0
}
